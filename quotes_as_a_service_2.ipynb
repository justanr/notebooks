{
 "cells": [
  {
   "cell_type": "markdown",
   "metadata": {},
   "source": [
    "My love of Flask is well known. It's a great microframework that puts you in control of the pieces needed in your webapp. It comes with templating, requests, responses, cookies, sessions, routing and... really, that's it. Routes can be built by decorating functions or by inheriting from `flask.views.View` or `flask.views.MethodView` depending on your needs.\n",
    "\n",
    "Something I've explored in the past is building a simple RESTful service using Flask and SQLAlchemy. However, that blog post fell into the trap of \"Look at all this code!\" that happens to me regretfully often. D: However, I'd like revisit the idea and explore the topic a little more in depth.\n",
    "\n",
    "I will forewarn, that this post is still pretty code heavy. If that's the sort of thing that makes your eyes glaze over, you may want to go to [/r/pitbulls](https://www.reddit.com/r/pitbulls) instead."
   ]
  },
  {
   "cell_type": "markdown",
   "metadata": {},
   "source": [
    "#Quotly: Cheeky Movie Quotes for Web 2.0\n",
    "\n",
    "Okay, lame. But it's not another TODO list, though not much better. But by the end, hopefully we'll feel comfortable with Flask, Flask-SQLAlchemy, Marshmallow (12/10 serializer library) and a little bit of Flask-Restful (though, it's going to be used as a base that we're going to modify).\n",
    "\n",
    "This post was written with Python 3.4, but it should work with at least 2.7 and 3.3. I'm not sure about others and I'm too lazy to add the deadsnakes PPA right now. D:\n",
    "\n",
    "You can follow along with vim or PyCharm or whatever. The full application is at the bottom of the post as well if you'd rather peek now."
   ]
  },
  {
   "cell_type": "markdown",
   "metadata": {},
   "source": [
    "##Step Zero: Needed packages\n",
    "\n",
    "Instead of installing packages along every step, let's just get all that mess out the way now...\n",
    "\n",
    "    pip install --user -U marshmallow --pre\n",
    "    pip install --user -U flask-sqlalchemy flask-restful\n",
    "\n",
    "That'll install everything you need to follow along here. A note about that Marshmallow install: This installs a pre-release version of Marshmallow, which we'll need to take advantage of some cool stuff that's coming in  Marshmallow. If you're also wanting to use Flask-Marshmallow (perhaps to avoid writing your own hyperlink serializer), install it *afterwards* to avoid getting a potentially older version."
   ]
  },
  {
   "cell_type": "code",
   "execution_count": 19,
   "metadata": {
    "collapsed": false
   },
   "outputs": [
    {
     "data": {
      "text/html": [
       "<img src=\"http://i.imgur.com/9VeIbMZ.gif\"/>"
      ],
      "text/plain": [
       "<IPython.core.display.Image object>"
      ]
     },
     "execution_count": 19,
     "metadata": {},
     "output_type": "execute_result"
    }
   ],
   "source": [
    "from IPython.display import Image\n",
    "Image(url=\"http://i.imgur.com/9VeIbMZ.gif\")"
   ]
  },
  {
   "cell_type": "markdown",
   "metadata": {},
   "source": [
    "##Step One: Considering Our Data"
   ]
  },
  {
   "cell_type": "markdown",
   "metadata": {},
   "source": [
    "First, let's consider what our data looks like. We have quotes. People say quotes. And that's really about it."
   ]
  },
  {
   "cell_type": "code",
   "execution_count": 16,
   "metadata": {
    "collapsed": true
   },
   "outputs": [],
   "source": [
    "from collections import namedtuple\n",
    "\n",
    "# basic quote object\n",
    "# can also use to represent many with [Quote(person..., quote=...)[,...]]\n",
    "Quote = namedtuple('Quote', ['person', 'quote'])\n",
    "\n",
    "# Let's prepopulate an example quote list\n",
    "quotes = [Quote(p, q) for p, q in [\n",
    "        (\"Herbert West\", \"I was busy pushing bodies around as you well know \"\n",
    "         \"and what would a note say, Dan? 'Cat dead, details later'?\"),\n",
    "        (\"Jack Burton\", \"You remember what ol' Jack Burton always says at a time like that: \"\n",
    "         \"'Have ya paid your dues, Jack?' 'Yessir, the check is in the mail.'\"),\n",
    "        (\"Igor\", \"Well, why isn't it 'Froaderick Fronkensteen'?\")\n",
    "]]"
   ]
  },
  {
   "cell_type": "markdown",
   "metadata": {},
   "source": [
    "Great movies. If you haven't seen one, go track it down on your streaming service of choice and play it in the background."
   ]
  },
  {
   "cell_type": "markdown",
   "metadata": {},
   "source": [
    "##Step Two: Transforming to JSON"
   ]
  },
  {
   "cell_type": "markdown",
   "metadata": {},
   "source": [
    "Assumuing you've not been distracted by Marty Feldman's Eye-gor, let's see about taking these quote objects and turning them into JSON."
   ]
  },
  {
   "cell_type": "code",
   "execution_count": 17,
   "metadata": {
    "collapsed": false
   },
   "outputs": [
    {
     "data": {
      "text/plain": [
       "'[\"Herbert West\", \"I was busy pushing bodies around as you well know and what would a note say, Dan? \\'Cat dead, details later\\'?\"]'"
      ]
     },
     "execution_count": 17,
     "metadata": {},
     "output_type": "execute_result"
    }
   ],
   "source": [
    "import json\n",
    "\n",
    "json.dumps(quotes[0])"
   ]
  },
  {
   "cell_type": "markdown",
   "metadata": {},
   "source": [
    "...um...er...That's not what we really wanted. Since JSON has no notation of tuples, let alone namedtuples, Python helpfully transforms them into JSON's nearest relation: lists. However, we'd probably find it nicer to have key-value pairs pop out the otherside. Of course, we could *just* use a dictionary, or write a `namedtuple_to_dict` function that'll do it ourselves:"
   ]
  },
  {
   "cell_type": "code",
   "execution_count": 18,
   "metadata": {
    "collapsed": true
   },
   "outputs": [],
   "source": [
    "namedtuple_to_dict = vars"
   ]
  },
  {
   "cell_type": "markdown",
   "metadata": {},
   "source": [
    "But that's no fun and will only work one level deep. What happens when we need to serialize objects that have *other objects* living inside them? That won't work. I've seen lots of ways to handle this, most of them are just variations on a `__json__` method on every object and subclassing `json.JSONEncoder` to just invoke that when it encounters something it can't serialize. Plus, it still wouldn't work for namedtuple since it *can* be serialized to a list. How frustrating. "
   ]
  },
  {
   "cell_type": "code",
   "execution_count": 20,
   "metadata": {
    "collapsed": false
   },
   "outputs": [
    {
     "data": {
      "text/html": [
       "<img src=\"http://i.imgur.com/mWU6lP6.gif\"/>"
      ],
      "text/plain": [
       "<IPython.core.display.Image object>"
      ]
     },
     "execution_count": 20,
     "metadata": {},
     "output_type": "execute_result"
    }
   ],
   "source": [
    "Image(url=\"http://i.imgur.com/mWU6lP6.gif\")"
   ]
  },
  {
   "cell_type": "markdown",
   "metadata": {},
   "source": [
    "Rather than hacking some function or a mixin together and making the object responsible for knowing how to transform itself into a dictionary, why not use a robust, well tested Object serializer library? No, not pickle -- pickles are unsafe and too vinegary for me. My sweet tooth is craving Marshmallows."
   ]
  },
  {
   "cell_type": "code",
   "execution_count": 30,
   "metadata": {
    "collapsed": false
   },
   "outputs": [
    {
     "name": "stdout",
     "output_type": "stream",
     "text": [
      "{'person': 'Herbert West',\n",
      " 'quote': 'I was busy pushing bodies around as you well know and what would '\n",
      "          \"a note say, Dan? 'Cat dead, details later'?\"}\n"
     ]
    }
   ],
   "source": [
    "from marshmallow import Schema, pprint\n",
    "from marshmallow.fields import String\n",
    "\n",
    "class QuoteSchema(Schema):\n",
    "    person = String()\n",
    "    quote = String()\n",
    "    \n",
    "pprint(QuoteSchema().dump(quotes[0]).data)"
   ]
  },
  {
   "cell_type": "markdown",
   "metadata": {},
   "source": [
    "...wait, is really that easy? Five lines, including the imports? It seems like it shouldn't be, but it is. Actually it can even be easier:"
   ]
  },
  {
   "cell_type": "code",
   "execution_count": 37,
   "metadata": {
    "collapsed": false
   },
   "outputs": [
    {
     "data": {
      "text/html": [
       "<img src=\"http://i.imgur.com/wUSThVS.gif\"/>"
      ],
      "text/plain": [
       "<IPython.core.display.Image object>"
      ]
     },
     "execution_count": 37,
     "metadata": {},
     "output_type": "execute_result"
    }
   ],
   "source": [
    "Image(url=\"http://i.imgur.com/wUSThVS.gif\")"
   ]
  },
  {
   "cell_type": "code",
   "execution_count": 31,
   "metadata": {
    "collapsed": false
   },
   "outputs": [
    {
     "name": "stdout",
     "output_type": "stream",
     "text": [
      "{'person': 'Jack Burton',\n",
      " 'quote': \"You remember what ol' Jack Burton always says at a time like \"\n",
      "          \"that: 'Have ya paid your dues, Jack?' 'Yessir, the check is in \"\n",
      "          \"the mail.'\"}\n"
     ]
    }
   ],
   "source": [
    "class QuoteSchema(Schema):\n",
    "    class Meta:\n",
    "        additional = ('person', 'quote')\n",
    "\n",
    "pprint(QuoteSchema().dump(quotes[1]).data)"
   ]
  },
  {
   "cell_type": "markdown",
   "metadata": {},
   "source": [
    "Marshmallow is smart enough to know how to serialize built-in types without us saying, \"This is a string.\" Which is fantastic. We can take that schema and `json.dumps` and produce what we actually wanted:"
   ]
  },
  {
   "cell_type": "code",
   "execution_count": 25,
   "metadata": {
    "collapsed": false
   },
   "outputs": [
    {
     "data": {
      "text/plain": [
       "'{\"person\": \"Igor\", \"quote\": \"Well, why isn\\'t it \\'Froaderick Fronkensteen\\'?\"}'"
      ]
     },
     "execution_count": 25,
     "metadata": {},
     "output_type": "execute_result"
    }
   ],
   "source": [
    "json.dumps(QuoteSchema().dump(quotes[2]).data)"
   ]
  },
  {
   "cell_type": "markdown",
   "metadata": {},
   "source": [
    "And unlike many other solutions, Marshmallow will also allow us to serialize a collection of objects as well:"
   ]
  },
  {
   "cell_type": "code",
   "execution_count": 32,
   "metadata": {
    "collapsed": false
   },
   "outputs": [
    {
     "name": "stdout",
     "output_type": "stream",
     "text": [
      "[{'person': 'Herbert West',\n",
      "  'quote': 'I was busy pushing bodies around as you well know and what '\n",
      "           \"would a note say, Dan? 'Cat dead, details later'?\"},\n",
      " {'person': 'Jack Burton',\n",
      "  'quote': \"You remember what ol' Jack Burton always says at a time like \"\n",
      "           \"that: 'Have ya paid your dues, Jack?' 'Yessir, the check is in \"\n",
      "           \"the mail.'\"},\n",
      " {'person': 'Igor', 'quote': \"Well, why isn't it 'Froaderick Fronkensteen'?\"}]\n"
     ]
    }
   ],
   "source": [
    "pprint(QuoteSchema(many=True).dump(quotes).data)"
   ]
  },
  {
   "cell_type": "markdown",
   "metadata": {},
   "source": [
    "The only problem with that is that's no valid JSON. The top level of a JSON document needs to be...well, an object. Nonetheless, it's easy to ask Marshmallow to spit out a dictionary if it serializes a collection:"
   ]
  },
  {
   "cell_type": "code",
   "execution_count": 33,
   "metadata": {
    "collapsed": false
   },
   "outputs": [
    {
     "name": "stdout",
     "output_type": "stream",
     "text": [
      "{'quotes': [{'person': 'Herbert West',\n",
      "             'quote': 'I was busy pushing bodies around as you well know '\n",
      "                      \"and what would a note say, Dan? 'Cat dead, details \"\n",
      "                      \"later'?\"},\n",
      "            {'person': 'Jack Burton',\n",
      "             'quote': \"You remember what ol' Jack Burton always says at a \"\n",
      "                      \"time like that: 'Have ya paid your dues, Jack?' \"\n",
      "                      \"'Yessir, the check is in the mail.'\"},\n",
      "            {'person': 'Igor',\n",
      "             'quote': \"Well, why isn't it 'Froaderick Fronkensteen'?\"}]}\n"
     ]
    }
   ],
   "source": [
    "from marshmallow import post_dump\n",
    "\n",
    "class QuoteSchema(Schema):\n",
    "    class Meta:\n",
    "        additional = ('person', 'quote')\n",
    "    \n",
    "    @post_dump(raw=True)\n",
    "    def wrap_if_many(self, data, many=False):\n",
    "        if many:\n",
    "            return {'quotes': data}\n",
    "        return data\n",
    "    \n",
    "pprint(QuoteSchema(many=True).dump(quotes).data)"
   ]
  },
  {
   "cell_type": "markdown",
   "metadata": {},
   "source": [
    "##Step Three: Briefly Flask\n",
    "\n",
    "Now that the Quote objects can be correctly serialized to JSON, feeding it from Flask is easy peasy."
   ]
  },
  {
   "cell_type": "code",
   "execution_count": null,
   "metadata": {
    "collapsed": false
   },
   "outputs": [],
   "source": [
    "from flask import Flask, jsonify\n",
    "\n",
    "app = Flask(__name__)\n",
    "QuoteSerializer = QuoteSchema()\n",
    "\n",
    "@app.route('/quote/<int:id>')\n",
    "def single_quote(idx):\n",
    "    if not 0 <= idx < len(quotes):\n",
    "        data = {'error': 'quote out of range'}\n",
    "    else:\n",
    "        data = QuoteSerializer.dump(quote[idx]).data\n",
    "    return data"
   ]
  },
  {
   "cell_type": "markdown",
   "metadata": {},
   "source": [
    "##Step Four: Deserialization"
   ]
  },
  {
   "cell_type": "markdown",
   "metadata": {},
   "source": [
    "However, only getting a quote is pretty simple stuff. What if we wanted to create new Quote objects from JSON?"
   ]
  },
  {
   "cell_type": "code",
   "execution_count": null,
   "metadata": {
    "collapsed": true
   },
   "outputs": [],
   "source": [
    "from flask import request\n",
    "\n",
    "@app.route('/quote/', methods=['POST'])\n",
    "def make_new_quote():\n",
    "    json = request.get_json()\n",
    "    if json and 'quote' in json:\n",
    "        quotes.append(Quote(person=json['person'], quote=json['quote']))\n",
    "        msg = {'success': True, 'msg': 'Added quote.'}\n",
    "    else:\n",
    "        msg = {'success': False, 'msg': 'must specify quote in JSON request'}\n",
    "    return msg"
   ]
  },
  {
   "cell_type": "markdown",
   "metadata": {},
   "source": [
    "However, if we're deserializing complex objects, say a tracklist that has an attribute that holds track objects which reference artist objects. Pretty soon manually deserializing an object becomes quite...messy. However, there is a better way. Marshmallow not only serializes objects, but will also handle deserialization if we give it a little bit of help:"
   ]
  },
  {
   "cell_type": "code",
   "execution_count": 34,
   "metadata": {
    "collapsed": false
   },
   "outputs": [
    {
     "data": {
      "text/plain": [
       "Quote(person='Ash', quote='Klaatu Barada Nikto.')"
      ]
     },
     "execution_count": 34,
     "metadata": {},
     "output_type": "execute_result"
    }
   ],
   "source": [
    "class QuoteSchema(Schema):\n",
    "    class Meta:\n",
    "        additional = ('person', 'quote')\n",
    "    \n",
    "    @post_dump(raw=True)\n",
    "    def wrap_if_many(self, data, many=False):\n",
    "        if many:\n",
    "            return {'quotes': data}\n",
    "        return data\n",
    "    \n",
    "    def make_object(self, data):\n",
    "        assert 'person' in data and 'quote' in data, \"Must specify person and quote in request\"\n",
    "        return Quote(person=data['person'], quote=data['quote'])\n",
    "    \n",
    "QuoteSchema().load({'person':'Ash', 'quote':\"Klaatu Barada Nikto.\"}).data"
   ]
  },
  {
   "cell_type": "markdown",
   "metadata": {},
   "source": [
    "Just the opposite of what we had before. Dictionary in, Object out. We can also deserialize a collection as well:"
   ]
  },
  {
   "cell_type": "code",
   "execution_count": 39,
   "metadata": {
    "collapsed": false
   },
   "outputs": [
    {
     "data": {
      "text/plain": [
       "[Quote(person='Ash', quote='Klaatu Barada Nikto.'),\n",
       " Quote(person='Shaun', quote=\"You've got red on you.\"),\n",
       " Quote(person='Dr. Peter Venkman', quote='Why worry? Each one of us is carrying an unlicensednuclear accelerator on his back.')]"
      ]
     },
     "execution_count": 39,
     "metadata": {},
     "output_type": "execute_result"
    }
   ],
   "source": [
    "QuoteSchema(many=True).load([\n",
    "        {'person':'Ash', 'quote':\"Klaatu Barada Nikto.\"}, \n",
    "        {'person': 'Shaun', 'quote': \"You've got red on you.\"},\n",
    "        {'person': 'Dr. Peter Venkman', 'quote': \"Why worry? Each one of us is carrying an unlicensed\"\n",
    "                                         \"nuclear accelerator on his back.\"}\n",
    "]).data\n",
    "         "
   ]
  },
  {
   "cell_type": "markdown",
   "metadata": {},
   "source": [
    "Hopefully the advantage of using Marshmallow for even sending and receiving simple JSON objects is apparent. With 11 lines we can take an object and cast it to a dictionary and we can take a dictionary with certain keys and build an arbitrarily complex object with it. Sure, we're just serializing and deserializing a namedtuple...\"But that's how it always begins. Very small.\""
   ]
  },
  {
   "cell_type": "code",
   "execution_count": 36,
   "metadata": {
    "collapsed": false
   },
   "outputs": [
    {
     "data": {
      "text/html": [
       "<img src=\"http://i.imgur.com/zvv3ymL.gif\"/>"
      ],
      "text/plain": [
       "<IPython.core.display.Image object>"
      ]
     },
     "execution_count": 36,
     "metadata": {},
     "output_type": "execute_result"
    }
   ],
   "source": [
    "Image(url=\"http://i.imgur.com/zvv3ymL.gif\")"
   ]
  },
  {
   "cell_type": "markdown",
   "metadata": {},
   "source": [
    "##Step Five: Routing with Flask-Restful"
   ]
  },
  {
   "cell_type": "markdown",
   "metadata": {},
   "source": [
    "[Flask-Restful](https://flask-restful.readthedocs.org/en/0.3.2/) is a great library that builds on top of Flask's MethodView and makes it pretty easy to support multiple API styles (XML, CSV, JSON). It ships with JSON serialization by default, leaving the others up to the user to implement. And writing end points that handle GET, POST, etc is made easier because we don't have to multiplex them into one function.\n",
    "\n",
    "All we need to do to hook into this is return a dictionary...like the one produced by Marshmallow's serialization. And if memory serves, Marshmallow was, in part at least, inspired by Flask-Restful's serialization. Since the mechanisms for deserialization are in place, let's also handle accepting JSON and appending quotes to our little list:"
   ]
  },
  {
   "cell_type": "code",
   "execution_count": 40,
   "metadata": {
    "collapsed": true
   },
   "outputs": [],
   "source": [
    "from flask.ext.restful import Resource\n",
    "from flask import request\n",
    "\n",
    "class SingleQuote(Resource):\n",
    "    def get(self, idx):\n",
    "        if idx and 0 <= idx < len(quotes):\n",
    "            return QuoteSerializer.dump(quotes[idx]).data\n",
    "        return {'error': 'quote index out of range'}\n",
    "\n",
    "class ListQuote(Resource):\n",
    "    def get(self):\n",
    "        return QuoteSerializer.dump(quotes, many=True).data\n",
    "    \n",
    "    def post(self):\n",
    "        json = request.get_json()\n",
    "        if not json: # get_json will return a dict or None\n",
    "            return {\"success\": False \"msg\": \"malformed request\"}\n",
    "            \n",
    "        if not 'quote' in json:\n",
    "            return {\"success\": False, \"msg\": \"must specify quote in request\"}\n",
    "        \n",
    "        else:\n",
    "            q = QuoteSerializer.load(request['json']).data\n",
    "            quotes.append(q)\n",
    "            return {\"success\": True, \"msg\": \"Quote added.\"}"
   ]
  },
  {
   "cell_type": "markdown",
   "metadata": {},
   "source": [
    "And then we simply register these resources on an API object:"
   ]
  },
  {
   "cell_type": "code",
   "execution_count": null,
   "metadata": {
    "collapsed": true
   },
   "outputs": [],
   "source": [
    "from flask.ext.restful import Api\n",
    "\n",
    "api = Api(app)\n",
    "api.register_resource(SingleQuote, '/quote/<int:id>')\n",
    "api.register_resource(ListQuote, '/quotes')"
   ]
  },
  {
   "cell_type": "markdown",
   "metadata": {},
   "source": [
    "##Step Six: Persistence with SQLA\n",
    "\n",
    "This is great and all, but these quotes will only last as long as the session runs. If we need to restart, we lose it all except for the preloaded quotes. To achieve real persistence, we should shake up with a database. SQLite is a good choice for this, plus bindings come native with Python."
   ]
  },
  {
   "cell_type": "code",
   "execution_count": null,
   "metadata": {
    "collapsed": true
   },
   "outputs": [],
   "source": [
    "from flask.ext.sqlalchemy import SQLAlchemy\n",
    "\n",
    "app.config['SQLALCHEMY_DATABASE_URI'] = 'sqlite:///quotes.db'\n",
    "\n",
    "db = SQLAlchemy(app)\n",
    "\n",
    "class Quote(db.Model):\n",
    "    \n",
    "    id = db.Column(db.Integer, primary_key=True)\n",
    "    person = db.Column(db.Unicode(50))\n",
    "    quote = db.Column(db.UnicodeText)"
   ]
  },
  {
   "cell_type": "markdown",
   "metadata": {},
   "source": [
    "Our schema doesn't change at all. Marshmallow doesn't know or care if we're passing a namedtuple or a SQLA model, just that it has the correct attributes. This is great because we can write quick tests with simple objects and then just one integration test with our models."
   ]
  },
  {
   "cell_type": "code",
   "execution_count": 42,
   "metadata": {
    "collapsed": false
   },
   "outputs": [
    {
     "data": {
      "text/html": [
       "<img src=\"http://i.imgur.com/mudwVxd.gif\"/>"
      ],
      "text/plain": [
       "<IPython.core.display.Image object>"
      ]
     },
     "execution_count": 42,
     "metadata": {},
     "output_type": "execute_result"
    }
   ],
   "source": [
    "Image(url=\"http://i.imgur.com/mudwVxd.gif\")"
   ]
  },
  {
   "cell_type": "markdown",
   "metadata": {},
   "source": [
    "However, our resource end points do need to change some, though. Since we're dealing with SQLA models now and not just simple lists. The changes are trivial:"
   ]
  },
  {
   "cell_type": "code",
   "execution_count": null,
   "metadata": {
    "collapsed": true
   },
   "outputs": [],
   "source": [
    "class SingleQuote(Resource):\n",
    "    def get(self, idx):\n",
    "        if idx:\n",
    "            return Quote.query.get(idx) or {'error': 'quote does not exist'}\n",
    "        return {'error': 'must specify quote id'}\n",
    "\n",
    "class ListQuote(Resource):\n",
    "    def get(self):\n",
    "        return QuoteSerializer.dump(quotes, many=True).data\n",
    "    \n",
    "    def post(self):\n",
    "        json = request.get_json()\n",
    "        if not json: # get_json will return a dict or None\n",
    "            return {\"success\": False \"msg\": \"malformed request\"}\n",
    "            \n",
    "        if not 'quote' in json:\n",
    "            return {\"success\": False, \"msg\": \"must specify quote in request\"}\n",
    "        \n",
    "        else:\n",
    "            q = QuoteSerializer.load(request['json']).data\n",
    "            db.session.add(q)\n",
    "            db.session.commit()\n",
    "            return {\"success\": True, \"msg\": \"Quote added.\"}"
   ]
  },
  {
   "cell_type": "markdown",
   "metadata": {},
   "source": [
    "Just two simple changes to go from list to SQLA models. Be sure to run `db.create_all()` somewhere before and load up initial quotes and Quotly is up and running, ready to send and receive cheeky movie quotes for everyone."
   ]
  },
  {
   "cell_type": "markdown",
   "metadata": {},
   "source": [
    "##That's it.\n",
    "\n",
    "While this was more of a \"hit the ground running\" guide to building a simple REST API with Flask and its little ecosystem, I hope it's been enlightening. If you see a bug or have questions, hit me up on twitter ([@just_anr](https://twitter.com/just_anr)) or on github ([justanr](https://github.com/justanr)].\n",
    "\n",
    "I've included [this gist](https://gist.github.com/justanr/60f34a300ff4535c95fc) for reference. "
   ]
  },
  {
   "cell_type": "code",
   "execution_count": 43,
   "metadata": {
    "collapsed": false
   },
   "outputs": [
    {
     "data": {
      "text/html": [
       "<img src=\"http://i.imgur.com/BUtt2Jd.gif\"/>"
      ],
      "text/plain": [
       "<IPython.core.display.Image object>"
      ]
     },
     "execution_count": 43,
     "metadata": {},
     "output_type": "execute_result"
    }
   ],
   "source": [
    "Image(url=\"http://i.imgur.com/BUtt2Jd.gif\")"
   ]
  }
 ],
 "metadata": {
  "kernelspec": {
   "display_name": "Python 3",
   "language": "python",
   "name": "python3"
  },
  "language_info": {
   "codemirror_mode": {
    "name": "ipython",
    "version": 3
   },
   "file_extension": ".py",
   "mimetype": "text/x-python",
   "name": "python",
   "nbconvert_exporter": "python",
   "pygments_lexer": "ipython3",
   "version": "3.4.0"
  }
 },
 "nbformat": 4,
 "nbformat_minor": 0
}
