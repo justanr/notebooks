{
 "metadata": {
  "name": ""
 },
 "nbformat": 3,
 "nbformat_minor": 0,
 "worksheets": [
  {
   "cells": [
    {
     "cell_type": "markdown",
     "metadata": {},
     "source": [
      "Cards Against Humanity is a pretty awesome game, especially if you're friends have a dark sense of humor and optionally beer. Think of it like Apples to Apples for horrible people. If you've never heard of either of them, I'd recommend picking them up.\n",
      "\n",
      "The rules for these games is pretty simple:\n",
      "\n",
      "* You have two types of cards: Black and White for Cards Against Humanity, Red and Green for Apples to Apples\n",
      "* Each player draws a hand of white or red cards\n",
      "* Each player takes a turn as the judge of the round, who draws a single black or green card\n",
      "* The other players play a card or cards from their hand\n",
      "* The winner gets the black/red card, players draw cards and the next player becomes the judge\n",
      "\n",
      "For the sake of this post, I'll be modeling Cards Against Humanity, since it's a tiny bit more interesting to model than Apples to Apples\n",
      "\n",
      "Step One: Cards\n",
      "---------------\n",
      "It's always best to start with your basic bits. At least that's how I look at it. In this case, it's the cards. Since cards never change, it's best to model them with an immutable data type. Tuples are the most obvious choice, but card[0] is less descriptive than card.text, so collections.namedtuple is a better choice."
     ]
    },
    {
     "cell_type": "code",
     "collapsed": false,
     "input": [
      "from collections import namedtuple\n",
      "\n",
      "WhiteCard = namedtuple('WhiteCard', 'text', verbose=False)\n",
      "BlackCard = namedtuple('BlackCard', ['text', 'pick', 'draw'], verbose=False)\n",
      "\n",
      "blacktexts = ['{} nested inside {}', 'from {} import {}', \"implementing {} only to find it's in {}\"]\n",
      "blackcards = [BlackCard(*fields) for fields in [(text, text.count('{}'), text.count('{}')) for text in blacktexts]]\n",
      "whitecards = [WhiteCard(text) for text in ['itertools', 'a list comprehension', 'a dict comprehension', \n",
      "                                           'a generator comprehension', '*', 'functools', 'the standard library', \n",
      "                                           'reduce', 'map', 'doubly linked list', 'collections']]"
     ],
     "language": "python",
     "metadata": {},
     "outputs": [],
     "prompt_number": 1
    },
    {
     "cell_type": "markdown",
     "metadata": {},
     "source": [
      "And to play them, we simply run the following."
     ]
    },
    {
     "cell_type": "code",
     "collapsed": false,
     "input": [
      "from random import shuffle\n",
      "\n",
      "shuffle(blackcards)\n",
      "shuffle(whitecards)\n",
      "\n",
      "card = blackcards.pop()\n",
      "card.text.format(*[c.text for c in whitecards[:card.pick]])"
     ],
     "language": "python",
     "metadata": {},
     "outputs": [
      {
       "metadata": {},
       "output_type": "pyout",
       "prompt_number": 2,
       "text": [
        "\"implementing reduce only to find it's in *\""
       ]
      }
     ],
     "prompt_number": 2
    },
    {
     "cell_type": "markdown",
     "metadata": {},
     "source": [
      "Step Two: Decks\n",
      "---------------\n",
      "The next step is to model the decks for black cards, white cards, the discard piles and players' hands. The biggest problem we'll have here is that while players' hands are essentially the same thing as a deck, they have a limited length. Of course we could manage the length by hand, or we could use deque."
     ]
    },
    {
     "cell_type": "code",
     "collapsed": false,
     "input": [
      "from collections import deque\n",
      "\n",
      "max_cards = 2\n",
      "players = 3\n",
      "\n",
      "hands = [deque([whitecards.pop() for _ in range(max_cards)], maxlen=max_cards) for _ in range(players)]\n",
      "\n",
      "blackdiscard = []\n",
      "whitediscard = []"
     ],
     "language": "python",
     "metadata": {},
     "outputs": [],
     "prompt_number": 3
    },
    {
     "cell_type": "markdown",
     "metadata": {},
     "source": [
      "Step Four: A Minimal Automated Play Through\n",
      "-------------------------------------------\n",
      "\n",
      "No player interaction here, just testing that pieces fit together as expected."
     ]
    },
    {
     "cell_type": "code",
     "collapsed": false,
     "input": [
      "from random import choice\n",
      "from itertools import chain\n",
      "\n",
      "max_cards = 5\n",
      "\n",
      "white_text = ['itertools', 'functools', 'fiboncci sequence', 'WSGI', \n",
      "              'list comprehensions', 'Javascript', 'RESTful', 'C++', 'messy inheritance', \n",
      "              'an unclear variable name', \"a class that's actually just a closure\", \n",
      "              'overriding a built in', 'Java style getters and setters', 'Ruby', \n",
      "              'a blank except line', 'dynamic imports', 'braces', '__future__', 'a lambda', \n",
      "              'beautiful and idiomatic', 'Pythonic', 'spam', 'eggs', 'wheels', 'distribute'\n",
      "              ]\n",
      "\n",
      "blacktexts = ['{} nested inside {}', 'from {} import *', 'from {} import {}', 'Using Python with {}', \n",
      "              \"Implementing {} to find it's in the standard library\",  'Treating Python like {}',  'Python: The Old {}', \n",
      "              'The next feature Guido should implement is {}',  '{} in Python is like {}']\n",
      "\n",
      "black_builder = [(text, text.count('{}'), text.count('{}')) for text in blacktexts]\n",
      "\n",
      "whitecards = [WhiteCard(text) for text in white_text]\n",
      "blackcards = [BlackCard(*fields) for fields in black_builder]\n",
      "\n",
      "shuffle(whitecards)\n",
      "shuffle(blackcards)\n",
      "\n",
      "hands = [deque((whitecards.pop() for _ in range(max_cards)), maxlen=max_cards) for _ in range(players)]\n",
      "\n",
      "choices = []\n",
      "\n",
      "while blackcards:\n",
      "    card = blackcards.pop()\n",
      "    picked = [[hand.pop() for _ in range(card.pick)] for hand in hands]\n",
      "    \n",
      "    if not len(whitecards) >= len(hands) * card.draw:\n",
      "        whitecards.extend(whitediscard)\n",
      "        whitediscard = []\n",
      "    \n",
      "    for hand in hands:\n",
      "        hand.extend([whitecards.pop() for _ in range(card.draw)])\n",
      "    \n",
      "    played = [card.text.format(*[c.text for c in pick]) for pick in picked]\n",
      "    choices.append(choice(played))\n",
      "    \n",
      "    blackdiscard.append(card)\n",
      "    whitediscard.extend(chain.from_iterable(picked))\n",
      "\n",
      "for c in choices:\n",
      "    print(c)\n",
      "        "
     ],
     "language": "python",
     "metadata": {},
     "outputs": [
      {
       "output_type": "stream",
       "stream": "stdout",
       "text": [
        "Using Python with a blank except line\n",
        "from itertools import a class that's actually just a closure\n",
        "beautiful and idiomatic nested inside Ruby\n",
        "Implementing C++ to find it's in the standard library\n",
        "The next feature Guido should implement is messy inheritance\n",
        "from C++ import *\n",
        "Treating Python like wheels\n",
        "WSGI in Python is like a class that's actually just a closure\n",
        "Python: The Old beautiful and idiomatic\n"
       ]
      }
     ],
     "prompt_number": 4
    },
    {
     "cell_type": "markdown",
     "metadata": {},
     "source": [
      "Of course, if you wanted to continually run through the whole thing, you could set that up."
     ]
    },
    {
     "cell_type": "code",
     "collapsed": false,
     "input": [
      "from functools import partial\n",
      "\n",
      "whitecards = [WhiteCard(w) for w in white_text]\n",
      "blackcards = [BlackCard(*fields) for fields in black_builder]\n",
      "\n",
      "Hand = partial(deque, maxlen=max_cards)\n",
      "\n",
      "def main():\n",
      "    global blackcards, whitecards, whitediscard, blackdiscard\n",
      "    while True:\n",
      "        shuffle(blackcards)\n",
      "        shuffle(whitecards)\n",
      "        print(\"Dealing hands.\")\n",
      "        hands = [Hand(whitecards.pop() for _ in range(max_cards)) for _ in players]\n",
      "        card = blackcards.pop()\n",
      "        \n",
      "        picked = [[h.pop() for _ in range(card.pick)] for h in hands]\n",
      "        \n",
      "        if not len(whitecards) >= len(hands) * card.draw:\n",
      "            whitecards.extend(whitediscard)\n",
      "            whitediscard.clear()\n",
      "        \n",
      "        for hand in hands:\n",
      "            hand.extend(whitecards.pop() for _ in range(card.draw))\n",
      "        \n",
      "        for pick in picked:\n",
      "            print(card.text.format(*[c.text for c in pick]))\n",
      "            input(\"\")\n",
      "        \n",
      "        blackdiscard.append(card)\n",
      "        whitediscard.extend(chain.from_iterable(picked))\n",
      "    \n",
      "    print(\"Out of black cards. Restocking decks.\")\n",
      "    blackcards.extend(blackdiscard)\n",
      "    whitecards.extend(whitediscard)\n",
      "    whitecards.extend(chain.from_iterable(hands))\n",
      "    blackdiscard.clear()\n",
      "    whitediscard.clear()"
     ],
     "language": "python",
     "metadata": {},
     "outputs": [],
     "prompt_number": 5
    },
    {
     "cell_type": "markdown",
     "metadata": {},
     "source": [
      "Is it ugly? Yeah -- code that's duplicated, globals, places where tools like map would be clean it up, and just generally a mess. But for a proof of concept -- building a basic CAH clone in Python -- it's alright. Though, I'll definitely be spending some time cleaning it up and improving it."
     ]
    }
   ],
   "metadata": {}
  }
 ]
}