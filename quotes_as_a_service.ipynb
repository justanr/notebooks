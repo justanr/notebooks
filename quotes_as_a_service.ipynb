{
 "cells": [
  {
   "cell_type": "markdown",
   "metadata": {},
   "source": [
    "My love of Flask is well known. It's a great microframework that puts you in control of the pieces needed in your webapp. It comes with templating, requests, responses, cookies, sessions, routing and... really, that's it. Routes can be built by decorating functions or by inheriting from `flask.views.View` or `flask.views.MethodView` depending on your needs.\n",
    "\n",
    "Something I've explored in the past is building a simple RESTful service using Flask and SQLAlchemy. However, that blog post fell into the trap of \"Look at all this code!\" that happens to me regretfully often. D: However, I'd like revisit the idea and explore the topic a little more in depth.\n",
    "\n",
    "I will forewarn, that this post is still pretty code heavy. If that's the sort of thing that makes your eyes glaze over, you may want to go to [/r/dogs](https://www.reddit.com/r/dogs) instead."
   ]
  },
  {
   "cell_type": "markdown",
   "metadata": {},
   "source": [
    "#Quotr: Inspirational Quotes for Web 2.0\n",
    "\n",
    "Okay, lame. But it's not another TODO list, though not much better. But by the end, hopefully we'll feel comfortable with Flask, Flask-SQLAlchemy, Marshmallow (12/10 serializer library) and a little bit of Flask-Restful (though, it's going to be used as a base that we're going to modify).\n",
    "\n",
    "This post was written with Python 3.4, but it should work with at least 2.7 and 3.3. I'm not sure about others and I'm too lazy to add the deadsnakes PPA right now. D:\n",
    "\n",
    "You can follow along with vim or PyCharm or whatever. The full application is at the bottom of the post as well if you'd rather peak now."
   ]
  },
  {
   "cell_type": "markdown",
   "metadata": {},
   "source": [
    "##Step One: Packages\n",
    "\n",
    "Instead of incrementally installing packages as we need them, I'm just going to give the whole list now (as a pip command even!):\n",
    "\n",
    "    pip install --user -U flask-sqlalchemy flask-restful\n",
    "    pip install --user -U marshmallow --pre\n",
    "\n",
    "That'll install the current Flask build, the extensions, and everything these depend on. The reason for `--pre` on Marshmallow is to work off the latest and greatest build. Yeah, betas. Just trust me though.\n",
    "\n",
    "Flask-Restful isn't necessary, but it provides quite a bit of boilerplate that we'd otherwise write ourselves. Plus, it's a great little package. Flask-Classy could also be used as well just creating our own implementation using `flask.views.MethodView`. However, for now, we'll focus on using Flask-Restful."
   ]
  },
  {
   "cell_type": "markdown",
   "metadata": {},
   "source": [
    "##Step Two: Hello World Sucks\n",
    "\n",
    "I could show you:"
   ]
  },
  {
   "cell_type": "code",
   "execution_count": null,
   "metadata": {
    "collapsed": true
   },
   "outputs": [],
   "source": [
    "from flask import Flask\n",
    "\n",
    "app = Flask(__name__)\n",
    "\n",
    "@app.route('/')\n",
    "def index():\n",
    "    return 'Hello world'\n",
    "\n",
    "if __name__ == '__main__':\n",
    "    app.run(debug=True)"
   ]
  },
  {
   "cell_type": "markdown",
   "metadata": {},
   "source": [
    "But that sucks. No one cares. CRUD apps with names that are missing vowels are the Web 2.0 hotness. So let's write one of those instead. And we're going to serve up thought provoking quotes through a JSON rest interface. Let's consider what our basic data will look like:"
   ]
  },
  {
   "cell_type": "code",
   "execution_count": 21,
   "metadata": {
    "collapsed": true
   },
   "outputs": [],
   "source": [
    "from collections import namedtuple\n",
    "\n",
    "# basic quote object\n",
    "# and we can represent many quotes with [Quote(person=..., quote=...) [,..]]\n",
    "Quote = namedtuple('Quote', ['person', 'quote'])\n",
    "\n",
    "# Let's prepopulate an example quote list\n",
    "quotes = [Quote(p, q) for p, q in [\n",
    "        ('Herbert West', 'I was busy pushing bodies around as you well know '\n",
    "         'and what would a note say, Dan? \"Cat dead, details later\"?'),\n",
    "        ('Jack Burton', \"You remember what ol' Jack Burton always says at a time like that: \"\n",
    "         '\"Have ya paid your dues, Jack?\" \"Yessir, the check is in the mail.\"'),\n",
    "        ('Igor', 'Well, why isn\\'t it \"Froaderick Fronkensteen\"?')\n",
    "]]"
   ]
  },
  {
   "cell_type": "markdown",
   "metadata": {},
   "source": [
    "Those are all great movies (Reanimator, Big Trouble in Little China, and Young Frankenstein) and if you've not seen one (or all) of them, you need to close this post (well...minimize it), go find them on Netflix, Amazon Prime, Hulu, HBOGO or whatever and watch them. After you're done, come back."
   ]
  },
  {
   "cell_type": "code",
   "execution_count": 22,
   "metadata": {
    "collapsed": false
   },
   "outputs": [
    {
     "data": {
      "text/html": [
       "<img src=\"http://i.imgur.com/9VeIbMZ.gif\"/>"
      ],
      "text/plain": [
       "<IPython.core.display.Image object>"
      ]
     },
     "execution_count": 22,
     "metadata": {},
     "output_type": "execute_result"
    }
   ],
   "source": [
    "from IPython.display import Image\n",
    "Image(url=\"http://i.imgur.com/9VeIbMZ.gif\")"
   ]
  },
  {
   "cell_type": "markdown",
   "metadata": {},
   "source": [
    "Now that you'rer back (or have turned on one of those movies in the background), let's see how we can take those Quote objects and output them as JSON. This is where we'll turn to Marshmallow:"
   ]
  },
  {
   "cell_type": "code",
   "execution_count": 29,
   "metadata": {
    "collapsed": false
   },
   "outputs": [
    {
     "name": "stdout",
     "output_type": "stream",
     "text": [
      "MarshalResult(data={'quote': 'I was busy pushing bodies around as you well know and what would a note say, Dan? \"Cat dead, details later\"?', 'person': 'Herbert West'}, errors={})\n"
     ]
    }
   ],
   "source": [
    "from marshmallow import Schema\n",
    "from marshmallow.fields import String\n",
    "\n",
    "class QuoteSchema(Schema):\n",
    "    person = String()\n",
    "    quote = String()\n",
    "\n",
    "print(QuoteSchema().dump(quotes[0]))"
   ]
  },
  {
   "cell_type": "markdown",
   "metadata": {},
   "source": [
    "That's it! No complicated anything. Marshmallow is the best library I've found for writing JSON serializers and it's strength shows here even in a simple example. We simply declare which fields we want and what type they should end up as. Writing custom fields, nesting schemas and defining all sorts of complex option is super easy, but I'll save that for another time.\n",
    "\n",
    "And getting this to Flask is really easy as well:"
   ]
  },
  {
   "cell_type": "code",
   "execution_count": null,
   "metadata": {
    "collapsed": true
   },
   "outputs": [],
   "source": [
    "from flask import jsonify\n",
    "from random import choice\n",
    "\n",
    "app = Flask(__name__)\n",
    "\n",
    "@app.route('/quote')\n",
    "def rand_quote():\n",
    "    q = choice(quotes)\n",
    "    data = QuoteSchema().dump(q).data\n",
    "    return jsonify(data)\n",
    "\n",
    "if __name__ == '__main__':\n",
    "    app.run(debug=True)"
   ]
  },
  {
   "cell_type": "markdown",
   "metadata": {},
   "source": [
    "And if that's all I wanted to show you, I'd be done. But I'm not. What if we wanted to add a route for displaying all three quotes at the same time? It's pretty easy to do, but first, let's modify our QuoteSchema to support namespacing.\n",
    "\n",
    "Namespacing, sometimes also refered to as enveloping, in JSON is essentially a list of objects inside another object. It ends up looking like this:"
   ]
  },
  {
   "cell_type": "code",
   "execution_count": 24,
   "metadata": {
    "collapsed": false
   },
   "outputs": [
    {
     "data": {
      "text/plain": [
       "{'quotes': [{'person': 'Herbert West', 'quote': '...'},\n",
       "  {'person': 'Jack Burton', 'quote': '...'},\n",
       "  {'person': 'Igor', 'quote': '...'}]}"
      ]
     },
     "execution_count": 24,
     "metadata": {},
     "output_type": "execute_result"
    }
   ],
   "source": [
    "{'quotes': [\n",
    "    {'person': 'Herbert West', 'quote': '...'},\n",
    "    {'person': 'Jack Burton', 'quote': '...'},\n",
    "    {'person': 'Igor', 'quote': '...'}\n",
    "]}"
   ]
  },
  {
   "cell_type": "markdown",
   "metadata": {},
   "source": [
    "If we don't do this, we try jsonifying a list which is invalid JSON (as it's just a list at the top level and not an object). Adding this is, as you can imagine, really easy:"
   ]
  },
  {
   "cell_type": "code",
   "execution_count": 25,
   "metadata": {
    "collapsed": false
   },
   "outputs": [
    {
     "name": "stdout",
     "output_type": "stream",
     "text": [
      "{'quotes': [{'person': 'Herbert West',\n",
      "             'quote': 'I was busy pushing bodies around as you well know '\n",
      "                      'and what would a note say, Dan? \"Cat dead, details '\n",
      "                      'later\"?'},\n",
      "            {'person': 'Jack Burton',\n",
      "             'quote': \"You remember what ol' Jack Burton always says at a \"\n",
      "                      'time like that: \"Have ya paid your dues, Jack?\" '\n",
      "                      '\"Yessir, the check is in the mail.\"'},\n",
      "            {'person': 'Igor',\n",
      "             'quote': 'Well, why isn\\'t it \"Froaderick Fronkensteen\"?'}]}\n"
     ]
    }
   ],
   "source": [
    "from marshmallow import post_dump, pprint\n",
    "\n",
    "class QuoteSchema(Schema):\n",
    "    class Meta:\n",
    "        additional = ('person', 'quote')\n",
    "    \n",
    "    @post_dump(raw=True)\n",
    "    def envelope(self, data, many):\n",
    "        ns = 'quotes' if many else 'quote'\n",
    "        return {ns: data}\n",
    "    \n",
    "pprint(QuoteSchema().dump(quotes, many=True).data)"
   ]
  },
  {
   "cell_type": "markdown",
   "metadata": {
    "collapsed": true
   },
   "source": [
    "There's two things here:\n",
    "\n",
    "* QuoteSchema.Meta: Marshmallow can pick up on most Python datatypes and automatically convert them instead of us declaring \"This is a string\", \"This is a string, too\", \"That's an integer\". Instead, we'll simply tell Marshmallow to look for these attributes and just serialize them.\n",
    "\n",
    "* `@post_dump` My favorite thing: decorators. This one simply inserts a step before returning the dumped data to the caller. In this case, we're just adding a namespace and chainging its name depending on if we're returning one quote or many quotes. By saying `raw=True` we're asking Marshmallow for the actual data that's been dumped already.\n",
    "    \n",
    "With that in mind, let's build our \"Return all the quotes\" route:"
   ]
  },
  {
   "cell_type": "code",
   "execution_count": null,
   "metadata": {
    "collapsed": true
   },
   "outputs": [],
   "source": [
    "@app.route('/quote/all')\n",
    "def all_quotes():\n",
    "    qs = QuoteSchema().dump(quotes, many=True).data\n",
    "    return jsonify(qs)"
   ]
  },
  {
   "cell_type": "markdown",
   "metadata": {},
   "source": [
    "That's awesome. But consider the fact that we'll want to add *more* quotes from *more awesome* movies. If we keep up with this using functions as routes, we're gonna have to multiplex a bunch of logic into one thing and frankly, I'm not a big fan cramming a bunch of stuff into one function. But Python provides a way to cleanly multiplex: classes."
   ]
  },
  {
   "cell_type": "markdown",
   "metadata": {},
   "source": [
    "##Step Three: Resources and Posting\n",
    "\n",
    "If you're following along, go ahead and just delete the `rand_quote` and `all_quotes` end points, we won't be needing them anymore.\n",
    "\n",
    "And this is where Flask-Restful comes into play. Flask-Restful is a toolkit for developing RESTful APIs in Flask. It was developed by Twilio and they thought it was so awesome, they open sourced it. There's request parsing, extensible class based routing, marshalling (though not as nice as Marshmallow's) and a few other things. We're going to just use the class based routing here, but I highly recommend exploring the package more thoroughly. By default, Flask-Restful provides a JSON response maker. Meaning, we can simply return a dictionary and Flask-Restful will automatically turn it into JSON."
   ]
  },
  {
   "cell_type": "code",
   "execution_count": null,
   "metadata": {
    "collapsed": true
   },
   "outputs": [],
   "source": [
    "from flask.ext.restful import Resource, Api # could also be from flask_restful import ...\n",
    "\n",
    "api = Api()\n",
    "\n",
    "class SingleQuote(Resource):\n",
    "    def get(self):\n",
    "        \"\"\"Return a single random quote\"\"\"\n",
    "        q = choice(quotes)\n",
    "        data = QuoteSchema().dump(q).data\n",
    "        return data\n",
    "    \n",
    "    def post(self):\n",
    "        \"\"\"Add a quote\"\"\"\n",
    "        # uh...wut do here?\n",
    "        return {'pass': True}\n",
    "    \n",
    "api.register_resource(SingleQuote, '/quote')\n",
    "\n",
    "api.init_app(app)"
   ]
  },
  {
   "cell_type": "markdown",
   "metadata": {},
   "source": [
    "To add a quote we're gonna have to need to:\n",
    "\n",
    "* Accept some JSON\n",
    "* Turn the JSON into a Python dict\n",
    "* Turn that dict into a Quote object\n",
    "* Put that object into the quotes list\n",
    "* Probably return something indicating success or failure\n",
    "    \n",
    "Accepting the JSON and converting it to Python is easy. `flask.request` provides a `get_json` method that will either return parsed JSON or False (I'm not a fan of multiple return type, but whatever). However, turning that JSON into a Quote object is something that we need to implement ourselves. Luckily, Marshmallow can do this, and makes it easy as well! Back to the QuoteSchema class!"
   ]
  },
  {
   "cell_type": "code",
   "execution_count": 26,
   "metadata": {
    "collapsed": false
   },
   "outputs": [
    {
     "name": "stdout",
     "output_type": "stream",
     "text": [
      "Quote(person='Ash', quote='Klaatu Barada Nikto.')\n",
      "[Quote(person='Ash', quote='Klaatu Barada Nikto.'),\n",
      " Quote(person='Shaun', quote=\"You've got red on you.\")]\n"
     ]
    }
   ],
   "source": [
    "class QuoteSchema(Schema):\n",
    "    class Meta:\n",
    "        additional = ('person', 'quote')\n",
    "    \n",
    "    @post_dump(raw=True)\n",
    "    def envelope(self, data, many):\n",
    "        ns = 'quotes' if many else 'quote'\n",
    "        return {ns: data}\n",
    "    \n",
    "    def make_object(self, data):\n",
    "        assert 'person' in data and 'quote' in data, \"Must provide person and quote\"\n",
    "        return Quote(person=data['person'], quote=data['quote'])\n",
    "\n",
    "# load one\n",
    "pprint(QuoteSchema().load({'person':'Ash', 'quote':\"Klaatu Barada Nikto.\"}).data)\n",
    "# load many\n",
    "pprint(QuoteSchema().load([\n",
    "        {'person':'Ash', 'quote':\"Klaatu Barada Nikto.\"}, \n",
    "        {'person': 'Shaun', 'quote': \"You've got red on you.\"}\n",
    "], many=True).data)"
   ]
  },
  {
   "cell_type": "markdown",
   "metadata": {},
   "source": [
    "Putting this data in our quotes list is actually really easy:"
   ]
  },
  {
   "cell_type": "code",
   "execution_count": null,
   "metadata": {
    "collapsed": true
   },
   "outputs": [],
   "source": [
    "from flask import request\n",
    "\n",
    "class SingleQuote(Resource):\n",
    "    def get(self):\n",
    "        \"\"\"Return a single random quote\"\"\"\n",
    "        q = choice(quotes)\n",
    "        data = QuoteSchema().dump(q).data\n",
    "        return data\n",
    "    \n",
    "    def post(self):\n",
    "        \"\"\"Add a quote\"\"\"\n",
    "        json = request.get_json()\n",
    "        if not json:\n",
    "            return {'success': False, 'error': 'malformed request'} # probably should do something better\n",
    "        \n",
    "        else:\n",
    "            try:\n",
    "                if 'quotes' in json:\n",
    "                    data = QuoteSchema().load(json['quotes'], many=True).data\n",
    "                    quotes.extend(data)\n",
    "                    num = len(data)\n",
    "                else:\n",
    "                    data = QuoteSchema().load(json['quote']).data\n",
    "                    quotes.append(data)\n",
    "                    num = 1\n",
    "                return {'success': True, 'added': num}\n",
    "            except KeyError as e: # super robust\n",
    "                return {'success': False, 'error': repr(e)}"
   ]
  },
  {
   "cell_type": "markdown",
   "metadata": {},
   "source": [
    "With this in place, you can fire up your favorite developer tool (I prefer Postman REST) and post some json like:\n",
    "\n",
    "    {\"quotes\": [\n",
    "        {\"person\": \"Ash\", \"quote\":\" Klaatu Barada Nikto.\"}, \n",
    "        {\"person\": \"Shaun\", \"quote\": \"You've got red on you.\"}\n",
    "    ]}\n",
    "\n",
    "Or:\n",
    "\n",
    "    {\"quote\":\n",
    "        {\"person\": \"Ash\", \"quote\":\" Klaatu Barada Nikto.\"}\n",
    "    }\n",
    "    \n",
    "to the application and them added to the quotes list! Just browse on over to http://localhost:5000/quotes.\n",
    "\n",
    "...Oh, we haven't implemented a way to view *all* the quotes yet. Let's do that now, and while we're at it, let's add a way to view a specific quote:"
   ]
  },
  {
   "cell_type": "code",
   "execution_count": null,
   "metadata": {
    "collapsed": true
   },
   "outputs": [],
   "source": [
    "class AllQuotes(Resource):\n",
    "    def get(self):\n",
    "        return QuoteSchema(many=True).dump(quotes).data\n",
    "\n",
    "class SingleQuote(Resource):\n",
    "    def get(self, id=None):\n",
    "        if id is None or not 0 <= id len(quotes):\n",
    "            return choice(quotes)\n",
    "        return quotes[id]\n",
    "\n",
    "    def post(self):\n",
    "        #same as above\n",
    "        pass\n",
    "    \n",
    "api.register_resource(AllQuotes, '/quotes')\n",
    "api.register_resource(SingleQuote, '/quote/<int:id>')"
   ]
  },
  {
   "cell_type": "markdown",
   "metadata": {},
   "source": [
    "If you've been following along in vim or PyCharm or whatever, you'll notice we've registered SingleQuote at two URIs now:\n",
    "\n",
    "    * `/quote` for getting a random quote\n",
    "    * `/quote/<int:id>/` for getting a specific quote (or a random quote if it's out of range)\n",
    "\n",
    "Flask-Restful resources can be registered on multiple endpoints. This isn't something special to these, every Flask URI resource can be registered multiple times. However, I also find having to do that registering by hand annoying. What if I needed to register the same resource in five places?"
   ]
  },
  {
   "cell_type": "markdown",
   "metadata": {},
   "source": [
    "##Step Four: Creating our own Resource Type\n",
    "\n",
    "The really nice thing about Flask-Restful is that we can take their implementations and shape them to our needs. For example, right now registering our resources look like this:\n",
    "\n",
    "    api.register_resource(SingleQuote, '/quote')\n",
    "    api.register_resource(SingleQuote, '/quote/<int:id>'\n",
    "    api.register_resource(AllQuotes, '/quotes')\n",
    "\n",
    "But let's say we wanted to put a random quote at `/` and make `/quote/all` an alias for `/quotes`? I think we can abstract away needing to retype so much stuff..."
   ]
  },
  {
   "cell_type": "code",
   "execution_count": 27,
   "metadata": {
    "collapsed": true
   },
   "outputs": [],
   "source": [
    "from flask.ext.restful import Resource as ResourceBase\n",
    "\n",
    "class Resource(ResourceBase):\n",
    "    routes = ()\n",
    "    route_options = {}\n",
    "    \n",
    "    @classmethod\n",
    "    def register(cls, api):\n",
    "        api.register_resource(cls, *cls.routes, **cls.route_options)"
   ]
  },
  {
   "cell_type": "markdown",
   "metadata": {},
   "source": [
    "By subclassing *our* resource instead of Flask-Restful's we can have our registration look like this instead:"
   ]
  },
  {
   "cell_type": "code",
   "execution_count": null,
   "metadata": {
    "collapsed": true
   },
   "outputs": [],
   "source": [
    "class SingleQuote(Resource):\n",
    "    routes = ('/', '/quote', '/quote/<int:id>')\n",
    "    \n",
    "    def get(self, id=None):\n",
    "        # as above, so below\n",
    "        pass\n",
    "    \n",
    "    def post(self):\n",
    "        # as above, so below\n",
    "        pass\n",
    "\n",
    "class AllQuotes(Resource):\n",
    "    routes = ('/quotes', '/quote/all')\n",
    "    \n",
    "    def get(self):\n",
    "        # as above, so below\n",
    "        pass\n",
    "\n",
    "SingleQuote.register(api)\n",
    "AllQuotes.register(api)"
   ]
  },
  {
   "cell_type": "markdown",
   "metadata": {},
   "source": [
    "Now, whether or not this is good practice or not is a matter of debate. I've heard strong arguments on both sides. Personally, I find being able to handle my resource registration like this is very clean and elegant. If I need more fine grained registration (say setting individual options at each end point), the `api.register_resource` is still available. Subclassing resource will also open another powerful tool which I'll explore in a bit."
   ]
  },
  {
   "cell_type": "markdown",
   "metadata": {},
   "source": [
    "##Step Five: Persistence\n",
    "\n",
    "Right now all of our quotes are transient and only live in memory. It'd be nice to have some sort of persistence for our quotes. So, let's import Flask-SQLAlchemy and use that to handle the quotes instead."
   ]
  },
  {
   "cell_type": "code",
   "execution_count": null,
   "metadata": {
    "collapsed": true
   },
   "outputs": [],
   "source": [
    "from flask.ext.sqlalchemy import SQLAlchemy\n",
    "from sqlalchemy import func\n",
    "\n",
    "app.config['SQLALCHEMY_DATABASE_URI'] = 'sqlite:///quotes.db'\n",
    "db = SQLAlchemy(app)\n",
    "\n",
    "class Quote(db.Model):\n",
    "    __tablename__ = 'quotes'\n",
    "    \n",
    "    id = db.Column(db.Integer, primary_key=True)\n",
    "    # Unicode and UnicodeText over String and Text true Web 2.0 compatibility\n",
    "    person = db.Column(db.Unicode(64)) \n",
    "    quote = db.Column(db.UnicodeText)\n",
    "    \n",
    "    def __init__(self, person, quote):\n",
    "        self.person = person\n",
    "        self.quote = quote\n",
    "    \n",
    "    # easy access to random quotes\n",
    "    @classmethod\n",
    "    def random(cls):\n",
    "        return cls.query.order_by(func.random()).limit(1).first()\n",
    "    \n",
    "    # get quote or return a function call\n",
    "    # example: Quote.get_or_call(quote_id, Quote.random)\n",
    "    @classmethod\n",
    "    def get_or_call(cls, id, func, *args, **kwargs):\n",
    "        item = cls.query.get(id)\n",
    "        if item is None:\n",
    "            item = func(*args, **kwargs)\n",
    "        return item\n",
    "\n",
    "if __name__ == '__main__':\n",
    "    db.create_all()\n",
    "    \n",
    "    quotes = [Quote(p, q) for p, q in [\n",
    "            ('Herbert West', 'I was busy pushing bodies around as you well know '\n",
    "             'and what would a note say, Dan? \"Cat dead, details later\"?'),\n",
    "            ('Jack Burton', \"You remember what ol' Jack Burton always says at a time like that: \"\n",
    "             '\"Have ya paid your dues, Jack?\" \"Yessir, the check is in the mail.\"'),\n",
    "            ('Igor', 'Well, why isn\\'t it \"Froaderick Fronkensteen\"?')\n",
    "    ]]\n",
    "\n",
    "    db.session.add_all(quotes)\n",
    "    db.session.commit()\n",
    "    app.run(debug=True)"
   ]
  },
  {
   "cell_type": "markdown",
   "metadata": {},
   "source": [
    "What's great about this is we don't need to change how QuoteSchema creates objects. The interface is still the same, but instead of building a namedtuple, we're now building a DAO with SQLAlchemy instead. Marshmallow doesn't know and doesn't care. We do, however, need to modify our resources:"
   ]
  },
  {
   "cell_type": "code",
   "execution_count": null,
   "metadata": {
    "collapsed": true
   },
   "outputs": [],
   "source": [
    "class SingleQuote(Resource):\n",
    "    routes = ('/', '/quote', '/quote/<int:id>')\n",
    "    \n",
    "    def get(self, id=None):\n",
    "        if id is None:\n",
    "            q = Quote.random()\n",
    "        else:\n",
    "            q = Quote.get_or_call(id, Quote.random)\n",
    "        return QuoteSchema().dump(q).data\n",
    "    \n",
    "    def post(self):\n",
    "        \"\"\"Add a quote\"\"\"\n",
    "        json = request.get_json()\n",
    "        if not json:\n",
    "            return {'success': False, 'error': 'malformed request'} # probably should do something better\n",
    "        \n",
    "        else:\n",
    "            try:\n",
    "                if 'quotes' in json:\n",
    "                    data = QuoteSchema().load(json['quotes'], many=True).data\n",
    "                    db.session.add_all(data)\n",
    "                    num = len(data)\n",
    "                else:\n",
    "                    data = QuoteSchema().load(json['quote']).data\n",
    "                    db.session.add(data)\n",
    "                    num = 1\n",
    "                db.session.commit()\n",
    "                return {'success': True, 'added': num}\n",
    "            except KeyError as e: # super robust\n",
    "                return {'success': False, 'error': repr(e)}\n",
    "\n",
    "class AllQuotes(Resource):\n",
    "    routes = ('/quotes', '/quote/all')\n",
    "    \n",
    "    def get(self):\n",
    "        return QuoteSchema(many=True).dump(Quote.query.all()).data"
   ]
  },
  {
   "cell_type": "markdown",
   "metadata": {},
   "source": [
    "There is one more bit of repetition I'd like to get rid of: Having `QuoteSchema(...).whatever` all over the place. Remember how I said I'd explore the power subclassing `flask_restful.Resource` gives us?"
   ]
  },
  {
   "cell_type": "markdown",
   "metadata": {},
   "source": [
    "##Step Six: Our own automatic serialization\n",
    "\n",
    "Instead of relying on Flask-Restful's automatic JSONification, we can instead say, \"We're always going to use JSON (XML isn't webscale) so we'll provide our own serialization.\" Which is exactly what we're going to do:"
   ]
  },
  {
   "cell_type": "code",
   "execution_count": 28,
   "metadata": {
    "collapsed": true
   },
   "outputs": [],
   "source": [
    "from werkzeug.wrappers import Response as ResponseBase\n",
    "\n",
    "class Resource(ResourceBase):\n",
    "    schema = None\n",
    "    routes = []\n",
    "    route_options = {}\n",
    "    \n",
    "    @classmethod\n",
    "    def register(cls, api):\n",
    "        api.register_resource(cls, *cls.routes, **cls.route_options)\n",
    "    \n",
    "    def dispatch_method(self, *args, **kwargs):\n",
    "        meth = getattr(self, request.method.lower(), None)\n",
    "        if meth is None and request.method == 'HEAD':\n",
    "            meth = getattr(self, 'get', None)\n",
    "        assert meth is not None, \"Unimplemented method {}\".format(request.method)\n",
    "        \n",
    "        for decorator in self.method_decorators:\n",
    "            meth = decorator(meth)\n",
    "        \n",
    "        resp = meth(*args, **kwargs)\n",
    "        \n",
    "        if isinstance(resp, ResponseBase):\n",
    "            return resp\n",
    "        elif self.schema:\n",
    "            return jsonify(self.schema.dump(resp).data)\n",
    "        else:\n",
    "            return jsonify(resp)"
   ]
  },
  {
   "cell_type": "markdown",
   "metadata": {},
   "source": [
    "Implementing our own `dispatch_method` allows us to override the standard Flask-Restful and flask.MethodView behaviors and handle JSON serialization on our own terms. This buys us the ability to provide a predefined schema instead of having to specify it in all the methods. We simple return a tuple of a dictionary of the data to JSONify and a boolean telling `dispatch_method` if it should use the schema or not (helpful for reporting non-serialized data). We'll need to modify our resources one last time (I promise). Sadly, without some work around, we can't return an arbitrary dictionary anymore, we need to return a fully realized Flask response (hence the `return jsonify({...})` below):"
   ]
  },
  {
   "cell_type": "code",
   "execution_count": null,
   "metadata": {
    "collapsed": true
   },
   "outputs": [],
   "source": [
    "class SingleQuote(Resource):\n",
    "    schema = QuoteSchema()\n",
    "    routes = ('/', '/quote', '/quote/<int:id>')\n",
    "\n",
    "    def get(self, id=None):\n",
    "        if id is None:\n",
    "            return Quote.random()\n",
    "        else:\n",
    "            return Quote.get_or_call(id, Quote.random)\n",
    "\n",
    "    def post(self):\n",
    "        if request.mimetype != 'application/json':\n",
    "            return jsonify({'badresult': repr(request.mimetype)})\n",
    "        json = request.get_json()\n",
    "        try:\n",
    "            if 'quotes' in json:\n",
    "                data = self.schema.load(json['quotes'], many=True).data\n",
    "                db.session.add_all(data)\n",
    "                num = len(data)\n",
    "            else:\n",
    "                data = self.schema.load(json['quote']).data\n",
    "                db.session.add(data)\n",
    "                num = 1\n",
    "            db.session.commit()\n",
    "            return jsonify({'result': True, 'added': num})\n",
    "        except KeyError as e:\n",
    "            return jsonify({'result': repr(e)})\n",
    "\n",
    "\n",
    "class AllQuotes(Resource):\n",
    "    schema = QuoteSchema(many=True)\n",
    "    routes = ('/quotes', '/quote/all')\n",
    "\n",
    "    def get(self):\n",
    "        return Quote.query.all()\n",
    "    \n",
    "SingleQuote.register(api)\n",
    "AllQuotes.register(api)"
   ]
  },
  {
   "cell_type": "markdown",
   "metadata": {},
   "source": [
    "##That's all she wrote\n",
    "\n",
    "Hopefully, this was a decent introduction to building a simple restful API with Flask and some of its extensions. There's more that can be done, such as not eliminating Flask-Restful's mimetype detection and automatic serialization of data for use, thus regaining the ability to return XML, CSV and other text types to the caller (of course, these have to implemented on your own, Flask-Restful only provides the mechanism for allowing it).\n",
    "\n",
    "I've also glossed over quite a bit for space reasons, including completely ignoring one of my favorite Flask-related things: application factories, which are an amazingly powerful abstraction.\n",
    "\n",
    "The full Quotr \"application\" is below:"
   ]
  },
  {
   "cell_type": "code",
   "execution_count": null,
   "metadata": {
    "collapsed": true
   },
   "outputs": [],
   "source": [
    "# Full Application to keep direction in mind:\n",
    "from flask import request, jsonify, Flask\n",
    "from flask.ext.restful import Api, Resource as ResourceBase\n",
    "from flask.ext.sqlalchemy import SQLAlchemy\n",
    "from marshmallow import Schema, post_dump\n",
    "from sqlalchemy import func\n",
    "from werkzeug.wrappers import Response as ResponseBase\n",
    "\n",
    "\n",
    "app = Flask(__name__)\n",
    "app.config['SQLALCHEMY_DATABASE_URI'] = 'sqlite:///quotes.db'\n",
    "api = Api(app)\n",
    "db = SQLAlchemy(app)\n",
    "\n",
    "\n",
    "class Quote(db.Model):\n",
    "    __tablename__ = 'quotes'\n",
    "    id = db.Column(db.Integer, primary_key=True)\n",
    "    person = db.Column(db.String(64))\n",
    "    quote = db.Column(db.Text)\n",
    "\n",
    "    def __init__(self, person, quote):\n",
    "        self.person = person\n",
    "        self.quote = quote\n",
    "\n",
    "    @classmethod\n",
    "    def random(cls):\n",
    "        return cls.query.order_by(func.random()).limit(1).first()\n",
    "\n",
    "    @classmethod\n",
    "    def get_or_call(cls, id, func, *args, **kwargs):\n",
    "        data = cls.query.get(id)\n",
    "        if data is None:\n",
    "            data = func(*args, **kwargs)\n",
    "        return data\n",
    "\n",
    "\n",
    "class QuoteSchema(Schema):\n",
    "    class Meta:\n",
    "        additional = ('id', 'person', 'quote')\n",
    "\n",
    "    @post_dump(raw=True)\n",
    "    def add_root(self, data, many):\n",
    "        name = self.__class__.__name__.lower().split('schema')[0]\n",
    "        ns = name + 's' if many else name\n",
    "        return {ns: data}\n",
    "        \n",
    "    def make_object(self, data):\n",
    "        return Quote(person=data['person'], quote=data['quote'])\n",
    "\n",
    "    \n",
    "class Resource(ResourceBase):\n",
    "    schema = None\n",
    "    routes = []\n",
    "    route_options = {}\n",
    "    \n",
    "    @classmethod\n",
    "    def register(cls, api):\n",
    "        api.register_resource(cls, *cls.routes, **cls.route_options)\n",
    "    \n",
    "    def dispatch_method(self, *args, **kwargs):\n",
    "        meth = getattr(self, request.method.lower(), None)\n",
    "        if meth is None and request.method == 'HEAD':\n",
    "            meth = getattr(self, 'get', None)\n",
    "        assert meth is not None, \"Unimplemented method {}\".format(request.method)\n",
    "        \n",
    "        for decorator in self.method_decorators:\n",
    "            meth = decorator(meth)\n",
    "        \n",
    "        resp = meth(*args, **kwargs)\n",
    "        \n",
    "        if isinstance(resp, ResponseBase):\n",
    "            return resp\n",
    "        elif self.schema:\n",
    "            return jsonify(self.schema.dump(resp).data)\n",
    "        else:\n",
    "            return jsonify(resp)\n",
    "    \n",
    "\n",
    "class SingleQuote(Resource):\n",
    "    schema = QuoteSchema()\n",
    "    routes = ('/', '/quote', '/quote/<int:id>')\n",
    "\n",
    "    def get(self, id=None):\n",
    "        if id is None:\n",
    "            return Quote.random()\n",
    "        else:\n",
    "            return Quote.get_or_call(id, Quote.random)\n",
    "\n",
    "    def post(self):\n",
    "        if request.mimetype != 'application/json':\n",
    "            return jsonify({'badresult': repr(request.mimetype)})\n",
    "        json = request.get_json()\n",
    "        try:\n",
    "            if 'quotes' in json:\n",
    "                data = self.schema.load(json['quotes'], many=True).data\n",
    "                db.session.add_all(data)\n",
    "                num = len(data)\n",
    "            else:\n",
    "                data = self.schema.load(json['quote']).data\n",
    "                db.session.add(data)\n",
    "                num = 1\n",
    "            db.session.commit()\n",
    "            return jsonify({'result': True, 'added': num})\n",
    "        except KeyError as e:\n",
    "            return jsonify({'result': repr(e)})\n",
    "\n",
    "\n",
    "class AllQuotes(Resource):\n",
    "    schema = QuoteSchema(many=True)\n",
    "    routes = ('/quotes', '/quote/all')\n",
    "\n",
    "    def get(self):\n",
    "        return Quote.query.all()\n",
    "\n",
    "\n",
    "SingleQuote.register(api)\n",
    "AllQuotes.register(api)\n",
    "\n",
    "\n",
    "if __name__ == '__main__':\n",
    "    db.drop_all()   # remove for persistence of all quotes between sessions\n",
    "    db.create_all() # remove after tables have been created\n",
    "    db.session.commit()\n",
    "\n",
    "    quotes = [Quote(p, q) for p, q in [\n",
    "        ('Herbert West', 'I was busy pushing bodies around as you well know '\n",
    "         'and what would a note say, Dan? \"Cat dead, details later\"?'),\n",
    "        ('Jack Burton', \"You remember what ol' Jack Burton always says at a \"\n",
    "         'time like that: \"Have ya paid your dues, Jack?\" \"Yessir, the check '\n",
    "         'is in the mail.\"'),\n",
    "        ('Igor', 'Well, why isn\\'t it \"Froaderick Fronkensteen\"?')\n",
    "    ]]\n",
    "\n",
    "    db.session.add_all(quotes)\n",
    "    db.session.commit()\n",
    "    app.run(debug=True)"
   ]
  }
 ],
 "metadata": {
  "kernelspec": {
   "display_name": "Python 3",
   "language": "python",
   "name": "python3"
  },
  "language_info": {
   "codemirror_mode": {
    "name": "ipython",
    "version": 3
   },
   "file_extension": ".py",
   "mimetype": "text/x-python",
   "name": "python",
   "nbconvert_exporter": "python",
   "pygments_lexer": "ipython3",
   "version": "3.4.0"
  }
 },
 "nbformat": 4,
 "nbformat_minor": 0
}
