{
 "metadata": {
  "name": ""
 },
 "nbformat": 3,
 "nbformat_minor": 0,
 "worksheets": [
  {
   "cells": [
    {
     "cell_type": "code",
     "collapsed": false,
     "input": [
      "for x in [1,2,3]:\n",
      "    print(x, end=' ')"
     ],
     "language": "python",
     "metadata": {},
     "outputs": [
      {
       "output_type": "stream",
       "stream": "stdout",
       "text": [
        "1 2 3 "
       ]
      }
     ],
     "prompt_number": 1
    },
    {
     "cell_type": "markdown",
     "metadata": {},
     "source": [
      "Iteration is something that is used all the time in programming. Python makes it really easy to use.\n",
      "\n",
      "##Parts of Iteration\n",
      "There are a couple of parts to iteration, consider this a simple glossary for terms used in this post:\n",
      "\n",
      "* The Consumer: something that uses iteration to get values from an object: `for` ...for example\n",
      "* The Iteration: act of iterating over an object implementing the iter protocol\n",
      "* The Iter Protocol: interface that iteration uses, requires both `__iter__` and `__next__` to be defined\n",
      "* The Iterable: container object that implements `__iter__`, which in turns returns an iterator\n",
      "* The Iterator: object that implements `__next__`, which in turns returns value to the consumer\n",
      "\n",
      "Consumers can be anything: `for`, `iter` creates an iterable out of a container. The builtin `next` handles manual advancement over an iterator. Whatever they are, they use iteration to get values from an object. This is the simplest part of the question of iteration.\n",
      "\n",
      "##Iter Protocol, Iterables and Iterators\n",
      "This part is more complex because there's multiple ways to approach implementing iteration. The [iter protocol](https://docs.python.org/3/library/stdtypes.html#index-18) says that two methods must be implemented:\n",
      "\n",
      "* `__iter__`: On the container this must return an object that implements `__next__`; on the iterator, it must return it's instance\n",
      "* `__next__`: This only has to be implemented on the iterator, this method is used to return values to the consumer. When no values are left to return, this method must `raise StopIteration` and continue to do so on each sequential call.\n",
      "\n",
      "A common way of handling iteration is two split the protocol over two objects. `list` does this."
     ]
    },
    {
     "cell_type": "code",
     "collapsed": false,
     "input": [
      "print('[] and iter([]) are different:', type([]) != type(iter([])))\n",
      "print('iter([]) and iter(iter([])) are the same:', type(iter([])) == type(iter(iter([]))))\n",
      "print('typeof iter([]):', type(iter([])))\n",
      "print('[] hasattr __iter__:', hasattr([], '__iter__'))\n",
      "print('[] hasattr __next__:', hasattr([], '__next__'))\n",
      "print('iter([]) hasattr __iter__:', hasattr(iter([]), '__iter__'))\n",
      "print('iter([]) hasattr __next__:', hasattr(iter([]), '__next__'))"
     ],
     "language": "python",
     "metadata": {},
     "outputs": [
      {
       "output_type": "stream",
       "stream": "stdout",
       "text": [
        "[] and iter([]) are different: True\n",
        "iter([]) and iter(iter([])) are the same: True\n",
        "typeof iter([]): <class 'list_iterator'>\n",
        "[] hasattr __iter__: True\n",
        "[] hasattr __next__: False\n",
        "iter([]) hasattr __iter__: True\n",
        "iter([]) hasattr __next__: True\n"
       ]
      }
     ],
     "prompt_number": 2
    },
    {
     "cell_type": "markdown",
     "metadata": {},
     "source": [
      "It's very common for an iterable and an iterator to be different; however, it's not uncommon for them to be the same object (as defined, every iterator is both an iterable and it's iterator).\n",
      "\n",
      "##Defining our own iterators\n",
      "Python makes it super easy to define our own iteratables and iterators. Just implement a couple of methods and you're done!"
     ]
    },
    {
     "cell_type": "code",
     "collapsed": false,
     "input": [
      "class MyIterable:\n",
      "    '''Simple implementation of the iter protocol\n",
      "    __iter__ returns an instance of MyIterator\n",
      "    '''\n",
      "    def __init__(self, upper=0):\n",
      "        self.upper = upper\n",
      "    \n",
      "    def __iter__(self):\n",
      "        return MyIterator(upper=self.upper)\n",
      "\n",
      "class MyIterator:\n",
      "    '''Simple implementaion of the iter protocol\n",
      "    When iterated, incremental numbers are returned\n",
      "    until the upper bound is reached.\n",
      "    '''\n",
      "    \n",
      "    def __init__(self, upper=0):\n",
      "        self.upper = upper\n",
      "        self.__current = 0\n",
      "    \n",
      "    def __iter__(self):\n",
      "        return self\n",
      "\n",
      "    def __next__(self):\n",
      "        if self.__current >= self.upper:\n",
      "            raise StopIteration(\"Upper bound reached.\")\n",
      "        else:\n",
      "            self.__current += 1\n",
      "            return self.__current - 1\n",
      "\n",
      "for x in MyIterable(4):\n",
      "    print(x)"
     ],
     "language": "python",
     "metadata": {},
     "outputs": [
      {
       "output_type": "stream",
       "stream": "stdout",
       "text": [
        "0\n",
        "1\n",
        "2\n",
        "3\n"
       ]
      }
     ],
     "prompt_number": 3
    },
    {
     "cell_type": "markdown",
     "metadata": {},
     "source": [
      "The advantage to splitting the iterable and the iterator into two classes is that you can maintain multiple iterators all at different states. If an object handled it's own iteration, you can maintain only one state."
     ]
    },
    {
     "cell_type": "code",
     "collapsed": false,
     "input": [
      "test = MyIterator(4)\n",
      "\n",
      "for x in test:\n",
      "    print(x, end=' ')\n",
      "\n",
      "for x in test:\n",
      "    print(x, end=' ')\n",
      "\n",
      "test = MyIterable(4)\n",
      "it = iter(test)\n",
      "print('\\n', next(it), sep='')\n",
      "\n",
      "for x in test:\n",
      "    print(x, end=' ')\n",
      "\n",
      "print('\\n', next(it), sep='')\n",
      "print(next(it))\n",
      "print(next(it))"
     ],
     "language": "python",
     "metadata": {},
     "outputs": [
      {
       "output_type": "stream",
       "stream": "stdout",
       "text": [
        "0 1 2 3 \n",
        "0\n",
        "0 1 2 3 \n",
        "1\n",
        "2\n",
        "3\n"
       ]
      }
     ],
     "prompt_number": 4
    },
    {
     "cell_type": "markdown",
     "metadata": {},
     "source": [
      "However, something that's a little sneaky is returning a something else completely from the `__iter__` so long as it is an iterator."
     ]
    },
    {
     "cell_type": "code",
     "collapsed": false,
     "input": [
      "class SneakyIter(MyIterable):\n",
      "    \n",
      "    def __iter__(self):\n",
      "        return iter(range(self.upper))\n",
      "\n",
      "for x in SneakyIter(4):\n",
      "    print(x, end=' ')"
     ],
     "language": "python",
     "metadata": {},
     "outputs": [
      {
       "output_type": "stream",
       "stream": "stdout",
       "text": [
        "0 1 2 3 "
       ]
      }
     ],
     "prompt_number": 5
    },
    {
     "cell_type": "markdown",
     "metadata": {},
     "source": [
      "Returning *just* range wouldn't work because range is iterable but it's *not* an iterator.\n",
      "\n",
      "##Iters *huh* what are they good for?\n",
      "Well, a lot more than just counting. To borrow an [example](https://github.com/dabeaz/python-cookbook/blob/master/src/4/easy_implementation_of_the_iterator_protocol/hardexample.py) from Dave Beazly's *fantastic* [Python Cookbook, 3rd Edition](http://www.amazon.com/Python-Cookbook-David-Beazley/dp/1449340377) (I seriously cannot recommend this book enough), traversing nodes."
     ]
    },
    {
     "cell_type": "code",
     "collapsed": false,
     "input": [
      "class Node:\n",
      "    def __init__(self, value):\n",
      "        self._value = value\n",
      "        self._children = []\n",
      "\n",
      "    def __repr__(self):\n",
      "        return 'Node(%r)' % self._value\n",
      "\n",
      "    def add_child(self, other_node):\n",
      "        self._children.append(other_node)\n",
      " \n",
      "    def __iter__(self):\n",
      "        return iter(self._children)\n",
      "\n",
      "    def depth_first(self):\n",
      "        return DepthFirstIterator(self)\n",
      "\n",
      "class DepthFirstIterator(object):\n",
      "    '''\n",
      "    Depth-first traversal\n",
      "    '''\n",
      "    def __init__(self, start_node):\n",
      "        self._node = start_node\n",
      "        self._children_iter = None\n",
      "        self._child_iter = None\n",
      "\n",
      "    def __iter__(self):\n",
      "        return self\n",
      "\n",
      "    def __next__(self):\n",
      "        # Return myself if just started. Create an iterator for children\n",
      "        if self._children_iter is None:\n",
      "            self._children_iter = iter(self._node)\n",
      "            return self._node\n",
      "\n",
      "        # If processing a child, return its next item\n",
      "        elif self._child_iter:\n",
      "            try:\n",
      "                nextchild = next(self._child_iter)\n",
      "                return nextchild\n",
      "            except StopIteration:\n",
      "                self._child_iter = None\n",
      "                return next(self)\n",
      "\n",
      "        # Advance to the next child and start its iteration\n",
      "        else:\n",
      "            self._child_iter = next(self._children_iter).depth_first()\n",
      "            return next(self)\n",
      "        \n",
      "root = Node(0)\n",
      "child1 = Node(1)\n",
      "child2 = Node(2)\n",
      "root.add_child(child1)\n",
      "root.add_child(child2)\n",
      "child1.add_child(Node(3))\n",
      "child1.add_child(Node(4))\n",
      "child2.add_child(Node(5))\n",
      "\n",
      "for ch in root.depth_first():\n",
      "    print(ch, end=' ')\n",
      "\n",
      "print('\\n')\n",
      "for ch in root:\n",
      "    print(ch, end=' ')"
     ],
     "language": "python",
     "metadata": {},
     "outputs": [
      {
       "output_type": "stream",
       "stream": "stdout",
       "text": [
        "Node(0) Node(1) Node(3) Node(4) Node(2) Node(5) \n",
        "\n",
        "Node(1) Node(2) "
       ]
      }
     ],
     "prompt_number": 6
    },
    {
     "cell_type": "markdown",
     "metadata": {},
     "source": [
      "##Iteration shortcuts, tips and tricks\n",
      "There are shortcuts to iteration, the most commonly known are comphrensions. Comphrensions are types of literals that do more than simply create, say, a list."
     ]
    },
    {
     "cell_type": "code",
     "collapsed": false,
     "input": [
      "from string import ascii_lowercase as lowercase\n",
      "\n",
      "# list comp.\n",
      "test = [ord(c) for c in lowercase]\n",
      "print(test)\n",
      "\n",
      "# dict comp.\n",
      "test = {c:ord(c) for c in lowercase}\n",
      "print(test)\n",
      "\n",
      "#you can use comps. in place of iterables in function arguments\n",
      "print(sum([ord(c) for c in lowercase]))\n",
      "\n",
      "#something else you can do is drop the brackets if the comp is the only argument\n",
      "print(sum(ord(c) for c in lowercase))"
     ],
     "language": "python",
     "metadata": {},
     "outputs": [
      {
       "output_type": "stream",
       "stream": "stdout",
       "text": [
        "[97, 98, 99, 100, 101, 102, 103, 104, 105, 106, 107, 108, 109, 110, 111, 112, 113, 114, 115, 116, 117, 118, 119, 120, 121, 122]\n",
        "{'x': 120, 'i': 105, 'n': 110, 'c': 99, 'b': 98, 'h': 104, 's': 115, 'j': 106, 'p': 112, 'f': 102, 'e': 101, 'a': 97, 'r': 114, 'd': 100, 'u': 117, 'g': 103, 'l': 108, 'k': 107, 'w': 119, 'o': 111, 'y': 121, 'm': 109, 'q': 113, 't': 116, 'v': 118, 'z': 122}\n",
        "2847\n",
        "2847\n"
       ]
      }
     ],
     "prompt_number": 7
    },
    {
     "cell_type": "markdown",
     "metadata": {},
     "source": [
      "But there are more of manipulating iters, such as the builtin `filter` and `map`, the `itertools` module (which all return a special type of iterable called a generator, but that's another post, just know they aren't lists). But the use of filter and map are lessened some by list comps, which I often find easier to write. Some would argue that comphrensions should be used for *creating* new objects, whereas map, filter, et. al. should be used for *manipulating* existing objects. However, the important thing is consistency: if you use filter and map all over the place, don't suddenly throw a comphrension that transforms an existing structure."
     ]
    },
    {
     "cell_type": "code",
     "collapsed": false,
     "input": [
      "filt = filter(lambda c: not ord(c) % 3, lowercase)\n",
      "filt = list(filt) # transform filt into a list\n",
      "comp = [c for c in lowercase if not ord(c)%3]\n",
      "print(filt, comp, sep='\\n')\n",
      "\n",
      "mapd = map(ord, lowercase)\n",
      "mapd = list(mapd)\n",
      "comp = [ord(c) for c in lowercase]\n",
      "print(mapd, comp, sep='\\n')\n",
      "\n",
      "mapfilt = map(ord, filter(lambda c: not ord(c) % 3, lowercase))\n",
      "mapfilt = list(mapfilt)\n",
      "comphre = [ord(c) for c in lowercase if not ord(c)%3]\n",
      "print(mapfilt, comphre, sep='\\n')"
     ],
     "language": "python",
     "metadata": {},
     "outputs": [
      {
       "output_type": "stream",
       "stream": "stdout",
       "text": [
        "['c', 'f', 'i', 'l', 'o', 'r', 'u', 'x']\n",
        "['c', 'f', 'i', 'l', 'o', 'r', 'u', 'x']\n",
        "[97, 98, 99, 100, 101, 102, 103, 104, 105, 106, 107, 108, 109, 110, 111, 112, 113, 114, 115, 116, 117, 118, 119, 120, 121, 122]\n",
        "[97, 98, 99, 100, 101, 102, 103, 104, 105, 106, 107, 108, 109, 110, 111, 112, 113, 114, 115, 116, 117, 118, 119, 120, 121, 122]\n",
        "[99, 102, 105, 108, 111, 114, 117, 120]\n",
        "[99, 102, 105, 108, 111, 114, 117, 120]\n"
       ]
      }
     ],
     "prompt_number": 8
    },
    {
     "cell_type": "markdown",
     "metadata": {},
     "source": [
      "There's also unpacking, which is a great tool for pulling items out of an iterable without using a regular form of iteration. The way it works is that Python transparently creates a tuple -- if you didn't know the tuple operator is the `,`, *not* `()`; parens are only needed if the tuple is not the only argument in a function -- and then unpacking the tuple into the curret namespace. Seems complicated, but it really isn't."
     ]
    },
    {
     "cell_type": "code",
     "collapsed": false,
     "input": [
      "a, b, c = lowercase[:3]\n",
      "print(a, b, c)\n",
      "\n",
      "# tuple unpacking is also useful for variable switching\n",
      "a, b, c = c, b, a\n",
      "print(a, b, c)\n",
      "\n",
      "# similar to how we can splat a list into a function, \n",
      "# we can splat iterables into unpacking\n",
      "# _ becomes a list\n",
      "a, *_, z = lowercase\n",
      "print(a, z, _)"
     ],
     "language": "python",
     "metadata": {},
     "outputs": [
      {
       "output_type": "stream",
       "stream": "stdout",
       "text": [
        "a b c\n",
        "c b a\n",
        "a z ['b', 'c', 'd', 'e', 'f', 'g', 'h', 'i', 'j', 'k', 'l', 'm', 'n', 'o', 'p', 'q', 'r', 's', 't', 'u', 'v', 'w', 'x', 'y']\n"
       ]
      }
     ],
     "prompt_number": 9
    },
    {
     "cell_type": "markdown",
     "metadata": {},
     "source": [
      "##What's next?\n",
      "Well, there are other types of iterators called generators which iterate in a peculiar way. And without having a base understanding of them, understanding the real benefits of iters and itertools is difficult.\n",
      "\n",
      "But other than that, go and iterate all the things. But just remember to iterate responsibly.\n",
      "\n",
      "##Resources\n",
      "\n",
      "* [Ned Batchelder - Loop like a native - PyCon US '13](https://www.youtube.com/watch?v=EnSu9hHGq5o)\n",
      "* [How to Think Like a Computer Scientist, Chapter 7 Iteration](http://openbookproject.net/thinkcs/python/english3e/iteration.html)\n",
      "* [PEP 234 Iterators](http://legacy.python.org/dev/peps/pep-0234/)"
     ]
    }
   ],
   "metadata": {}
  }
 ]
}