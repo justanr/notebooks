{
 "metadata": {
  "name": ""
 },
 "nbformat": 3,
 "nbformat_minor": 0,
 "worksheets": [
  {
   "cells": [
    {
     "cell_type": "code",
     "collapsed": false,
     "input": [
      "from itertools import chain\n",
      "\n",
      "class IterInt(int):\n",
      "    \n",
      "    def __iter__(self):\n",
      "        yield self\n",
      "\n",
      "def countdown(n):\n",
      "    n = IterInt(n)\n",
      "    if n < 0:\n",
      "        return \"Countdown finished\"\n",
      "    else:\n",
      "        yield from chain(n, countdown(n-1))\n",
      "\n",
      "list(countdown(10))"
     ],
     "language": "python",
     "metadata": {},
     "outputs": [
      {
       "metadata": {},
       "output_type": "pyout",
       "prompt_number": 1,
       "text": [
        "[10, 9, 8, 7, 6, 5, 4, 3, 2, 1, 0]"
       ]
      }
     ],
     "prompt_number": 1
    },
    {
     "cell_type": "markdown",
     "metadata": {},
     "source": [
      "Today I learned that setting and overriding methods and attributes on built in types is a `TypeError`. Maybe it's to make iterating over an integer feel wrong. But if this is wrong, I don't want to be right."
     ]
    }
   ],
   "metadata": {}
  }
 ]
}