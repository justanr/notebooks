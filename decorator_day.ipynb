{
 "metadata": {
  "name": ""
 },
 "nbformat": 3,
 "nbformat_minor": 0,
 "worksheets": [
  {
   "cells": [
    {
     "cell_type": "markdown",
     "metadata": {},
     "source": [
      "Decorator Day\n",
      "=============\n",
      "\n",
      "An exploration of decorators, closures and functions in general."
     ]
    },
    {
     "cell_type": "markdown",
     "metadata": {},
     "source": [
      "Before I start, this isn't meant as an indepth exploration or explaination of decorators or closures. Some things I breeze over and some things I explain in a little more detail. I'm making an dangerous assumption that you have at least a basic grasp of Python and how it treats functions.\n",
      "\n",
      "First Class Functions\n",
      "---------------------\n",
      "\n",
      "In Python, functions are first class citizens. What this means is that you can:\n",
      "\n",
      "* Pass a function as an argument to another function\n",
      "* Return a function from another function\n",
      "* Assign a function to a variable\n",
      "* Store a function in a data structure"
     ]
    },
    {
     "cell_type": "code",
     "collapsed": false,
     "input": [
      "map(int, ['1', '2','3']) # pass a function as an arguement to another function\n",
      "\n",
      "def returns_map():\n",
      "    '''Return a function as a result from a function'''\n",
      "    return map\n",
      "\n",
      "my_map = map # assign a function to a variable\n",
      "\n",
      "my_funcs = [map, list, dict] # store functions in a data structure"
     ],
     "language": "python",
     "metadata": {},
     "outputs": [],
     "prompt_number": 1
    },
    {
     "cell_type": "markdown",
     "metadata": {},
     "source": [
      "That's great. But what does it have to do with decorators? Everything. Decorators are possible because of this. Wait...what's a decorator?\n",
      "\n",
      "Simply put, a decorator is a function that accepts another function an argument and then does something with and then returns the function (and only the function) as it's output. Decorators can modify the function as part as it's processing."
     ]
    },
    {
     "cell_type": "code",
     "collapsed": false,
     "input": [
      "def my_deco(f):\n",
      "    print(\"Decorating {!r}\".format(f))\n",
      "    return f\n",
      "\n",
      "def do_stuff(*args):\n",
      "    for a in args:\n",
      "        print(a)\n",
      "\n",
      "do_stuff = my_deco(do_stuff)\n",
      "\n",
      "# alternatively we have a shortcut in @ for decorators.\n",
      "# this is the same as: other_stuff = my_deco(other_stuff)\n",
      "@my_deco\n",
      "def other_stuff():\n",
      "    print(\"I feel pretty.\")\n",
      "\n",
      "do_stuff(*range(1,4))\n",
      "other_stuff()"
     ],
     "language": "python",
     "metadata": {},
     "outputs": [
      {
       "output_type": "stream",
       "stream": "stdout",
       "text": [
        "Decorating <function do_stuff at 0x7f614e206730>\n",
        "Decorating <function other_stuff at 0x7f614e2067b8>\n",
        "1\n",
        "2\n",
        "3\n",
        "I feel pretty.\n"
       ]
      }
     ],
     "prompt_number": 2
    },
    {
     "cell_type": "markdown",
     "metadata": {},
     "source": [
      "But to really talk about decorators, first we have to talk about closures. What's a closure? Simply put, it's a function inside of a function. It's actually little more complicated than that -- things like perserving state come into play -- but for these purposes, it's a function that's *closed over* by another function. Decorators *close over* other functions, decorators *create* closures."
     ]
    },
    {
     "cell_type": "code",
     "collapsed": false,
     "input": [
      "def closure():\n",
      "    print(\"Generating inner\")\n",
      "    def inner():\n",
      "        return 4 # chosen by fair dice roll\n",
      "    return inner\n",
      "\n",
      "closed = closure() # closed is actually now inner and is callable\n",
      "print(closed())"
     ],
     "language": "python",
     "metadata": {},
     "outputs": [
      {
       "output_type": "stream",
       "stream": "stdout",
       "text": [
        "Generating inner\n",
        "4\n"
       ]
      }
     ],
     "prompt_number": 3
    },
    {
     "cell_type": "markdown",
     "metadata": {},
     "source": [
      "Something else I should talk about: variable scoping. I won't go into too great of detail and I'll assume you understand the basics of variable scoping in Python, e.g. globals, variable creating inside a scope aren't accessible to things outside of it without black magic.\n",
      "\n",
      "Closures create their own scopes. Per the example above, `inner` has access to `closure`'s scope since it's part of `closure`'s scope. However, `inner` can't make meaningful changes to `closure`'s scope unless we key the variable to the `nonlocal` scope. If we don't, we get a `UnboundLocalError: local variable 'name' referenced before assignment` and a nice little traceback. Essentially, closured functions have *read only* access to outer scope variables unless Python's told otherwise."
     ]
    },
    {
     "cell_type": "code",
     "collapsed": false,
     "input": [
      "def closure(var):\n",
      "    def inner():\n",
      "        return var\n",
      "    return inner\n",
      "\n",
      "print(closure('a variable')())\n",
      "# closures return callables, \n",
      "# so closure()() is the same as:\n",
      "# >>> f = closure()\n",
      "# >>> f()\n",
      "\n",
      "def hello(name):\n",
      "    '''Creates a function that says hello to a specific person.'''\n",
      "    def inner():\n",
      "        '''Says hello to a specific person.'''\n",
      "        nonlocal name\n",
      "        name = 'Hello, {}'.format(name)\n",
      "        return name\n",
      "    return inner\n",
      "\n",
      "\n",
      "print(hello('Fred')())"
     ],
     "language": "python",
     "metadata": {},
     "outputs": [
      {
       "output_type": "stream",
       "stream": "stdout",
       "text": [
        "a variable\n",
        "Hello, Fred\n"
       ]
      }
     ],
     "prompt_number": 4
    },
    {
     "cell_type": "markdown",
     "metadata": {},
     "source": [
      "This scoping is important because decorators take functions as their arguments. When the decorated function is called with arguments, those arguments become part of the decorator's scope.\n",
      "\n",
      "Preserving function metadata\n",
      "----------------------------\n",
      "\n",
      "One last thing. When you decorate a function, and the decorator passes it to a closure and the closure calls the decorated function rather than pass it through, you lose all the metadata about the original function."
     ]
    },
    {
     "cell_type": "code",
     "collapsed": false,
     "input": [
      "def __naive_deco(f):\n",
      "    def wrapper(*args, **kw):\n",
      "        print(\"Doing stuff before allowing {} to run.\".format(f.__name__))\n",
      "        return f(*args, **kw)\n",
      "    return wrapper\n",
      "\n",
      "@__naive_deco\n",
      "def thing(*args, **kw):\n",
      "    '''Do stuff then return a flux capacitor'''\n",
      "    return \"Capacitor(type='flux')\"\n",
      "\n",
      "print(thing.__name__, thing.__doc__, thing.__dict__)\n",
      "print(thing())\n",
      "print(thing(*range(1,4), **{'mcfly':'marty', 'brown':'emmett'}))"
     ],
     "language": "python",
     "metadata": {},
     "outputs": [
      {
       "output_type": "stream",
       "stream": "stdout",
       "text": [
        "wrapper None {}\n",
        "Doing stuff before allowing thing to run.\n",
        "Capacitor(type='flux')\n",
        "Doing stuff before allowing thing to run.\n",
        "Capacitor(type='flux')\n"
       ]
      }
     ],
     "prompt_number": 5
    },
    {
     "cell_type": "markdown",
     "metadata": {},
     "source": [
      "This can lead to all sorts of issues and problems. Helpful docstrings disappear (and with them any doc tests). `f.__name__ ` returns `wrapper` instead of the proper information. Even more, potentially, troublesome, the function's dictionary disappears, too.  Note that this only happens because we're directly intercepting the call to `thing` -- see how the notice about doing stuff runs each time; however, if we're simply passing f through wrapper, this doesn't happen.\n",
      "\n",
      "We could manage this ourselves by creating a decorator decorator."
     ]
    },
    {
     "cell_type": "code",
     "collapsed": false,
     "input": [
      "def decorator_decorator(deco):\n",
      "    def wrapper(f):\n",
      "        g = deco(f)\n",
      "        g.__name__ = f.__name__\n",
      "        g.__doc__ = f.__doc__\n",
      "        g.__dict__.update(f.__dict__)\n",
      "        return g\n",
      "    wrapper.__name__ = deco.__name__\n",
      "    wrapper.__doc__ = deco.__doc__\n",
      "    wrapper.__dict__.update(deco.__dict__)\n",
      "    return wrapper\n",
      "\n",
      "@decorator_decorator\n",
      "def loggit(f):\n",
      "    '''Logs a function to stdout'''\n",
      "    def logger(*args, **kw):\n",
      "        '''Actually does the logging.'''\n",
      "        print(\"Calling {}.\".format(f.__name__))\n",
      "        return f(*args, **kw)\n",
      "    return logger\n",
      "\n",
      "@loggit\n",
      "def double(x):\n",
      "    '''Doubles a number.'''\n",
      "    return 2*x\n",
      "\n",
      "\n",
      "assert(loggit.__name__ == 'loggit')\n",
      "assert(double.__name__ == 'double')\n",
      "assert(double.__doc__ == 'Doubles a number.')\n",
      "print(double(4))"
     ],
     "language": "python",
     "metadata": {},
     "outputs": [
      {
       "output_type": "stream",
       "stream": "stdout",
       "text": [
        "Calling double.\n",
        "8\n"
       ]
      }
     ],
     "prompt_number": 6
    },
    {
     "cell_type": "markdown",
     "metadata": {},
     "source": [
      "But that's a lot of work just to get decorators to play nice and not (unintentionally) garble data along the way. You might ask, \"Why doesn't Python manage this on it's own?\" The answers to that are: It's complicated. and It does.\n",
      "\n",
      "It's complicated because how does Python know what to pass along when you do something like `list(map(int, ['1','2']))`? It's ambiguous. Should you get the metadata for the original `list`, the `int` function, the `map` function or the outer `list` function? I'm not sure, either.\n",
      "\n",
      "It does handle this, however, when explictly instructed to with `functools.wraps`. `wraps` updates the wrapping function to include the correct metadata: function name, docstring, annotations, module origin. And, if needed, it also includes a shortcut to the original wrapped function as well through the `__wrapped__` attribute -- though, keep in that `f.__wrapped__ is f` will return False."
     ]
    },
    {
     "cell_type": "code",
     "collapsed": false,
     "input": [
      "from functools import wraps\n",
      "\n",
      "def loggit(f):\n",
      "    '''Logs a function to stdout'''\n",
      "    @wraps(f)\n",
      "    def logger(*args, **kw):\n",
      "        print('Calling {}'.format(f.__name__))\n",
      "        return f(*args, **kw)\n",
      "    return logger\n",
      "\n",
      "@loggit\n",
      "def double(x):\n",
      "    '''Doubles a number.'''\n",
      "    return 2*x\n",
      "\n",
      "assert(double.__name__ == 'double')\n",
      "assert(double.__doc__ == 'Doubles a number.')\n",
      "print('double == {!r}'.format(double))\n",
      "print(\"double.__wrapped__ == {!r}\".format(double.__wrapped__))\n",
      "print(double(4))"
     ],
     "language": "python",
     "metadata": {},
     "outputs": [
      {
       "output_type": "stream",
       "stream": "stdout",
       "text": [
        "double == <function double at 0x7f614cd3bea0>\n",
        "double.__wrapped__ == <function double at 0x7f614cd3be18>\n",
        "Calling double\n",
        "8\n"
       ]
      }
     ],
     "prompt_number": 7
    },
    {
     "cell_type": "markdown",
     "metadata": {},
     "source": [
      "`fuctools.wraps` is much a nicer way of doing the same thing that `decorator_decorator` does above. It's also a shortcut to `functools.update_wrapper` which is essentially the same function. \n",
      "\n",
      "Pratical uses of decorators\n",
      "---------------------------\n",
      "\n",
      "* Flask uses decorators for routing -- `@app.route('/', methods=['GET']`\n",
      "* nosetest uses them for declaring parameters for test functions -- `@parameters((1,2,3))`\n",
      "* They can set up locks with `threading.Lock`\n",
      "* Setting up uniformed logging, maybe with different logging levels for each function\n",
      "* Give extra context to functions.\n",
      "\n",
      "Let's build some."
     ]
    },
    {
     "cell_type": "code",
     "collapsed": false,
     "input": [
      "from datetime import datetime\n",
      "\n",
      "def annotate(**kw):\n",
      "    '''Attach useful metadata to the function such as who authored and when.'''\n",
      "    def wrapper(f): # no need to use wraps(f) as we're simply passing f through\n",
      "        for k,v in kw.items():\n",
      "            setattr(f, k, v)\n",
      "        return f\n",
      "    return wrapper\n",
      "\n",
      "@annotate(reviewed_by='You', review_date=datetime.today())\n",
      "@annotate(author='Alec Nikolas Reiter', date=datetime(2014, 8, 19))\n",
      "def random():\n",
      "    '''Chosen by fair dice roll. Guarenteed to be random.'''\n",
      "    return 4\n",
      "\n",
      "print(random.__dict__)"
     ],
     "language": "python",
     "metadata": {},
     "outputs": [
      {
       "output_type": "stream",
       "stream": "stdout",
       "text": [
        "{'reviewed_by': 'You', 'review_date': datetime.datetime(2014, 8, 20, 15, 40, 5, 17422), 'date': datetime.datetime(2014, 8, 19, 0, 0), 'author': 'Alec Nikolas Reiter'}\n"
       ]
      }
     ],
     "prompt_number": 8
    },
    {
     "cell_type": "markdown",
     "metadata": {},
     "source": [
      "This example demonstrates the ability to *stack* decorators. It's exactly the same as `random = annotate(...)(annotate(...))(random)`. In this case, the original `random` bubbles up to the surface because it simply passes through the `annotate` decorator. However, when stacking decorators that intercept the actual function call, e.g. a closure actually *calls* the function, stacking decorators gets pretty tricky. I'll show this later on."
     ]
    },
    {
     "cell_type": "code",
     "collapsed": false,
     "input": [
      "from threading import Lock\n",
      "\n",
      "# NOTE:\n",
      "# Threading, multiprocessing and ensuring thread safety are *not* my strong suit\n",
      "# 0/10 recommend the following function as anything more than illustrating a point\n",
      " \n",
      "\n",
      "def synchronize(lock):\n",
      "    '''Synchronize multiple functions on a single lock'''\n",
      "    def wrapper(f):\n",
      "        @wraps(f)\n",
      "        def locker(*args, **kw):\n",
      "            lock.acquire()\n",
      "            try:\n",
      "                f(*args, **kw)\n",
      "            finally:\n",
      "                lock.release()\n",
      "        return locker\n",
      "    return wrapper\n",
      "\n",
      "my_lock = Lock()\n",
      "\n",
      "@synchronize(my_lock)\n",
      "def example_a(*args, **kw):\n",
      "    # Do some interesting stuff here.\n",
      "    pass\n",
      "\n",
      "@synchronize(my_lock)\n",
      "def example_b(*args, **kw):\n",
      "    # Do other interesting stuff here.\n",
      "    pass"
     ],
     "language": "python",
     "metadata": {},
     "outputs": [],
     "prompt_number": 9
    },
    {
     "cell_type": "markdown",
     "metadata": {},
     "source": [
      "You can even use a class as a decorator."
     ]
    },
    {
     "cell_type": "code",
     "collapsed": false,
     "input": [
      "class wrapper(object):\n",
      "    '''Wraps a function inside the object.'''\n",
      "    def __init__(self, f):\n",
      "        self.f = f\n",
      "        self.__name__ = f.__name__\n",
      "        self.__doc__ = f.__doc__\n",
      "        self.__dict__.update(f.__dict__)\n",
      "    def __call__(self, *args, **kw):\n",
      "        return self.f(*args, **kw)\n",
      "    def __repr__(self):\n",
      "        return \"{!r}\".format(self.f)\n",
      "    \n",
      "@wrapper\n",
      "def random():\n",
      "    '''Determined by fair dice roll.'''\n",
      "    return 4\n",
      "\n",
      "print(\"wrapper's info: \", wrapper.__name__, wrapper.__doc__)\n",
      "print(\"wrapped random's info: \", random.__name__, random.__doc__, random())"
     ],
     "language": "python",
     "metadata": {},
     "outputs": [
      {
       "output_type": "stream",
       "stream": "stdout",
       "text": [
        "wrapper's info:  wrapper Wraps a function inside the object.\n",
        "wrapped random's info:  random Determined by fair dice roll. 4\n"
       ]
      }
     ],
     "prompt_number": 10
    },
    {
     "cell_type": "code",
     "collapsed": false,
     "input": [
      "from itertools import islice\n",
      "\n",
      "class memoize(wrapper):\n",
      "    '''Decorates a function as to cache it's input and output.'''\n",
      "    def __init__(self, f):\n",
      "        self.lookup = {}\n",
      "        super().__init__(f)\n",
      "    \n",
      "    def __call__(self, *args, **kw):\n",
      "        key = \"{!r}{!r}\".format(args, kw)\n",
      "        if key not in self.lookup:\n",
      "            print(\"Caching args ({!s}) and result now.\".format(key))\n",
      "            self.lookup[key] = self.f(*args, **kw)\n",
      "        return self.lookup[key]\n",
      "\n",
      "def _fib():\n",
      "    yield from range(2)\n",
      "    a,b = range(2)\n",
      "    while True:\n",
      "        yield a+b\n",
      "        a, b = b, a+b\n",
      "    \n",
      "@memoize\n",
      "def fib(n):\n",
      "    return next(islice(_fib(), n, None))\n",
      "\n",
      "@memoize\n",
      "def mul(x, y=1):\n",
      "    return x*y\n",
      "\n",
      "print('4th Fibonacci number: ', fib(4))\n",
      "print('5th Fibonacci number: ', fib(5))\n",
      "print('5th Fibonacci number: ', fib(5))\n",
      "print('Fibonacci cache lookup: ',  fib.lookup)\n",
      "print('-'*20)\n",
      "print('mul(x=3): ', mul(x=3))\n",
      "print('mul(3):', mul(3))\n",
      "print('mul cache lookup: ', mul.lookup)"
     ],
     "language": "python",
     "metadata": {},
     "outputs": [
      {
       "output_type": "stream",
       "stream": "stdout",
       "text": [
        "Caching args ((4,){}) and result now.\n",
        "4th Fibonacci number:  3\n",
        "Caching args ((5,){}) and result now.\n",
        "5th Fibonacci number:  5\n",
        "5th Fibonacci number:  5\n",
        "Fibonacci cache lookup:  {'(5,){}': 5, '(4,){}': 3}\n",
        "--------------------\n",
        "Caching args ((){'x': 3}) and result now.\n",
        "mul(x=3):  3\n",
        "Caching args ((3,){}) and result now.\n",
        "mul(3): 3\n",
        "mul cache lookup:  {'(3,){}': 3, \"(){'x': 3}\": 3}\n"
       ]
      }
     ],
     "prompt_number": 11
    },
    {
     "cell_type": "code",
     "collapsed": false,
     "input": [
      "from time import sleep\n",
      "\n",
      "def retry(times=3, delay=1, backoff=2, exc=Exception, false=False):\n",
      "    def wrapper(f):\n",
      "        @wraps(f)\n",
      "        def trier(*args, **kw):\n",
      "            _delay = delay\n",
      "            for attempt in range(times):\n",
      "                result = f(*args, **kw)\n",
      "                if result or (false and not result):\n",
      "                    return result\n",
      "                sleep(_delay)\n",
      "                _delay = _delay * backoff\n",
      "            else:\n",
      "                raise exc(\"Attempted {!r} {!r} times, failed to return result\".format(f, times))\n",
      "        return trier\n",
      "    return wrapper\n",
      "\n",
      "@retry(false=True)\n",
      "def _none():\n",
      "    return None\n",
      "\n",
      "print(\"Successfully returned {!r}\".format(_none()))\n",
      "\n",
      "@retry(times=1, delay=1, exc=StopIteration)\n",
      "def _none():\n",
      "    return None\n",
      "\n",
      "try:\n",
      "    _none()\n",
      "except (StopIteration,) as e:\n",
      "    print(e)\n",
      "    "
     ],
     "language": "python",
     "metadata": {},
     "outputs": [
      {
       "output_type": "stream",
       "stream": "stdout",
       "text": [
        "Successfully returned None\n",
        "Attempted <function _none at 0x7f614cd55378> 1 times, failed to return result"
       ]
      },
      {
       "output_type": "stream",
       "stream": "stdout",
       "text": [
        "\n"
       ]
      }
     ],
     "prompt_number": 12
    },
    {
     "cell_type": "code",
     "collapsed": false,
     "input": [
      "def register_hooks(*hooks):\n",
      "    '''Register wrapped onto hooks at definition time.\n",
      "    '''\n",
      "    def register(f):\n",
      "        '''Register wrapped onto hooks via hook.register\n",
      "        \n",
      "        Sets an attribute on the wrapped indicated that it's hooked\n",
      "        and another attribute linking the attached hooks.\n",
      "        '''\n",
      "        for h in hooks:\n",
      "            h.register(f)\n",
      "        setattr(f, '__registered__', True)\n",
      "        setattr(f, '__watchers__', hooks)\n",
      "    \n",
      "    def wrapper(f):\n",
      "        '''Check if wrapped is registered already.'''\n",
      "        if not hasattr(f, '__registered__'):\n",
      "            register(f)\n",
      "        \n",
      "        @wraps(f)\n",
      "        def run(*args, **kw):\n",
      "            '''Actually run the function and report back.\n",
      "            \n",
      "            Realistically, you'd do this in an async way.\n",
      "            '''\n",
      "            res = f(*args, **kw)\n",
      "            for h in f.__watchers__:\n",
      "                h.run(f, res)\n",
      "            return res\n",
      "        \n",
      "        return run\n",
      "    return wrapper\n",
      "    \n",
      "    \n",
      "class hook(object):\n",
      "    '''Dummy hook object.\n",
      "    \n",
      "    There's plenty of interesting stuff you could do here.\n",
      "    '''\n",
      "    def __init__(self, name):\n",
      "        self.name = name\n",
      "    \n",
      "    def register(self, f):\n",
      "        print(\"Registered {!r} on {!r}\".format(f, self))\n",
      "    \n",
      "    def run(self, f, res):\n",
      "        print(\"{!r} reporting that {!r} returned {!r}\".format(self, f, res))\n",
      "        \n",
      "    def __repr__(self):\n",
      "        return '<Hook: {!r}>'.format(self.name)\n",
      "    \n",
      "    __str__ = __repr__\n",
      "\n",
      "@register_hooks(hook(name='foo_watcher'), hook(name='foo_reactor'))\n",
      "def foo(*args, **kw):\n",
      "    return 3.14\n",
      "\n",
      "print('\\n{!r}'.format(foo))\n",
      "print('\\nWatchers of foo: ')\n",
      "print(*foo.__watchers__, sep='\\n')\n",
      "print('\\nRunning foo()', foo())\n",
      "print('\\n{!r}'.format(foo))"
     ],
     "language": "python",
     "metadata": {},
     "outputs": [
      {
       "output_type": "stream",
       "stream": "stdout",
       "text": [
        "Registered <function foo at 0x7f614cd55950> on <Hook: 'foo_watcher'>\n",
        "Registered <function foo at 0x7f614cd55950> on <Hook: 'foo_reactor'>\n",
        "\n",
        "<function foo at 0x7f614cd550d0>\n",
        "\n",
        "Watchers of foo: \n",
        "<Hook: 'foo_watcher'>\n",
        "<Hook: 'foo_reactor'>\n",
        "<Hook: 'foo_watcher'> reporting that <function foo at 0x7f614cd55950> returned 3.14\n",
        "<Hook: 'foo_reactor'> reporting that <function foo at 0x7f614cd55950> returned 3.14\n",
        "\n",
        "Running foo() 3.14\n",
        "\n",
        "<function foo at 0x7f614cd550d0>\n"
       ]
      }
     ],
     "prompt_number": 13
    },
    {
     "cell_type": "markdown",
     "metadata": {},
     "source": [
      "When you're stacking decorators, you must be careful to remember how they're evaluated: bottom up. Which reflects the inside-out evaluation of what they perform. Follow along here..."
     ]
    },
    {
     "cell_type": "code",
     "collapsed": false,
     "input": [
      "@register_hooks(hook(name='fib_watcher')) # applied last, registers hook classes and intercepts function calls to report back\n",
      "@memoize # applied second, applies a basic cache and intercepts function calls\n",
      "@annotate(author='Alec Nikolas Reiter', date=datetime(2014, 8, 19)) # applied first, adds basic metadata attributes\n",
      "def fib(n):\n",
      "    return next(islice(_fib(), n, None))\n",
      "\n",
      "print(\"Tenth Fibonacci Number: \", fib(10))\n",
      "print(\"Tenth Fibonacci Number: \", fib(10))\n",
      "print(fib.lookup)\n",
      "print(\"{!r} created by {!r} on {!r}\".format(fib, fib.author, fib.date))"
     ],
     "language": "python",
     "metadata": {},
     "outputs": [
      {
       "output_type": "stream",
       "stream": "stdout",
       "text": [
        "Registered <function fib at 0x7f614e206158> on <Hook: 'fib_watcher'>\n",
        "Caching args ((10,){}) and result now.\n",
        "<Hook: 'fib_watcher'> reporting that <function fib at 0x7f614e206158> returned 55\n",
        "Tenth Fibonacci Number:  55\n",
        "<Hook: 'fib_watcher'> reporting that <function fib at 0x7f614e206158> returned 55\n",
        "Tenth Fibonacci Number:  55\n",
        "{'(10,){}': 55}\n",
        "<function register_hooks.<locals>.wrapper.<locals>.run at 0x7f614e2061e0> created by 'Alec Nikolas Reiter' on datetime.datetime(2014, 8, 19, 0, 0)\n"
       ]
      }
     ],
     "prompt_number": 14
    },
    {
     "cell_type": "markdown",
     "metadata": {},
     "source": [
      "That last lines demonstrates exactly what makes working with decorators difficult. Sure, the extra metadata made it through but the ultimate representation is coming from the `register_hooks` decorator despite the fact we were careful to use `wraps` all the way up when necessary.\n",
      "\n",
      "Decoratoring Methods and Classes\n",
      "--------------------------------\n",
      "\n",
      "Since class methods are essentially functions, they can be decorated as well. Though, it's a little trickier if you intend to intercept calls to the method. "
     ]
    },
    {
     "cell_type": "code",
     "collapsed": false,
     "input": [
      "class Thing(object):\n",
      "    @annotate(author='Alec Nikolas Reiter', date=datetime(2014, 8, 19))\n",
      "    def __init__(self, name):\n",
      "        self.name = name\n",
      "    \n",
      "    @memoize # boom!\n",
      "    def roar(self, phrase):\n",
      "        return \"{}!!!\".format(phrase.upper())\n",
      "\n",
      "ben_grimm = Thing('Ben Grimm')\n",
      "    \n",
      "print(Thing.__init__.author)\n",
      "print(ben_grimm.roar(phrase=\"IT'S CLOBBERING TIME!\"))"
     ],
     "language": "python",
     "metadata": {},
     "outputs": [
      {
       "ename": "TypeError",
       "evalue": "roar() missing 1 required positional argument: 'self'",
       "output_type": "pyerr",
       "traceback": [
        "\u001b[0;31m---------------------------------------------------------------------------\u001b[0m\n\u001b[0;31mTypeError\u001b[0m                                 Traceback (most recent call last)",
        "\u001b[0;32m<ipython-input-18-78bb286f6f65>\u001b[0m in \u001b[0;36m<module>\u001b[0;34m()\u001b[0m\n\u001b[1;32m     11\u001b[0m \u001b[0;34m\u001b[0m\u001b[0m\n\u001b[1;32m     12\u001b[0m \u001b[0mprint\u001b[0m\u001b[0;34m(\u001b[0m\u001b[0mThing\u001b[0m\u001b[0;34m.\u001b[0m\u001b[0m__init__\u001b[0m\u001b[0;34m.\u001b[0m\u001b[0mauthor\u001b[0m\u001b[0;34m)\u001b[0m\u001b[0;34m\u001b[0m\u001b[0m\n\u001b[0;32m---> 13\u001b[0;31m \u001b[0mprint\u001b[0m\u001b[0;34m(\u001b[0m\u001b[0mben_grimm\u001b[0m\u001b[0;34m.\u001b[0m\u001b[0mroar\u001b[0m\u001b[0;34m(\u001b[0m\u001b[0mphrase\u001b[0m\u001b[0;34m=\u001b[0m\u001b[0;34m\"IT'S CLOBBERING TIME!\"\u001b[0m\u001b[0;34m)\u001b[0m\u001b[0;34m)\u001b[0m\u001b[0;34m\u001b[0m\u001b[0m\n\u001b[0m",
        "\u001b[0;32m<ipython-input-11-f89826591d03>\u001b[0m in \u001b[0;36m__call__\u001b[0;34m(self, *args, **kw)\u001b[0m\n\u001b[1;32m     11\u001b[0m         \u001b[0;32mif\u001b[0m \u001b[0mkey\u001b[0m \u001b[0;32mnot\u001b[0m \u001b[0;32min\u001b[0m \u001b[0mself\u001b[0m\u001b[0;34m.\u001b[0m\u001b[0mlookup\u001b[0m\u001b[0;34m:\u001b[0m\u001b[0;34m\u001b[0m\u001b[0m\n\u001b[1;32m     12\u001b[0m             \u001b[0mprint\u001b[0m\u001b[0;34m(\u001b[0m\u001b[0;34m\"Caching args ({!s}) and result now.\"\u001b[0m\u001b[0;34m.\u001b[0m\u001b[0mformat\u001b[0m\u001b[0;34m(\u001b[0m\u001b[0mkey\u001b[0m\u001b[0;34m)\u001b[0m\u001b[0;34m)\u001b[0m\u001b[0;34m\u001b[0m\u001b[0m\n\u001b[0;32m---> 13\u001b[0;31m             \u001b[0mself\u001b[0m\u001b[0;34m.\u001b[0m\u001b[0mlookup\u001b[0m\u001b[0;34m[\u001b[0m\u001b[0mkey\u001b[0m\u001b[0;34m]\u001b[0m \u001b[0;34m=\u001b[0m \u001b[0mself\u001b[0m\u001b[0;34m.\u001b[0m\u001b[0mf\u001b[0m\u001b[0;34m(\u001b[0m\u001b[0;34m*\u001b[0m\u001b[0margs\u001b[0m\u001b[0;34m,\u001b[0m \u001b[0;34m**\u001b[0m\u001b[0mkw\u001b[0m\u001b[0;34m)\u001b[0m\u001b[0;34m\u001b[0m\u001b[0m\n\u001b[0m\u001b[1;32m     14\u001b[0m         \u001b[0;32mreturn\u001b[0m \u001b[0mself\u001b[0m\u001b[0;34m.\u001b[0m\u001b[0mlookup\u001b[0m\u001b[0;34m[\u001b[0m\u001b[0mkey\u001b[0m\u001b[0;34m]\u001b[0m\u001b[0;34m\u001b[0m\u001b[0m\n\u001b[1;32m     15\u001b[0m \u001b[0;34m\u001b[0m\u001b[0m\n",
        "\u001b[0;31mTypeError\u001b[0m: roar() missing 1 required positional argument: 'self'"
       ]
      },
      {
       "output_type": "stream",
       "stream": "stdout",
       "text": [
        "Alec Nikolas Reiter\n",
        "Caching args ((){'phrase': \"IT'S CLOBBERING TIME!\"}) and result now.\n"
       ]
      }
     ],
     "prompt_number": 18
    },
    {
     "cell_type": "markdown",
     "metadata": {},
     "source": [
      "You can even wrap objects. For example, this'll create an extremely basic identity map that'll always return the same object when the same arguments are passed in."
     ]
    },
    {
     "cell_type": "code",
     "collapsed": false,
     "input": [
      "from functools import partial\n",
      "\n",
      "class objectmemo(memoize):\n",
      "    def __get__(self, obj, objtype):\n",
      "        '''Support for instance methods.'''\n",
      "        return partial(self.__call__, obj)\n",
      "\n",
      "@objectmemo\n",
      "class Thing(object):\n",
      "    def __init__(self, name):\n",
      "        self.name = name\n",
      "    def __call__(self, *args, **kw):\n",
      "        print(self.name)\n",
      "    def roar(self):\n",
      "        print(\"It's *CLOBBERING* Time!\")\n",
      "\n",
      "ben_grim = Thing(name=\"Ben Grim\")\n",
      "same_thing = Thing(name=\"Ben Grim\")\n",
      "different_but_the_same = Thing(\"Ben Grim\")\n",
      "\n",
      "assert(ben_grim is same_thing)\n",
      "assert(ben_grim is not different_but_the_same)\n",
      "ben_grim()\n",
      "different_but_the_same()\n",
      "ben_grim.roar()"
     ],
     "language": "python",
     "metadata": {},
     "outputs": [
      {
       "output_type": "stream",
       "stream": "stdout",
       "text": [
        "Caching args ((){'name': 'Ben Grim'}) and result now.\n",
        "Caching args (('Ben Grim',){}) and result now.\n",
        "Ben Grim\n",
        "Ben Grim\n",
        "It's *CLOBBERING* Time!\n"
       ]
      }
     ],
     "prompt_number": 16
    },
    {
     "cell_type": "markdown",
     "metadata": {},
     "source": [
      "Of course, you'd likely want to check if `Thing(\"Ben Grims\")` and `Thing(name=\"Ben Grims\")` return the same object and generally (the same issue with the `memoize` class for functions, too) and overall much more finer grained control over the cache. Perhaps even creating a generalized `memoize` class that is instanstiated and then tracks a cache for each individual object passed into it. This would allow you to clear individual areas of the cache."
     ]
    },
    {
     "cell_type": "code",
     "collapsed": false,
     "input": [
      "from collections import defaultdict\n",
      "\n",
      "class Memoize(object):\n",
      "    def __init__(self):\n",
      "        self.cache = defaultdict(dict)\n",
      "    \n",
      "    def __call__(self, obj):\n",
      "        @wraps(obj)\n",
      "        def cacher(*args, **kw):\n",
      "            nonlocal self\n",
      "            key = \"{!r}{!r}\".format(args, kw)\n",
      "            if key not in self.cache[obj.__name__]:\n",
      "                self.cache[obj.__name__][key] = obj(*args, **kw)\n",
      "            return self.cache[obj.__name__][key]\n",
      "        return cacher\n",
      "\n",
      "memo = Memoize()\n",
      "    \n",
      "@memo\n",
      "class Point(object):\n",
      "    '''Represents a point in Euclidean space.'''\n",
      "    def __init__(self, x, y):\n",
      "        self.x  = x\n",
      "        self.y = y\n",
      "    \n",
      "    def __add__(self, other):\n",
      "        return Point(self.x+other.x, self.y+other.y)\n",
      "\n",
      "@memo\n",
      "def is_even(n):\n",
      "    '''Checks if a number is even'''\n",
      "    return not n%2\n",
      "\n",
      "_34 = Point(3,4)\n",
      "_68 = Point(3,4) + Point(3,4)\n",
      "\n",
      "print(Point.__name__, ': ', Point.__doc__)\n",
      "print(is_even.__name__, ': ', is_even.__doc__)\n",
      "\n",
      "assert(_34 is Point(3,4))\n",
      "print(is_even(5))\n",
      "print(is_even(34))\n",
      "print(memo.cache)\n",
      "del memo.cache['Point']\n",
      "assert(_34 is not Point(3,4))\n",
      "print(memo.cache)"
     ],
     "language": "python",
     "metadata": {},
     "outputs": [
      {
       "output_type": "stream",
       "stream": "stdout",
       "text": [
        "Point :  Represents a point in Euclidean space.\n",
        "is_even :  Checks if a number is even\n",
        "False\n",
        "True\n",
        "defaultdict(<class 'dict'>, {'is_even': {'(34,){}': True, '(5,){}': False}, 'Point': {'(3, 4){}': <__main__.Point object at 0x7f614cd37978>, '(6, 8){}': <__main__.Point object at 0x7f614cd379b0>}})\n",
        "defaultdict(<class 'dict'>, {'is_even': {'(34,){}': True, '(5,){}': False}, 'Point': {'(3, 4){}': <__main__.Point object at 0x7f614cd37a58>}})\n"
       ]
      }
     ],
     "prompt_number": 17
    },
    {
     "cell_type": "markdown",
     "metadata": {},
     "source": [
      "Fin\n",
      "---\n",
      "\n",
      "That's all I have for now. Hopefully, this has been informational and illustrated more than just *what* decorators as but also what they can be used for.\n",
      "\n",
      "If you're wanting more information about decorators, there is:\n",
      "\n",
      "* [PEP 318](http://legacy.python.org/dev/peps/pep-0318/) which covers the exact syntax\n",
      "* The [Python Decorator Library](https://wiki.python.org/moin/PythonDecoratorLibrary) a collection of example decorators at Python.org \n",
      "* This [series of blog posts](http://blog.dscpl.com.au/search/label/decorators) by Graham Dumpleton -- author of wrapt\n",
      "* The [wrapt](http://wrapt.readthedocs.org/en/latest/) and [decorator](http://micheles.googlecode.com/hg/decorator/documentation3.html) packages, which are both tools to ease the development and use of decorators (as well as a few other things).\n",
      "* As well as [a whole host of results](https://www.google.com/search?btnG=1&pws=0&q=python+decorators&gws_rd=ssl) on Google for \"python decorator\" -- because every Python developer and their mother has blogged about this very thing."
     ]
    }
   ],
   "metadata": {}
  }
 ]
}