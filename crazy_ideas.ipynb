{
 "cells": [
  {
   "cell_type": "markdown",
   "metadata": {},
   "source": [
    "Occasionally, absolutely crazy ideas crop up into my noggin. Recently, I've had two take up residence almost simultaneously, both related to [pynads](https://github.com/justanr/pynads)."
   ]
  },
  {
   "cell_type": "markdown",
   "metadata": {},
   "source": [
    "##Haskell Type Signatures\n",
    "\n",
    "Since Pynads is, nominally, a learning exercise for me to understand some concepts in functional programming -- specifically in terms of Haskell -- a little more deeply. I found myself wanting to using Haskell type signatures with some of my functions. The reason why is because I *like* Haskell's type signatures. They stay out of the way of my actual function signatures.\n",
    "\n",
    "Here's the current way Python 3 annotates functions:"
   ]
  },
  {
   "cell_type": "code",
   "execution_count": 1,
   "metadata": {
    "collapsed": false
   },
   "outputs": [
    {
     "data": {
      "text/plain": [
       "(1, 'wut')"
      ]
     },
     "execution_count": 1,
     "metadata": {},
     "output_type": "execute_result"
    }
   ],
   "source": [
    "def my_func(a: int, b: str = 'hello') -> tuple:\n",
    "    return (a, b)\n",
    "\n",
    "my_func(1, 'wut')"
   ]
  },
  {
   "cell_type": "markdown",
   "metadata": {},
   "source": [
    "That's *so much line noise*. Like what. Look at that default assignment. Like, I get why the annotations are inlined with the signature. But they're just ugly. Meanwhile, here's a similar Haskell function with the type signature:\n",
    "\n",
    "    myFunc :: Int -> String -> (Int, String)\n",
    "    myFunc a b = (a, b)\n",
    "    \n",
    "That type signature is both helpful AND out of the way. However, there's one really nice thing that Python does with these annotations:"
   ]
  },
  {
   "cell_type": "code",
   "execution_count": 2,
   "metadata": {
    "collapsed": false
   },
   "outputs": [
    {
     "data": {
      "text/plain": [
       "{'a': int, 'b': str, 'return': tuple}"
      ]
     },
     "execution_count": 2,
     "metadata": {},
     "output_type": "execute_result"
    }
   ],
   "source": [
    "my_func.__annotations__"
   ]
  },
  {
   "cell_type": "markdown",
   "metadata": {},
   "source": [
    "Nice. We retain that information in a dictionary out of the way. What if we could combine these two things?"
   ]
  },
  {
   "cell_type": "code",
   "execution_count": 3,
   "metadata": {
    "collapsed": false
   },
   "outputs": [],
   "source": [
    "from pynads.utils.decorators import annotate\n",
    "\n",
    "@annotate(type=\"Int -> String -> (Int, String)\")\n",
    "def my_func(a, b='hello'):\n",
    "    return (a, b)"
   ]
  },
  {
   "cell_type": "markdown",
   "metadata": {},
   "source": [
    "I like this. It stays out of the way, it uses a decorator (never enough decorators). Let's checkout the `__annotations__` dict:"
   ]
  },
  {
   "cell_type": "code",
   "execution_count": 4,
   "metadata": {
    "collapsed": false
   },
   "outputs": [
    {
     "data": {
      "text/plain": [
       "{}"
      ]
     },
     "execution_count": 4,
     "metadata": {},
     "output_type": "execute_result"
    }
   ],
   "source": [
    "my_func.__annotations__"
   ]
  },
  {
   "cell_type": "markdown",
   "metadata": {},
   "source": [
    "Uh....Well, it didn't fill anything in. What did it do? Well, it attaches the signature to the docstring..."
   ]
  },
  {
   "cell_type": "code",
   "execution_count": 5,
   "metadata": {
    "collapsed": false
   },
   "outputs": [
    {
     "name": "stdout",
     "output_type": "stream",
     "text": [
      "my_func :: Int -> String -> (Int, String)\n"
     ]
    }
   ],
   "source": [
    "print(my_func.__doc__)"
   ]
  },
  {
   "cell_type": "markdown",
   "metadata": {},
   "source": [
    "That's...nice. I'm actually perfectly content with this solution currently. But wouldn't it be cool? (this is a phrase that only preceeds michief and trouble). Wouldn't it be cool if that Haskell type was somehow transformed into a Python annotations dictionary and on the other end we'd be able to inspect the annotation and get this:"
   ]
  },
  {
   "cell_type": "code",
   "execution_count": 6,
   "metadata": {
    "collapsed": false
   },
   "outputs": [
    {
     "data": {
      "text/plain": [
       "{'a': 'Int', 'b': 'String', 'returns': '(Int, String)'}"
      ]
     },
     "execution_count": 6,
     "metadata": {},
     "output_type": "execute_result"
    }
   ],
   "source": [
    "{'a': 'Int',\n",
    " 'b': 'String',\n",
    " 'returns': '(Int, String)'\n",
    " }"
   ]
  },
  {
   "cell_type": "markdown",
   "metadata": {},
   "source": [
    "However, this is complicated because what if we had a higher order function? The Haskell type signature looks like this:\n",
    "\n",
    "    map :: (a -> b) -> [a] -> [b]\n",
    "\n",
    "\"Take a function of type a to type b, a list of as and return a list of bs.\" Simple. How is this parsed? What if we put type class restrictions on the type:\n",
    "\n",
    "    (Monad m) => m a -> (a -> b) -> m b\n",
    "\n",
    "Where m is an instance of Monad, take a `m a` and a function of type a to b and return a `m b`.\n",
    "\n",
    "What if we have multiple typeclass restrictions:\n",
    "\n",
    "    (Monad m, Monoid s) => m s -> m s -> (s -> s -> m s) -> m s\n",
    "\n",
    "Maybe we're lifting `mappend` into a monad? Let's also pretend that this isn't a bad way of doing it as well. How do we parse this? \n",
    "\n",
    "What about \"existentially types\", aka. `forall a b.` (which is something I've not used, nor understand, but apparently it's useful because reasons).\n",
    "\n",
    "Of course, there are cons with this:\n",
    "\n",
    "* Haskell type signatures are too complex to be matched with regular expressions. How do you write a regex for `forall a b. ((a, b) -> (Char, Bool))`?\n",
    "* Parsers can be slow. They *can* be fast. But since this is a library built on understand functional things like applicatives and monads, of course I'd use an applicative/monadic combinatorial parser, which in Python *will* be slow.\n",
    "* So many competing Python typing libraries. `mypy` seems to have gotten the BDFL nod and in fact, seems to be on track for inclusion to Python 3.5. Is it worth taking a second step and translating the parsed type signature to a type system?\n",
    "* `__annotations__` are use for things that aren't type annotations. Is this good? Is this bad? I don't know. Well, I think they *should* be for type signatures, but there's some cool stuff that is done with them.\n",
    "* What about typeclass restrictions? Do we create a special entry? How do we handle collisions? Etc.\n",
    "\n",
    "Things to think about."
   ]
  },
  {
   "cell_type": "markdown",
   "metadata": {},
   "source": [
    "##My Broken Do Notation\n",
    "\n",
    "I implemented a [rudimentary do-notation esque syntax](https://github.com/justanr/pynads/tree/master/pynads/do) sourced from Peter Thatcher's post on [monads in Python](http://www.valuedlessons.com/2008/01/monads-in-python-with-nice-syntax.html). Here's the thing, it works...except with the `List` monad, because we need to repeatedly call the bound function and then flatten the list out. Except with this implementation, it hits `mreturn` and the whole thing blows up. Wah wah wah. But I like this style:"
   ]
  },
  {
   "cell_type": "code",
   "execution_count": 7,
   "metadata": {
    "collapsed": false
   },
   "outputs": [],
   "source": [
    "from pynads.do import do, mreturn\n",
    "from pynads import List\n",
    "\n",
    "@do(monad=List)\n",
    "def chessboard(ranks, files):\n",
    "    r = yield List(*ranks)\n",
    "    f = yield List(*files)\n",
    "    mreturn((r,f))\n",
    "\n",
    "#chessboard('abcdefgh', range(1,9))"
   ]
  },
  {
   "cell_type": "markdown",
   "metadata": {},
   "source": [
    "Oops. But this works:"
   ]
  },
  {
   "cell_type": "code",
   "execution_count": 8,
   "metadata": {
    "collapsed": false
   },
   "outputs": [
    {
     "data": {
      "text/plain": [
       "List(('a', 1), ('a', 2), ('a', 3), ('a', 4), ('a', 5), '...54 more...', ('h', 4), ('h', 5), ('h', 6), ('h', 7), ('h', 8))"
      ]
     },
     "execution_count": 8,
     "metadata": {},
     "output_type": "execute_result"
    }
   ],
   "source": [
    "def chessboard(ranks, files):\n",
    "    return List(*ranks) >> (lambda r:\n",
    "           List(*files) >> (lambda f:\n",
    "           List.unit((r,f))        ))\n",
    "\n",
    "chessboard('abcdefgh', range(1,9))"
   ]
  },
  {
   "cell_type": "markdown",
   "metadata": {},
   "source": [
    "But compare to Haskell:\n",
    "\n",
    "    ranks = ['a'..'h']\n",
    "    files = [1..8]\n",
    "\n",
    "    chessboard :: [(Char, Integer)]\n",
    "    chessboard = do\n",
    "                 r <- ranks\n",
    "                 f <- files\n",
    "                 return (r,f)\n",
    "\n",
    "It just works. Obviously, something in Pynads is implemented poorly. Wah wah wah. But what if `do` did something different? What if it took a look at that function and said, \"No no no, this is *all* wrong...let me...let me just rewrite it for you.\" And instead of actually using:\n",
    "\n",
    "    def chessboard(ranks, files):\n",
    "        r = yield List(*ranks)\n",
    "        f = yield List(*files)\n",
    "        mreturn((r,f))\n",
    "        \n",
    "We actually end up using:\n",
    "\n",
    "    def chesboard(ranks, files):\n",
    "        return List(*ranks) >> (lambda r:\n",
    "               List(*files) >> (lambda f:\n",
    "               List.unit((r,f))        ))\n",
    "               \n",
    "And just rewrite the function with AST and compile it and use the new function instead. I mean if Lisp can be implemented in Python by parsing Lisp into Python AST, surely it's (relatively, being the keyword) simple to take a function with a bunch of yields and rewrite it into a function with a bunch of lambdas.\n",
    "\n",
    "Besides, wouldn't it be cool? ;)"
   ]
  },
  {
   "cell_type": "markdown",
   "metadata": {},
   "source": [
    "##Thoughts\n",
    "\n",
    "Of course both of these are nuclear options. Well, the parser less so than rewriting AST. But, I know if I become a professional developer, at some point I'll need to have a passable understanding of parsers and ASTs (they're not even that unrelated) so instead of breaking something someone's using, why not break something I'll be the only one cursing?"
   ]
  }
 ],
 "metadata": {
  "kernelspec": {
   "display_name": "Python 3",
   "language": "python",
   "name": "python3"
  },
  "language_info": {
   "codemirror_mode": {
    "name": "ipython",
    "version": 3
   },
   "file_extension": ".py",
   "mimetype": "text/x-python",
   "name": "python",
   "nbconvert_exporter": "python",
   "pygments_lexer": "ipython3",
   "version": "3.4.0"
  }
 },
 "nbformat": 4,
 "nbformat_minor": 0
}
