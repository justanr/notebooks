{
 "cells": [
  {
   "cell_type": "markdown",
   "metadata": {},
   "source": [
    "Outline:\n",
    "\n",
    "* Async/Await\n",
    "* What is aiohttp\n",
    "* Basic App\n",
    "* Routing\n",
    "* JSON/Form/etc\n",
    "* Running It\n",
    "* Deploying It\n",
    "* Start Up/Clean Up\n",
    "* Websockets\n",
    "* Extensions/Other Packages\n",
    "* Questions"
   ]
  },
  {
   "cell_type": "markdown",
   "metadata": {
    "slideshow": {
     "slide_type": "slide"
    }
   },
   "source": [
    "# aiohttp: An Introduction\n",
    "\n",
    "Alec Nikolas Reiter\n",
    "PyATL Oct. 2017"
   ]
  },
  {
   "cell_type": "markdown",
   "metadata": {
    "slideshow": {
     "slide_type": "slide"
    }
   },
   "source": [
    "# async/await\n",
    "\n",
    "* Successor to `yield from`\n",
    "* Python 3.5\n",
    "* `coroutines`\n",
    "* event loop"
   ]
  },
  {
   "cell_type": "markdown",
   "metadata": {
    "slideshow": {
     "slide_type": "slide"
    }
   },
   "source": [
    "# aiohttp\n",
    "\n",
    "* HTTP Toolkit - client and server\n",
    "* async/await based\n",
    "* Minimal"
   ]
  },
  {
   "cell_type": "markdown",
   "metadata": {
    "slideshow": {
     "slide_type": "slide"
    }
   },
   "source": [
    "# aiohttp.web\n",
    "\n",
    "* server\n",
    "* high level application\n",
    "* \"low level\" server"
   ]
  },
  {
   "cell_type": "code",
   "execution_count": 2,
   "metadata": {
    "slideshow": {
     "slide_type": "slide"
    }
   },
   "outputs": [
    {
     "name": "stdout",
     "output_type": "stream",
     "text": [
      "======== Running on http://0.0.0.0:5000 ========\n",
      "(Press CTRL+C to quit)\n"
     ]
    }
   ],
   "source": [
    "import asyncio\n",
    "from aiohttp.web import Application, json_response, run_app\n",
    "\n",
    "\n",
    "async def hello(request):\n",
    "    return json_response({'message': 'hello'})\n",
    "\n",
    "app = Application()\n",
    "app.router.add_get('/', hello)\n",
    "run_app(app, port=5000, loop=asyncio.get_event_loop())"
   ]
  },
  {
   "cell_type": "markdown",
   "metadata": {
    "collapsed": true,
    "slideshow": {
     "slide_type": "slide"
    }
   },
   "source": [
    "## Routing\n",
    "\n",
    "* Django-ish and Flask-ish\n",
    "* Functions and Classes\n",
    "* Subapplications"
   ]
  },
  {
   "cell_type": "markdown",
   "metadata": {
    "slideshow": {
     "slide_type": "slide"
    }
   },
   "source": [
    "### URL Variables"
   ]
  },
  {
   "cell_type": "code",
   "execution_count": null,
   "metadata": {
    "collapsed": true
   },
   "outputs": [],
   "source": [
    "async def name(request):\n",
    "    name = request.match_info['name']\n",
    "    # ...\n",
    "    \n",
    "app.router.add_get('/{name:\\w+}', name)"
   ]
  },
  {
   "cell_type": "markdown",
   "metadata": {
    "slideshow": {
     "slide_type": "slide"
    }
   },
   "source": [
    "### Function Route Handler"
   ]
  },
  {
   "cell_type": "code",
   "execution_count": 9,
   "metadata": {
    "slideshow": {
     "slide_type": "-"
    }
   },
   "outputs": [
    {
     "name": "stdout",
     "output_type": "stream",
     "text": [
      "======== Running on http://0.0.0.0:5000 ========\n",
      "(Press CTRL+C to quit)\n"
     ]
    }
   ],
   "source": [
    "async def hello_name(request):\n",
    "    name = request.match_info['name']\n",
    "    return json_response({'message': f'hello {name}'})\n",
    "\n",
    "app = Application()\n",
    "app.router.add_get('/{name:\\w+}', hello_name)\n",
    "run_app(app, port=5000, loop=asyncio.get_event_loop())"
   ]
  },
  {
   "cell_type": "markdown",
   "metadata": {
    "slideshow": {
     "slide_type": "slide"
    }
   },
   "source": [
    "### Class Route Handler"
   ]
  },
  {
   "cell_type": "code",
   "execution_count": 16,
   "metadata": {
    "slideshow": {
     "slide_type": "-"
    }
   },
   "outputs": [
    {
     "data": {
      "text/plain": [
       "<ResourceRoute [*] <DynamicResource  /{name} -> <class '__main__.Hello'>"
      ]
     },
     "execution_count": 16,
     "metadata": {},
     "output_type": "execute_result"
    }
   ],
   "source": [
    "from aiohttp.web import View\n",
    "\n",
    "class Hello(View):\n",
    "    async def get(self):\n",
    "        name = self.request.match_info['name']\n",
    "        return json_response({'message': f'hello {name}'})\n",
    "    \n",
    "app = Application()\n",
    "app.router.add_route('*', '/{name:\\w+}', Hello)\n",
    "run_app(app, port=5000, loop=asyncio.get_event_loop())"
   ]
  },
  {
   "cell_type": "markdown",
   "metadata": {
    "slideshow": {
     "slide_type": "slide"
    }
   },
   "source": [
    "### Composing Apps Together"
   ]
  },
  {
   "cell_type": "code",
   "execution_count": 17,
   "metadata": {
    "scrolled": true,
    "slideshow": {
     "slide_type": "-"
    }
   },
   "outputs": [
    {
     "name": "stdout",
     "output_type": "stream",
     "text": [
      "======== Running on http://0.0.0.0:5000 ========\n",
      "(Press CTRL+C to quit)\n"
     ]
    }
   ],
   "source": [
    "parent_app = Application()\n",
    "parent_app.add_subapp('/name/', app)\n",
    "run_app(parent_app, port=5000, loop=asyncio.get_event_loop())"
   ]
  },
  {
   "cell_type": "markdown",
   "metadata": {
    "slideshow": {
     "slide_type": "slide"
    }
   },
   "source": [
    "## Request Data\n",
    "\n",
    "* `await request.json()`\n",
    "* `await request.post()`\n",
    "* `post` also contains file uploads\n",
    "* `await request.multipart()`"
   ]
  },
  {
   "cell_type": "markdown",
   "metadata": {
    "slideshow": {
     "slide_type": "slide"
    }
   },
   "source": [
    "## Running It\n",
    "\n",
    "* `aiohttp.web.run_app`\n",
    "* `python -m aiohttp.web -H localhost -P 8080 package.module:factory`"
   ]
  },
  {
   "cell_type": "markdown",
   "metadata": {
    "slideshow": {
     "slide_type": "slide"
    }
   },
   "source": [
    "### run_app\n",
    "\n",
    "* Development Server\n",
    "* Accepts Event Loop\n",
    "* Quick and Easy"
   ]
  },
  {
   "cell_type": "markdown",
   "metadata": {
    "slideshow": {
     "slide_type": "slide"
    }
   },
   "source": [
    "### CLI\n",
    "\n",
    "* Development Server\n",
    "* No `if __name__ == \"__main__\"`\n",
    "* Needs factory function\n",
    "* Unknown args go to factory"
   ]
  },
  {
   "cell_type": "code",
   "execution_count": 18,
   "metadata": {
    "collapsed": true,
    "slideshow": {
     "slide_type": "slide"
    }
   },
   "outputs": [],
   "source": [
    "def app_factory(argv):   \n",
    "    app = Application()\n",
    "    \n",
    "    if '--hello-name' in argv:\n",
    "        app.router.add_get('/{name:\\w+}', hello_name)\n",
    "        \n",
    "    return app"
   ]
  },
  {
   "cell_type": "markdown",
   "metadata": {
    "slideshow": {
     "slide_type": "slide"
    }
   },
   "source": [
    "## Deploying It\n",
    "\n",
    "* Gunicorn\n",
    "* aiohttp prepackages workers\n",
    "    * `asyncio.event_loop` based\n",
    "    * `uvloop` based\n",
    "* uWSGI has experimental asyncio support"
   ]
  },
  {
   "cell_type": "markdown",
   "metadata": {
    "slideshow": {
     "slide_type": "slide"
    }
   },
   "source": [
    "## Signals\n",
    "\n",
    "* Start up dependencies\n",
    "* Redis, Message Queue, WSDL, etc\n",
    "* Accept Coroutines\n",
    "* Runs *in order*"
   ]
  },
  {
   "cell_type": "markdown",
   "metadata": {
    "slideshow": {
     "slide_type": "slide"
    }
   },
   "source": [
    "## Signals Available\n",
    "\n",
    "* `on_startup`\n",
    "* `on_teardown`\n",
    "* `on_cleanup`"
   ]
  },
  {
   "cell_type": "markdown",
   "metadata": {
    "slideshow": {
     "slide_type": "slide"
    }
   },
   "source": [
    "## Signals: Buyer Beware\n",
    "\n",
    "* You're responsible\n",
    "* aiojobs helper lib"
   ]
  },
  {
   "cell_type": "markdown",
   "metadata": {
    "slideshow": {
     "slide_type": "slide"
    }
   },
   "source": [
    "## Websockets\n",
    "\n",
    "* Socket between client and server\n",
    "* Allow push from both\n",
    "* Mostly supported"
   ]
  },
  {
   "cell_type": "code",
   "execution_count": null,
   "metadata": {
    "collapsed": true,
    "slideshow": {
     "slide_type": "slide"
    }
   },
   "outputs": [],
   "source": [
    "from aiohttp.web import WebSocketResponse\n",
    "\n",
    "def ws_handler(request):\n",
    "    socket = WebSocketResponse(request)\n",
    "    await socket.prepare()\n",
    "    \n",
    "    async for message in socket:\n",
    "        # handle message\n",
    "        \n",
    "    return socket"
   ]
  },
  {
   "cell_type": "markdown",
   "metadata": {
    "slideshow": {
     "slide_type": "slide"
    }
   },
   "source": [
    "## Websockets\n",
    "\n",
    "* Only one reader allowed\n",
    "* Multiple pushers\n",
    "* Cleaned up when client disconnects\n",
    "* Need cleanup at shutdown"
   ]
  },
  {
   "cell_type": "markdown",
   "metadata": {
    "slideshow": {
     "slide_type": "slide"
    }
   },
   "source": [
    "## Other packages\n",
    "\n",
    "* aiopg/aiomysql\n",
    "* aioredis/aiomemcache\n",
    "* aiohttp specific:\n",
    "    * jinja2\n",
    "    * debugtoolbar\n",
    "    * cors\n",
    "    * security\n",
    "    * more"
   ]
  },
  {
   "cell_type": "markdown",
   "metadata": {
    "slideshow": {
     "slide_type": "slide"
    }
   },
   "source": [
    "# Questions?"
   ]
  }
 ],
 "metadata": {
  "celltoolbar": "Slideshow",
  "kernelspec": {
   "display_name": "Python 3",
   "language": "python",
   "name": "python3"
  },
  "language_info": {
   "codemirror_mode": {
    "name": "ipython",
    "version": 3
   },
   "file_extension": ".py",
   "mimetype": "text/x-python",
   "name": "python",
   "nbconvert_exporter": "python",
   "pygments_lexer": "ipython3",
   "version": "3.6.2+"
  }
 },
 "nbformat": 4,
 "nbformat_minor": 2
}
