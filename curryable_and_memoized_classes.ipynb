{
 "cells": [
  {
   "cell_type": "markdown",
   "metadata": {},
   "source": [
    "I've been playing with the [toolz](https://github.com/pytoolz/toolz) library recently and it's pretty great, especially their implementation of the curry and memoize decorators. However, applying these to classes creates a problem: inheritance. A quick example before we delve into solving this problem:"
   ]
  },
  {
   "cell_type": "code",
   "execution_count": 1,
   "metadata": {
    "collapsed": false
   },
   "outputs": [
    {
     "data": {
      "text/plain": [
       "Person(name='alec', age=26)"
      ]
     },
     "execution_count": 1,
     "metadata": {},
     "output_type": "execute_result"
    }
   ],
   "source": [
    "from toolz import curry, memoize\n",
    "\n",
    "@curry\n",
    "class Person(object):\n",
    "    def __init__(self, name, age):\n",
    "        self.name = name\n",
    "        self.age = age\n",
    "    def __repr__(self):\n",
    "        return \"Person(name={!r}, age={!r})\".format(self.name, self.age)\n",
    "        \n",
    "p = Person(name='alec')\n",
    "p(age=26)"
   ]
  },
  {
   "cell_type": "markdown",
   "metadata": {},
   "source": [
    "Currying a class we don't expect to inherit from is easy. However, if someone comes along and says, \"I'd like to create a subclass\" then there's an issue..."
   ]
  },
  {
   "cell_type": "code",
   "execution_count": 2,
   "metadata": {
    "collapsed": false
   },
   "outputs": [
    {
     "ename": "TypeError",
     "evalue": "Input must be callable",
     "output_type": "error",
     "traceback": [
      "\u001b[1;31m---------------------------------------------------------------------------\u001b[0m",
      "\u001b[1;31mTypeError\u001b[0m                                 Traceback (most recent call last)",
      "\u001b[1;32m<ipython-input-2-12f89c179297>\u001b[0m in \u001b[0;36m<module>\u001b[1;34m()\u001b[0m\n\u001b[1;32m----> 1\u001b[1;33m \u001b[1;32mclass\u001b[0m \u001b[0mPersonWithHobby\u001b[0m\u001b[1;33m(\u001b[0m\u001b[0mPerson\u001b[0m\u001b[1;33m)\u001b[0m\u001b[1;33m:\u001b[0m\u001b[1;33m\u001b[0m\u001b[0m\n\u001b[0m\u001b[0;32m      2\u001b[0m     \u001b[1;32mdef\u001b[0m \u001b[0m__init__\u001b[0m\u001b[1;33m(\u001b[0m\u001b[0mself\u001b[0m\u001b[1;33m,\u001b[0m \u001b[0mname\u001b[0m\u001b[1;33m,\u001b[0m \u001b[0mage\u001b[0m\u001b[1;33m,\u001b[0m \u001b[0mhobby\u001b[0m\u001b[1;33m)\u001b[0m\u001b[1;33m:\u001b[0m\u001b[1;33m\u001b[0m\u001b[0m\n\u001b[0;32m      3\u001b[0m         \u001b[0msuper\u001b[0m\u001b[1;33m(\u001b[0m\u001b[0mPersonWithHobby\u001b[0m\u001b[1;33m,\u001b[0m \u001b[0mself\u001b[0m\u001b[1;33m)\u001b[0m\u001b[1;33m.\u001b[0m\u001b[0m__init__\u001b[0m\u001b[1;33m(\u001b[0m\u001b[0mname\u001b[0m\u001b[1;33m,\u001b[0m \u001b[0mage\u001b[0m\u001b[1;33m)\u001b[0m\u001b[1;33m\u001b[0m\u001b[0m\n\u001b[0;32m      4\u001b[0m         \u001b[0mself\u001b[0m\u001b[1;33m.\u001b[0m\u001b[0mhobby\u001b[0m \u001b[1;33m=\u001b[0m \u001b[0mhobby\u001b[0m\u001b[1;33m\u001b[0m\u001b[0m\n",
      "\u001b[1;32m/home/justanr/contrib/toolz/toolz/functoolz.py\u001b[0m in \u001b[0;36m__init__\u001b[1;34m(self, func, *args, **kwargs)\u001b[0m\n\u001b[0;32m    155\u001b[0m     \u001b[1;32mdef\u001b[0m \u001b[0m__init__\u001b[0m\u001b[1;33m(\u001b[0m\u001b[0mself\u001b[0m\u001b[1;33m,\u001b[0m \u001b[0mfunc\u001b[0m\u001b[1;33m,\u001b[0m \u001b[1;33m*\u001b[0m\u001b[0margs\u001b[0m\u001b[1;33m,\u001b[0m \u001b[1;33m**\u001b[0m\u001b[0mkwargs\u001b[0m\u001b[1;33m)\u001b[0m\u001b[1;33m:\u001b[0m\u001b[1;33m\u001b[0m\u001b[0m\n\u001b[0;32m    156\u001b[0m         \u001b[1;32mif\u001b[0m \u001b[1;32mnot\u001b[0m \u001b[0mcallable\u001b[0m\u001b[1;33m(\u001b[0m\u001b[0mfunc\u001b[0m\u001b[1;33m)\u001b[0m\u001b[1;33m:\u001b[0m\u001b[1;33m\u001b[0m\u001b[0m\n\u001b[1;32m--> 157\u001b[1;33m             \u001b[1;32mraise\u001b[0m \u001b[0mTypeError\u001b[0m\u001b[1;33m(\u001b[0m\u001b[1;34m\"Input must be callable\"\u001b[0m\u001b[1;33m)\u001b[0m\u001b[1;33m\u001b[0m\u001b[0m\n\u001b[0m\u001b[0;32m    158\u001b[0m \u001b[1;33m\u001b[0m\u001b[0m\n\u001b[0;32m    159\u001b[0m         \u001b[1;31m# curry- or functools.partial-like object?  Unpack and merge arguments\u001b[0m\u001b[1;33m\u001b[0m\u001b[1;33m\u001b[0m\u001b[0m\n",
      "\u001b[1;31mTypeError\u001b[0m: Input must be callable"
     ]
    }
   ],
   "source": [
    "class PersonWithHobby(Person):\n",
    "    def __init__(self, name, age, hobby):\n",
    "        super(PersonWithHobby, self).__init__(name, age)\n",
    "        self.hobby = hobby"
   ]
  },
  {
   "cell_type": "markdown",
   "metadata": {},
   "source": [
    "Oh...that's a problem. Instead, we have to inherit from `Person.func` in the case of this decorator. Just like if we had partialled the class manually:"
   ]
  },
  {
   "cell_type": "code",
   "execution_count": 3,
   "metadata": {
    "collapsed": true
   },
   "outputs": [],
   "source": [
    "class PersonWithHobby(Person.func):\n",
    "    def __init__(self, name, age, hobby):\n",
    "        super(PersonWithHobby, self).__init__(name, age)\n",
    "        self.hobby = hobby"
   ]
  },
  {
   "cell_type": "markdown",
   "metadata": {},
   "source": [
    "But if you're anything like me that inheritance line is...bothersome. Because we're locking up the original class in the curry decorator, there's no clean way to get it out and just inherit from it other than accessing the decorator's attributes themselves. I tried for about six hours and ended up roping some folks at [/r/learnpython](http://www.reddit.com/r/learnpython) into that mess as well.\n",
    "\n",
    "Using the memoize decorator presents the same issue. Instead, what we'd probably like to do is not only inherit from the class, but retain its currying or memoizing characteristics."
   ]
  },
  {
   "cell_type": "markdown",
   "metadata": {},
   "source": [
    "##Metaclasses are to classes as decorators are to functions\n",
    "\n",
    "Ooooh, the scary \"M\" word. Tim Peters once said,\n",
    "\n",
    "    Metaclasses are deeper magic than 99% of users should ever worry about. If you wonder whether you need them, you don't (the people who actually need them know with certainty that they need them, and don't need an explanation about why).\n",
    "    \n",
    "That's a pretty big warning to attach to something. Metaclasses are deep magic, but it's relatively straight forward magic. If you're unsure about *what* a metaclass is, check out [Eli Bendersky's Python metaclasses by example](http://eli.thegreenplace.net/2011/08/14/python-metaclasses-by-example) for an overview. But the short of it is this:\n",
    "\n",
    "* *Everything* in Python is an Object (including: functions, classes and even modules)\n",
    "* Classes make objects. \n",
    "* If classes are objects, too, it serves to reason that there's a class that makes them\n",
    "* That class-making-class is called type.\n",
    "\n",
    "`type` is our magic that takes a class body and makes it an object. This is the default *metaclass* for all of our classes. However, we don't want vanilla Python classes. We'd like to have classes that are curryable or can be memoized.\n",
    "\n",
    "The problem with using a decorator is that it'll happily apply to the immediate object, but it generally won't apply to an entire inheritance chain. But a metaclass will.\n",
    "\n",
    "###An Aside: new vs a Metaclass\n",
    "\n",
    "Both of what I'm about to show *could* be achieved by overriding `__new__` on a regular class. However, that's no fun. Though, since metaclasses are more about creating classes than instances, I couldn't blame you if you created `CurryableMixin` and `MemoizedMixin` classes and called it a day. \n",
    "\n",
    "However, I find cooperative multiple inheritance that uses `__new__` to be difficult to manage, especially because `object.__new__` accepts *no* arguments other than the class it makes the object out of. So some sort of sink would be needed to strip off any extra `kwargs` passed along and then you have to consider if inheriting from an immutable object comes afterwards and if it'll need any of the kwargs and it'll quickly turn into a mess if you try to capture all the corner cases."
   ]
  },
  {
   "cell_type": "markdown",
   "metadata": {},
   "source": [
    "##Curryable Metaclass\n",
    "\n",
    "This is actually the simpler of the two metaclasses to write, surprisingly. Instead of doing any magic in `__new__` or `__init__` we simply override `__call__` instead. `__call__` in this case is analogous to `__new__` in a regular class, this handles instantiation of an actual object, rather than class creation."
   ]
  },
  {
   "cell_type": "code",
   "execution_count": 4,
   "metadata": {
    "collapsed": true
   },
   "outputs": [],
   "source": [
    "from functools import wraps\n",
    "\n",
    "class Curryable(type):\n",
    "    # one level up from classes\n",
    "    # cls here is the actual class we've created already\n",
    "    def __call__(cls, *args, **kwargs):\n",
    "        # we'd like to preserve metadata but not migrate\n",
    "        # the underlying dictionary\n",
    "        @wraps(cls, updated=[])\n",
    "        # distinguish from what was passed to __call__\n",
    "        # and what as passed to currier\n",
    "        def currier(*a, **k):\n",
    "            return super(Curryable, cls).__call__(*a, **k)\n",
    "        # there's sometimes odd behavior if this isn't done\n",
    "        return curry(currier)(*args, **kwargs)"
   ]
  },
  {
   "cell_type": "code",
   "execution_count": 5,
   "metadata": {
    "collapsed": true
   },
   "outputs": [],
   "source": [
    "class Person(metaclass=Curryable):\n",
    "    def __init__(self, name, age):\n",
    "        self.name = name\n",
    "        self.age = age\n",
    "    def __repr__(self):\n",
    "        return \"Person(name={!r}, age={!r})\".format(self.name, self.age)"
   ]
  },
  {
   "cell_type": "code",
   "execution_count": 6,
   "metadata": {
    "collapsed": true
   },
   "outputs": [],
   "source": [
    "p = Person(name='alec')"
   ]
  },
  {
   "cell_type": "code",
   "execution_count": 7,
   "metadata": {
    "collapsed": false
   },
   "outputs": [
    {
     "data": {
      "text/plain": [
       "Person(name='alec', age=26)"
      ]
     },
     "execution_count": 7,
     "metadata": {},
     "output_type": "execute_result"
    }
   ],
   "source": [
    "p(age=26)"
   ]
  },
  {
   "cell_type": "markdown",
   "metadata": {},
   "source": [
    "`curry` guards against type errors, allowing us to repeatedly apply arguments until we get something that doesn't throw a TypeError. This *also* allows us to build inheritance chains where we simply pass up `kwargs` to the next class:"
   ]
  },
  {
   "cell_type": "code",
   "execution_count": 8,
   "metadata": {
    "collapsed": true
   },
   "outputs": [],
   "source": [
    "class PersonWithHobby(Person):\n",
    "    # as an example only; it's still best practice to declare required parameters\n",
    "    def __init__(self, hobby, **kwargs):\n",
    "        super(PersonWithHobby, self).__init__(**kwargs)\n",
    "        self.hobby = hobby\n",
    "\n",
    "    def __repr__(self):\n",
    "        return \"Person(name={!r}, age={!r}, hobby={!r})\".format(self.name, self.age, self.hobby)\n",
    "        \n",
    "p = PersonWithHobby(hobby='coding')"
   ]
  },
  {
   "cell_type": "code",
   "execution_count": 9,
   "metadata": {
    "collapsed": false
   },
   "outputs": [
    {
     "data": {
      "text/plain": [
       "Person(name='alec', age=26, hobby='coding')"
      ]
     },
     "execution_count": 9,
     "metadata": {},
     "output_type": "execute_result"
    }
   ],
   "source": [
    "p(name='alec', age=26)"
   ]
  },
  {
   "cell_type": "markdown",
   "metadata": {},
   "source": [
    "##Memoizing Metaclass\n",
    "\n",
    "This one is quite a bit more difficult to write. Instead of just overriding `__call__`, we need to override `__init__` as well *and* provide a key-value store. Instead of throwing a bunch of code all at once, I'd rather disect it bit by bit:"
   ]
  },
  {
   "cell_type": "markdown",
   "metadata": {},
   "source": [
    "###default_cache_key\n",
    "\n",
    "By default, `memoize` will attempt to do the right thing. However, it uses the inspect module to determine if there's keyword arguments. This can act oddly sometimes and if memoize doesn't detect keyword arguments, it'll only memoize positional arguments. Instead, we'd like to *always* memoize both. We could go further and attempt to bind positional keyword arguments with their actual names, but for now, this will suffice."
   ]
  },
  {
   "cell_type": "code",
   "execution_count": 10,
   "metadata": {
    "collapsed": true
   },
   "outputs": [],
   "source": [
    "def default_cache_key(args, kwargs):\n",
    "    return (args or None, frozenset(kwargs.items()) or None)"
   ]
  },
  {
   "cell_type": "markdown",
   "metadata": {},
   "source": [
    "###HybridValueStore\n",
    "\n",
    "If you're not familiar with descriptors, I recommend [Chris Beaumont's Python Descriptors Demystified](http://nbviewer.ipython.org/urls/gist.github.com/ChrisBeaumont/5758381/raw/descriptor_writeup.ipynb) and [Simeon Franklin's Descriptor talk](https://www.youtube.com/watch?v=ZdvpNaWwx24)\n",
    "\n",
    "We'll also have to centralize our cache so we can control it. However, this presents a problem. If we have two memoized classes, they shouldn't be able to poke at each other's caches. So simply setting a dictionary on the metaclass won't work. Rather we need to allow each class to only access it's particular cache and actual instances of the class probably shouldn't have access to the cache directly either since their only business with it is existing in it.\n",
    "\n",
    "And overriding a class's cache should also affect the master cache as well so the two remain consistent. And deleting a class's cache simply pops it from the master cache.\n",
    "\n",
    "With that in mind, we can write a descriptor that wraps any key-value store and either return the whole store if it's the metaclass accessing it or, if it's a memoized class accessing it, the descriptor will return just the class's cache. Since we're one level up from classes and instances, I've commented which parameters correspond to the class and metaclass."
   ]
  },
  {
   "cell_type": "code",
   "execution_count": 11,
   "metadata": {
    "collapsed": true
   },
   "outputs": [],
   "source": [
    "class HybridValueStore(object):\n",
    "    def __init__(self, valuestore):\n",
    "        self.valuestore = valuestore\n",
    "        \n",
    "            #   |+------------------> The Descriptor Instance\n",
    "            #   |     |+------------> The Memoized Class\n",
    "            #   |     |     |+------> The Metaclass\n",
    "    def __get__(self, inst, cls):\n",
    "        if inst is None:\n",
    "            return self.valuestore\n",
    "        else:\n",
    "            return self.valuestore[inst]\n",
    "    \n",
    "    def __set__(self, inst, value):\n",
    "        self.valuestore[inst] = value\n",
    "    \n",
    "    def __delete__(self, inst):\n",
    "        self.valuestore.pop(inst, None)"
   ]
  },
  {
   "cell_type": "markdown",
   "metadata": {},
   "source": [
    "###Actual Metaclass\n",
    "\n",
    "Now, with those two out of the way, we can actually put the pieces together."
   ]
  },
  {
   "cell_type": "code",
   "execution_count": 12,
   "metadata": {
    "collapsed": true
   },
   "outputs": [],
   "source": [
    "from toolz import memoize\n",
    "\n",
    "class Memoized(type):\n",
    "    cache = HybridValueStore({})\n",
    "    cache_key = HybridValueStore({})\n",
    "    \n",
    "    def __new__(mcls, name, bases, attrs, **kwargs):\n",
    "        return super(Memoized, mcls).__new__(mcls, name, bases, attrs)\n",
    "   \n",
    "    def __init__(cls, name, bases, attrs, key=default_cache_key, cache=None):\n",
    "        if cache is None:\n",
    "            cache = {}\n",
    "        cls.cache = cache\n",
    "        cls.cache_key = key\n",
    "        super(Memoized, cls).__init__(name, bases, attrs)\n",
    "    \n",
    "    def __call__(cls, *args, **kwargs):\n",
    "        @memoize(cache=cls.cache, key=cls.cache_key)\n",
    "        def memoizer(*a, **k):\n",
    "            return super(Memoized, cls).__call__(*a, **k)\n",
    "        return memoizer(*args, **kwargs)"
   ]
  },
  {
   "cell_type": "markdown",
   "metadata": {},
   "source": [
    "The master cache is implemented with HybridValueStore using a regular dictionary that we add further mappings. Since we've provided a `__set__` method, we can use a normal dictionary rather than something like `defaultdict` which provides just-in-time access to keys.\n",
    "\n",
    "We also use the same thing with the cache_keys as well. Originally, I had planned on storing the key *on* the class's cache, but seeing as `dict` can't host arbitrary attributes, that plan fell through. Rather, storing the key alongside the cache as a seperate attribute seems to function just fine.\n",
    "\n",
    "`__new__` is where things start to get strange. In addition to the normal parameters it accepts, there's also `**kwargs`. This is to allow passing keyword arguments to the metaclass, which we'll see in a moment. In `__init__` is where the extra keywords come into play:\n",
    "\n",
    "* `key` is the function we'll use to create cache keys and defaults to the function described above,\n",
    "* `cache` is the mapping for storing instances. If it's not provided, it simply defaults to a regular dictionary. However, this allows using things like `weakref.WeakValueDictionary` or another specialized mapping as the container rather than a regular dictionary.\n",
    "\n",
    "Both of these are simple stored on the instance of the metaclass (which is the created class) but, interestingly, these *aren't* available to the instances created from the class.\n",
    "\n",
    "And finally, `__call__` is where the memoization actually happens. A wrapper is created to memoize and provided with the class's cache and cache key function and the actual object instantiation is delegated to the next metaclass in the MRO (typically `type`).\n",
    "\n",
    "###In Action\n",
    "After all that, let's see this bad boy do its work, just two simple classes will work."
   ]
  },
  {
   "cell_type": "code",
   "execution_count": 13,
   "metadata": {
    "collapsed": false
   },
   "outputs": [],
   "source": [
    "class Frob(metaclass=Memoized):\n",
    "    def __init__(self, frob):\n",
    "        self.frob = frob\n",
    "    \n",
    "    def __repr__(self):\n",
    "        return \"Frob({})\".format(self.frob)\n",
    "\n",
    "# simply here to show HybridValueStore's fine grained access\n",
    "class Dummy(metaclass=Memoized):\n",
    "    def __init__(self, *args, **kwargs):\n",
    "        pass\n",
    "    \n",
    "    def __repr__(self):\n",
    "        return \"Dummy\"\n",
    "    \n",
    "f = Frob(1)\n",
    "d = Dummy()\n",
    "assert f is Frob(1), \"guess it didn't work\""
   ]
  },
  {
   "cell_type": "markdown",
   "metadata": {},
   "source": [
    "That went well. Let's see some other parts in action:"
   ]
  },
  {
   "cell_type": "code",
   "execution_count": 14,
   "metadata": {
    "collapsed": false
   },
   "outputs": [
    {
     "name": "stdout",
     "output_type": "stream",
     "text": [
      "Master Cache:  {<class '__main__.Dummy'>: {(None, None): Dummy}, <class '__main__.Frob'>: {((1,), None): Frob(1)}}\n",
      "Frob   Cache:  {((1,), None): Frob(1)}\n",
      "Dummy  Cache:  {(None, None): Dummy}\n"
     ]
    }
   ],
   "source": [
    "print(\"Master Cache: \", Memoized.cache)\n",
    "print(\"Frob   Cache: \", Frob.cache)\n",
    "print(\"Dummy  Cache: \", Dummy.cache)"
   ]
  },
  {
   "cell_type": "markdown",
   "metadata": {},
   "source": [
    "Good to see the fine-grained access to the cache attribute is working. How about if we reset the cache for Frob?"
   ]
  },
  {
   "cell_type": "code",
   "execution_count": 15,
   "metadata": {
    "collapsed": false
   },
   "outputs": [
    {
     "name": "stdout",
     "output_type": "stream",
     "text": [
      "Master Cache:  {<class '__main__.Dummy'>: {(None, None): Dummy}, <class '__main__.Frob'>: {}}\n",
      "Frob   Cache:  {}\n",
      "Dummy  Cache:  {(None, None): Dummy}\n"
     ]
    }
   ],
   "source": [
    "Frob.cache = {}\n",
    "print(\"Master Cache: \", Memoized.cache)\n",
    "print(\"Frob   Cache: \", Frob.cache)\n",
    "print(\"Dummy  Cache: \", Dummy.cache)"
   ]
  },
  {
   "cell_type": "markdown",
   "metadata": {},
   "source": [
    "Awesome. Now, there was the curious keyword arguments that we can pass to the metaclass...but *how*? It's simple, we pass them the same way metaclasses are declared (at least in Python 3):"
   ]
  },
  {
   "cell_type": "code",
   "execution_count": 16,
   "metadata": {
    "collapsed": false
   },
   "outputs": [],
   "source": [
    "from collections import OrderedDict\n",
    "\n",
    "def make_string_key(args, kwargs):\n",
    "    return str(args) + str(kwargs)\n",
    "\n",
    "class KeywordTest(metaclass=Memoized, key=make_string_key, cache=OrderedDict()):\n",
    "    def __init__(self, *args, **kwargs):\n",
    "        pass\n",
    "\n",
    "kwt1 = KeywordTest(1, 2, 3)\n",
    "kwt2 = KeywordTest(4, 5, 6)"
   ]
  },
  {
   "cell_type": "code",
   "execution_count": 17,
   "metadata": {
    "collapsed": false
   },
   "outputs": [
    {
     "name": "stdout",
     "output_type": "stream",
     "text": [
      "OrderedDict([('(1, 2, 3){}', <__main__.KeywordTest object at 0x7fcdb018f358>), ('(4, 5, 6){}', <__main__.KeywordTest object at 0x7fcdb018f908>)])\n"
     ]
    }
   ],
   "source": [
    "print(KeywordTest.cache)"
   ]
  },
  {
   "cell_type": "markdown",
   "metadata": {},
   "source": [
    "Now we have a cache that keeps order of when it's values were created.\n",
    "\n",
    "Something curious about this setup is that instances of the memoized class *can't* access the cache."
   ]
  },
  {
   "cell_type": "code",
   "execution_count": 18,
   "metadata": {
    "collapsed": false
   },
   "outputs": [
    {
     "ename": "AttributeError",
     "evalue": "'Frob' object has no attribute 'cache'",
     "output_type": "error",
     "traceback": [
      "\u001b[1;31m---------------------------------------------------------------------------\u001b[0m",
      "\u001b[1;31mAttributeError\u001b[0m                            Traceback (most recent call last)",
      "\u001b[1;32m<ipython-input-18-e5f688beb613>\u001b[0m in \u001b[0;36m<module>\u001b[1;34m()\u001b[0m\n\u001b[1;32m----> 1\u001b[1;33m \u001b[0mf\u001b[0m\u001b[1;33m.\u001b[0m\u001b[0mcache\u001b[0m\u001b[1;33m\u001b[0m\u001b[0m\n\u001b[0m",
      "\u001b[1;31mAttributeError\u001b[0m: 'Frob' object has no attribute 'cache'"
     ]
    }
   ],
   "source": [
    "f.cache"
   ]
  },
  {
   "cell_type": "markdown",
   "metadata": {},
   "source": [
    "Which is very handy considering we probably don't want instances accidentally mucking about and overwriting the cache."
   ]
  },
  {
   "cell_type": "markdown",
   "metadata": {},
   "source": [
    "##Currying AND Memoization Metaclass\n",
    "\n",
    "What if we wanted currying and memoization on the same class? Seems impossible since Python imposes a restriction of one metaclass per inheritance chain. However, since metaclasses are just regular classes, we can compose them together to form much more complex metaclasses. \n",
    "\n",
    "Notice how I was using `super` to call to things like `__new__`, `__init__` and `__call__` above rather than explicitly saying, `type.__new__`? This was to allow for this exact thing. With that already in place, all we need to do to create a curried and memoized class is to just place those two metaclasses together.\n",
    "\n",
    "However, there is one thing that needs to be noted: order matters. See Raymond Hettinger's PyCon 2015 talk [Super Considered Super](https://www.youtube.com/watch?v=EiOglTERPEo) to see why. If we want to curry *then* memoize, we simply do this:"
   ]
  },
  {
   "cell_type": "code",
   "execution_count": 19,
   "metadata": {
    "collapsed": true
   },
   "outputs": [],
   "source": [
    "class CurriedMemoized(Curryable, Memoized):\n",
    "    pass\n",
    "\n",
    "class CMTester(metaclass=CurriedMemoized):\n",
    "    def __init__(self, *args, **kwargs):\n",
    "        pass"
   ]
  },
  {
   "cell_type": "markdown",
   "metadata": {},
   "source": [
    "So far so good. Let's test it out..."
   ]
  },
  {
   "cell_type": "code",
   "execution_count": 20,
   "metadata": {
    "collapsed": false
   },
   "outputs": [
    {
     "name": "stdout",
     "output_type": "stream",
     "text": [
      "{((1, 2, 3), None): <__main__.CMTester object at 0x7fcdb011c438>}\n"
     ]
    }
   ],
   "source": [
    "CMTester(1, 2, 3)\n",
    "print(CMTester.cache)"
   ]
  },
  {
   "cell_type": "markdown",
   "metadata": {},
   "source": [
    "What about taking advantage of Memoized keyword arguments?"
   ]
  },
  {
   "cell_type": "code",
   "execution_count": 21,
   "metadata": {
    "collapsed": false
   },
   "outputs": [
    {
     "name": "stdout",
     "output_type": "stream",
     "text": [
      "OrderedDict([('(1, 2, 3){}', <__main__.CMKeywordTest object at 0x7fcdb018fdd8>), ('(4, 5, 6){}', <__main__.CMKeywordTest object at 0x7fcdb018fd68>)])\n"
     ]
    }
   ],
   "source": [
    "class CMKeywordTest(metaclass=CurriedMemoized, key=make_string_key, cache=OrderedDict()):\n",
    "    def __init__(self, *args, **kwargs):\n",
    "        pass\n",
    "    \n",
    "CMKeywordTest(1, 2, 3)\n",
    "CMKeywordTest(4, 5, 6)\n",
    "print(CMKeywordTest.cache)"
   ]
  },
  {
   "cell_type": "markdown",
   "metadata": {},
   "source": [
    "Now, if we had swapped Memoized and Curryable around in the MRO, we'd get compeletly different behavior:"
   ]
  },
  {
   "cell_type": "code",
   "execution_count": 22,
   "metadata": {
    "collapsed": false
   },
   "outputs": [
    {
     "name": "stdout",
     "output_type": "stream",
     "text": [
      "{(None, frozenset({('name', 'default frob')})): <function MCTest at 0x7fcdb01836a8>}\n"
     ]
    }
   ],
   "source": [
    "class MemoizedCurry(Memoized, Curryable):\n",
    "    pass\n",
    "\n",
    "class MCTest(metaclass=MemoizedCurry):\n",
    "    def __init__(self, name, frob):\n",
    "        pass\n",
    "    \n",
    "m = MCTest(name='default frob')\n",
    "m(frob=1)\n",
    "print(MCTest.cache)"
   ]
  },
  {
   "cell_type": "markdown",
   "metadata": {},
   "source": [
    "In this case, we're memoizing just what's partially applied rather than the actual instance. In this particular case, it's probably undesired behavior, but with other metaclasses, this might be the intended order of operations."
   ]
  },
  {
   "cell_type": "markdown",
   "metadata": {},
   "source": [
    "##Parting Thoughts\n",
    "\n",
    "Hopefully this has been a nice introduction to metaclasses and has shown some pratical applications of them rather than some silly examples. If you're still curious about writing your own metaclasses or learning more about them, here's some resources I recommend:\n",
    "\n",
    "* [Mike Mueller - Descriptors and Metaclasses](http://pyvideo.org/video/3508/descriptors-and-metaclasses)\n",
    "* [Dave Beazley - Python 3 Metaprogramming](http://pyvideo.org/video/1716/python-3-metaprogramming)\n",
    "* [Craig de Stigter - Intro to Metaclasses](http://pyvideo.org/video/2445/intro-to-metaclasses)"
   ]
  }
 ],
 "metadata": {
  "blogdata": {
   "category": "tutorials",
   "date": "2015-05-13",
   "tags": "python3, metaprogramming",
   "title": "Currying and Memoizing Metaclasses"
  },
  "kernelspec": {
   "display_name": "Python 3",
   "language": "python",
   "name": "python3"
  },
  "language_info": {
   "codemirror_mode": {
    "name": "ipython",
    "version": 3
   },
   "file_extension": ".py",
   "mimetype": "text/x-python",
   "name": "python",
   "nbconvert_exporter": "python",
   "pygments_lexer": "ipython3",
   "version": "3.4.0"
  }
 },
 "nbformat": 4,
 "nbformat_minor": 0
}
