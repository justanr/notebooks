{
 "cells": [
  {
   "cell_type": "code",
   "execution_count": 20,
   "metadata": {
    "slideshow": {
     "slide_type": "skip"
    }
   },
   "outputs": [],
   "source": [
    "from typing import List, Iterator, NamedTuple, Dict\n",
    "from enum import Enum, auto\n",
    "from io import StringIO\n",
    "\n",
    "class BFError(Exception):\n",
    "    pass"
   ]
  },
  {
   "cell_type": "markdown",
   "metadata": {
    "slideshow": {
     "slide_type": "slide"
    }
   },
   "source": [
    "# Filling the Swear Jar\n",
    "## A tale of three languages\n",
    "\n",
    "Alec Reiter (@justanr)"
   ]
  },
  {
   "cell_type": "markdown",
   "metadata": {
    "slideshow": {
     "slide_type": "slide"
    }
   },
   "source": [
    "# Brainfuck\n",
    "\n",
    "* Urban Mueller, 1993\n",
    "* Turning ~~Complete~~ Tarpit\n",
    "* 8 commands\n",
    "* Tape, Tape Pointer, Instruction Pointer"
   ]
  },
  {
   "cell_type": "markdown",
   "metadata": {
    "slideshow": {
     "slide_type": "slide"
    }
   },
   "source": [
    "```\n",
    "++++++++[>++++[>++>+++>+++>+<<<<-]>+>+>->>+[<]<-]>>.>---.+++++++..+++.>>.<-.<.+++.------.--------.>>+.>++.\n",
    "```"
   ]
  },
  {
   "cell_type": "markdown",
   "metadata": {
    "slideshow": {
     "slide_type": "slide"
    }
   },
   "source": [
    "# Why the...\n",
    "\n",
    "* Rust! (but we'll get to that)\n",
    "* Different\n",
    "* Oddly fun"
   ]
  },
  {
   "cell_type": "markdown",
   "metadata": {
    "slideshow": {
     "slide_type": "slide"
    }
   },
   "source": [
    "# The 8 Commands\n",
    "\n",
    "| Command | Meaning                            |\n",
    "|---------|------------------------------------|\n",
    "| +       | Incr Cell                          |\n",
    "| -       | Decr Cell                          |\n",
    "| >       | Move Right                         |\n",
    "| <       | Move Left                          |\n",
    "| [       | Conditional Jump (if cell is 0)    |\n",
    "| ]       | Conditional Jump (if cell isn't 0) |\n",
    "| .       | Output Cell                        |\n",
    "| ,       | Read into Cell                     |"
   ]
  },
  {
   "cell_type": "markdown",
   "metadata": {
    "slideshow": {
     "slide_type": "slide"
    }
   },
   "source": [
    "# Common Constructs\n",
    "\n",
    "* `[-]` set current cell to 0\n",
    "* `[->+<]` add current cell to another\n",
    "* `[->++<]` multiplication\n",
    "* `[<]` find last zero cell"
   ]
  },
  {
   "cell_type": "markdown",
   "metadata": {
    "slideshow": {
     "slide_type": "slide"
    }
   },
   "source": [
    "# Ambiguities\n",
    "\n",
    "* \"Infinite tape\" -- reference impl uses 30,000 cells\n",
    "* How big are cells? -- u8 or u32? or signed?"
   ]
  },
  {
   "cell_type": "markdown",
   "metadata": {
    "slideshow": {
     "slide_type": "slide"
    }
   },
   "source": [
    "# So, implementations...\n",
    "\n",
    "Turns out I have no idea what I'm doing"
   ]
  },
  {
   "cell_type": "markdown",
   "metadata": {
    "slideshow": {
     "slide_type": "slide"
    }
   },
   "source": [
    "# Python to the rescue"
   ]
  },
  {
   "cell_type": "markdown",
   "metadata": {
    "slideshow": {
     "slide_type": "slide"
    }
   },
   "source": [
    "# First Attempt"
   ]
  },
  {
   "cell_type": "code",
   "execution_count": 2,
   "metadata": {
    "slideshow": {
     "slide_type": "-"
    }
   },
   "outputs": [],
   "source": [
    "def run(prog: str, stdin: str=\"\") -> StringIO:\n",
    "    stdout = StringIO()\n",
    "    memory = [0] * 30_000\n",
    "    memptr = 0\n",
    "    instrptr = 0\n",
    "    progsize = len(prog)\n",
    "    # stores the location of the last [ s we encountered\n",
    "    brackets = []\n",
    "    \n",
    "    while instrptr < progsize:\n",
    "        op = progsize[instrptr]\n",
    "        instrptr += 1\n",
    "        \n",
    "        if op == '+':\n",
    "            memory[memptr] += 1\n",
    "        elif op == '-':\n",
    "            memory[memptr] -= 1\n",
    "        # and so on\n",
    "        else: \n",
    "            # not a BF command\n",
    "            pass\n",
    "    \n",
    "    stdout.seek(0)\n",
    "    return stdout"
   ]
  },
  {
   "cell_type": "markdown",
   "metadata": {
    "slideshow": {
     "slide_type": "slide"
    }
   },
   "source": [
    "# Pros\n",
    "\n",
    "* Very simple\n",
    "* Jumping back is easy"
   ]
  },
  {
   "cell_type": "markdown",
   "metadata": {
    "slideshow": {
     "slide_type": "slide"
    }
   },
   "source": [
    "# Cons\n",
    "\n",
    "* Very naive\n",
    "* Jumping forward isn't easy\n",
    "* Incorrect programs not detected"
   ]
  },
  {
   "cell_type": "markdown",
   "metadata": {
    "slideshow": {
     "slide_type": "slide"
    }
   },
   "source": [
    "# Parsing"
   ]
  },
  {
   "cell_type": "code",
   "execution_count": 3,
   "metadata": {
    "slideshow": {
     "slide_type": "-"
    }
   },
   "outputs": [],
   "source": [
    "class BFToken(Enum):\n",
    "    Incr = '+'\n",
    "    Decr = '-'\n",
    "    MoveL = '<'\n",
    "    MoveR = '>'\n",
    "    StdIn = ','\n",
    "    StdOut = '.'\n",
    "    JumpF = '['\n",
    "    JumpB = ']'"
   ]
  },
  {
   "cell_type": "code",
   "execution_count": 4,
   "metadata": {
    "slideshow": {
     "slide_type": "skip"
    }
   },
   "outputs": [],
   "source": [
    "partners = {\n",
    "    BFToken.Incr: BFToken.Decr,\n",
    "    BFToken.Decr: BFToken.Incr,\n",
    "    BFToken.MoveL: BFToken.MoveR,\n",
    "    BFToken.MoveR: BFToken.MoveL\n",
    "}"
   ]
  },
  {
   "cell_type": "code",
   "execution_count": 5,
   "metadata": {
    "slideshow": {
     "slide_type": "slide"
    }
   },
   "outputs": [],
   "source": [
    "def _parse(prog: str) -> Iterator[BFToken]:\n",
    "    for char in prog:\n",
    "        try:\n",
    "            yield BFToken(char)\n",
    "        except ValueError:\n",
    "            pass\n",
    "\n",
    "def parse(prog: str) -> List[BFToken]:\n",
    "    return list(_parse(prog))"
   ]
  },
  {
   "cell_type": "code",
   "execution_count": 6,
   "metadata": {
    "slideshow": {
     "slide_type": "fragment"
    }
   },
   "outputs": [
    {
     "data": {
      "text/plain": [
       "[<BFToken.Incr: '+'>,\n",
       " <BFToken.Incr: '+'>,\n",
       " <BFToken.Incr: '+'>,\n",
       " <BFToken.Decr: '-'>,\n",
       " <BFToken.Decr: '-'>]"
      ]
     },
     "execution_count": 6,
     "metadata": {},
     "output_type": "execute_result"
    }
   ],
   "source": [
    "parse('++a+--')"
   ]
  },
  {
   "cell_type": "markdown",
   "metadata": {
    "slideshow": {
     "slide_type": "slide"
    }
   },
   "source": [
    "# Optimizing\n",
    "\n",
    "* Jump table\n",
    "* Combine like tokens"
   ]
  },
  {
   "cell_type": "code",
   "execution_count": 7,
   "metadata": {
    "slideshow": {
     "slide_type": "slide"
    }
   },
   "outputs": [],
   "source": [
    "def collapse(prog: List[BFToken]) -> List[BFToken]:\n",
    "    program = []\n",
    "    \n",
    "    for token in prog:\n",
    "        ...\n",
    "        # uh wait a second"
   ]
  },
  {
   "cell_type": "markdown",
   "metadata": {
    "slideshow": {
     "slide_type": "slide"
    }
   },
   "source": [
    "# Missing Something"
   ]
  },
  {
   "cell_type": "code",
   "execution_count": 8,
   "metadata": {
    "slideshow": {
     "slide_type": "-"
    }
   },
   "outputs": [],
   "source": [
    "class IRToken(NamedTuple):\n",
    "    token: BFToken\n",
    "    amount: int"
   ]
  },
  {
   "cell_type": "code",
   "execution_count": 9,
   "metadata": {
    "slideshow": {
     "slide_type": "slide"
    }
   },
   "outputs": [],
   "source": [
    "def collapse(prog: List[BFToken]) -> List[IRToken]:\n",
    "    program: List[IRToken] = []\n",
    "    \n",
    "    for token in prog:\n",
    "        if len(program) == 0 or token not in partners:\n",
    "            program.append(IRToken(token, 1))\n",
    "            continue\n",
    "        \n",
    "        previous = program.pop()\n",
    "        \n",
    "        if previous.token == token:\n",
    "            new_token = previous._replace(amount=previous.amount+1)\n",
    "            if new_token.amount != 0:\n",
    "                program.append(new_token)\n",
    "        \n",
    "        elif previous.token == partners[token]:\n",
    "            new_token = previous._replace(amount=previous.amount-1)\n",
    "            if new_token.amount != 0:\n",
    "                program.append(new_token)\n",
    "        \n",
    "        else:\n",
    "            program.append(previous)\n",
    "            program.append(IRToken(token, 1))\n",
    "            \n",
    "    return program"
   ]
  },
  {
   "cell_type": "code",
   "execution_count": 10,
   "metadata": {
    "slideshow": {
     "slide_type": "slide"
    }
   },
   "outputs": [],
   "source": [
    "def build_jump_table(prog: List[IRToken]):\n",
    "    brackets = []\n",
    "    \n",
    "    for idx, token in enumerate(prog, 0):\n",
    "        if token.token == BFToken.JumpF:\n",
    "            brackets.append(idx)\n",
    "            \n",
    "        elif token.token == BFToken.JumpB:\n",
    "            try:\n",
    "                partner = brackets.pop()\n",
    "            except IndexError:\n",
    "                raise BFError(f\"Unmatched bracket at: {idx}\") from None\n",
    "            else:\n",
    "                prog[idx] = prog[idx]._replace(amount=partner)\n",
    "                prog[partner] = prog[partner]._replace(amount=idx)\n",
    "    \n",
    "    if brackets:\n",
    "        raise BFError(f\"Unmatched brackets at: {', '.join([str(x) for x in brackets])}\")"
   ]
  },
  {
   "cell_type": "code",
   "execution_count": 11,
   "metadata": {
    "slideshow": {
     "slide_type": "slide"
    }
   },
   "outputs": [
    {
     "data": {
      "text/plain": [
       "[IRToken(token=<BFToken.Incr: '+'>, amount=2),\n",
       " IRToken(token=<BFToken.JumpF: '['>, amount=6),\n",
       " IRToken(token=<BFToken.Decr: '-'>, amount=1),\n",
       " IRToken(token=<BFToken.MoveR: '>'>, amount=1),\n",
       " IRToken(token=<BFToken.Incr: '+'>, amount=8),\n",
       " IRToken(token=<BFToken.MoveL: '<'>, amount=1),\n",
       " IRToken(token=<BFToken.JumpB: ']'>, amount=1)]"
      ]
     },
     "execution_count": 11,
     "metadata": {},
     "output_type": "execute_result"
    }
   ],
   "source": [
    "tokens = collapse(parse('++[->++++++++<]'))\n",
    "build_jump_table(tokens)\n",
    "tokens"
   ]
  },
  {
   "cell_type": "code",
   "execution_count": 31,
   "metadata": {
    "slideshow": {
     "slide_type": "skip"
    }
   },
   "outputs": [],
   "source": [
    "def run(prog: List[IRToken], stdin: str=\"\") -> StringIO:\n",
    "    stdout = StringIO()\n",
    "    stdiniter = iter(stdin)\n",
    "    getc = lambda: ord(next(stdiniter, '\\0'))\n",
    "    putc = lambda: stdout.write(chr(memory[memptr]))\n",
    "    memory = [0] * 30_000\n",
    "    memptr = 0\n",
    "    instrptr = 0\n",
    "    proglength = len(prog)\n",
    "    \n",
    "    while instrptr < proglength:\n",
    "        op = prog[instrptr]\n",
    "        \n",
    "        if op.token == BFToken.StdOut:\n",
    "            putc()\n",
    "        \n",
    "        elif op.token == BFToken.StdIn:\n",
    "            memory[memptr] = getc()\n",
    "            \n",
    "        elif op.token == BFToken.Incr:\n",
    "            memory[memptr] += op.amount\n",
    "        \n",
    "        elif op.token == BFToken.Decr:\n",
    "            memory[memptr] -= op.amount\n",
    "        \n",
    "        elif op.token == BFToken.MoveL:\n",
    "            memptr = (memptr - op.amount) % 30_000\n",
    "        \n",
    "        elif op.token == BFToken.MoveR:\n",
    "            memptr = (memptr + op.amount) % 30_000\n",
    "        \n",
    "        elif op.token == BFToken.JumpF:\n",
    "            if memory[memptr] == 0:\n",
    "                instrptr = op.amount\n",
    "        \n",
    "        elif op.token == BFToken.JumpB:\n",
    "            if memory[memptr] != 0:\n",
    "                instrptr = op.amount\n",
    "        \n",
    "        instrptr += 1\n",
    "    \n",
    "    stdout.seek(0)\n",
    "    return stdout\n",
    "\n",
    "def bf(source: str, stdin: str=\"\") -> StringIO:\n",
    "    prog = collapse(parse(source))\n",
    "    build_jump_table(prog)\n",
    "    return run(prog, stdin)"
   ]
  },
  {
   "cell_type": "code",
   "execution_count": 14,
   "metadata": {
    "slideshow": {
     "slide_type": "slide"
    }
   },
   "outputs": [
    {
     "name": "stdout",
     "output_type": "stream",
     "text": [
      "Hello World!\n",
      "\n",
      "CPU times: user 11.7 ms, sys: 3.42 ms, total: 15.1 ms\n",
      "Wall time: 15.3 ms\n"
     ]
    }
   ],
   "source": [
    "%%time\n",
    "print(bf(\"++++++++[>++++[>++>+++>+++>+<<<<-]>+>+>->>+[<]<-]>>.>---.+++++++..+++.>>.<-.<.+++.------.--------.>>+.>++.\").read())"
   ]
  },
  {
   "cell_type": "code",
   "execution_count": 16,
   "metadata": {
    "slideshow": {
     "slide_type": "slide"
    }
   },
   "outputs": [],
   "source": [
    "triangle = \"\"\"\n",
    "                                >\n",
    "                               + +\n",
    "                              +   +\n",
    "                             [ < + +\n",
    "                            +       +\n",
    "                           + +     + +\n",
    "                          >   -   ]   >\n",
    "                         + + + + + + + +\n",
    "                        [               >\n",
    "                       + +             + +\n",
    "                      <   -           ]   >\n",
    "                     > + + >         > > + >\n",
    "                    >       >       +       <\n",
    "                   < <     < <     < <     < <\n",
    "                  <   [   -   [   -   >   +   <\n",
    "                 ] > [ - < + > > > . < < ] > > >\n",
    "                [                               [\n",
    "               - >                             + +\n",
    "              +   +                           +   +\n",
    "             + + [ >                         + + + +\n",
    "            <       -                       ]       >\n",
    "           . <     < [                     - >     + <\n",
    "          ]   +   >   [                   -   >   +   +\n",
    "         + + + + + + + +                 < < + > ] > . [\n",
    "        -               ]               >               ]\n",
    "       ] +             < <             < [             - [\n",
    "      -   >           +   <           ]   +           >   [\n",
    "     - < + >         > > - [         - > + <         ] + + >\n",
    "    [       -       <       -       >       ]       <       <\n",
    "   < ]     < <     < <     ] +     + +     + +     + +     + +\n",
    "  +   .   +   +   +   .   [   -   ]   <   ]   +   +   +   +   +\n",
    " * * * * * M a d e * B y : * N Y Y R I K K I * 2 0 0 2 * * * * *\n",
    "\"\"\""
   ]
  },
  {
   "cell_type": "code",
   "execution_count": 40,
   "metadata": {
    "slideshow": {
     "slide_type": "slide"
    }
   },
   "outputs": [
    {
     "name": "stdout",
     "output_type": "stream",
     "text": [
      "CPU times: user 327 ms, sys: 0 ns, total: 327 ms\n",
      "Wall time: 326 ms\n"
     ]
    }
   ],
   "source": [
    "%%time\n",
    "result = bf(triangle)"
   ]
  },
  {
   "cell_type": "code",
   "execution_count": 18,
   "metadata": {
    "slideshow": {
     "slide_type": "subslide"
    }
   },
   "outputs": [
    {
     "name": "stdout",
     "output_type": "stream",
     "text": [
      "                                *    \n",
      "                               * *    \n",
      "                              *   *    \n",
      "                             * * * *    \n",
      "                            *       *    \n",
      "                           * *     * *    \n",
      "                          *   *   *   *    \n",
      "                         * * * * * * * *    \n",
      "                        *               *    \n",
      "                       * *             * *    \n",
      "                      *   *           *   *    \n",
      "                     * * * *         * * * *    \n",
      "                    *       *       *       *    \n",
      "                   * *     * *     * *     * *    \n",
      "                  *   *   *   *   *   *   *   *    \n",
      "                 * * * * * * * * * * * * * * * *    \n",
      "                *                               *    \n",
      "               * *                             * *    \n",
      "              *   *                           *   *    \n",
      "             * * * *                         * * * *    \n",
      "            *       *                       *       *    \n",
      "           * *     * *                     * *     * *    \n",
      "          *   *   *   *                   *   *   *   *    \n",
      "         * * * * * * * *                 * * * * * * * *    \n",
      "        *               *               *               *    \n",
      "       * *             * *             * *             * *    \n",
      "      *   *           *   *           *   *           *   *    \n",
      "     * * * *         * * * *         * * * *         * * * *    \n",
      "    *       *       *       *       *       *       *       *    \n",
      "   * *     * *     * *     * *     * *     * *     * *     * *    \n",
      "  *   *   *   *   *   *   *   *   *   *   *   *   *   *   *   *    \n",
      " * * * * * * * * * * * * * * * * * * * * * * * * * * * * * * * *    \n",
      "\n"
     ]
    }
   ],
   "source": [
    "print(result.read())"
   ]
  },
  {
   "cell_type": "code",
   "execution_count": 211,
   "metadata": {
    "slideshow": {
     "slide_type": "slide"
    }
   },
   "outputs": [],
   "source": [
    "ZtoA = \"\"\">++[<+++++++++++++>-]<[[>+>+<<-]>[<+>-]++++++++\n",
    "[>++++++++<-]>.[-]<<>++++++++++[>++++++++++[>++\n",
    "++++++++[>++++++++++[>++++++++++[>++++++++++[>+\n",
    "+++++++++[-]<-]<-]<-]<-]<-]<-]<-]++++++++++.\"\"\""
   ]
  },
  {
   "cell_type": "code",
   "execution_count": 182,
   "metadata": {
    "slideshow": {
     "slide_type": "fragment"
    }
   },
   "outputs": [
    {
     "name": "stdout",
     "output_type": "stream",
     "text": [
      "ZYXWVUTSRQPONMLKJIHGFEDCBA\n",
      "\n",
      "CPU times: user 38min 33s, sys: 142 ms, total: 38min 33s\n",
      "Wall time: 38min 34s\n"
     ]
    }
   ],
   "source": [
    "%%time\n",
    "print(bf(ZtoA).read())"
   ]
  },
  {
   "cell_type": "markdown",
   "metadata": {
    "slideshow": {
     "slide_type": "slide"
    }
   },
   "source": [
    "# Where are we spending time?\n",
    "    \n",
    "    [ I-1 ] 26_000_000\n",
    "    [ M1 I10 [ I-1 ] M-1 I-1 ] -> 2_600_000\n",
    "    [ M1 I10 [ M1 I10 [ I-1 ] M-1 I-1 ] M-1 I-1 ] -> 260_000\n",
    "    [ M1 I10 [ M1 I10 [ M1 I10 [ I-1 ] M-1 I-1 ] M-1 I-1 ] M-1 I-1 ] -> 26_000\n",
    "    [ M1 I10 [ M1 I10 [ M1 I10 [ M1 I10 [ I-1 ] M-1 I-1 ] M-1 I-1 ] M-1 I-1 ] M-1 I-1 ] -> 2_600\n",
    "    [ M1 I10 [ M1 I10 [ M1 I10 [ M1 I10 [ M1 I10 [ I-1 ] M-1 I-1 ] M-1 I-1 ] M-1 I-1 ] M-1 I-1 ] M-1 I-1 ] -> 260"
   ]
  },
  {
   "cell_type": "markdown",
   "metadata": {
    "slideshow": {
     "slide_type": "slide"
    }
   },
   "source": [
    "# Idea\n",
    "\n",
    "Transform `[-]` into `memory[memptr] = 0`"
   ]
  },
  {
   "cell_type": "code",
   "execution_count": 30,
   "metadata": {
    "slideshow": {
     "slide_type": "slide"
    }
   },
   "outputs": [],
   "source": [
    "def handle_clear(tokens: List[BFToken]) -> List[BFToken]:\n",
    "    program: List[BFToken] = []\n",
    "    clear = [BFToken.JumpF, BFToken.Decr, BFToken.JumpB]\n",
    "    \n",
    "    for token in tokens:\n",
    "        program.append(token)\n",
    "        \n",
    "        if len(program) < 3:\n",
    "            continue\n",
    "        \n",
    "        last_three = program[-3:]\n",
    "        \n",
    "        if last_three == clear:\n",
    "            program[-3:] = [BFToken.ZeroOut]\n",
    "    \n",
    "    return program"
   ]
  },
  {
   "cell_type": "markdown",
   "metadata": {
    "slideshow": {
     "slide_type": "slide"
    }
   },
   "source": [
    "# 38min 34s\n",
    "\n",
    "* Python isn't known for being fast\n",
    "* Cython, numba, etc can help\n",
    "* but..."
   ]
  },
  {
   "cell_type": "markdown",
   "metadata": {
    "slideshow": {
     "slide_type": "slide"
    }
   },
   "source": [
    "# Rust\n",
    "\n",
    "## 🎺🎺🎺\n",
    "\n",
    "*insert hype here*"
   ]
  },
  {
   "cell_type": "markdown",
   "metadata": {
    "slideshow": {
     "slide_type": "slide"
    }
   },
   "source": [
    "# But seriously\n",
    "\n",
    "* Opt-in mutability\n",
    "* Algebraic Data Types\n",
    "* Functional + Imperative\n",
    "* High level but fast"
   ]
  },
  {
   "cell_type": "markdown",
   "metadata": {
    "slideshow": {
     "slide_type": "slide"
    }
   },
   "source": [
    "# Representation\n",
    "\n",
    "```rust\n",
    "enum BrainFuckToken {\n",
    "    Move(isize),\n",
    "    JumpF(usize),\n",
    "    JumpB(usize),\n",
    "    Incr(i32)\n",
    "    StdIn,\n",
    "    StdOut,\n",
    "    ZeroOut\n",
    "}\n",
    "```"
   ]
  },
  {
   "cell_type": "markdown",
   "metadata": {
    "slideshow": {
     "slide_type": "slide"
    }
   },
   "source": [
    "# Parsing\n",
    "\n",
    "```rust\n",
    "impl BrainFuckToken {\n",
    "  pub fn from_char(c: char) -> Option<BrainFuckToken> {\n",
    "      match c {\n",
    "          '+' => Some(BrainFuckToken::Incr(1)),\n",
    "          '-' => Some(BrainFuckToken::Incr(-1)),\n",
    "          '>' => Some(BrainFuckToken::Move(1)),\n",
    "          '<' => Some(BrainFuckToken::Move(-1)),\n",
    "          '.' => Some(BrainFuckToken::StdOut),\n",
    "          ',' => Some(BrainFuckToken::StdIn),\n",
    "          '[' => Some(BrainFuckToken::JumpF(0)),\n",
    "          ']' => Some(BrainFuckToken::JumpB(0)),\n",
    "          _ => None,\n",
    "      }\n",
    "  }\n",
    "}\n",
    "```"
   ]
  },
  {
   "cell_type": "markdown",
   "metadata": {
    "slideshow": {
     "slide_type": "slide"
    }
   },
   "source": [
    "# Jumps\n",
    "\n",
    "```rust\n",
    "fn build_jumps(tokens: &mut Vec<BrainFuckToken>) {\n",
    "  let mut brackets = Vec::new();\n",
    "\n",
    "  for idx in 0..tokens.len() {\n",
    "      match tokens[idx] {\n",
    "          BrainFuckToken::JumpF(_) => brackets.push(idx),\n",
    "          BrainFuckToken::JumpB(_) => {\n",
    "              let partner = brackets\n",
    "                  .pop()\n",
    "                  .unwrap_or_else(|| panic!(\"unmatched bracket at {}\", idx));\n",
    "              mem::replace(&mut tokens[idx], BrainFuckToken::JumpB(partner));\n",
    "              mem::replace(&mut tokens[partner], BrainFuckToken::JumpF(idx));\n",
    "          }\n",
    "          _ => {}\n",
    "      }\n",
    "  }\n",
    "\n",
    "  if brackets.len() != 0 {\n",
    "      panic!(\"Unmatched brackets at: {:?}\", brackets);\n",
    "  }\n",
    "}\n",
    " ```"
   ]
  },
  {
   "cell_type": "markdown",
   "metadata": {
    "slideshow": {
     "slide_type": "slide"
    }
   },
   "source": [
    "# Run loop\n",
    "\n",
    "```rust\n",
    "while let Some(instr) = self.ops.get(self.loc) {\n",
    "  match *instr {\n",
    "      BrainFuckToken::JumpF(x) => {\n",
    "          if self.tape.get() == 0 {\n",
    "              self.loc = x;\n",
    "          } else {\n",
    "              self.tracer.trace((self.loc, x));\n",
    "          }\n",
    "      }\n",
    "      BrainFuckToken::JumpB(x) => {\n",
    "          if self.tape.get() != 0 {\n",
    "              self.loc = x;\n",
    "          }\n",
    "      }\n",
    "      BrainFuckToken::Move(x) => self.tape.move_(x),\n",
    "      BrainFuckToken::Incr(x) => self.tape.incr(x),\n",
    "      BrainFuckToken::StdIn => self.tape.putc(input_iter.next().unwrap_or('\\0')),\n",
    "      BrainFuckToken::StdOut => out.push(self.tape.getc()).\n",
    "      BrainFuckToken::ZeroOut => self.tape.put(0),\n",
    "  }\n",
    "  self.loc += 1;\n",
    "}\n",
    " ```"
   ]
  },
  {
   "cell_type": "markdown",
   "metadata": {
    "slideshow": {
     "slide_type": "slide"
    }
   },
   "source": [
    "# But how fast?"
   ]
  },
  {
   "cell_type": "code",
   "execution_count": 36,
   "metadata": {
    "slideshow": {
     "slide_type": "-"
    }
   },
   "outputs": [
    {
     "name": "stderr",
     "output_type": "stream",
     "text": [
      "\n",
      "real\t0m0.005s\n",
      "user\t0m0.000s\n",
      "sys\t0m0.004s\n"
     ]
    }
   ],
   "source": [
    "%%bash\n",
    "time ./bf triangle.bf > /dev/null"
   ]
  },
  {
   "cell_type": "code",
   "execution_count": 37,
   "metadata": {
    "slideshow": {
     "slide_type": "fragment"
    }
   },
   "outputs": [
    {
     "name": "stderr",
     "output_type": "stream",
     "text": [
      "\n",
      "real\t0m0.527s\n",
      "user\t0m0.522s\n",
      "sys\t0m0.004s\n"
     ]
    }
   ],
   "source": [
    "%%bash\n",
    "time ./bf ZtoA.bf > /dev/null"
   ]
  },
  {
   "cell_type": "code",
   "execution_count": 38,
   "metadata": {
    "slideshow": {
     "slide_type": "fragment"
    }
   },
   "outputs": [
    {
     "name": "stderr",
     "output_type": "stream",
     "text": [
      "\n",
      "real\t0m11.970s\n",
      "user\t0m11.904s\n",
      "sys\t0m0.008s\n"
     ]
    }
   ],
   "source": [
    "%%bash\n",
    "time ./bf mandel.bf > /dev/null"
   ]
  },
  {
   "cell_type": "markdown",
   "metadata": {
    "slideshow": {
     "slide_type": "slide"
    }
   },
   "source": [
    "# More Sources\n",
    "\n",
    "* https://github.com/justanr/rustfuck\n",
    "* https://eli.thegreenplace.net/2017/adventures-in-jit-compilation-part-1-an-interpreter/\n",
    "* https://github.com/matslina/bfoptimization\n",
    "* https://doc.rust-lang.org/book/second-edition/"
   ]
  },
  {
   "cell_type": "markdown",
   "metadata": {
    "slideshow": {
     "slide_type": "slide"
    }
   },
   "source": [
    "# Questions?"
   ]
  }
 ],
 "metadata": {
  "kernelspec": {
   "display_name": "Python 3",
   "language": "python",
   "name": "python3"
  },
  "language_info": {
   "codemirror_mode": {
    "name": "ipython",
    "version": 3
   },
   "file_extension": ".py",
   "mimetype": "text/x-python",
   "name": "python",
   "nbconvert_exporter": "python",
   "pygments_lexer": "ipython3",
   "version": "3.6.2+"
  }
 },
 "nbformat": 4,
 "nbformat_minor": 2
}
