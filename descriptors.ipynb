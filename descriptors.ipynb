{
 "metadata": {
  "name": ""
 },
 "nbformat": 3,
 "nbformat_minor": 0,
 "worksheets": [
  {
   "cells": [
    {
     "cell_type": "markdown",
     "metadata": {},
     "source": [
      "**An Aside:** Just like my post on decorators, I've decided to rewrite this post as well because it suffered from the same issue: \"Look at all this code...and hey, there's explainations as well.\" Instead of exploring patterns, like I did in the decorator post, I'm going to focus in on one example use that explores several aspects of descriptors all at once. Of course, I'll step through it piece by piece. There's actually going to be two major sections to this post:\n",
      "\n",
      "* Python Object Attribute Access\n",
      "* Writing Our First Descriptor\n",
      "\n",
      "Also, this post was built with Python 3.4 in mind. While it's foolish to think that everyone everywhere is using the latest and greatest Python release, it's what I've been using primarily lately. That's me.\n",
      "\n",
      "**Updated** Nov. 8th, 2014: Added concrete examples of behind the scenes action of descriptors as well as a brief explaination of what `__delete__` does. "
     ]
    },
    {
     "cell_type": "markdown",
     "metadata": {},
     "source": [
      "#Controlling Attribute Access\n",
      "\n",
      "Before digging into descriptors, it's important to talk about attribute access. Because at the end of the day, that's what descriptors do for us. There's really two ways of going about this with explicitly building our own descriptor.\n",
      "\n",
      "##Getters and Setters\n",
      "\n",
      "This is what you'll see in many languages: explicit getters and setters. They're methods that handle attributes for us. This is very common in Java and PHP (or at least as of the last time I seriously used PHP). Essentially, the idea is to *always* expect to interact with a method instead of an attribute itself. There's nothing wrong with this if it's what your language of choice supports and you need to control access."
     ]
    },
    {
     "cell_type": "code",
     "collapsed": false,
     "input": [
      "# it's a contrived example\n",
      "# but bear with me here\n",
      "# pretend this is *important business logic*\n",
      "def to_lower(value):\n",
      "    return value.lower()\n",
      "\n",
      "class Person:\n",
      "    def __init__(self, name):\n",
      "        self.__name = None\n",
      "        self.set_name(name)\n",
      "    \n",
      "    def get_name(self):\n",
      "        return self.__name\n",
      "    \n",
      "    def set_name(self, name):\n",
      "        self.__name = to_lower(name)\n",
      "\n",
      "monty = Person(name=\"John Cleese\")\n",
      "print(monty.get_name())\n",
      "monty.set_name(\"Eric Idle\")\n",
      "print(monty.get_name())"
     ],
     "language": "python",
     "metadata": {},
     "outputs": [
      {
       "output_type": "stream",
       "stream": "stdout",
       "text": [
        "john cleese\n",
        "eric idle\n"
       ]
      }
     ],
     "prompt_number": 1
    },
    {
     "cell_type": "markdown",
     "metadata": {},
     "source": [
      "That's fine and dandy. *If* that's what you language supports. Python, in my opinion, handles this better.\n",
      "\n",
      "##@property\n",
      "The real way you'd write this in Python is by using `@property`. Which is a decorator, which we are familiar with. I won't go into details about what's going on behind the scenes yet."
     ]
    },
    {
     "cell_type": "code",
     "collapsed": false,
     "input": [
      "class Person:\n",
      "    \n",
      "    def __init__(self, name):\n",
      "        self.__name = None\n",
      "        self.name = name\n",
      "    \n",
      "    @property\n",
      "    def name(self):\n",
      "        return self.__name\n",
      "    \n",
      "    @name.setter\n",
      "    def name(self, name):\n",
      "        self.__name = to_lower(name)\n",
      "\n",
      "monty = Person(name=\"Graham Chapman\")\n",
      "print(monty.name)\n",
      "monty.name = \"Terry Gilliam\"\n",
      "print(monty.name)"
     ],
     "language": "python",
     "metadata": {},
     "outputs": [
      {
       "output_type": "stream",
       "stream": "stdout",
       "text": [
        "graham chapman\n",
        "terry gilliam\n"
       ]
      }
     ],
     "prompt_number": 2
    },
    {
     "cell_type": "markdown",
     "metadata": {},
     "source": [
      "For now, don't worry that I have *two* methods called `name`. It'll become apparent in a little bit.\n",
      "\n",
      "That is a much cleaner interface to the class. As far as the calling code is concerned, `name` is just another attribute. This is fantastic if you designed an object and later realized that you need to control how an attribute is returned or set (or deleted, but I'm not going to delve into that aspect of descriptors at all in this post).\n",
      "\n",
      "To many people, this is where they'd stop with controlling attribute access. And frankly, I don't really blame them. `@property` seems to be magic enough behind the scenes already. Why is it disappearing into `name`, where does `setter` come from, how does it work? These are questions that might go unasked or, worse: unanswered.\n",
      "\n",
      "`@property` suffices in *most* situations, especially when you only need to control one attribute in a specific way. But imagine if we had to ensure two or three attributes were all lower case? You might be tempted to replicate the code all the way down. You don't mind a little repitition, do you?"
     ]
    },
    {
     "cell_type": "code",
     "collapsed": false,
     "input": [
      "class Person:\n",
      "    \n",
      "    def __init__(self, email, firstname, lastname):\n",
      "        self.__f_name = None\n",
      "        self.__l_name = None\n",
      "        self.__email = None\n",
      "        self.f_name = firstname\n",
      "        self.l_name = lastname\n",
      "        self.email = email\n",
      "    \n",
      "    @property\n",
      "    def f_name(self):\n",
      "        return self.__f_name\n",
      "    \n",
      "    @f_name.setter\n",
      "    def f_name(self, value):\n",
      "        self.__f_name = to_lower(value)\n",
      "\n",
      "    @property\n",
      "    def l_name(self):\n",
      "        return self.__l_name\n",
      "    \n",
      "    @l_name.setter\n",
      "    def l_name(self, value):\n",
      "        self.__l_name = to_lower(value)\n",
      "\n",
      "    @property\n",
      "    def email(self):\n",
      "        return self.__email\n",
      "    \n",
      "    @email.setter\n",
      "    def email(self, value):\n",
      "        self.__email = to_lower(value)\n",
      "\n",
      "monty = Person(firstname='Michael', lastname='Palin', email='MichaelPalin@montypython.com')\n",
      "print(monty.f_name, monty.l_name, monty.email)"
     ],
     "language": "python",
     "metadata": {},
     "outputs": [
      {
       "output_type": "stream",
       "stream": "stdout",
       "text": [
        "michael palin michaelpalin@montypython.com\n"
       ]
      }
     ],
     "prompt_number": 3
    },
    {
     "cell_type": "markdown",
     "metadata": {},
     "source": [
      "Like I said, it's a contrived example. But instead of ensuring things are lower cased, imagine you're attempting to keep text fields in a GUI synchronized with the state of an object or you're working with a database ORM. Things will very quickly get out of hand if you have to property a *ton* of stuff with the logic repeated except for the names.\n",
      "\n",
      "###Behind the Scenes\n",
      "I'm not going to 100% faithfully recreate `@property` here, frankly I don't see a point. But I do want to dissect it from what we can observe on the surface.\n",
      "\n",
      "* `property` is a decorator. As a decorator it's a function that takes a function and returns a callable. This we know.\n",
      "* The callable created by `property` is an object\n",
      "* The object has at least one method on it, `setter`, that somehow controls *how* a variable is set\n",
      "\n",
      "However, if we inspect `property` (my preferred way is with IPython's `?` and `??` magics) we learn that there is one more method and three attributes that aren't immediately obvious to us.\n",
      "\n",
      "* `deleter` is the missing method, which handles how an attribute is deleted with `del`\n",
      "* `fget`, `fset` and `fdel` are the attributes, which are unsurprisingly the original functions for getting, setting and deleting attributes.\n",
      "\n",
      "For the above example, `fget` and `fset` are our two `name` methods above. They actually get hidden away into an object decorator, which is how we have two methods with the same name without worry."
     ]
    },
    {
     "cell_type": "markdown",
     "metadata": {},
     "source": [
      "#Data model\n",
      "\n",
      "This about as far as we can get without understanding how Python accesses attributes on objects. I won't attempt to give a complete in depth analysis of _how_ Python actually accesses and sets attributes on objects, but this is a simplified, high level view of what's going on (ignoring the existence of `__slots__`, which actually replaces the underlying `__dict__` with a set of descriptors and what's going on there I'm not 100% sure of).\n",
      "\n",
      "1. Call `__getattribute__`\n",
      "2. Look up in the object's dictionary\n",
      "3. Look up in the class's dictionary\n",
      "4. Walk the MRO and look up in those dictionaries\n",
      "5. If present and all other look ups have failed, call `__getattr__`\n",
      "6. If the name resolves to a descriptor, return the value of it's `__get__` method\n",
      "7. If all all else fails, raise an `AttributeError`\n",
      "\n",
      "That sixth point is the most pertinent to us. An object that defines a `__get__` method is known as a descriptor. `property` is actually an object that does this. In effect, it's `__get__` method resembles this:"
     ]
    },
    {
     "cell_type": "code",
     "collapsed": false,
     "input": [
      "def __get__(self, instance, type=None):\n",
      "    return self.fget(instance)"
     ],
     "language": "python",
     "metadata": {},
     "outputs": [],
     "prompt_number": 4
    },
    {
     "cell_type": "markdown",
     "metadata": {},
     "source": [
      "Similarly, the resolution for setting an attribute looks like this:\n",
      "\n",
      "1. If present, call `__setattr__`\n",
      "2. If the name resolves to a descriptor, call it's `__set__` method\n",
      "3. Stuff the value into the object's dict\n",
      "\n",
      "So, property's `__set__` looks like this:"
     ]
    },
    {
     "cell_type": "code",
     "collapsed": false,
     "input": [
      "def __set__(self, instance, value):\n",
      "    self.fset(instance, value)"
     ],
     "language": "python",
     "metadata": {},
     "outputs": [],
     "prompt_number": 5
    },
    {
     "cell_type": "markdown",
     "metadata": {},
     "source": [
      "I'm glossing over raising attribute errors for attributes that don't support reading or writing, but `property` does that. There's two reasons I'm positive this is how these two methods look is because I'm familar with the descriptor protocol and Raymond Hettinger wrote about it [here](https://docs.python.org/3/howto/descriptor.html#properties).\n",
      "\n",
      "##Descriptor Protocol\n",
      "\n",
      "There's three parts to the descriptor protocol: `__get__`, `__set__` and `__delete__`. Like I said, I'm not delving into deleting attributes here, so we'll remain unconcerned with that. But any object that defines at least one of these methods is a descriptor.\n",
      "\n",
      "The best way to dissect a descriptor is provide an example implementation. This example isn't actually going to do anything except emulate regular attribute access."
     ]
    },
    {
     "cell_type": "code",
     "collapsed": false,
     "input": [
      "class Descriptor:\n",
      "    \n",
      "    def __init__(self, name):\n",
      "        self.name = name\n",
      "    \n",
      "    def __get__(self, instance, cls):\n",
      "        return instance.__dict__.get(self.name, None)\n",
      "    \n",
      "    def __set__(self, instance, value):\n",
      "        instance.__dict__[self.name] = value\n",
      "        \n",
      "    def __delete__(self, instance):\n",
      "        del instance.__dict__[self.name]\n",
      "\n",
      "class Thing:\n",
      "    frob = Descriptor(name='frob')\n",
      "    \n",
      "    def __init__(self, frob):\n",
      "        self.frob = frob\n",
      "\n",
      "t = Thing(frob=4)\n",
      "print(t.frob)"
     ],
     "language": "python",
     "metadata": {},
     "outputs": [
      {
       "output_type": "stream",
       "stream": "stdout",
       "text": [
        "4\n"
       ]
      }
     ],
     "prompt_number": 6
    },
    {
     "cell_type": "markdown",
     "metadata": {},
     "source": [
      "###__get__\n",
      "\n",
      "    def __get__(self, instance, type):\n",
      "\n",
      "* `self` is the instance of the descriptor itself, just like any other object.\n",
      "* `instance` is an instance of the class it's attached to\n",
      "* `type` is the actual object that it's attached to, I typically prefer to use `cls` as the name here because it's slightly more clear to me. `owner` is another common name, but slightly more confusing to me.\n",
      "\n",
      "Above, when we request `t.frob` what's actually happening behind the scenes is Python is calling `Thing.frob.__get__(t, Thing)` instead of passing `Thing.frob.__get__` directly to the print function. The reason the actual class is passed as well is \"to give you information about what object the descriptor is part of\", to quote [Chris Beaumont](http://nbviewer.ipython.org/gist/ChrisBeaumont/5758381/descriptor_writeup.ipynb). While I've not made use of inspecting which class the descriptor is part of, this could be valuable information.\n",
      "\n",
      "You could also call `Thing.frob.__get__(t, Thing)` explicitly if you'd like, but Python's data model will handle this for us.\n",
      "\n",
      "###__set__\n",
      "\n",
      "    def __set__(self, instance, value):\n",
      "    \n",
      "* `self` again no surprises here, this is the instance of the descriptor\n",
      "* `instance` this is an instance of the class it's attached to\n",
      "* `value` is the value you're passing in, if you've used `property` before, there's no surprise here.\n",
      "\n",
      "Again, what's happening behind the scenes when we set `t.frob` to something (in this case, just in `Thing.__init__`), Python passes information to `Thing.frob.__set__`, the information just being the instance of `Thing` and the value we're setting.\n",
      "\n",
      "###__delete__\n",
      "\n",
      "    def __delete__(self, instance):\n",
      "    \n",
      "No surprises here. And despite that I said I wasn't going to go into deleting attributes with descriptors, I've included it for completion's sake. The delete method handles what happens when we call `del t.frob`.\n",
      "\n",
      "###Data vs Non-Data Descriptor\n",
      "\n",
      "This is something you're going to encounter when reading about and working with descriptors: the difference between a data and non-data descriptor and how Python treats both when looking up an attribute.\n",
      "\n",
      "####Data Descriptor\n",
      "A data descriptor is a descriptor that defines *both* a `__get__` and `__set__` method. These descriptors recieve *higher* priority if Python finds a descriptor and a `__dict__` entry for the attribute being looked up. Already, you can see that attribute access isn't as clear cut as we thought it was.\n",
      "\n",
      "####Non-Data Descriptor\n",
      "A non-data descriptor is a descriptor that defines *only* a `__get__` method. These descriptors recieve a *lower* priority if Python finds both the descriptor and a `__dict__` entry."
     ]
    },
    {
     "cell_type": "markdown",
     "metadata": {},
     "source": [
      "#What does this mean?\n",
      "\n",
      "By using descriptors we can create [reusable properties](http://nbviewer.ipython.org/gist/ChrisBeaumont/5758381/descriptor_writeup.ipynb), as Chris Beaumont calls them and I find to be an incredibly apt definition. But there's quite a few pits we can fall into. For the rest of this post, I'm going to focus on rebuilding our lower case properties as a reusable descriptor. In another post, I'm going to more fully explore some of the power these put at our finger tips.\n",
      "\n",
      "#Our First Descriptor\n",
      "\n",
      "So far, we know a descriptor needs to define *at least* one of `__get__`, `__set__`, or `__delete__`. Let's try our hand at building a `LowerString` descriptor."
     ]
    },
    {
     "cell_type": "code",
     "collapsed": false,
     "input": [
      "class LowerString:\n",
      "    \n",
      "    def __init__(self, value=None):\n",
      "        self.value = value\n",
      "    \n",
      "    def __get__(self, instance, cls):\n",
      "        return self.value\n",
      "    \n",
      "    def __set__(self, instance, value):\n",
      "        self.value = to_lower(value)\n",
      "\n",
      "class Person:\n",
      "    f_name = LowerString()\n",
      "    l_name = LowerString()\n",
      "    email = LowerString()\n",
      "    \n",
      "    def __init__(self, firstname, lastname, email):\n",
      "        self.f_name = firstname\n",
      "        self.l_name = lastname\n",
      "        self.email = email\n",
      "        \n",
      "monty = Person(firstname=\"Terry\", lastname=\"Jones\", email=\"TerryJONES@montyPython.com\")\n",
      "print(monty.f_name, monty.l_name, monty.email)"
     ],
     "language": "python",
     "metadata": {},
     "outputs": [
      {
       "output_type": "stream",
       "stream": "stdout",
       "text": [
        "terry jones terryjones@montypython.com\n"
       ]
      }
     ],
     "prompt_number": 7
    },
    {
     "cell_type": "markdown",
     "metadata": {},
     "source": [
      "While this isn't as perfectly clean as we might like, it's certainly a lot prettier than using a series of `property` decorators and way nicer than defining explicit getters and setters. However, there's a big issue here. If you can't spot it, I'll point it out."
     ]
    },
    {
     "cell_type": "code",
     "collapsed": false,
     "input": [
      "me = Person(firstname=\"Alec\", lastname=\"Reiter\", email=\"alecreiter@fake.com\")\n",
      "print(me.f_name, me.l_name, me.email)\n",
      "print(monty.f_name, monty.l_name, monty.email)"
     ],
     "language": "python",
     "metadata": {},
     "outputs": [
      {
       "output_type": "stream",
       "stream": "stdout",
       "text": [
        "alec reiter alecreiter@fake.com\n",
        "alec reiter alecreiter@fake.com\n"
       ]
      }
     ],
     "prompt_number": 8
    },
    {
     "cell_type": "markdown",
     "metadata": {},
     "source": [
      "...oh. Well that happened. And the reason for this, and this what tripped me up when I began reading about descriptors, is that each instance of person *shares* the same instances of `LowerString` for the three properties. Descriptors enforce a shared state by virture of being *instances* attached to a *class* rather than *instances*. So instead of composing an instance of an object with other objects (say a Person object composed of `Job`, `Nationality` and `Gender` instances), we compose a class out of object instances.\n",
      "\n",
      "If we examine the `__dict__` for both the class and the instance, it becomes apparent where Python finds these values at:"
     ]
    },
    {
     "cell_type": "code",
     "collapsed": false,
     "input": [
      "print(Person.__dict__)\n",
      "print(monty.__dict__)"
     ],
     "language": "python",
     "metadata": {},
     "outputs": [
      {
       "output_type": "stream",
       "stream": "stdout",
       "text": [
        "{'__doc__': None, '__weakref__': <attribute '__weakref__' of 'Person' objects>, '__init__': <function Person.__init__ at 0x7f337e2e58c8>, 'f_name': <__main__.LowerString object at 0x7f337ce4a5c0>, 'l_name': <__main__.LowerString object at 0x7f337ce4a550>, 'email': <__main__.LowerString object at 0x7f337ce4a630>, '__module__': '__main__', '__dict__': <attribute '__dict__' of 'Person' objects>}\n",
        "{}\n"
       ]
      }
     ],
     "prompt_number": 9
    },
    {
     "cell_type": "markdown",
     "metadata": {},
     "source": [
      "Since the descriptors aren't attached at the instance level, Python moves up to the class level where it finds the attribute we're requesting, sees it's a descriptor and then calls the `__get__` method.\n",
      "\n",
      "If you attempt to attach these descriptors at the instance level instead, you end up with this:"
     ]
    },
    {
     "cell_type": "code",
     "collapsed": false,
     "input": [
      "class Person:\n",
      "  \n",
      "    def __init__(self, firstname, lastname, email):\n",
      "        self.f_name = LowerString(firstname)\n",
      "        self.l_name = LowerString(lastname)\n",
      "        self.email = LowerString(email)\n",
      "        \n",
      "me = Person(firstname=\"Alec\", lastname=\"Reiter\", email=\"alecreiter@fake.com\")\n",
      "print(me.f_name, me.l_name, me.email)"
     ],
     "language": "python",
     "metadata": {},
     "outputs": [
      {
       "output_type": "stream",
       "stream": "stdout",
       "text": [
        "<__main__.LowerString object at 0x7f337ce4e390> <__main__.LowerString object at 0x7f337ce4e400> <__main__.LowerString object at 0x7f337ce4e438>\n"
       ]
      }
     ],
     "prompt_number": 10
    },
    {
     "cell_type": "markdown",
     "metadata": {},
     "source": [
      "So explicitly attaching them to the instances won't work. But remember, Python passes the instance *for us* automatically. Let's try storing the value on the underlying object by accessing it's `__dict__` attribute:"
     ]
    },
    {
     "cell_type": "code",
     "collapsed": false,
     "input": [
      "class LowerString:\n",
      "    \n",
      "    def __init__(self, label):\n",
      "        self.label = label\n",
      "    \n",
      "    def __get__(self, instance, cls):\n",
      "        return instance.__dict__[self.label]\n",
      "    \n",
      "    def __set__(self, instance, value):\n",
      "        instance.__dict__[self.label] = to_lower(value)\n",
      "        \n",
      "class Person:\n",
      "    f_name = LowerString('f_name')\n",
      "    l_name = LowerString('l_name')\n",
      "    email = LowerString('email')\n",
      "    \n",
      "    def __init__(self, firstname, lastname, email):\n",
      "        self.f_name = firstname\n",
      "        self.l_name = lastname\n",
      "        self.email = email\n",
      "        \n",
      "monty = Person(firstname=\"Carol\", lastname=\"Cleaveland\", email=\"seventh@montypython.com\")\n",
      "print(monty.f_name, monty.l_name, monty.email)"
     ],
     "language": "python",
     "metadata": {},
     "outputs": [
      {
       "output_type": "stream",
       "stream": "stdout",
       "text": [
        "carol cleaveland seventh@montypython.com\n"
       ]
      }
     ],
     "prompt_number": 11
    },
    {
     "cell_type": "markdown",
     "metadata": {},
     "source": [
      "And surely this works, but we've run into the issue of repeating ourselves again. It'd be nice if we could simply do something to automatically fill in the label for us. David Beazley addressed this problem in the [3rd Edition of the Python Cookbook](http://www.amazon.com/Python-Cookbook-David-Beazley/dp/1449340377). "
     ]
    },
    {
     "cell_type": "code",
     "collapsed": false,
     "input": [
      "class checkedmeta(type):\n",
      "    def __new__(cls, clsname, bases, methods):\n",
      "        # Attach attribute names to the descriptors\n",
      "        for key, value in methods.items():\n",
      "            if isinstance(value, Descriptor):\n",
      "                value.name = key\n",
      "        return type.__new__(cls, clsname, bases, methods)"
     ],
     "language": "python",
     "metadata": {},
     "outputs": [],
     "prompt_number": 12
    },
    {
     "cell_type": "markdown",
     "metadata": {},
     "source": [
      "Of course this means, we need to make two small changes to our descriptor: changing `label` to `name` and inheriting from a base `Descriptor` class."
     ]
    },
    {
     "cell_type": "code",
     "collapsed": false,
     "input": [
      "class Descriptor:\n",
      "    \n",
      "    def __init__(self, name=None):\n",
      "        self.name = name\n",
      "\n",
      "class LowerString(Descriptor):\n",
      "    \n",
      "    def __get__(self, instance, cls=None):\n",
      "        return instance.__dict__[self.name]\n",
      "    \n",
      "    def __set__(self, instance, value):\n",
      "        instance.__dict__[self.name] = to_lower(value)\n",
      "        \n",
      "class Person(metaclass=checkedmeta):\n",
      "    f_name = LowerString()\n",
      "    l_name = LowerString()\n",
      "    email = LowerString()\n",
      "    \n",
      "    def __init__(self, firstname, lastname, email):\n",
      "        self.f_name = firstname\n",
      "        self.l_name = lastname\n",
      "        self.email = email\n",
      "        \n",
      "monty = Person(firstname=\"Carol\", lastname=\"Cleaveland\", email=\"seventh@montypython.com\")\n",
      "print(monty.f_name, monty.l_name, monty.email)"
     ],
     "language": "python",
     "metadata": {},
     "outputs": [
      {
       "output_type": "stream",
       "stream": "stdout",
       "text": [
        "carol cleaveland seventh@montypython.com\n"
       ]
      }
     ],
     "prompt_number": 13
    },
    {
     "cell_type": "markdown",
     "metadata": {},
     "source": [
      "And this is very nice and handy. If later, we wanted to create an `EmailValidator` descriptor, so long as we adhere to the pattern laid out here, we can attach them to any class that uses the `checkedmeta` metaclass and it'll behave as expected. \n",
      "\n",
      "But there's something still very annoying going on and it's one of the biggest gripes with `property` is that a `getter` has to be defined *even if I'm only interested in the setter*. If you set `fget` to None, you end up getting an attribute error that says it's write only. If we examine our current implementation, we'll notice something else as well:"
     ]
    },
    {
     "cell_type": "code",
     "collapsed": false,
     "input": [
      "print(Person.__dict__)\n",
      "print(monty.__dict__)"
     ],
     "language": "python",
     "metadata": {},
     "outputs": [
      {
       "output_type": "stream",
       "stream": "stdout",
       "text": [
        "{'__doc__': None, '__weakref__': <attribute '__weakref__' of 'Person' objects>, '__init__': <function Person.__init__ at 0x7f337ce38c80>, 'f_name': <__main__.LowerString object at 0x7f337ce31588>, 'l_name': <__main__.LowerString object at 0x7f337ce31550>, 'email': <__main__.LowerString object at 0x7f337ce316a0>, '__module__': '__main__', '__dict__': <attribute '__dict__' of 'Person' objects>}\n",
        "{'email': 'seventh@montypython.com', 'f_name': 'carol', 'l_name': 'cleaveland'}\n"
       ]
      }
     ],
     "prompt_number": 14
    },
    {
     "cell_type": "markdown",
     "metadata": {},
     "source": [
      "There's now the descriptors living at the class level and the values living at the instance level. Let's add some \"debugging\" print calls to see what's happening on the inside."
     ]
    },
    {
     "cell_type": "code",
     "collapsed": false,
     "input": [
      "class LowerString(Descriptor):\n",
      "    \n",
      "    def __init__(self, name=None):\n",
      "        self.name = name\n",
      "    \n",
      "    def __get__(self, instance, cls=None):\n",
      "        print(\"Calling LowerString.__get__\")\n",
      "        return instance.__dict__[self.name]\n",
      "    \n",
      "    def __set__(self, instance, value):\n",
      "        print(\"Calling LowerString.__set__\")\n",
      "        instance.__dict__[self.name] = to_lower(value)\n",
      "        \n",
      "class Person(metaclass=checkedmeta):\n",
      "    f_name = LowerString()\n",
      "    l_name = LowerString()\n",
      "    email = LowerString()\n",
      "    \n",
      "    def __init__(self, firstname, lastname, email):\n",
      "        self.f_name = firstname\n",
      "        self.l_name = lastname\n",
      "        self.email = email\n",
      "        \n",
      "monty = Person(firstname=\"Carol\", lastname=\"Cleaveland\", email=\"seventh@montypython.com\")\n",
      "print(monty.f_name, monty.l_name, monty.email)"
     ],
     "language": "python",
     "metadata": {},
     "outputs": [
      {
       "output_type": "stream",
       "stream": "stdout",
       "text": [
        "Calling LowerString.__set__\n",
        "Calling LowerString.__set__\n",
        "Calling LowerString.__set__\n",
        "Calling LowerString.__get__\n",
        "Calling LowerString.__get__\n",
        "Calling LowerString.__get__\n",
        "carol cleaveland seventh@montypython.com\n"
       ]
      }
     ],
     "prompt_number": 15
    },
    {
     "cell_type": "markdown",
     "metadata": {},
     "source": [
      "Python gives special preference to data descriptors (as described before). However, we can remove this special preference by simply removing the `__get__` method. Arguably, this is the most useless part of this descriptor anyways, it's not transforming the result or providing a lazy calculation, it's simply aping what `Person.__getattribute__` would do in the first place: Find the value in the object's dictionary. If we remove this, then we're left with *only* a setter, which is what we really wanted in the first place:"
     ]
    },
    {
     "cell_type": "code",
     "collapsed": false,
     "input": [
      "class LowerString(Descriptor):\n",
      "    \n",
      "    def __init__(self, name=None):\n",
      "        self.name = name\n",
      "    \n",
      "    def __set__(self, instance, value):\n",
      "        print(\"Calling LowerString.__set__\")\n",
      "        instance.__dict__[self.name] = to_lower(value)\n",
      "        \n",
      "class Person(metaclass=checkedmeta):\n",
      "    f_name = LowerString()\n",
      "    l_name = LowerString()\n",
      "    email = LowerString()\n",
      "    \n",
      "    def __init__(self, firstname, lastname, email):\n",
      "        self.f_name = firstname\n",
      "        self.l_name = lastname\n",
      "        self.email = email\n",
      "        \n",
      "monty = Person(firstname=\"Carol\", lastname=\"Cleaveland\", email=\"seventh@montypython.com\")\n",
      "print(monty.f_name, monty.l_name, monty.email)\n",
      "monty.f_name = \"Cheryl\"\n",
      "print(monty.f_name)"
     ],
     "language": "python",
     "metadata": {},
     "outputs": [
      {
       "output_type": "stream",
       "stream": "stdout",
       "text": [
        "Calling LowerString.__set__\n",
        "Calling LowerString.__set__\n",
        "Calling LowerString.__set__\n",
        "carol cleaveland seventh@montypython.com\n",
        "Calling LowerString.__set__\n",
        "cheryl\n"
       ]
      }
     ],
     "prompt_number": 16
    },
    {
     "cell_type": "markdown",
     "metadata": {},
     "source": [
      "And this has to do with how Python sets attributes, which examined above. Again, it's giving special precedence to the descriptor, which is what we want in the first place. However, when we access the attribute, it sees there's an entry in the object's `__dict__` and the class's `__dict__` but the latter doesn't have a `__get__` method, which causes it to default back to the object's entry."
     ]
    },
    {
     "cell_type": "code",
     "collapsed": false,
     "input": [
      "print(Person.__dict__)\n",
      "print(monty.__dict__)"
     ],
     "language": "python",
     "metadata": {},
     "outputs": [
      {
       "output_type": "stream",
       "stream": "stdout",
       "text": [
        "{'__doc__': None, '__weakref__': <attribute '__weakref__' of 'Person' objects>, '__init__': <function Person.__init__ at 0x7f337ce43730>, 'f_name': <__main__.LowerString object at 0x7f337ce55710>, 'l_name': <__main__.LowerString object at 0x7f337ce55748>, 'email': <__main__.LowerString object at 0x7f337ce55780>, '__module__': '__main__', '__dict__': <attribute '__dict__' of 'Person' objects>}\n",
        "{'email': 'seventh@montypython.com', 'f_name': 'cheryl', 'l_name': 'cleaveland'}\n"
       ]
      }
     ],
     "prompt_number": 17
    },
    {
     "cell_type": "markdown",
     "metadata": {},
     "source": [
      "Leaving us with just the setter and no unnecessary data or method duplication.\n",
      "\n",
      "#Going forward\n",
      "In the original post, I also explored building an oberserver pattern with descriptors, something Chris Beaumont also touches upon briefly but leaves a lot on the table as far registering callbacks on every instance and specific instances of classes. I plan on touching on this again in a future post.\n",
      "\n",
      "But for now, I'm hoping this leaves a much better impression of descriptors than my original post. Again, this isn't meant to be a tell all about descriptors but hopefully serves to clarify a lot of the magic that appears to happen behind the scenes when you're using SQLAlchemy and defining models.\n",
      "\n",
      "##Further Learning\n",
      "\n",
      "* [Chris Beaumont's Python Descriptors Demystified](http://nbviewer.ipython.org/gist/ChrisBeaumont/5758381/descriptor_writeup.ipynb)\n",
      "* [David Beazley's Python 3 Metaprograming](http://pyvideo.org/video/1716/python-3-metaprogramming) this presentation explores *far* more than just descriptors and delves into a lot of advanced concepts\n",
      "* [Luciano Ramalho's Encapsulation with Descriptors](http://pyvideo.org/video/1760/encapsulation-with-descriptors)\n",
      "* [Python.org Descriptor How To by Raymond Hettinger](https://docs.python.org/3/howto/descriptor.html)\n",
      "* And whole host of SO Questions, just to show a few:\n",
      "    * [How does the @property decorator work?](http://stackoverflow.com/questions/17330160/how-does-the-property-decorator-work/)\n",
      "    * [Understanding get and set and Python descriptors.](http://stackoverflow.com/questions/3798835/understanding-get-and-set-and-python-descriptors)"
     ]
    }
   ],
   "metadata": {}
  }
 ]
}