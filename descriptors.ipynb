{
 "metadata": {
  "name": ""
 },
 "nbformat": 3,
 "nbformat_minor": 0,
 "worksheets": [
  {
   "cells": [
    {
     "cell_type": "markdown",
     "metadata": {},
     "source": [
      "#Descriptors Day\n",
      "What are descriptors? If you read the [documentation](https://docs.python.org/3/howto/descriptor.html) about them, you might be confused -- no offense intended, the Python documentation is usually extremely clear and helpful, this particular piece is unusual. But I have a good feeling you've used descriptors before: property, classmethod and staticmethod decorators are descriptors. That still doesn't really answer the question. And describing as reusable properties doesn't help either.\n",
      "\n",
      "I find real world examples are best to demonstrate.\n",
      "\n",
      "##Example\n",
      "Let's assume you're building an interface that requires several attributes go through the same getter/setter logic. Because I'm terrible at contrived examples, let's say you need ensure all string attributes are in lower case.\n",
      "\n",
      "Your first thought, if you've come from say Java or similar, is to use getters and setters."
     ]
    },
    {
     "cell_type": "code",
     "collapsed": false,
     "input": [
      "def to_lower(value):\n",
      "    'Acting as a stand in for more complicated, repeated logic that has already been refactored out.'\n",
      "    return value.lower()\n",
      "\n",
      "class Member:\n",
      "    def __init__(self, name, email, age):\n",
      "        self._name = self._email = ''\n",
      "        self.set_name(name)\n",
      "        self.set_email(email)\n",
      "        self.age = age\n",
      "    \n",
      "    def get_name(self):\n",
      "        return self._name\n",
      "    \n",
      "    def set_name(self, value):\n",
      "        self._name = to_lower(value)\n",
      "    \n",
      "    def get_email(self):\n",
      "        return self._email\n",
      "    \n",
      "    def set_email(self, value):\n",
      "        self._email = to_lower(value)\n",
      "        \n",
      "jerry = Member(name='Jerry', email='Jerry@parks.pawnEe.IN.gov', age=65)\n",
      "\n",
      "print(jerry.get_name(), jerry.get_email())\n",
      "\n",
      "jerry.set_email('gerry@PARKS.pawnee.IN.gOv')\n",
      "print(jerry.get_email())\n",
      "print(jerry.age)"
     ],
     "language": "python",
     "metadata": {},
     "outputs": [
      {
       "output_type": "stream",
       "stream": "stdout",
       "text": [
        "jerry jerry@parks.pawnee.in.gov\n",
        "gerry@parks.pawnee.in.gov\n",
        "65\n"
       ]
      }
     ],
     "prompt_number": 1
    },
    {
     "cell_type": "markdown",
     "metadata": {},
     "source": [
      "But that's a heck of a messy interface. I have to type six extra characters just to get to someone's email address. And an extra six to change an email address. Imagine doing that every single time you interacted with this class. But there's more: age doesn't have a getter/setter combo making the whole object just feel...weird in use. Let's try again.\n",
      "\n",
      "##Properties\n",
      "Python can implement transparent getter and setter methods for us using the `@property` decorator. Let's try that:"
     ]
    },
    {
     "cell_type": "code",
     "collapsed": false,
     "input": [
      "class Member:\n",
      "    def __init__(self, name, email, age):\n",
      "        self._name = self._email = ''\n",
      "        self.name = name\n",
      "        self.email = email\n",
      "        self.age = age\n",
      "    \n",
      "    @property\n",
      "    def name(self):\n",
      "        return self._name\n",
      "    \n",
      "    @name.setter\n",
      "    def name(self, value):\n",
      "        self._name = to_lower(value)\n",
      "    \n",
      "    @name.deleter\n",
      "    def name(self):\n",
      "        self._name = ''\n",
      "    \n",
      "    @property\n",
      "    def email(self):\n",
      "        return self._email\n",
      "\n",
      "    @email.setter\n",
      "    def email(self, value):\n",
      "        self._email = to_lower(value)\n",
      "\n",
      "jerry = Member(name='Jerry', email='GJLGG@parKs.pawneE.in.goV', age=65)\n",
      "\n",
      "print(jerry.name, jerry.email)\n",
      "jerry.name = 'Gerry'\n",
      "print(jerry.name)\n",
      "del jerry.name\n",
      "print(jerry.name)"
     ],
     "language": "python",
     "metadata": {},
     "outputs": [
      {
       "output_type": "stream",
       "stream": "stdout",
       "text": [
        "jerry gjlgg@parks.pawnee.in.gov\n",
        "gerry\n",
        "\n"
       ]
      }
     ],
     "prompt_number": 2
    },
    {
     "cell_type": "markdown",
     "metadata": {},
     "source": [
      "Using the properties took care of some of the mess. The outward facing interface isn't sloppy now, in fact it looks like `name` and `email` are just regular attributes instead of methods. Even manipulating how an attribute is deleted is easy\n",
      "\n",
      "But the internal implementation is still messy. At this point, most people would consider the job done to the best of their abilities (and honestly, for something this small, I'd agree). But imagine if you had five or six fields that all needed to be manipulated in this same fashion. Throwing your hands up and saying, \"Copypasta all the properties\" will inevitable lead to misery in some fashion.\n",
      "\n",
      "I want to go a little indepth about properties, because it's relevant.\n",
      "\n",
      "###Getters, et. al.\n",
      "Now that we understand what the property decorator does -- essentially intercept calls to instance *\"attributes\"* and interpert them as method calls. But ***how*** does that work?\n",
      "\n",
      "There's several steps to this. The first is understanding how property looks outside of it's decorator form: `name = property(get_name, set_name, del_name, docstring)` It takes up to four arguments: three functions that represent how to get, set and delete an attribute, and one argument for the doc string (in deco form, it retrieves the docstring from the getter method). In this form, it's clear to see that property actually creates a class level attribute that acts like an instance attribute. This happens because property is a factory for a descriptor that will set it's `__get__`, `__set__` and `__delete__` methods accordingly.\n",
      "\n",
      "I'd also like to point out that *only* the getter method is required. Setter and deleter are optional. However, without them, you can't set or delete the instance level attributes. Python throws a TypeError.\n",
      "\n",
      "You can also inspect the attribute and get an idea of how it's implemented under the hood."
     ]
    },
    {
     "cell_type": "code",
     "collapsed": false,
     "input": [
      "print(Member.name)\n",
      "print(Member.name.fget)\n",
      "print(Member.name.fset)\n",
      "print(Member.name.fdel)"
     ],
     "language": "python",
     "metadata": {},
     "outputs": [
      {
       "output_type": "stream",
       "stream": "stdout",
       "text": [
        "<property object at 0x7f1a306e4a48>\n",
        "<function Member.name at 0x7f1a2d6a2510>\n",
        "<function Member.name at 0x7f1a2d6a2488>\n",
        "<function Member.name at 0x7f1a2d6a2598>\n"
       ]
      }
     ],
     "prompt_number": 3
    },
    {
     "cell_type": "markdown",
     "metadata": {},
     "source": [
      "These functions are what actually implement the get, set and delete behaviors. It's not necessary to manipulate them directly because they are triggered automatically. However, it's important to see that they are class level attributes.\n",
      "\n",
      "##Enter the descriptor\n",
      "So, we've got an idea of how properties work and we've got some resuable logic in our properties. Can we build our own? The answer is a resounding, Yes!"
     ]
    },
    {
     "cell_type": "code",
     "collapsed": false,
     "input": [
      "from weakref import WeakKeyDictionary\n",
      "\n",
      "class LowerString:\n",
      "    \n",
      "    def __init__(self, default='', *args, **kwargs):\n",
      "        self.default = default\n",
      "        self.insts = WeakKeyDictionary()\n",
      "        \n",
      "    def __get__(self, inst, cls):\n",
      "        return self.insts.get(inst, self.default)\n",
      "    \n",
      "    def __set__(self, obj, value):\n",
      "        self.insts[obj] = to_lower(value)\n",
      "    \n",
      "    def __delete__(self, inst):\n",
      "        self.insts[inst] = ''\n",
      "        \n",
      "\n",
      "class Member:\n",
      "    name = LowerString('name')\n",
      "    email = LowerString('email')\n",
      "    \n",
      "    def __init__(self, name, email, age):\n",
      "        self.name = name\n",
      "        self.email = email\n",
      "        self.age = age\n",
      "\n",
      "jerry = Member(name='Jerry', email='terry@PARKS.PAWNEE.IN.GOV', age=65)\n",
      "\n",
      "print(jerry.name, jerry.email, sep=', ')\n",
      "del jerry.name\n",
      "print(jerry.name)\n",
      "jerry.name = 'Gerry Gergich'\n",
      "print(jerry.name)"
     ],
     "language": "python",
     "metadata": {},
     "outputs": [
      {
       "output_type": "stream",
       "stream": "stdout",
       "text": [
        "jerry, terry@parks.pawnee.in.gov\n",
        "\n",
        "gerry gergich\n"
       ]
      }
     ],
     "prompt_number": 4
    },
    {
     "cell_type": "markdown",
     "metadata": {},
     "source": [
      "Whoa. What the Python?! Obviously there's some sort of magic going on with the dunder methods on LowerString. It has to do with how Python looks up attributes. When Python creates the class, it sets the descriptors at class level. Then, when we create an instance and set an instance variable that has a corresponding descriptor, Python actually uses the descriptor's `__set__` method to process it. Similiarly, when we access the instance attribute, Python his the descriptor's `__get__` method.\n",
      "\n",
      "You'll note the appearance of `WeakKeyDictionary`. That's the brother of `WeakValueDictionary`. Instead of creating weak references to values stored in dictionaries (say, for cacheing purposes), this creates weak references for keys. This serves two purposes:\n",
      "\n",
      "* *Every* instance of Member will share the same instance of `LowerString` for name and the same instance of `LowerString` for email. We'll need a way to differentiate between the instances. Dictionaries make perfect sense for this.\n",
      "* With a WeakKeyDict, an object will garbage collected if that's the only reference to it left. If we were using a regular dictionary and ran `del jerry` the jerry object still exists because that key would a *strong* reference. If we're done using an object, may as well throw it away completely.\n",
      "\n",
      "There's also something else interesting to note. If we examine the dictionaries of the instance and class, we discover some very interesting things"
     ]
    },
    {
     "cell_type": "code",
     "collapsed": false,
     "input": [
      "print(jerry.__dict__)\n",
      "print(Member.__dict__)"
     ],
     "language": "python",
     "metadata": {},
     "outputs": [
      {
       "output_type": "stream",
       "stream": "stdout",
       "text": [
        "{'age': 65}\n",
        "{'email': <__main__.LowerString object at 0x7f1a2d69f780>, '__weakref__': <attribute '__weakref__' of 'Member' objects>, 'name': <__main__.LowerString object at 0x7f1a2d69f748>, '__dict__': <attribute '__dict__' of 'Member' objects>, '__doc__': None, '__init__': <function Member.__init__ at 0x7f1a2d6a2ae8>, '__module__': '__main__'}\n"
       ]
      }
     ],
     "prompt_number": 5
    },
    {
     "cell_type": "markdown",
     "metadata": {},
     "source": [
      "So what happens is since `name` and `email` are actually class level attributes, they are never stored on the instance level because the descriptor handles storing the information on itself. You can actually manipulate these directly if desired..."
     ]
    },
    {
     "cell_type": "code",
     "collapsed": false,
     "input": [
      "print(Member.__dict__['name'].__get__(jerry, Member))\n",
      "Member.__dict__['name'].__set__(jerry, 'Terry')\n",
      "print(jerry.name)"
     ],
     "language": "python",
     "metadata": {},
     "outputs": [
      {
       "output_type": "stream",
       "stream": "stdout",
       "text": [
        "gerry gergich\n",
        "terry\n"
       ]
      }
     ],
     "prompt_number": 6
    },
    {
     "cell_type": "markdown",
     "metadata": {},
     "source": [
      "But that's fragile (see how we had to cut through the object dictionary?) and highly unrecommended.\n",
      "\n",
      "However, there's other interesting stuff we can do with descriptors. I'm borrowing the next few examples from the excellent [Python Cookbook, 3rd Edition](http://www.amazon.com/Python-Cookbook-David-Beazley/dp/1449340377) -- David Beazly and Brian Jones have a way of making trivial concepts not become mind numbing, making complex concepts seem simple and making mind bending concept just seem complex: 11/10 read every day.\n",
      "\n",
      "##Control setting without defining a getter\n",
      "With properties, you *always* have to define a getter, even if you don't need to specify special access instruction, just return a value. It's the setter you care about. Like above, we don't care about *getting* the `LowerString` value, just ensuring that it's set correctly. What can we do? Leave the friggin getter off."
     ]
    },
    {
     "cell_type": "code",
     "collapsed": false,
     "input": [
      "class LowerStringSetter:\n",
      "    \n",
      "    def __init__(self, name, default='', *options, **kwargs):\n",
      "        self.name = name\n",
      "        self.default = default\n",
      "    \n",
      "    def __set__(self, obj, value):\n",
      "        obj.__dict__[self.name] = to_lower(value)\n",
      "\n",
      "class Member:\n",
      "    name = LowerStringSetter('name')\n",
      "    email = LowerStringSetter('email')\n",
      "    \n",
      "    def __init__(self, name, email, age):\n",
      "        self.name = name\n",
      "        self.email = email\n",
      "        self.age = age\n",
      "\n",
      "leslie = Member(name='Leslie Knope', email='LKnope@parks.pawnee.in.gov', age=39)\n",
      "print(leslie.name)\n",
      "print(leslie.__dict__)\n",
      "print(Member.__dict__)"
     ],
     "language": "python",
     "metadata": {},
     "outputs": [
      {
       "output_type": "stream",
       "stream": "stdout",
       "text": [
        "leslie knope\n",
        "{'name': 'leslie knope', 'email': 'lknope@parks.pawnee.in.gov', 'age': 39}\n",
        "{'email': <__main__.LowerStringSetter object at 0x7f1a2d69f978>, '__weakref__': <attribute '__weakref__' of 'Member' objects>, 'name': <__main__.LowerStringSetter object at 0x7f1a2d69fa20>, '__dict__': <attribute '__dict__' of 'Member' objects>, '__doc__': None, '__init__': <function Member.__init__ at 0x7f1a2d69c268>, '__module__': '__main__'}\n"
       ]
      }
     ],
     "prompt_number": 7
    },
    {
     "cell_type": "markdown",
     "metadata": {},
     "source": [
      "What happens here is also really fragile. Instead of letting the descriptor hold onto the data and delegating to it for everything, we simply create a setter that'll manipulate the host object's dictionary. This works, but only so well, consider if we had defined `__slots__` -- then the host object has no `__dict__`! Whoops... but it something that can be done.\n",
      "\n",
      "##Descriptor Damage Control\n",
      "There's plenty you can do to mess up with descriptors: \n",
      "\n",
      "* When using `WeakKeyDictionary` to separate instances, remember that mutable data types (e.g. `lists`) are not hashable and can't be used in this setup.\n",
      "* Descriptors must be class attributes, not instance attributes. Otherwise you'll just get back instances of the descriptor when you access it.\n",
      "* You need to separate instance data somehow, either using some sort of cache, by manipulating the host object's `__dict__` or another method. Otherwise, you'll overwrite data. Remember that descriptors are actually class attributes and are shared between *all* instances of classes.\n",
      "* If you only need to set manipulate a single attribute in this fashion, just use `@property`. While descriptors are great for reuse and DRY is a fantastic principle to follow, there's another to keep in mind: YAGNI, you ain't gonna need it. Use your best judgement, I'd be fine with maintaining similar logic in two properties (especially if it just calls out to a common function) but any more than that and I'd start contemplating using descriptors. You know your code base and developers better than I do, however.\n",
      "\n",
      "##Real world uses\n",
      "But there are real world uses for this, taking [an example directly from the cookbook](https://github.com/dabeaz/python-cookbook/blob/master/src/8/implementing_a_data_model_or_type_system/example.py): enforcing a type system (something that's been a hot topic in Python recently):"
     ]
    },
    {
     "cell_type": "code",
     "collapsed": false,
     "input": [
      "# Base class. Uses a descriptor to set a value\n",
      "class Descriptor:\n",
      "    def __init__(self, name=None, **opts):\n",
      "        self.name = name\n",
      "        self.__dict__.update(opts)\n",
      "\n",
      "    def __set__(self, instance, value):\n",
      "        instance.__dict__[self.name] = value\n",
      "\n",
      "# Descriptor for enforcing types\n",
      "class Typed(Descriptor):\n",
      "    expected_type = type(None)\n",
      "\n",
      "    def __set__(self, instance, value):\n",
      "        if not isinstance(value, self.expected_type):\n",
      "            raise TypeError('expected ' + str(self.expected_type))\n",
      "        super().__set__(instance, value)\n",
      "\n",
      "# Descriptor for enforcing values\n",
      "class Unsigned(Descriptor):\n",
      "    def __set__(self, instance, value):\n",
      "        if value < 0:\n",
      "            raise ValueError('Expected >= 0')\n",
      "        super().__set__(instance, value)\n",
      "\n",
      "class MaxSized(Descriptor):\n",
      "    def __init__(self, name=None, **opts):\n",
      "        if 'size' not in opts:\n",
      "            raise TypeError('missing size option')\n",
      "        self.size = opts['size']\n",
      "        super().__init__(name, **opts)\n",
      "\n",
      "    def __set__(self, instance, value):\n",
      "        if len(value) >= self.size:\n",
      "            raise ValueError('size must be < ' + str(self.size))\n",
      "        super().__set__(instance, value)\n",
      "\n",
      "class Integer(Typed):\n",
      "    expected_type = int\n",
      "\n",
      "class UnsignedInteger(Integer, Unsigned):\n",
      "    pass\n",
      "\n",
      "class Float(Typed):\n",
      "    expected_type = float\n",
      "\n",
      "class UnsignedFloat(Float, Unsigned):\n",
      "    pass\n",
      "\n",
      "class String(Typed):\n",
      "    expected_type = str\n",
      "\n",
      "class SizedString(String, MaxSized):\n",
      "    pass"
     ],
     "language": "python",
     "metadata": {},
     "outputs": [],
     "prompt_number": 8
    },
    {
     "cell_type": "markdown",
     "metadata": {},
     "source": [
      "With a basic type system, we can enforce it on our objects."
     ]
    },
    {
     "cell_type": "code",
     "collapsed": false,
     "input": [
      "class Stock:\n",
      "    # Specify constraints\n",
      "    name = SizedString('name',size=8)\n",
      "    shares = UnsignedInteger('shares')\n",
      "    price = UnsignedFloat('price')\n",
      "    def __init__(self, name, shares, price):\n",
      "        self.name = name\n",
      "        self.shares = shares\n",
      "        self.price = price\n",
      "\n",
      "s = Stock('ACME',50,91.1)\n",
      "\n",
      "try:\n",
      "    s.name = 'ACME Incorporated'\n",
      "except ValueError as e:\n",
      "    print(e)\n",
      "\n",
      "try:\n",
      "    s.shares = -1\n",
      "except ValueError as e:\n",
      "    print(e)\n",
      "\n",
      "try:\n",
      "    s.price = '10'\n",
      "except TypeError as e:\n",
      "    print(e)"
     ],
     "language": "python",
     "metadata": {},
     "outputs": [
      {
       "output_type": "stream",
       "stream": "stdout",
       "text": [
        "size must be < 8\n",
        "Expected >= 0\n",
        "expected <class 'float'>\n"
       ]
      }
     ],
     "prompt_number": 9
    },
    {
     "cell_type": "markdown",
     "metadata": {},
     "source": [
      "The cookbook actually moves on to show how to create a metaclass that will manage setting the labels for the descriptors for us. I actually prefer this method to that of a class decorator, but that would achieve the same effect."
     ]
    },
    {
     "cell_type": "code",
     "collapsed": false,
     "input": [
      "class checkedmeta(type):\n",
      "    def __new__(cls, clsname, bases, methods):\n",
      "        # Attach attribute names to the descriptors\n",
      "        for key, value in methods.items():\n",
      "            if isinstance(value, Descriptor):\n",
      "                value.name = key\n",
      "        return type.__new__(cls, clsname, bases, methods)\n",
      "\n",
      "class Stock(metaclass=checkedmeta):\n",
      "    name   = SizedString(size=8)\n",
      "    shares = UnsignedInteger()\n",
      "    price  = UnsignedFloat()\n",
      "    def __init__(self, name, shares, price):\n",
      "        self.name = name\n",
      "        self.shares = shares\n",
      "        self.price = price\n",
      "\n",
      "s = Stock('ACME',50,91.1)\n",
      "print(s.name, s.shares, s.price)"
     ],
     "language": "python",
     "metadata": {},
     "outputs": [
      {
       "output_type": "stream",
       "stream": "stdout",
       "text": [
        "ACME 50 91.1\n"
       ]
      }
     ],
     "prompt_number": 10
    },
    {
     "cell_type": "markdown",
     "metadata": {},
     "source": [
      "###Callbacks\n",
      "If you read my post on decorators, you'll remember that I implemented a very basic callback decorator, but that it was awkward to interact with beyond manipulating an attribute on the function. But you can easily create attribute callbacks using descriptors. This is recreated and modified from [here](http://nbviewer.ipython.org/gist/ChrisBeaumont/5758381/descriptor_writeup.ipynb)."
     ]
    },
    {
     "cell_type": "code",
     "collapsed": false,
     "input": [
      "class CallbackAttr:\n",
      "    \n",
      "    def __init__(self, default=None):\n",
      "        self.default = default\n",
      "        self.insts = WeakKeyDictionary()\n",
      "        self.callbacks = WeakKeyDictionary()\n",
      "    \n",
      "    def __get__(self, inst, cls):\n",
      "        if inst is None:\n",
      "            return self\n",
      "        return self.insts.get(inst, self.default)\n",
      "    \n",
      "    def __set__(self, inst, value):\n",
      "        for callback in self.callbacks.get(inst, []):\n",
      "            callback(inst, value)\n",
      "        # putting the set logic here allows the observers\n",
      "        # to note the changes between old and new values\n",
      "        self.insts[inst] = value\n",
      "    \n",
      "    def register(self, inst, callback):\n",
      "        if not self.callbacks.get(inst, None):\n",
      "            self.callbacks[inst] = []\n",
      "        self.callbacks[inst].append(callback)"
     ],
     "language": "python",
     "metadata": {},
     "outputs": [],
     "prompt_number": 11
    },
    {
     "cell_type": "markdown",
     "metadata": {},
     "source": [
      "You'll notice an if block in `__get__`. This makes the descriptor itself available when accessing it through the class level, which in turns makes it's underlying methods available. To see it in action, let's assume we want our member class to autoupdate the email address as well:"
     ]
    },
    {
     "cell_type": "code",
     "collapsed": false,
     "input": [
      "class Member:\n",
      "    name = CallbackAttr('')\n",
      "    \n",
      "    def __init__(self, name):\n",
      "        self.email = ''\n",
      "        self.name = name\n",
      "\n",
      "def update_email(inst, name):\n",
      "    pattern = '{}@parks.pawnee.in.gov'\n",
      "    email = pattern.format('.'.join(name.lower().split()))\n",
      "    inst.email = email\n",
      "    print(\"New email address:\", email)\n",
      "    \n",
      "\n",
      "april = Member(name='April Ludgate')\n",
      "    \n",
      "Member.name.register(april, update_email)\n",
      "\n",
      "april.name = 'April Dwyer'"
     ],
     "language": "python",
     "metadata": {},
     "outputs": [
      {
       "output_type": "stream",
       "stream": "stdout",
       "text": [
        "New email address: april.dwyer@parks.pawnee.in.gov\n"
       ]
      }
     ],
     "prompt_number": 12
    },
    {
     "cell_type": "markdown",
     "metadata": {},
     "source": [
      "You could also manipulate the register function to apply to *every* current instance of the class as well with a simple change..."
     ]
    },
    {
     "cell_type": "code",
     "collapsed": false,
     "input": [
      "class GlobalCallbackAttr(CallbackAttr):\n",
      "    \n",
      "    def register(self, inst=None, callback=lambda v: v):\n",
      "        if inst is None:\n",
      "            for inst in self.insts.keys():\n",
      "                super().register(inst, callback)\n",
      "        else:\n",
      "            super().register(inst, callback)\n",
      "\n",
      "class Member:\n",
      "    name = GlobalCallbackAttr('')\n",
      "    \n",
      "    def __init__(self, name):\n",
      "        self.email = ''\n",
      "        self.name = name\n",
      "\n",
      "april = Member(name='April Ludgate')\n",
      "jerry = Member(name='Jerry Gergich')\n",
      "\n",
      "def log_name_change(inst, value):\n",
      "    '''Pretend we're actually logging this somewhere.'''\n",
      "    old = getattr(inst, 'name', None)\n",
      "    print(\"Name changed from {!r} to {!r}\".format(old, value))\n",
      "\n",
      "Member.name.register(callback=update_email)\n",
      "# individual callbacks still register\n",
      "Member.name.register(inst=jerry, callback=log_name_change)\n",
      "\n",
      "april.name = \"April Dwyer\"\n",
      "jerry.name = \"Gerry Gergich\""
     ],
     "language": "python",
     "metadata": {},
     "outputs": [
      {
       "output_type": "stream",
       "stream": "stdout",
       "text": [
        "New email address: april.dwyer@parks.pawnee.in.gov\n",
        "New email address: gerry.gergich@parks.pawnee.in.gov\n",
        "Name changed from 'Jerry Gergich' to 'Gerry Gergich'\n"
       ]
      }
     ],
     "prompt_number": 13
    },
    {
     "cell_type": "markdown",
     "metadata": {},
     "source": [
      "But to be truly useful, we'd like to be able to truly globally register callbacks on both existing and future instances and do it safely."
     ]
    },
    {
     "cell_type": "code",
     "collapsed": false,
     "input": [
      "class WatchedAttr:\n",
      "    \n",
      "    def __init__(self, default=None):\n",
      "        self.default = default\n",
      "        self.insts = WeakKeyDictionary()\n",
      "        self.callbacks = []\n",
      "    \n",
      "    def __get__(self, obj, cls):\n",
      "        if obj is None:\n",
      "            return self\n",
      "        return self.insts.get(obj, self.default)\n",
      "\n",
      "    def __set__(self, inst, value):\n",
      "        for callback in self.callbacks:\n",
      "            callback(inst, value)\n",
      "        self.insts[inst] = value\n",
      "        \n",
      "    def register(self, callback):\n",
      "        self.callbacks.append(callback)\n",
      "\n",
      "class Member:\n",
      "    name = WatchedAttr()\n",
      "    \n",
      "    def __init__(self, name):\n",
      "        self.email = ''\n",
      "        self.name = name\n",
      "\n",
      "Member.name.register(callback=update_email)\n",
      "Member.name.register(callback=log_name_change)\n",
      "\n",
      "april = Member(name='April Ludgate')\n",
      "april.name = \"April Dwyer\""
     ],
     "language": "python",
     "metadata": {},
     "outputs": [
      {
       "output_type": "stream",
       "stream": "stdout",
       "text": [
        "New email address: april.ludgate@parks.pawnee.in.gov\n",
        "Name changed from None to 'April Ludgate'\n",
        "New email address: april.dwyer@parks.pawnee.in.gov\n",
        "Name changed from 'April Ludgate' to 'April Dwyer'\n"
       ]
      }
     ],
     "prompt_number": 14
    },
    {
     "cell_type": "markdown",
     "metadata": {},
     "source": [
      "But to be exceptionally useful, we could globablly register some callbacks and locally register others by selectively passing an instance..."
     ]
    },
    {
     "cell_type": "code",
     "collapsed": false,
     "input": [
      "from itertools import chain\n",
      "\n",
      "class WatchedAttr:\n",
      "    \n",
      "    def __init__(self, default=None):\n",
      "        self.default = default\n",
      "        self.insts = WeakKeyDictionary()\n",
      "        self.local_callbacks = WeakKeyDictionary()\n",
      "        self.global_callbacks = []\n",
      "    \n",
      "    def __get__(self, obj, cls):\n",
      "        if obj is None:\n",
      "            return self\n",
      "        return self.insts.get(obj, self.default)\n",
      "\n",
      "    def __set__(self, inst, value):\n",
      "        for callback in chain(self.local_callbacks.get(inst, []), self.global_callbacks):\n",
      "            callback(inst, value)\n",
      "        self.insts[inst] = value\n",
      "        \n",
      "    def register(self, callback, inst=None):\n",
      "        if inst:\n",
      "            self.local_callbacks.setdefault(inst, []).append(callback)\n",
      "        else:\n",
      "            self.global_callbacks.append(callback)\n",
      "\n",
      "class Member:\n",
      "    name = WatchedAttr()\n",
      "    \n",
      "    def __init__(self, name):\n",
      "        self.email = ''\n",
      "        self.name = name\n",
      "            \n",
      "Member.name.register(callback=update_email)\n",
      "Member.name.register(callback=log_name_change)\n",
      "\n",
      "april = Member(name='April Ludgate')\n",
      "april.name = \"April Dwyer\"\n",
      "\n",
      "tommy = Member(name='tommy')\n",
      "Member.name.register(inst=tommy, callback=lambda inst, n: print(n.upper()))\n",
      "\n",
      "tommy.name = 'Tommy'"
     ],
     "language": "python",
     "metadata": {},
     "outputs": [
      {
       "output_type": "stream",
       "stream": "stdout",
       "text": [
        "New email address: april.ludgate@parks.pawnee.in.gov\n",
        "Name changed from None to 'April Ludgate'\n",
        "New email address: april.dwyer@parks.pawnee.in.gov\n",
        "Name changed from 'April Ludgate' to 'April Dwyer'\n",
        "New email address: tommy@parks.pawnee.in.gov\n",
        "Name changed from None to 'tommy'\n",
        "TOMMY\n",
        "New email address: tommy@parks.pawnee.in.gov\n",
        "Name changed from 'tommy' to 'Tommy'\n"
       ]
      }
     ],
     "prompt_number": 15
    },
    {
     "cell_type": "markdown",
     "metadata": {},
     "source": [
      "##Generic Processed Descriptors\n",
      "Looking at the initial `LowerString` descriptor, it's really easy to see how to turn that into a more generic function processed argument:"
     ]
    },
    {
     "cell_type": "code",
     "collapsed": false,
     "input": [
      "class FunctionalAttr(Descriptor):\n",
      "    \n",
      "    def __init__(self, name=None, default=None, f=lambda v: v):\n",
      "        self.f = f\n",
      "        self.name = name\n",
      "        self.default = default\n",
      "\n",
      "    def __set__(self, obj, value):\n",
      "        obj.__dict__['name'] = self.f(value)\n",
      "\n",
      "class Member(metaclass=checkedmeta):\n",
      "    name = FunctionalAttr(f=lambda v: v.upper())\n",
      "    \n",
      "    def __init__(self, name):\n",
      "        self.name = name\n",
      "\n",
      "tommy = Member(name='tommy')\n",
      "print(tommy.name)"
     ],
     "language": "python",
     "metadata": {},
     "outputs": [
      {
       "output_type": "stream",
       "stream": "stdout",
       "text": [
        "TOMMY\n"
       ]
      }
     ],
     "prompt_number": 16
    },
    {
     "cell_type": "markdown",
     "metadata": {},
     "source": [
      "Again the safer alternative is to route all access through the descriptor, but it also makes the access slower.\n",
      "\n",
      "##Lazy Properties\n",
      "Again, borrowing this from the cookbook. This allows you to lazily evaluate input when it's actually requested. The example given is computing information about a circle:"
     ]
    },
    {
     "cell_type": "code",
     "collapsed": false,
     "input": [
      "import math\n",
      "\n",
      "class lazyproperty:\n",
      "    def __init__(self, func):\n",
      "        self.func = func\n",
      "    def __get__(self, instance, cls):\n",
      "        if instance is None:\n",
      "            return self\n",
      "        else:\n",
      "            value = self.func(instance)\n",
      "            setattr(instance, self.func.__name__, value)\n",
      "            return value\n",
      "\n",
      "class Circle:\n",
      "    def __init__(self, radius):\n",
      "        self.radius = radius\n",
      "\n",
      "    @lazyproperty\n",
      "    def area(self):\n",
      "        print('Computing area')\n",
      "        return math.pi * self.radius ** 2\n",
      "\n",
      "    @lazyproperty\n",
      "    def perimeter(self):\n",
      "        print('Computing perimeter')\n",
      "        return 2 * math.pi * self.radius\n",
      "\n",
      "c = Circle(radius=4)\n",
      "print(c.__dict__)\n",
      "print(c.area)\n",
      "print(c.perimeter)\n",
      "print(c.area)\n",
      "print(c.__dict__)\n",
      "c.area = 25\n",
      "print(c.area)"
     ],
     "language": "python",
     "metadata": {},
     "outputs": [
      {
       "output_type": "stream",
       "stream": "stdout",
       "text": [
        "{'radius': 4}\n",
        "Computing area\n",
        "50.26548245743669\n",
        "Computing perimeter\n",
        "25.132741228718345\n",
        "50.26548245743669\n",
        "{'radius': 4, 'area': 50.26548245743669, 'perimeter': 25.132741228718345}\n",
        "25\n"
       ]
      }
     ],
     "prompt_number": 17
    },
    {
     "cell_type": "markdown",
     "metadata": {},
     "source": [
      "The problem with, as exampled above, is that the computed attribute then becomes mutable. [There is a way around it](https://github.com/dabeaz/python-cookbook/blob/master/src/8/lazily_computed_attributes/example2.py) but it feels hacky to say the least.\n",
      "\n",
      "The real power of this recipe shines with expensive functions -- long calculations, HTTP requests, etc. \n",
      "\n",
      "Imagine working with an API wrapper for `APIBlog.com`. After you authenticate your wrapper with it, you send a request for a member: `member = apiblog.Member.get(name='justanr')`. If you examined `member.posts` without calling it somehow, you'd see it was set to something like `\"http://www.apiblog.com/member/justanr/posts?page=1\"` but when you accessed it, your interperter slowed for a second and all of sudden you have a list of `apiblog.Post` objects. The wrapper, not wanting to make assumptions about what you're going to access, delayed calling home to get that information.\n",
      "\n",
      "##From Here\n",
      "Descriptors make your managed attributes pretty, often misunderstood and are down right interesting. Find a class that creates a lot of similar properties and see if you can't break all that logic out into a descriptor. Implement some observers. Preprocess all the attributes. Just don't get *carried* away."
     ]
    }
   ],
   "metadata": {}
  }
 ]
}