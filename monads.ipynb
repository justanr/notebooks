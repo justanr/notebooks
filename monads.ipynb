{
 "cells": [
  {
   "cell_type": "markdown",
   "metadata": {},
   "source": [
    "I swore to myself up and down that I wouldn't write one of these. But then I went and hacked up Pynads. And then I wrote a post on Pynads. And then I posted explainations about Monads on reddit. So what the hell. I already fulfilled my \"Write about decorators when I understand them\" obligation and ditto for descriptors. So Monads, why not..."
   ]
  },
  {
   "cell_type": "markdown",
   "metadata": {},
   "source": [
    "#It's simple, a monad is like a...\n",
    "\n",
    "No. Stooooooop. :( Burritos. Bucket brigades. Semicolons. All these analogies just confused me for a long time. And then I \"got them\" and by \"got them\" I mean \"Even more hopelessly confused but I didn't know that.\" Like what does \"programmable semicolon\" even mean? Every language I've used (which isn't many) a semicolon means \"This bit of code ends here, kthxbai\". The burrito analogy was meant as a critique of this phenomenon -- and I'll likely fall victim of the \"Monad Tutorial Curse\". And the bucket brigade was a valiant effort by a SO user to explain them."
   ]
  },
  {
   "cell_type": "markdown",
   "metadata": {},
   "source": [
    "#It's simple, a monad is like a Unix Pipe\n",
    "\n",
    "Instead of reaching for some non-programming analogy like burritos or bucket brigades, I think Unix Pipes are a pretty good analogy to Haskell-style monads. Let's say I'm in a directory that has a bunch of different types of files -- maybe it's the bottomless bin that is ~/Downloads ): And I want to find all the MP4 files in the top level directory and print them out:"
   ]
  },
  {
   "cell_type": "markdown",
   "metadata": {},
   "source": [
    "    ls -lh ~/Downloads | grep -i \"*mp4\" | less"
   ]
  },
  {
   "cell_type": "markdown",
   "metadata": {},
   "source": [
    "Super simple. We take the first command `ls` feed it some options and a directory to list out. Then `|` goes \"Oh, you have output and I have this thing that needs input, here grep!\" And then grep does its business and `|` steps back in and goes \"Oh, you have output and I have this thing that needs input, here less!\"\n",
    "\n",
    "Of course it isn't a perfect analogy. But all analogies break down under scrutiny. But this is essentially what Haskell's `>>=` does. \"Oh, you have output, let me feed it to this function that wants input!\" That's it. Monads are about chaining together a series of actions of functions (depending on how you want to look at it) in a way that each action/function returns something that can carry the chain forward somehow.\n",
    "\n",
    "But the short of monads is that they have nothing to do with I/O, impure values, side effects or anything else. Those are implementation specific to certain monads. Monads in general only deal with how to combine expressions."
   ]
  },
  {
   "cell_type": "markdown",
   "metadata": {},
   "source": [
    "#But Python doesn't have monads\n",
    "\n",
    "Eh. It all depends on how you want to look at it. Sure, it doesn't have Haskell style monads. But it doesn't need to. Let's look at something:"
   ]
  },
  {
   "cell_type": "code",
   "execution_count": 1,
   "metadata": {
    "collapsed": true
   },
   "outputs": [],
   "source": [
    "x = y = '     Fred\\n Thompson '"
   ]
  },
  {
   "cell_type": "markdown",
   "metadata": {},
   "source": [
    "I have that input. But I need output that looks like this: `\"JACK THOMPSON\"`. The obvious way is doing it imperatively:"
   ]
  },
  {
   "cell_type": "code",
   "execution_count": 2,
   "metadata": {
    "collapsed": false
   },
   "outputs": [
    {
     "name": "stdout",
     "output_type": "stream",
     "text": [
      "JACK THOMPSON\n"
     ]
    }
   ],
   "source": [
    "x = x.replace('Fred', 'Jack')\n",
    "x = x.replace('\\n', '')\n",
    "x = x.strip()\n",
    "x = x.upper()\n",
    "print(x)"
   ]
  },
  {
   "cell_type": "markdown",
   "metadata": {},
   "source": [
    "And it works. Or I could just chain all those operations together:"
   ]
  },
  {
   "cell_type": "code",
   "execution_count": 3,
   "metadata": {
    "collapsed": false
   },
   "outputs": [
    {
     "name": "stdout",
     "output_type": "stream",
     "text": [
      "JACK THOMPSON\n"
     ]
    }
   ],
   "source": [
    "print(y.replace('Fred', 'Jack').replace('\\n', '').strip().upper())"
   ]
  },
  {
   "cell_type": "markdown",
   "metadata": {},
   "source": [
    "Each string method returns a new string that can carry the chain forward. We can add in as many string methods that return a string. But if we place something like `split` or `find` then our chain can't be continued as there's a list or a integer now. That's not to say we can't continue the chain, but we likely need to do in a separate expression (which is okay)."
   ]
  },
  {
   "cell_type": "markdown",
   "metadata": {},
   "source": [
    "#Worshipping at the altar of bind\n",
    "\n",
    "So Haskell style monads are pretty much defined by the presence of `>>=` and `return`. `return` just lifts a value into a monad. And `>>=` is the sequencing operator. Neither of these are magic, we need to define them ourselves. I like using Maybe as an example because it's simple enough to explain but addresses a real world problem: Null Pointer Exceptions. (:"
   ]
  },
  {
   "cell_type": "markdown",
   "metadata": {},
   "source": [
    "We usually avoid this sort of thing with this pattern in Python:"
   ]
  },
  {
   "cell_type": "code",
   "execution_count": 4,
   "metadata": {
    "collapsed": false
   },
   "outputs": [
    {
     "name": "stdout",
     "output_type": "stream",
     "text": [
      "2.0\n",
      "None\n"
     ]
    }
   ],
   "source": [
    "def sqrt(x):\n",
    "    if x is None:\n",
    "        return None\n",
    "    return x**.5\n",
    "\n",
    "print(sqrt(4))\n",
    "print(sqrt(None))"
   ]
  },
  {
   "cell_type": "markdown",
   "metadata": {},
   "source": [
    "We can use this to process information from STDIN (for example):"
   ]
  },
  {
   "cell_type": "code",
   "execution_count": 5,
   "metadata": {
    "collapsed": true
   },
   "outputs": [],
   "source": [
    "def int_from_stdin():\n",
    "    x = input()\n",
    "    return int(x) if x.isdigit() else None"
   ]
  },
  {
   "cell_type": "code",
   "execution_count": 6,
   "metadata": {
    "collapsed": false
   },
   "outputs": [
    {
     "name": "stdout",
     "output_type": "stream",
     "text": [
      "a\n",
      "None\n"
     ]
    }
   ],
   "source": [
    "maybe_int = int_from_stdin()\n",
    "print(sqrt(maybe_int))"
   ]
  },
  {
   "cell_type": "code",
   "execution_count": 7,
   "metadata": {
    "collapsed": false
   },
   "outputs": [
    {
     "name": "stdout",
     "output_type": "stream",
     "text": [
      "4\n",
      "2.0\n"
     ]
    }
   ],
   "source": [
    "maybe_int = int_from_stdin()\n",
    "print(sqrt(maybe_int))"
   ]
  },
  {
   "cell_type": "markdown",
   "metadata": {},
   "source": [
    "We just have to make sure we include the `if x is None` check everywhere. That's easy. Right. ...right? guise? On top of it being something to remember, it's line noise. Completely in the way of what we're attempting to accomplish. Instead, let's look at Maybe in terms of Haskell and Python:"
   ]
  },
  {
   "cell_type": "markdown",
   "metadata": {},
   "source": [
    "    data Maybe a = Nothing | Just a\n",
    "    \n",
    "    instance Monad Maybe where\n",
    "        return = Just\n",
    "        (Just x) >>= f = f x\n",
    "        Nothing  >>= f = Nothing"
   ]
  },
  {
   "cell_type": "markdown",
   "metadata": {},
   "source": [
    "We have the type constructor Maybe which has two data constructors Just and Nothing. In Python terms, we have an abstract class Maybe and two implementations Just and Nothing. When we have a Just and `>>=` is used, we get the result of the function with the input of whatever is in Just. If we have Nothing and `>>=`is used, we get Nothing ([*Nothing from nothing leaves nothing. You gotta have something, if you wanna be with me*](https://www.youtube.com/watch?v=G_DV54ddNHE)). Notice that onus to return a Maybe is on whatever function we bind to. This puts the power in our hands to decide if we have a failure at any given point in the operation.\n",
    "\n",
    "In Python, a simplified version looks a lot like this:"
   ]
  },
  {
   "cell_type": "code",
   "execution_count": 8,
   "metadata": {
    "collapsed": true
   },
   "outputs": [],
   "source": [
    "class Maybe:\n",
    "    @staticmethod\n",
    "    def unit(v):\n",
    "        return Just(v)\n",
    "    \n",
    "    def bind(self, bindee):\n",
    "        raise NotImplementedError\n",
    "    \n",
    "class Just(Maybe):\n",
    "    \n",
    "    def __init__(self, v):\n",
    "        self.v = v\n",
    "        \n",
    "    def __repr__(self):\n",
    "        return 'Just {!r}'.format(self.v)\n",
    "    \n",
    "    def bind(self, bindee):\n",
    "        return bindee(self.v)\n",
    "\n",
    "class Nothing(Maybe):\n",
    "    \n",
    "    def bind(self, bindee):\n",
    "        return self\n",
    "    \n",
    "    def __repr__(self):\n",
    "        return 'Nothing'"
   ]
  },
  {
   "cell_type": "markdown",
   "metadata": {},
   "source": [
    "And we can use this to reimplement our `int_from_stdin` and `sqrt` functions above:"
   ]
  },
  {
   "cell_type": "code",
   "execution_count": 9,
   "metadata": {
    "collapsed": true
   },
   "outputs": [],
   "source": [
    "def int_from_stdin():\n",
    "    x = input()\n",
    "    return Just(int(x)) if x.isdigit() else Nothing()\n",
    "\n",
    "def sqrt(x):\n",
    "    return Just(x**.5)"
   ]
  },
  {
   "cell_type": "markdown",
   "metadata": {},
   "source": [
    "And chain them together like this:"
   ]
  },
  {
   "cell_type": "code",
   "execution_count": 10,
   "metadata": {
    "collapsed": false
   },
   "outputs": [
    {
     "name": "stdout",
     "output_type": "stream",
     "text": [
      "4\n"
     ]
    },
    {
     "data": {
      "text/plain": [
       "Just 2.0"
      ]
     },
     "execution_count": 10,
     "metadata": {},
     "output_type": "execute_result"
    }
   ],
   "source": [
    "int_from_stdin().bind(sqrt)"
   ]
  },
  {
   "cell_type": "code",
   "execution_count": 11,
   "metadata": {
    "collapsed": false
   },
   "outputs": [
    {
     "name": "stdout",
     "output_type": "stream",
     "text": [
      "a\n"
     ]
    },
    {
     "data": {
      "text/plain": [
       "Nothing"
      ]
     },
     "execution_count": 11,
     "metadata": {},
     "output_type": "execute_result"
    }
   ],
   "source": [
    "int_from_stdin().bind(sqrt)"
   ]
  },
  {
   "cell_type": "markdown",
   "metadata": {},
   "source": [
    "What `>>=` does isn't just sequence actions together. That's easy to do, we could have accomplished them the same thing before with `sqrt(int_from_stdin())`. However, the real magic sauce of `>>=` is abstracting *how* they're sequenced. In this case, sequencing a Just results in feeding the contained value of Just to a function and getting back a Maybe. And sequencing a Nothing results in Nothing."
   ]
  },
  {
   "cell_type": "markdown",
   "metadata": {},
   "source": [
    "The great thing about Maybe is we're allowed to decide at an arbitrary point if we even want to continue with the computation or bail out completely. Let's say we have something against even numbers. Perhaps it's that only one of them is Prime. But we like odds. So if we get an even number from STDIN, we'll just bail out."
   ]
  },
  {
   "cell_type": "code",
   "execution_count": 12,
   "metadata": {
    "collapsed": false
   },
   "outputs": [
    {
     "name": "stdout",
     "output_type": "stream",
     "text": [
      "4\n"
     ]
    },
    {
     "data": {
      "text/plain": [
       "Nothing"
      ]
     },
     "execution_count": 12,
     "metadata": {},
     "output_type": "execute_result"
    }
   ],
   "source": [
    "def only_odds(x):\n",
    "    return Just(x) if x&1 else Nothing()\n",
    "\n",
    "int_from_stdin().bind(only_odds).bind(sqrt)"
   ]
  },
  {
   "cell_type": "code",
   "execution_count": 13,
   "metadata": {
    "collapsed": false
   },
   "outputs": [
    {
     "name": "stdout",
     "output_type": "stream",
     "text": [
      "3\n"
     ]
    },
    {
     "data": {
      "text/plain": [
       "Just 1.7320508075688772"
      ]
     },
     "execution_count": 13,
     "metadata": {},
     "output_type": "execute_result"
    }
   ],
   "source": [
    "int_from_stdin().bind(only_odds).bind(sqrt)"
   ]
  },
  {
   "cell_type": "markdown",
   "metadata": {},
   "source": [
    "#Other ways to sequence\n",
    "\n",
    "Obviously bind/`>>=` isn't the only way to interact with monads if they're just about sequencing functions together. For example, Scala has a suped-up version of Maybe called Option. It's the same basic structure: Some (our successful computation) and None (a failed computation). It also has ways of recovering from a possibly failed computation with its `getOrX` methods. For example, if we have `Some(\"abc\")` we can do this to recover when check if `d` is present:"
   ]
  },
  {
   "cell_type": "markdown",
   "metadata": {},
   "source": [
    "    Some(\"abc\") filter (i => match i indexOf \"d\" {\n",
    "                          case -1 => None\n",
    "                          case _  => Some(i)\n",
    "                          }\n",
    "                        }) getOr \"d\""
   ]
  },
  {
   "cell_type": "markdown",
   "metadata": {},
   "source": [
    "Which *should* return `\"d\"` but Scala isn't my mother tongue, so there's probably an error somewhere."
   ]
  },
  {
   "cell_type": "markdown",
   "metadata": {},
   "source": [
    "You could argue that SQLAlchemy is monadic as well based on how you build queries in it:"
   ]
  },
  {
   "cell_type": "markdown",
   "metadata": {},
   "source": [
    "    q = session.query(Person).filter(Person.name.startswith('A')).first()"
   ]
  },
  {
   "cell_type": "markdown",
   "metadata": {},
   "source": [
    "SQLAlchemy queries return query objects that can carry the chain further, allowing us to craft complicated queries in a relatively simple manner."
   ]
  },
  {
   "cell_type": "markdown",
   "metadata": {},
   "source": [
    "I found a more clever example in a thread on /r/learnpython about what features would you implement in Python given that chance. Below the \"Everything not nailed down in Haskell\" comment, there was one about universal function call syntax from D. [/u/AMorpork](http://www.reddit.com/r/Python/comments/33qzzf/what_features_should_python_steal_from_other/cqo1ic6) proposed simply creating a monad where `__getattr__` is the sequencing operation (reproduced here):"
   ]
  },
  {
   "cell_type": "code",
   "execution_count": 14,
   "metadata": {
    "collapsed": false
   },
   "outputs": [],
   "source": [
    "from itertools import islice\n",
    "import builtins as __builtin__\n",
    "\n",
    "def take(n, it):\n",
    "    return islice(it, n)\n",
    "\n",
    "class UFCS(object):\n",
    "    def __init__(self, value):\n",
    "        self.state = value\n",
    "\n",
    "    def __getattr__(self, item):\n",
    "        try:\n",
    "            func = getattr(__builtin__, item)\n",
    "        except AttributeError:\n",
    "            func = globals()[item]\n",
    "        def curried(*args):\n",
    "            if not args:\n",
    "                self.state = func(self.state)\n",
    "            else:\n",
    "                args = list(args)\n",
    "                args.append(self.state)\n",
    "                self.state = func(*args)\n",
    "            return self\n",
    "\n",
    "        return curried\n",
    "\n",
    "    def get(self):\n",
    "        return self.state"
   ]
  },
  {
   "cell_type": "code",
   "execution_count": 15,
   "metadata": {
    "collapsed": false
   },
   "outputs": [
    {
     "name": "stdout",
     "output_type": "stream",
     "text": [
      "[1.4415742971795897, 1.8698624486908322, 2.7162342709197618, 3.854140130424576, 4.008599242523804, 4.118846086899804, 4.120213633898632, 4.283990003510465, 5.089491698891653, 5.110436429053362]\n"
     ]
    },
    {
     "data": {
      "text/plain": [
       "<__main__.UFCS at 0x7fd4c064ee10>"
      ]
     },
     "execution_count": 15,
     "metadata": {},
     "output_type": "execute_result"
    }
   ],
   "source": [
    "x = ['#3.462289264065068', \n",
    "     '4.283990003510465', \n",
    "     '#1.7285949138067824', \n",
    "     '#2.6009019446392987', \n",
    "     '5.089491698891653', \n",
    "     '3.854140130424576', \n",
    "     '4.118846086899804', \n",
    "     '5.110436429053362', \n",
    "     '9.044631493138326', \n",
    "     '5.503343391187907', \n",
    "     '1.4415742971795897', \n",
    "     '2.7162342709197618', \n",
    "     '9.438995804377226', \n",
    "     '1.8698624486908322', \n",
    "     '4.008599242523804', \n",
    "     '8.914062382096017', \n",
    "     '4.120213633898632', \n",
    "     '6.9189185117106975',\n",
    "     # more were included, but removed here\n",
    "     ]\n",
    "\n",
    "UFCS(x).filter(lambda s: s and s[0] != \"#\").map(float).sorted().take(10).list().print()"
   ]
  },
  {
   "cell_type": "markdown",
   "metadata": {},
   "source": [
    "#It's simple, a monad is like a...\n",
    "\n",
    "Hopefully this goes a long way to explaining the idea of Monads in terms of programming. Maybe I fell upon the Monad Tutorial Fallacy. However, in the event that I've hopeless confused someone more, drop me a line and I'll be happy to go into further detail."
   ]
  }
 ],
 "metadata": {
  "kernelspec": {
   "display_name": "Python 3",
   "language": "python",
   "name": "python3"
  },
  "language_info": {
   "codemirror_mode": {
    "name": "ipython",
    "version": 3
   },
   "file_extension": ".py",
   "mimetype": "text/x-python",
   "name": "python",
   "nbconvert_exporter": "python",
   "pygments_lexer": "ipython3",
   "version": "3.4.0"
  }
 },
 "nbformat": 4,
 "nbformat_minor": 0
}
