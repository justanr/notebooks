{
 "metadata": {
  "name": ""
 },
 "nbformat": 3,
 "nbformat_minor": 0,
 "worksheets": [
  {
   "cells": [
    {
     "cell_type": "markdown",
     "metadata": {},
     "source": [
      "A sliding window is a type of function that accepts an iterable and sends it back in overlapping chunks. This is useful when you need to process an item in context. There's one in the *old* library examples for itertools (I'm talking Python v. 2.3.5)"
     ]
    },
    {
     "cell_type": "code",
     "collapsed": false,
     "input": [
      "from itertools import islice\n",
      "\n",
      "def old_window(seq, n=2):\n",
      "    \"Returns a sliding window (of width n) over data from the iterable\"\n",
      "    \"   s -> (s0,s1,...s[n-1]), (s1,s2,...,sn), ...                   \"\n",
      "    it = iter(seq)\n",
      "    result = tuple(islice(it, n))\n",
      "    if len(result) == n:\n",
      "        yield result    \n",
      "    for elem in it:\n",
      "        result = result[1:] + (elem,)\n",
      "        yield result\n",
      "\n",
      "%timeit -n 1000 -r 5 list(old_window('abcdefgh', 3))\n",
      "print(*list(old_window('abcdefgh', 3)), sep='\\n')"
     ],
     "language": "python",
     "metadata": {},
     "outputs": [
      {
       "output_type": "stream",
       "stream": "stdout",
       "text": [
        "1000 loops, best of 5: 3.4 \u00b5s per loop\n",
        "('a', 'b', 'c')\n",
        "('b', 'c', 'd')\n",
        "('c', 'd', 'e')\n",
        "('d', 'e', 'f')\n",
        "('e', 'f', 'g')\n",
        "('f', 'g', 'h')\n"
       ]
      }
     ],
     "prompt_number": 1
    },
    {
     "cell_type": "markdown",
     "metadata": {},
     "source": [
      "The New Hotness\n",
      "---------------\n",
      "But that's old and if Node, Rust, Go and Mongo have taught me anything, it's anything more than 10 seconds old is garbage and not webscale. Sarcasm aside, I just enjoy tearing things down just to rebuild them and hopefully learn something in the process. Let's see what we can come up with..."
     ]
    },
    {
     "cell_type": "code",
     "collapsed": false,
     "input": [
      "from itertools import tee\n",
      "\n",
      "def window(it, size=3):\n",
      "    yield from zip(*[islice(it, s, None) for s, it in enumerate(tee(it, size))])\n",
      "\n",
      "%timeit -n 1000 -r 5 list(window('abcedefgh', 4))\n",
      "print(*list(window('abcedefgh', 4)), sep='\\n')"
     ],
     "language": "python",
     "metadata": {},
     "outputs": [
      {
       "output_type": "stream",
       "stream": "stdout",
       "text": [
        "1000 loops, best of 5: 6.7 \u00b5s per loop\n",
        "('a', 'b', 'c', 'e')\n",
        "('b', 'c', 'e', 'd')\n",
        "('c', 'e', 'd', 'e')\n",
        "('e', 'd', 'e', 'f')\n",
        "('d', 'e', 'f', 'g')\n",
        "('e', 'f', 'g', 'h')\n"
       ]
      }
     ],
     "prompt_number": 2
    },
    {
     "cell_type": "markdown",
     "metadata": {},
     "source": [
      "Okay, so it's about half as fast (or twice as slow, I'm not sure which is the Glass Half Full).\n",
      "\n",
      "Let's deconstruct it first:\n",
      "\n",
      "* First the iterable is cloned a number of times.\n",
      "* Those iterables are then passed to enumerate which is a generator that returns an item and it's position in an iter\n",
      "* The positions and iterables are then passed into a list comphrension loop\n",
      "* The loop populates the list with a series of islice objects -- each starting an iterable at the position given to it by enumerate\n",
      "* The list is splatted into zip\n",
      "* `yield from` the zip\n",
      "\n",
      "But it's one line! One liners are cool. Right?"
     ]
    },
    {
     "cell_type": "markdown",
     "metadata": {},
     "source": [
      "Benchmarks Mean Nothing\n",
      "-----------------------\n",
      "I'm of the opinion that benchmarks don't prove much by themselves -- a broader context is needed.\n",
      "\n",
      "However... let's see how it stacks up against the old window in a variety of situations."
     ]
    },
    {
     "cell_type": "code",
     "collapsed": false,
     "input": [
      "# calculate rolling average\n",
      "\n",
      "from operator import add\n",
      "from functools import reduce\n",
      "\n",
      "f = lambda x: reduce(add, x)/len(x)\n",
      "\n",
      "print(list(map(f, window(range(10), size=4))))\n",
      "%timeit -n 1000 -r 5 list(map(f, old_window(range(10), n=4)))\n",
      "%timeit -n 1000 -r 5 list(map(f, window(range(10), size=4)))"
     ],
     "language": "python",
     "metadata": {},
     "outputs": [
      {
       "output_type": "stream",
       "stream": "stdout",
       "text": [
        "[1.5, 2.5, 3.5, 4.5, 5.5, 6.5, 7.5]\n",
        "1000 loops, best of 5: 10.1 \u00b5s per loop"
       ]
      },
      {
       "output_type": "stream",
       "stream": "stdout",
       "text": [
        "\n",
        "1000 loops, best of 5: 14.3 \u00b5s per loop"
       ]
      },
      {
       "output_type": "stream",
       "stream": "stdout",
       "text": [
        "\n"
       ]
      }
     ],
     "prompt_number": 3
    },
    {
     "cell_type": "code",
     "collapsed": false,
     "input": [
      "# generate pseudo text markov chains\n",
      "\n",
      "text = \"mary had a little lamb\"\n",
      "\n",
      "print({c[:-1]:c[-1] for c in window(text.split(), 3)})\n",
      "%timeit -n 1000 -r 5 {c[:-1]:c[-1] for c in window(text.split(), 3)}\n",
      "%timeit -n 1000 -r 5 {c[:-1]:c[-1] for c in old_window(text.split(), 3)}"
     ],
     "language": "python",
     "metadata": {},
     "outputs": [
      {
       "output_type": "stream",
       "stream": "stdout",
       "text": [
        "{('had', 'a'): 'little', ('a', 'little'): 'lamb', ('mary', 'had'): 'a'}\n",
        "1000 loops, best of 5: 14.8 \u00b5s per loop"
       ]
      },
      {
       "output_type": "stream",
       "stream": "stdout",
       "text": [
        "\n",
        "1000 loops, best of 5: 5.14 \u00b5s per loop\n"
       ]
      }
     ],
     "prompt_number": 4
    },
    {
     "cell_type": "markdown",
     "metadata": {},
     "source": [
      "Annother application for this in as a solution to Euler 8."
     ]
    },
    {
     "cell_type": "code",
     "collapsed": false,
     "input": [
      "from collections import deque\n",
      "from itertools import chain\n",
      "from functools import partial\n",
      "from operator import mul\n",
      "\n",
      "nums = \"\"\"73167176531330624919225119674426574742355349194934\n",
      "96983520312774506326239578318016984801869478851843\n",
      "85861560789112949495459501737958331952853208805511\n",
      "12540698747158523863050715693290963295227443043557\n",
      "66896648950445244523161731856403098711121722383113\n",
      "62229893423380308135336276614282806444486645238749\n",
      "30358907296290491560440772390713810515859307960866\n",
      "70172427121883998797908792274921901699720888093776\n",
      "65727333001053367881220235421809751254540594752243\n",
      "52584907711670556013604839586446706324415722155397\n",
      "53697817977846174064955149290862569321978468622482\n",
      "83972241375657056057490261407972968652414535100474\n",
      "82166370484403199890008895243450658541227588666881\n",
      "16427171479924442928230863465674813919123162824586\n",
      "17866458359124566529476545682848912883142607690042\n",
      "24219022671055626321111109370544217506941658960408\n",
      "07198403850962455444362981230987879927244284909188\n",
      "84580156166097919133875499200524063689912560717606\n",
      "05886116467109405077541002256983155200055935729725\n",
      "71636269561882670428252483600823257530420752963450\"\"\"\n",
      "\n",
      "nums = [int(n) for n in chain.from_iterable(nums.split(\"\\n\"))]\n",
      "\n",
      "def euler_8_1(numbers):\n",
      "    limit = 13\n",
      "    run = []\n",
      "    largest = 0\n",
      "    \n",
      "    # originally this was a while-loop that popped off items from numbers\n",
      "    # I changed for the sake of not being so fucking stupid\n",
      "    # inserting at index[0] on a list is still dumb though.\n",
      "    \n",
      "    # purpose for this change was to avoid copying the \n",
      "    # numbers list every time and thus artificially\n",
      "    # bloating the run time for the solution\n",
      "    \n",
      "    # This was my first encounter with windowing\n",
      "    # through I didn't know it yet.\n",
      "    \n",
      "    for n in numbers:\n",
      "        run.insert(0, n)\n",
      "        if len(run) > limit:\n",
      "            run.pop()\n",
      "        \n",
      "        x = reduce(lambda x, y: x*y, run)\n",
      "        if x > largest:\n",
      "            largest = x\n",
      "    return largest\n",
      "\n",
      "def euler_8_2(numbers):\n",
      "    run = deque(maxlen=13)\n",
      "    largest = 0\n",
      "    for n in nums:\n",
      "        # look another window\n",
      "        # still didn't really know  what\n",
      "        # windowing was at this time\n",
      "        run.append(n)\n",
      "        x = reduce(mul, run)\n",
      "        \n",
      "        if x > largest:\n",
      "            largest = x\n",
      "    \n",
      "    return largest\n",
      "\n",
      "print(\"Solution to Euler #8 (as of 8/21/14): \", max(map(partial(reduce, mul), window(nums, size=13))))\n",
      "%timeit -n 1000 -r 5 euler_8_1(nums)\n",
      "%timeit -n 1000 -r 5 euler_8_2(nums)\n",
      "%timeit -n 1000 -r 5 -p 5 max(map(partial(reduce, mul), window(nums, size=13)))    # upped the precision of these two\n",
      "%timeit -n 1000 -r 5 -p 5 max(map(partial(reduce, mul), old_window(nums, n=13)))   # because they're pretty close"
     ],
     "language": "python",
     "metadata": {},
     "outputs": [
      {
       "output_type": "stream",
       "stream": "stdout",
       "text": [
        "Solution to Euler #8 (as of 8/21/14):  23514624000\n",
        "1000 loops, best of 5: 2.53 ms per loop"
       ]
      },
      {
       "output_type": "stream",
       "stream": "stdout",
       "text": [
        "\n",
        "1000 loops, best of 5: 1.05 ms per loop"
       ]
      },
      {
       "output_type": "stream",
       "stream": "stdout",
       "text": [
        "\n",
        "1000 loops, best of 5: 1.2112 ms per loop"
       ]
      },
      {
       "output_type": "stream",
       "stream": "stdout",
       "text": [
        "\n",
        "1000 loops, best of 5: 1.2605 ms per loop"
       ]
      },
      {
       "output_type": "stream",
       "stream": "stdout",
       "text": [
        "\n"
       ]
      }
     ],
     "prompt_number": 5
    },
    {
     "cell_type": "markdown",
     "metadata": {},
     "source": [
      "Not too shabby, not *quite* as fast as the second iteration of my solution but way faster than my first (admittedly, stupid) solution. The old windowing function falls *just short* of the new one."
     ]
    },
    {
     "cell_type": "markdown",
     "metadata": {},
     "source": [
      "Windowing Infinite Generators\n",
      "-----------------------------\n",
      "The real differences start to be seen here: working with infinite generators. The old windowing function handles this quite well, assuming you don't attempt to consume \"entire\" generator at once. The new windowing function needs you to massage the infinite generator into a subset. Either way, `islice` comes into play, it's just a matter of where."
     ]
    },
    {
     "cell_type": "code",
     "collapsed": false,
     "input": [
      "def fib():\n",
      "    yield from range(2)\n",
      "    a,b = range(2)\n",
      "    while True:\n",
      "        yield a+b\n",
      "        a,b = b, a+b\n",
      "\n",
      "size = 5\n",
      "start = 0\n",
      "end = 9\n",
      "\n",
      "def display(it):\n",
      "    print(*list(it), sep='\\n')\n",
      "\n",
      "display(window(islice(fib(), start, end), size))"
     ],
     "language": "python",
     "metadata": {},
     "outputs": [
      {
       "output_type": "stream",
       "stream": "stdout",
       "text": [
        "(0, 1, 1, 2, 3)\n",
        "(1, 1, 2, 3, 5)\n",
        "(1, 2, 3, 5, 8)\n",
        "(2, 3, 5, 8, 13)\n",
        "(3, 5, 8, 13, 21)\n"
       ]
      }
     ],
     "prompt_number": 6
    },
    {
     "cell_type": "markdown",
     "metadata": {},
     "source": [
      "That's pretty nifty. However, `window` still creates a number of iterators equal to it's window size and partially consumes them almost immediately. And we can't ask for, say the first five windows of five numbers without jumping throw some nasty hoops as opposed to the old windowing function:"
     ]
    },
    {
     "cell_type": "code",
     "collapsed": false,
     "input": [
      "size = 5\n",
      "frames = 5\n",
      "\n",
      "# what is this hy? -- https://github.com/hylang/hy\n",
      "display(map(next,(window(islice(fib(), i, i+size), size) for i in range(frames)))) \n",
      "#islice(old_window(fib(), size), frames)"
     ],
     "language": "python",
     "metadata": {},
     "outputs": [
      {
       "output_type": "stream",
       "stream": "stdout",
       "text": [
        "(0, 1, 1, 2, 3)\n",
        "(1, 1, 2, 3, 5)\n",
        "(1, 2, 3, 5, 8)\n",
        "(2, 3, 5, 8, 13)\n",
        "(3, 5, 8, 13, 21)\n"
       ]
      }
     ],
     "prompt_number": 7
    },
    {
     "cell_type": "markdown",
     "metadata": {},
     "source": [
      "Let's break that down, because even though I wrote it just now, I have a hard time following it (and it only took about ten tries to get it right, too):\n",
      "\n",
      "* `islice(fib(), i, i+size)` -- slice the number generator at an arbitrary length\n",
      "* `window(..., size)` -- window that sliced generator to the appropriate size\n",
      "* `... for i in range(frames)` generate the arbitrary numbers for the original islice\n",
      "* `(...)` wrap the whole thing in a generator expression\n",
      "\n",
      "As opposed to the *old busted,* which breaks down to:\n",
      "\n",
      "* `old_window(fib(), size)` -- begin windowing the generator\n",
      "* `islice(..., frames)` -- only take the frames that we want.\n",
      "\n",
      "Starting the generator in an arbitrary spot isn't as intuitive as it is with the old windower - which is just fast forward the generator to a specific spot with islice. With the *new hotness* we have to make sure we're offsetting appropriately (only took three tries and some serious mind searching to determine if I was simply retarded or not)."
     ]
    },
    {
     "cell_type": "code",
     "collapsed": false,
     "input": [
      "start = 3\n",
      "size = 5\n",
      "frames = 5\n",
      "\n",
      "#list(map(next,(window(islice(fib(), i+start, i+size+start), size) for i in range(frames))))\n",
      "display(islice(old_window(islice(fib(), start, None), n=size), frames))"
     ],
     "language": "python",
     "metadata": {},
     "outputs": [
      {
       "output_type": "stream",
       "stream": "stdout",
       "text": [
        "(2, 3, 5, 8, 13)\n",
        "(3, 5, 8, 13, 21)\n",
        "(5, 8, 13, 21, 34)\n",
        "(8, 13, 21, 34, 55)\n",
        "(13, 21, 34, 55, 89)\n"
       ]
      }
     ],
     "prompt_number": 8
    },
    {
     "cell_type": "markdown",
     "metadata": {},
     "source": [
      "Everything Old Is New\n",
      "---------------------\n",
      "Okay, so using a single container is faster than yielding out a bunch of iterators. But why not use a fixed length iterable instead of playing surgeon on a tuple? `collections.deque` is one of my favorite things in the standard library and it's fixed length and I (accidentally) used it for windowing before. Why not general purpose it?"
     ]
    },
    {
     "cell_type": "code",
     "collapsed": false,
     "input": [
      "def dedow(it, size, start=0, stop=None, step=None):\n",
      "    '''dedow -- `de`que win`dow` -- alright, that's a stupid name.\n",
      "    Yields a tuple for each frame of the window.\n",
      "    '''\n",
      "    it = iter(it)\n",
      "    if any([start, stop, step]):\n",
      "        it = islice(it, start, stop, step)\n",
      "    window = deque(islice(it, size), maxlen=size)\n",
      "    yield tuple(window)\n",
      "    for i in it:\n",
      "        window.append(i)\n",
      "        yield tuple(window)\n",
      "\n",
      "display(dedow('abcdefgh', size=3))\n",
      "%timeit -n 1000 -r 5 list(old_window('abcdefgh', n=3))\n",
      "%timeit -n 1000 -r 5 list(window('abcdefgh', size=3))\n",
      "%timeit -n 1000 -r 5 list(dedow('abcdefgh', size=3))"
     ],
     "language": "python",
     "metadata": {},
     "outputs": [
      {
       "output_type": "stream",
       "stream": "stdout",
       "text": [
        "('a', 'b', 'c')\n",
        "('b', 'c', 'd')\n",
        "('c', 'd', 'e')\n",
        "('d', 'e', 'f')\n",
        "('e', 'f', 'g')\n",
        "('f', 'g', 'h')\n",
        "1000 loops, best of 5: 3.52 \u00b5s per loop\n",
        "1000 loops, best of 5: 6.34 \u00b5s per loop"
       ]
      },
      {
       "output_type": "stream",
       "stream": "stdout",
       "text": [
        "\n",
        "1000 loops, best of 5: 6.02 \u00b5s per loop\n"
       ]
      }
     ],
     "prompt_number": 9
    },
    {
     "cell_type": "markdown",
     "metadata": {},
     "source": [
      "It's actually slower than `window` here, but I find the code much more readable than either window *or* old window. It handles just like the old windowing function, plus it can handle slicing an iterable for you. Though, I do kinda feel that by passing arguments to islice violates the single responsibility principle -- not enough that I'll take it out, but I do see how that could be valid criticism."
     ]
    },
    {
     "cell_type": "code",
     "collapsed": false,
     "input": [
      "# Window 3 over every other fibonacci number for the first 20 numbers\n",
      "display(dedow(fib(), size=3, step=2, stop=20))"
     ],
     "language": "python",
     "metadata": {},
     "outputs": [
      {
       "output_type": "stream",
       "stream": "stdout",
       "text": [
        "(0, 1, 3)\n",
        "(1, 3, 8)\n",
        "(3, 8, 21)\n",
        "(8, 21, 55)\n",
        "(21, 55, 144)\n",
        "(55, 144, 377)\n",
        "(144, 377, 987)\n",
        "(377, 987, 2584)\n"
       ]
      }
     ],
     "prompt_number": 10
    },
    {
     "cell_type": "markdown",
     "metadata": {},
     "source": [
      "Benchmarks Still Means Nothing\n",
      "------------------------------\n",
      "Let's benchmark these against some tests:\n",
      "\n",
      "1. Window five values from the first 100 numbers of fib()\n",
      "2. 100 windows of five values from fib()\n",
      "3. Solve Euler 8\n",
      "4. Generate a simple n-Order Markov Chain (n = window size - 1)"
     ]
    },
    {
     "cell_type": "code",
     "collapsed": false,
     "input": [
      "print(\"1. Window of 5 for first 100 values of fib()\")\n",
      "consume = partial(deque, maxlen=0)\n",
      "fib100 = tee(islice(fib(), 100), 3)\n",
      "\n",
      "# we could use dedow's stop kw but, I think it's less fair to construct the slice each interval\n",
      "%timeit -n 1000 -r 5 consume(window(fib100[0], size=5))\n",
      "%timeit -n 1000 -r 5 consume(dedow(fib100[1], size=5)) \n",
      "%timeit -n 1000 -r 5 consume(old_window(fib100[2], n=5))\n",
      "\n",
      "print(\"\\n2. First 100 windows of 5 of fib()\")\n",
      "%timeit -n 1000 -r 5 consume((window(islice(fib(), i, i+5), 5) for i in range(100)))\n",
      "%timeit -n 1000 -r 5 consume(islice(dedow(fib(), size=5), 100))\n",
      "%timeit -n 1000 -r 5 consume(islice(old_window(fib(), n=5), 100))\n",
      "\n",
      "print(\"\\n3. Solve Euler #8\")\n",
      "def solve(prob):\n",
      "    f = partial(reduce, mul)\n",
      "    return max(map(f, prob))\n",
      "\n",
      "%timeit -n 1000 -r 5 solve(window(nums, size=13))\n",
      "%timeit -n 1000 -r 5 solve(dedow(nums, size=13))\n",
      "%timeit -n 1000 -r 5 solve(old_window(nums, n=13))\n",
      "\n",
      "print(\"\\n4. Generate a simple n-Order Markov Chain (n = window size - 1)\")\n",
      "text = 'lorem ipsum dolor sit amet consectetur adipiscing elit pellentesque gravida turpis egestas nisl consectetur et'\n",
      "%timeit -n 1000 -r 5 {c[:-1]:c[-1] for c in window(text.split(), 3)}\n",
      "%timeit -n 1000 -r 5 {c[:-1]:c[-1] for c in dedow(text.split(), 3)}\n",
      "%timeit -n 1000 -r 5 {c[:-1]:c[-1] for c in old_window(text.split(), 3)}"
     ],
     "language": "python",
     "metadata": {},
     "outputs": [
      {
       "output_type": "stream",
       "stream": "stdout",
       "text": [
        "1. Window of 5 for first 100 values of fib()\n",
        "1000 loops, best of 5: 6.07 \u00b5s per loop\n",
        "1000 loops, best of 5: 4.33 \u00b5s per loop"
       ]
      },
      {
       "output_type": "stream",
       "stream": "stdout",
       "text": [
        "\n",
        "1000 loops, best of 5: 3.22 \u00b5s per loop\n",
        "\n",
        "2. First 100 windows of 5 of fib()\n",
        "1000 loops, best of 5: 91.9 \u00b5s per loop"
       ]
      },
      {
       "output_type": "stream",
       "stream": "stdout",
       "text": [
        "\n",
        "1000 loops, best of 5: 78.8 \u00b5s per loop"
       ]
      },
      {
       "output_type": "stream",
       "stream": "stdout",
       "text": [
        "\n",
        "1000 loops, best of 5: 54.2 \u00b5s per loop"
       ]
      },
      {
       "output_type": "stream",
       "stream": "stdout",
       "text": [
        "\n",
        "\n",
        "3. Solve Euler #8\n",
        "1000 loops, best of 5: 1.22 ms per loop"
       ]
      },
      {
       "output_type": "stream",
       "stream": "stdout",
       "text": [
        "\n",
        "1000 loops, best of 5: 1.45 ms per loop"
       ]
      },
      {
       "output_type": "stream",
       "stream": "stdout",
       "text": [
        "\n",
        "1000 loops, best of 5: 1.27 ms per loop"
       ]
      },
      {
       "output_type": "stream",
       "stream": "stdout",
       "text": [
        "\n",
        "\n",
        "4. Generate a simple n-Order Markov Chain (n = window size - 1)\n",
        "1000 loops, best of 5: 13.2 \u00b5s per loop"
       ]
      },
      {
       "output_type": "stream",
       "stream": "stdout",
       "text": [
        "\n",
        "1000 loops, best of 5: 15.5 \u00b5s per loop"
       ]
      },
      {
       "output_type": "stream",
       "stream": "stdout",
       "text": [
        "\n",
        "1000 loops, best of 5: 12.3 \u00b5s per loop"
       ]
      },
      {
       "output_type": "stream",
       "stream": "stdout",
       "text": [
        "\n"
       ]
      }
     ],
     "prompt_number": 11
    },
    {
     "cell_type": "markdown",
     "metadata": {},
     "source": [
      "Part of the Zen of Python is \"There should be one-- and preferably only one --obvious way to do it.\". However, windowing isn't something that I find obvious or easy to do as evidenced by three solutions presented here. Aside from the two I presented, I can think of at least one more solution: a class based windower that implements the iterator protocol."
     ]
    },
    {
     "cell_type": "code",
     "collapsed": false,
     "input": [
      "from collections import namedtuple\n",
      "from string import ascii_lowercase as letters\n",
      "\n",
      "# islice doesn't play well with actual slice objects\n",
      "_slice = namedtuple('_slice', ['start', 'stop', 'step'])\n",
      "        \n",
      "class Window:\n",
      "    '''Implements the iter protocol as to represent a window over a sequence'''\n",
      "    def __init__(self, seq, size, start=None, step=None, stop=None):\n",
      "        self.slice = _slice(start or 0, stop or None, step or 1) \n",
      "        self.size = size\n",
      "        self._seq = iter(seq)\n",
      "        if any(self.slice):\n",
      "            self._seq = islice(self._seq, *self.slice)\n",
      "        self.cheat = deque(islice(self._seq, size), maxlen=size)\n",
      "        self._stop = False\n",
      "    \n",
      "    def __iter__(self):\n",
      "        return self\n",
      "    \n",
      "    def __next__(self):\n",
      "        if self._stop:\n",
      "            raise StopIteration\n",
      "            \n",
      "        cheat = tuple(self.cheat)\n",
      "        \n",
      "        try:\n",
      "            self.cheat.append(next(self._seq))\n",
      "        except StopIteration:\n",
      "            self._stop = True\n",
      "        \n",
      "        return cheat\n",
      "\n",
      "display(dedow(letters, size=4, step=2))\n",
      "%timeit -n 1000 -r 5 consume(Window(letters, size=4, step=2))\n",
      "%timeit -n 1000 -r 5 consume(dedow(letters, size=4, step=2))"
     ],
     "language": "python",
     "metadata": {},
     "outputs": [
      {
       "output_type": "stream",
       "stream": "stdout",
       "text": [
        "('a', 'c', 'e', 'g')\n",
        "('c', 'e', 'g', 'i')\n",
        "('e', 'g', 'i', 'k')\n",
        "('g', 'i', 'k', 'm')\n",
        "('i', 'k', 'm', 'o')\n",
        "('k', 'm', 'o', 'q')\n",
        "('m', 'o', 'q', 's')\n",
        "('o', 'q', 's', 'u')\n",
        "('q', 's', 'u', 'w')\n",
        "('s', 'u', 'w', 'y')\n",
        "1000 loops, best of 5: 21.5 \u00b5s per loop"
       ]
      },
      {
       "output_type": "stream",
       "stream": "stdout",
       "text": [
        "\n",
        "1000 loops, best of 5: 9.73 \u00b5s per loop"
       ]
      },
      {
       "output_type": "stream",
       "stream": "stdout",
       "text": [
        "\n"
       ]
      }
     ],
     "prompt_number": 12
    },
    {
     "cell_type": "markdown",
     "metadata": {},
     "source": [
      "Of course, that's a basic example and I (feel like I) cheated by using deque to store the window itself -- I mean, it's basically `dedow`. But it communicates the basic idea behind using an object as a windower."
     ]
    },
    {
     "cell_type": "markdown",
     "metadata": {},
     "source": [
      "Did I Learn Anything?\n",
      "---------------------\n",
      "Implementing the iter protocol is difficult sometimes. I tried a bunch of methods until I decided to cheat and use deque. The guys who contribute to Python know more about what's fastest than I do (who saw that coming?). \n",
      "\n",
      "Also, windowing is fun. Why haven't I considered this before for projects? These implementations are actually viable for a Markov Chain project I've been working on occasionally (which up until now had a very awkward method that broke text into tuplekey-value pairs)."
     ]
    }
   ],
   "metadata": {}
  }
 ]
}