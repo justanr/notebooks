{
 "cells": [
  {
   "cell_type": "code",
   "execution_count": 2,
   "metadata": {
    "collapsed": true
   },
   "outputs": [],
   "source": [
    "from abc import ABC, abstractmethod\n",
    "from collections import namedtuple\n",
    "import functools\n",
    "import inspect\n",
    "import re"
   ]
  },
  {
   "cell_type": "code",
   "execution_count": 3,
   "metadata": {
    "collapsed": true
   },
   "outputs": [],
   "source": [
    "class CommandBus(ABC):\n",
    "    @abstractmethod\n",
    "    def register(self, cmd, handler, *a, **k):\n",
    "        pass\n",
    "    \n",
    "    @abstractmethod\n",
    "    def execute(self, cmd, *a, **k):\n",
    "        pass"
   ]
  },
  {
   "cell_type": "code",
   "execution_count": 4,
   "metadata": {
    "collapsed": true
   },
   "outputs": [],
   "source": [
    "# this is bottle-inject with the doc strings removed because scrolls bars\n",
    "# https://github.com/bottlepy/bottle-inject\n",
    "\n",
    "class InjectError(RuntimeError):\n",
    "    pass\n",
    "\n",
    "\n",
    "class _InjectionPoint(object):\n",
    "    \"\"\" The object returned by :func:`inject`. \"\"\"\n",
    "\n",
    "    def __init__(self, name, config=None, implicit=False):\n",
    "        self.name = name\n",
    "        self.config = config or {}\n",
    "        self.implicit = implicit\n",
    "\n",
    "    def __eq__(self, other):\n",
    "        if isinstance(other, _InjectionPoint):\n",
    "            return self.__dict__ == other.__dict__\n",
    "        return False\n",
    "\n",
    "\n",
    "class _ProviderCache(dict):\n",
    "    \"\"\" A self-filling cache for :meth:`Injector.resolve` results. \"\"\"\n",
    "\n",
    "    def __init__(self, injector):\n",
    "        super(_ProviderCache, self).__init__()\n",
    "        self.injector = injector\n",
    "\n",
    "    def __missing__(self, func):\n",
    "        self[func] = value = list(self.injector._resolve(func).items())\n",
    "        return value\n",
    "\n",
    "\n",
    "def _unwrap(func):\n",
    "    if inspect.isclass(func):\n",
    "        func = func.__init__\n",
    "    while hasattr(func, '__wrapped__'):\n",
    "        func = func.__wrapped__\n",
    "    return func\n",
    "\n",
    "\n",
    "def _make_null_resolver(name, provider):\n",
    "    msg = \"The dependency provider for %r does not accept configuration (it is not a resolver).\" % name\n",
    "    def null_resolver(*a, **ka):\n",
    "        if a or ka:\n",
    "            raise InjectError(msg)\n",
    "        return provider\n",
    "    return null_resolver\n",
    "\n",
    "\n",
    "class Injector(object):\n",
    "    def __init__(self):\n",
    "        self.__cache = _ProviderCache(self)\n",
    "        self._resolvers = {}\n",
    "        self._never_inject = set(('self', ))\n",
    "\n",
    "    def add_value(self, name, value, alias=()):\n",
    "        \"\"\" Register a dependency value.\n",
    "        The dependency value is re-used for every injection and treated as a singleton.\n",
    "        :param name: Name of the injection point.\n",
    "        :param value: The singleton to provide.\n",
    "        :param alias: A list of alternative injection points.\n",
    "        :return: None\n",
    "        \"\"\"\n",
    "        self.add_provider(name, lambda: value, alias=alias)\n",
    "\n",
    "    def add_provider(self, name, func, alias=()):\n",
    "        self.add_resolver(name, _make_null_resolver(name, func), alias=alias)\n",
    "\n",
    "    def add_resolver(self, name, func, alias=()):\n",
    "        self._resolvers[name] = func\n",
    "        for name in alias:\n",
    "            self._resolvers[name] = func\n",
    "        self.__cache.clear()\n",
    "\n",
    "    def remove(self, name):\n",
    "        if self._resolvers.pop(name):\n",
    "            self.__cache.clear()\n",
    "\n",
    "    def provider(self, name, alias=()):\n",
    "        assert isinstance(name, str)\n",
    "\n",
    "        def decorator(func):\n",
    "            self.add_provider(name, func, alias=alias)\n",
    "            return func\n",
    "\n",
    "        return decorator\n",
    "\n",
    "    def resolver(self, name, alias=()):\n",
    "        def decorator(func):\n",
    "            self.add_resolver(name, func, alias=alias)\n",
    "            return func\n",
    "\n",
    "        return decorator\n",
    "\n",
    "    def inspect(self, func):\n",
    "        func = _unwrap(func)\n",
    "\n",
    "        if py32:\n",
    "            args, varargs, varkw, defaults, kwonlyargs, kwonlydefaults, annotations = inspect.getfullargspec(func)\n",
    "        else:\n",
    "            args, varargs, keywords, defaults = inspect.getargspec(func)\n",
    "            kwonlyargs, kwonlydefaults, annotations = [], {}, {}\n",
    "\n",
    "        defaults = defaults or ()\n",
    "        kwonlydefaults = kwonlydefaults or {}\n",
    "\n",
    "        injection_points = {}\n",
    "\n",
    "        # Positional arguments without default value are potential injection points,\n",
    "        # but marked as 'implicit'.\n",
    "        for arg in args[:len(args) - len(defaults or [])]:\n",
    "            if arg not in self._never_inject:\n",
    "                injection_points[arg] = _InjectionPoint(arg, implicit=True)\n",
    "\n",
    "        for arg, value in zip(args[::-1], defaults[::-1]):\n",
    "            if isinstance(value, _InjectionPoint):\n",
    "                injection_points[arg] = value\n",
    "\n",
    "        for arg, value in kwonlydefaults.items():\n",
    "            if isinstance(value, _InjectionPoint):\n",
    "                injection_points[arg] = value\n",
    "\n",
    "        for arg, value in annotations.items():\n",
    "            if isinstance(value, _InjectionPoint):\n",
    "                injection_points[arg] = value\n",
    "\n",
    "        return injection_points\n",
    "\n",
    "    def _resolve(self, func):\n",
    "        results = {}\n",
    "        for arg, ip in self.inspect(func).items():\n",
    "            results[arg] = self._prime(ip)\n",
    "        return results\n",
    "\n",
    "    def _prime(self, ip):\n",
    "        try:\n",
    "            provider_resolver = self._resolvers[ip.name]\n",
    "        except KeyError:\n",
    "            err = InjectError(\"Could not resolve provider for injection point %r\" % ip.name)\n",
    "            if not ip.implicit:\n",
    "                raise err\n",
    "            def fail_if_injected():\n",
    "                raise err\n",
    "            return fail_if_injected\n",
    "\n",
    "        provider = self.call_inject(provider_resolver, **ip.config)\n",
    "        return self.wrap(provider)\n",
    "\n",
    "    def call_inject(self, func, **ka):\n",
    "        for key, producer in self.__cache[func]:\n",
    "            if key not in ka:\n",
    "                ka[key] = producer()\n",
    "        return func(**ka)\n",
    "\n",
    "    def wrap(self, func):\n",
    "        cache = self.__cache  # Avoid dot lookup in hot path\n",
    "\n",
    "        # Skip wrapping for functions with no injection points\n",
    "        if not self.inspect(func):\n",
    "            return func\n",
    "\n",
    "        @functools.wraps(func)\n",
    "        def wrapper(**ka):\n",
    "            # PERF: Inlined call_inject call. Keep in sync with the implementation above.\n",
    "            for key, producer in cache[func]:\n",
    "                if key not in ka:\n",
    "                    ka[key] = producer()\n",
    "            return func(**ka)\n",
    "\n",
    "        wrapper.__injector__ = self\n",
    "        return wrapper\n",
    "    \n",
    "def inject(name, **kwargs):\n",
    "    return _InjectionPoint(name, config=kwargs)"
   ]
  },
  {
   "cell_type": "code",
   "execution_count": 26,
   "metadata": {
    "collapsed": true
   },
   "outputs": [],
   "source": [
    "class DI(ABC):\n",
    "    @abstractmethod\n",
    "    def register(self, provider, names):\n",
    "        pass\n",
    "    \n",
    "    @abstractmethod\n",
    "    def make(self, wanted, **kwargs):\n",
    "        pass\n",
    "    \n",
    "class MyDI(DI):\n",
    "    def __init__(self, container):\n",
    "        self._container = container\n",
    "    \n",
    "    def register(self, provider, name, *aliases):\n",
    "        self._container.add_provider(name, provider, aliases)\n",
    "    \n",
    "    def make(self, wanted, **kwargs):\n",
    "        return self._container.call_inject(wanted, **kwargs)"
   ]
  },
  {
   "cell_type": "code",
   "execution_count": 27,
   "metadata": {
    "collapsed": true
   },
   "outputs": [],
   "source": [
    "injector = Injector()\n",
    "syringe = MyDI(injector)"
   ]
  },
  {
   "cell_type": "code",
   "execution_count": 28,
   "metadata": {
    "collapsed": false
   },
   "outputs": [],
   "source": [
    "def get_type(obj):\n",
    "    if isinstance(obj, type):\n",
    "        return obj\n",
    "    return type(obj)\n",
    "\n",
    "class NoHandler(Exception):\n",
    "    pass\n",
    "\n",
    "class PermissionDenied(Exception):\n",
    "    pass\n",
    "\n",
    "class DICB(CommandBus):\n",
    "    def __init__(self, dic, inflector):\n",
    "        self._dic = dic\n",
    "        self._cmd_map = {}\n",
    "        self._inflector = inflector\n",
    "    \n",
    "    def register(self, cmd, handler, *a, **k):\n",
    "        self._cmd_map[get_type(cmd)] = handler\n",
    "    \n",
    "    def execute(self, cmd, *a, **k):\n",
    "        try:\n",
    "            handler = self._dic.make(self._cmd_map[get_type(cmd)])\n",
    "            return self._inflector(handler, cmd)\n",
    "        except (KeyError, InjectError):\n",
    "            msg = \"No valid handler found for: {!s}\".format(cmd)\n",
    "            raise NoHandler(msg)\n",
    "\n",
    "class PermissionedCB(CommandBus):\n",
    "    def __init__(self, next, throws=PermissionDenied):\n",
    "        self._next = next\n",
    "        self._cmd_perm_map = {}\n",
    "        self._throws = PermissionDenied\n",
    "    \n",
    "    def register(self, cmd, handler, permissions, *a, **k):\n",
    "        self._cmd_perm_map[get_type(cmd)] = permissions\n",
    "        self._next.register(cmd, handler, *a, **k)\n",
    "    \n",
    "    def execute(self, cmd, *a, **k):\n",
    "        if not self._resolve_permissions(cmd, *a, **k):\n",
    "            raise self._throws\n",
    "        return self._next.execute(cmd, *a, **k)\n",
    "    \n",
    "    def _resolve_permissions(self, cmd, *a, **k):\n",
    "        perms = self._cmd_perm_map[get_type(cmd)]\n",
    "        return all(p(cmd, *a, **k) for p in perms)"
   ]
  },
  {
   "cell_type": "code",
   "execution_count": 29,
   "metadata": {
    "collapsed": false
   },
   "outputs": [],
   "source": [
    "first_cap_re = re.compile('(.)([A-Z][a-z]+)')\n",
    "all_cap_re = re.compile('([a-z0-9])([A-Z])')\n",
    "\n",
    "def underscorize(name):\n",
    "    s1 = first_cap_re.sub(r'\\1_\\2', name)\n",
    "    return all_cap_re.sub(r'\\1_\\2', s1).lower()\n",
    "\n",
    "def camel_to_underscore_inflector(handler, command):\n",
    "    cmd_type = get_type(command)\n",
    "    name = underscorize(cmd_type.__name__)\n",
    "    return getattr(handler, name)(**command._asdict())"
   ]
  },
  {
   "cell_type": "code",
   "execution_count": 30,
   "metadata": {
    "collapsed": false
   },
   "outputs": [],
   "source": [
    "c = PermissionedCB(DICB(syringe, camel_to_underscore_inflector))"
   ]
  },
  {
   "cell_type": "code",
   "execution_count": 31,
   "metadata": {
    "collapsed": true
   },
   "outputs": [],
   "source": [
    "class WantsJeff(object):\n",
    "    def __init__(self, jeff):\n",
    "        self._jeff = jeff\n",
    "    \n",
    "    def list_jeffs(self, *a, **k):\n",
    "        print(\"Got: {} {}\".format(a, k))\n",
    "        return self._jeff"
   ]
  },
  {
   "cell_type": "code",
   "execution_count": 32,
   "metadata": {
    "collapsed": true
   },
   "outputs": [],
   "source": [
    "def jeff():\n",
    "    return 'jeff'\n",
    "\n",
    "syringe.register(jeff, 'jeff')"
   ]
  },
  {
   "cell_type": "code",
   "execution_count": 33,
   "metadata": {
    "collapsed": true
   },
   "outputs": [],
   "source": [
    "ListJeffs = namedtuple('ListJeffs', ['one', 'two'])"
   ]
  },
  {
   "cell_type": "code",
   "execution_count": 34,
   "metadata": {
    "collapsed": true
   },
   "outputs": [],
   "source": [
    "def BelongsToGroup(group):\n",
    "    def permission(cmd, request, *a, **k):\n",
    "        return group in request.user.groups\n",
    "    return permission\n",
    "\n",
    "def ReadOnly(cmd, request, *a, **k):\n",
    "    if not request.method.lower() in {'get', 'head', 'options'}:\n",
    "        raise PermissionDenied(\"Not a readonly method\")"
   ]
  },
  {
   "cell_type": "code",
   "execution_count": 35,
   "metadata": {
    "collapsed": false
   },
   "outputs": [],
   "source": [
    "c.register(ListJeffs, WantsJeff, [BelongsToGroup('jess'), ReadOnly])"
   ]
  },
  {
   "cell_type": "code",
   "execution_count": 36,
   "metadata": {
    "collapsed": true
   },
   "outputs": [],
   "source": [
    "class dotteddict(dict):\n",
    "    def __getattr__(self, attr):\n",
    "        return super().__getitem__(attr)\n",
    "    \n",
    "    def __setattr__(self, attr, value):\n",
    "        super().__setitem__(attr, value)"
   ]
  },
  {
   "cell_type": "code",
   "execution_count": 37,
   "metadata": {
    "collapsed": true
   },
   "outputs": [],
   "source": [
    "request = dotteddict()\n",
    "request.method = 'POST'\n",
    "request.user = dotteddict()\n",
    "request.user.groups = set(['fred'])"
   ]
  },
  {
   "cell_type": "code",
   "execution_count": 38,
   "metadata": {
    "collapsed": false
   },
   "outputs": [
    {
     "ename": "PermissionDenied",
     "evalue": "",
     "output_type": "error",
     "traceback": [
      "\u001b[1;31m---------------------------------------------------------------------------\u001b[0m",
      "\u001b[1;31mPermissionDenied\u001b[0m                          Traceback (most recent call last)",
      "\u001b[1;32m<ipython-input-38-1d61a3b61228>\u001b[0m in \u001b[0;36m<module>\u001b[1;34m()\u001b[0m\n\u001b[1;32m----> 1\u001b[1;33m \u001b[0mc\u001b[0m\u001b[1;33m.\u001b[0m\u001b[0mexecute\u001b[0m\u001b[1;33m(\u001b[0m\u001b[0mListJeffs\u001b[0m\u001b[1;33m(\u001b[0m\u001b[1;36m1\u001b[0m\u001b[1;33m,\u001b[0m \u001b[1;36m2\u001b[0m\u001b[1;33m)\u001b[0m\u001b[1;33m,\u001b[0m \u001b[0mrequest\u001b[0m\u001b[1;33m)\u001b[0m\u001b[1;33m\u001b[0m\u001b[0m\n\u001b[0m",
      "\u001b[1;32m<ipython-input-28-a3bc0f6468c6>\u001b[0m in \u001b[0;36mexecute\u001b[1;34m(self, cmd, *a, **k)\u001b[0m\n\u001b[0;32m     39\u001b[0m     \u001b[1;32mdef\u001b[0m \u001b[0mexecute\u001b[0m\u001b[1;33m(\u001b[0m\u001b[0mself\u001b[0m\u001b[1;33m,\u001b[0m \u001b[0mcmd\u001b[0m\u001b[1;33m,\u001b[0m \u001b[1;33m*\u001b[0m\u001b[0ma\u001b[0m\u001b[1;33m,\u001b[0m \u001b[1;33m**\u001b[0m\u001b[0mk\u001b[0m\u001b[1;33m)\u001b[0m\u001b[1;33m:\u001b[0m\u001b[1;33m\u001b[0m\u001b[0m\n\u001b[0;32m     40\u001b[0m         \u001b[1;32mif\u001b[0m \u001b[1;32mnot\u001b[0m \u001b[0mself\u001b[0m\u001b[1;33m.\u001b[0m\u001b[0m_resolve_permissions\u001b[0m\u001b[1;33m(\u001b[0m\u001b[0mcmd\u001b[0m\u001b[1;33m,\u001b[0m \u001b[1;33m*\u001b[0m\u001b[0ma\u001b[0m\u001b[1;33m,\u001b[0m \u001b[1;33m**\u001b[0m\u001b[0mk\u001b[0m\u001b[1;33m)\u001b[0m\u001b[1;33m:\u001b[0m\u001b[1;33m\u001b[0m\u001b[0m\n\u001b[1;32m---> 41\u001b[1;33m             \u001b[1;32mraise\u001b[0m \u001b[0mself\u001b[0m\u001b[1;33m.\u001b[0m\u001b[0m_throws\u001b[0m\u001b[1;33m\u001b[0m\u001b[0m\n\u001b[0m\u001b[0;32m     42\u001b[0m         \u001b[1;32mreturn\u001b[0m \u001b[0mself\u001b[0m\u001b[1;33m.\u001b[0m\u001b[0m_next\u001b[0m\u001b[1;33m.\u001b[0m\u001b[0mexecute\u001b[0m\u001b[1;33m(\u001b[0m\u001b[0mcmd\u001b[0m\u001b[1;33m,\u001b[0m \u001b[1;33m*\u001b[0m\u001b[0ma\u001b[0m\u001b[1;33m,\u001b[0m \u001b[1;33m**\u001b[0m\u001b[0mk\u001b[0m\u001b[1;33m)\u001b[0m\u001b[1;33m\u001b[0m\u001b[0m\n\u001b[0;32m     43\u001b[0m \u001b[1;33m\u001b[0m\u001b[0m\n",
      "\u001b[1;31mPermissionDenied\u001b[0m: "
     ]
    }
   ],
   "source": [
    "c.execute(ListJeffs(1, 2), request)"
   ]
  },
  {
   "cell_type": "code",
   "execution_count": null,
   "metadata": {
    "collapsed": true
   },
   "outputs": [],
   "source": []
  }
 ],
 "metadata": {
  "kernelspec": {
   "display_name": "Python 3",
   "language": "python",
   "name": "python3"
  },
  "language_info": {
   "codemirror_mode": {
    "name": "ipython",
    "version": 3
   },
   "file_extension": ".py",
   "mimetype": "text/x-python",
   "name": "python",
   "nbconvert_exporter": "python",
   "pygments_lexer": "ipython3",
   "version": "3.4.3"
  }
 },
 "nbformat": 4,
 "nbformat_minor": 0
}
