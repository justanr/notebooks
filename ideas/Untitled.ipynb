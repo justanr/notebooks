{
 "cells": [
  {
   "cell_type": "code",
   "execution_count": 2,
   "metadata": {
    "collapsed": true
   },
   "outputs": [],
   "source": [
    "from functools import update_wrapper\n",
    "\n",
    "class PermissionDenied(Exception):\n",
    "    pass\n",
    "\n",
    "class PermissionedMethod(object):\n",
    "    def __init__(self, *permissions):\n",
    "        self._permissions = [p() for p in permissions]\n",
    "        self._method = None\n",
    "    \n",
    "    def __call__(self, method):\n",
    "        if self._method is not None:\n",
    "            raise TypeError(\"Method already loaded\")\n",
    "        \n",
    "        def permissioner(inst, request, *args, **kwargs):\n",
    "            for permission in self._permissions:\n",
    "                if not permission.has_permission(request, inst):\n",
    "                    raise PermissionDenied(message=getattr(permission, 'message', None))\n",
    "                    \n",
    "            else:\n",
    "                return method(inst, request, *args, **kwargs)\n",
    "        \n",
    "        self._method = update_wrapper(permissioner, method)\n",
    "        update_wrapper(self, method)        \n",
    "        return self\n",
    "    \n",
    "    def __get__(self, inst, cls):\n",
    "        if inst is None:\n",
    "            return self\n",
    "        return lambda req, *args, **kwargs: self._method(inst, req, *args, **kwargs)"
   ]
  },
  {
   "cell_type": "code",
   "execution_count": 3,
   "metadata": {
    "collapsed": true
   },
   "outputs": [],
   "source": [
    "class Permission(object):\n",
    "    def has_permission(self, request, view):\n",
    "        print(\"Permssioned!\")\n",
    "        return True"
   ]
  },
  {
   "cell_type": "code",
   "execution_count": 4,
   "metadata": {
    "collapsed": true
   },
   "outputs": [],
   "source": [
    "class SomeView(object):\n",
    "    @PermissionedMethod(Permission)\n",
    "    def something(self, request, *args, **kwargs):\n",
    "        return (self, request, args, kwargs)"
   ]
  },
  {
   "cell_type": "code",
   "execution_count": 5,
   "metadata": {
    "collapsed": false
   },
   "outputs": [
    {
     "data": {
      "text/plain": [
       "<__main__.PermissionedMethod at 0x7fdf50174518>"
      ]
     },
     "execution_count": 5,
     "metadata": {},
     "output_type": "execute_result"
    }
   ],
   "source": [
    "SomeView.something"
   ]
  },
  {
   "cell_type": "code",
   "execution_count": 6,
   "metadata": {
    "collapsed": true
   },
   "outputs": [],
   "source": [
    "sv = SomeView()"
   ]
  },
  {
   "cell_type": "code",
   "execution_count": 7,
   "metadata": {
    "collapsed": false
   },
   "outputs": [
    {
     "name": "stdout",
     "output_type": "stream",
     "text": [
      "Permssioned!\n"
     ]
    },
    {
     "data": {
      "text/plain": [
       "(<__main__.SomeView at 0x7fdf5016ab70>, 1, (), {})"
      ]
     },
     "execution_count": 7,
     "metadata": {},
     "output_type": "execute_result"
    }
   ],
   "source": [
    "sv.something(1)"
   ]
  },
  {
   "cell_type": "code",
   "execution_count": null,
   "metadata": {
    "collapsed": true
   },
   "outputs": [],
   "source": []
  }
 ],
 "metadata": {
  "kernelspec": {
   "display_name": "Python 3",
   "language": "python",
   "name": "python3"
  },
  "language_info": {
   "codemirror_mode": {
    "name": "ipython",
    "version": 3
   },
   "file_extension": ".py",
   "mimetype": "text/x-python",
   "name": "python",
   "nbconvert_exporter": "python",
   "pygments_lexer": "ipython3",
   "version": "3.4.3"
  }
 },
 "nbformat": 4,
 "nbformat_minor": 0
}
