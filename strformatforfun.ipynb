{
 "metadata": {
  "name": ""
 },
 "nbformat": 3,
 "nbformat_minor": 0,
 "worksheets": [
  {
   "cells": [
    {
     "cell_type": "markdown",
     "metadata": {},
     "source": [
      "One common thing I've used a few times is using `str.format` to create formatting metapatterns -- essentially a format pattern that becomes a format pattern when formatted. I'm not necessarily advocating for using this everywhere, but it's handy sometimes.\n",
      "\n",
      "Let me provide two examples:\n",
      "\n",
      "##Arbitrary Padding\n",
      "Part of a Python learning group gives homework, one of the \"assignments\" was to pad an input to an arbitrary amount with an arbitrary character. The \"cannonical\" example given was to pad a given number to five characters with zeroes. Formatting ahoy!\n",
      "\n",
      "Keep in mind how closures work: When we call `padder` we're actually creating an *\"instance\"* of `pad` where the pattern is bound at the time of creation. The way this metapattern works is that `{{}}` will actually output `{}` when passed through formatting, so assuming defaults, the metapattern ends up looking like: `{:0>5}`."
     ]
    },
    {
     "cell_type": "code",
     "collapsed": false,
     "input": [
      "def padder(padwith=0, direction='>', length=5):\n",
      "    pattern = \"{{:{}{}{}}}\".format(padwith, direction, length)\n",
      "    def pad(input):\n",
      "        return pattern.format(input)\n",
      "    return pad\n",
      "\n",
      "p = padder()\n",
      "g = padder(padwith='*', direction='^', length='7')\n",
      "\n",
      "print(p(11))\n",
      "print(g('g'))"
     ],
     "language": "python",
     "metadata": {},
     "outputs": [
      {
       "output_type": "stream",
       "stream": "stdout",
       "text": [
        "00011\n",
        "***g***\n"
       ]
      }
     ],
     "prompt_number": 8
    },
    {
     "cell_type": "markdown",
     "metadata": {},
     "source": [
      "##Generic __repr__\n",
      "A more useful example is creating a generic `__repr__` Mixin:"
     ]
    },
    {
     "cell_type": "code",
     "collapsed": false,
     "input": [
      "class ReprMixin:\n",
      "    '''Provides a string representible form for objects.'''\n",
      "\n",
      "    # Most models will have both an id and name fields\n",
      "    # This can be overwritten if needed\n",
      "    __repr_fields__ = ['id', 'name']\n",
      "\n",
      "    def __repr__(self):\n",
      "        fields =  {f:getattr(self, f, '<BLANK>') for f in self.__repr_fields__}\n",
      "        # constructs a dictionary compatible pattern for formatting\n",
      "        # {{{0}}} becomes {id} for example\n",
      "        pattern = ['{0}={{{0}}}'.format(f) for f in self.__repr_fields__]\n",
      "        pattern = ' '.join(pattern)\n",
      "        pattern = pattern.format(**fields)\n",
      "        return '<{} {}>'.format(self.__class__.__name__, pattern)"
     ],
     "language": "python",
     "metadata": {},
     "outputs": [],
     "prompt_number": 4
    },
    {
     "cell_type": "markdown",
     "metadata": {},
     "source": [
      "I've been using this in OpenWebAmp's (nee FlaskAmp) models for easy recognition of model instances in the command line shell. Basically, all of my main objects have a `id` and `name` fields, but some don't and I need more information from others. Creating a generic `__repr__` method isn't very intuitive given how much attributes in objects can vary. Essentially what this does is look for `__repr_fields__` in an object (using sane defaults if not present) and then iterates through that creating a list of patterns like `['id={id}', 'name={name}']` and then joins them into a single string, then formats it and then formats that into *another* pattern. What pops out the other end is something like this: `<Artist id=1 name=The Foo Bars>`.\n",
      "\n",
      "But you can also override `__repr_fields__` in a class to pull more or different information out of it."
     ]
    },
    {
     "cell_type": "code",
     "collapsed": false,
     "input": [
      "class Artist(ReprMixin):\n",
      "    def __init__(self, id, name):\n",
      "        self.id = id\n",
      "        self.name = name\n",
      "\n",
      "class Member(ReprMixin):\n",
      "    def __init__(self, id, name):\n",
      "        self.id = id\n",
      "        self.name = name\n",
      "\n",
      "class Tag(ReprMixin):\n",
      "    def __init__(self, id, name):\n",
      "        self.id = id\n",
      "        self.name = name\n",
      "\n",
      "class MemberTaggedArtist(ReprMixin):\n",
      "    __repr_fields__ = ['id', 'member', 'tag', 'artist']\n",
      "    # pretend there's relational bindings here\n",
      "    def __init__(self, id, member, tag, artist):\n",
      "        self.id = id\n",
      "        self.artist = artist\n",
      "        self.member = member\n",
      "        self.tag = tag\n",
      "\n",
      "mta = MemberTaggedArtist(\n",
      "    id=4, \n",
      "    member=Member(id=1, name='anr'), \n",
      "    tag=Tag(id=1, name='Rock'), \n",
      "    artist=Artist(id=1, name='The Foo Bars')\n",
      "    )\n",
      "\n",
      "repr(mta)"
     ],
     "language": "python",
     "metadata": {},
     "outputs": [
      {
       "metadata": {},
       "output_type": "pyout",
       "prompt_number": 7,
       "text": [
        "'<MemberTaggedArtist id=4 member=<Member id=1 name=anr> tag=<Tag id=1 name=Rock> artist=<Artist id=1 name=The Foo Bars>>'"
       ]
      }
     ],
     "prompt_number": 7
    },
    {
     "cell_type": "markdown",
     "metadata": {},
     "source": [
      "So metapatterns. They make your patterns a little unfun to read, but they're really useful. Don't stick 'em everywhere because they're awful to look at and terrible to debug if you screw something up."
     ]
    }
   ],
   "metadata": {}
  }
 ]
}