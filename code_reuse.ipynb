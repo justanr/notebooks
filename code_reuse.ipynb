{
 "metadata": {
  "name": ""
 },
 "nbformat": 3,
 "nbformat_minor": 0,
 "worksheets": [
  {
   "cells": [
    {
     "cell_type": "markdown",
     "metadata": {},
     "source": [
      "#Repeat After Me: Don't Repeat Yourself!\n",
      "One of the best things about coding is not having to do the same thing over and over again. You automate. You work things into functions and objects and have *them* worry about completing a series of actions for you. Why wouldn't you do the same thing when *actually writing code?*\n",
      "\n",
      "##[A Foolish Consistency is the Hobgoblin of Little Minds](http://legacy.python.org/dev/peps/pep-0008/#a-foolish-consistency-is-the-hobgoblin-of-little-minds)\n",
      "Though there are times when you need to repeat yourself for whatever reason. When you encounter this, you should consider if it's possible to refactor and break the issue into a reuable piece of code. Generally, the rule of three comes in play:\n",
      "\n",
      "    There are two \"rules of three\" in [software] reuse:\n",
      "    \n",
      "    * It is three times as difficult to build reusable components as single use components, and\n",
      "    * a reusable component should be tried out in three different applications before it will be sufficiently general to accept into a reuse library.\n",
      "[Facts and Fallacies of Software Engineering](http://www.amazon.com/exec/obidos/ASIN/0321117425/) #18 Credit to Jeff Atwood's Coding Horror post about the [Rule of Three](http://blog.codinghorror.com/rule-of-three/) for bringing it to my attention.\n",
      "\n",
      "##About This Post\n",
      "This post is just going to be an over view of common techniques in Python on how to reuse code between different pieces at different level. Some I have covered in more depth before or I'm planning on covering in the future.\n",
      "\n",
      "##Functions\n",
      "This is easy, if you're constantly doing something more complicated than `(a+b)*x` (or even that complicated, someone will forget to priotize the addition and you end up with `a + b*x`), it's prudent to place it in a function."
     ]
    },
    {
     "cell_type": "code",
     "collapsed": false,
     "input": [
      "def calc(a,b,x):\n",
      "    '''Performs our business crucial calculation'''\n",
      "    return (a+b)*x"
     ],
     "language": "python",
     "metadata": {},
     "outputs": [],
     "prompt_number": 1
    },
    {
     "cell_type": "markdown",
     "metadata": {},
     "source": [
      "Now, you're assured every time your calculation will preformed correctly. For functions to be truly helpful, they need to communicatee intent with a good name and a docstring that gives enough details for someone to learn from.\n",
      "\n",
      "##Objects\n",
      "Objects are little more complicated and the principles of OOP are beyond the scope here. But let's assume you're keeping a collection of many values you're running into `calc` something like:"
     ]
    },
    {
     "cell_type": "code",
     "collapsed": false,
     "input": [
      "spreadsheet = [(1,2,3), (3,1,4), (2,7,1)]\n",
      "important = [calc(*v) for v in spreadsheet]\n",
      "print(*important)"
     ],
     "language": "python",
     "metadata": {},
     "outputs": [
      {
       "output_type": "stream",
       "stream": "stdout",
       "text": [
        "9 16 9\n"
       ]
      }
     ],
     "prompt_number": 2
    },
    {
     "cell_type": "markdown",
     "metadata": {},
     "source": [
      "You could in this case declare an object that will hold those values together and perform the calculation for you. Ignore that this is a completely contrived example, but then again most examples are. You might want preform additional processing on the values before calculating them or provide other transformations of the triplets."
     ]
    },
    {
     "cell_type": "code",
     "collapsed": false,
     "input": [
      "class SpreadsheetRow:\n",
      "    '''Ever important representation of a row of values from a spreadsheet.'''\n",
      "    def __init__(self, a, b, x):\n",
      "        self.a = a\n",
      "        self.b = b\n",
      "        self.x = x\n",
      "    \n",
      "    def calc(self):\n",
      "        '''Wrapper around `calc` which preforms the business crucial calculation.'''\n",
      "        return calc(self.a, self.b, self.x)\n",
      "\n",
      "spreadsheet = [SpreadsheetRow(*v) for v in [(1,2,3), (3,1,4), (2,7,1)]]\n",
      "important = [s.calc() for s in spreadsheet]\n",
      "print(*important)"
     ],
     "language": "python",
     "metadata": {},
     "outputs": [
      {
       "output_type": "stream",
       "stream": "stdout",
       "text": [
        "9 16 9\n"
       ]
      }
     ],
     "prompt_number": 3
    },
    {
     "cell_type": "markdown",
     "metadata": {},
     "source": [
      "##Decorators\n",
      "If you have an action you want to *always* preform when a function is called (say logging), your instinct might be to do `output = logger(calc, *values))`. But why do that to yourself? Use a decorator. I've covered this before, but I'll provide an example on how you'd handle this logging problem."
     ]
    },
    {
     "cell_type": "code",
     "collapsed": false,
     "input": [
      "from functools import wraps, partial\n",
      "from sys import stdout\n",
      "\n",
      "def logger(f=None, file=stdout):\n",
      "    '''Log a function and it's called attributes to `out` which defaults to stdout'''\n",
      "    # I think I stole this idea from Dave Beazley.\n",
      "    # A nifty trick I've filed into my tool box\n",
      "    if not f:\n",
      "        return partial(logger, file=file)\n",
      "    \n",
      "    @wraps(f)\n",
      "    def loggit(*args, **kwargs):\n",
      "        kwargs_ = ', '.join([\"{!r}={!r}\".format(k,v) for k,v in kwargs.items()])\n",
      "        args_ = ', '.join([\"{!r}\".format(a) for a in args])\n",
      "        \n",
      "        print(\"Calling: {}({})\".format(f.__name__, ','.join([args_, kwargs_])), \"\\n\", file=file)\n",
      "        return f(*args, **kwargs)\n",
      "        \n",
      "    return loggit\n",
      "\n",
      "@logger\n",
      "def calc(a,b,x):\n",
      "    '''Performs our business crucial calculation'''\n",
      "    return (a+b)*x\n",
      "\n",
      "spreadsheet = [(1,2,3), (3,1,4), (2,7,1)]\n",
      "important = [calc(*v) for v in spreadsheet]\n",
      "print(*important)"
     ],
     "language": "python",
     "metadata": {},
     "outputs": [
      {
       "output_type": "stream",
       "stream": "stdout",
       "text": [
        "Calling: calc(1, 2, 3,) \n",
        "\n",
        "Calling: calc(3, 1, 4,) \n",
        "\n",
        "Calling: calc(2, 7, 1,) \n",
        "\n",
        "9 16 9\n"
       ]
      }
     ],
     "prompt_number": 4
    },
    {
     "cell_type": "markdown",
     "metadata": {},
     "source": [
      "And redirecting to a different stream is as simple as the following."
     ]
    },
    {
     "cell_type": "code",
     "collapsed": false,
     "input": [
      "from io import StringIO\n",
      "\n",
      "log = StringIO()\n",
      "\n",
      "@logger(file=log)\n",
      "def calc(a,b,x):\n",
      "    '''Performs our business crucial calculation'''\n",
      "    return (a+b)*x\n",
      "\n",
      "spreadsheet = [(1,2,3), (3,1,4), (2,7,1)]\n",
      "important = [calc(*v) for v in spreadsheet]\n",
      "print(*important)\n",
      "print()\n",
      "print(log.getvalue())"
     ],
     "language": "python",
     "metadata": {},
     "outputs": [
      {
       "output_type": "stream",
       "stream": "stdout",
       "text": [
        "9 16 9\n",
        "\n",
        "Calling: calc(1, 2, 3,) \n",
        "\n",
        "Calling: calc(3, 1, 4,) \n",
        "\n",
        "Calling: calc(2, 7, 1,) \n",
        "\n",
        "\n"
       ]
      }
     ],
     "prompt_number": 5
    },
    {
     "cell_type": "markdown",
     "metadata": {},
     "source": [
      "Decorators can be used for a whole slew of things like registering functions to observers, mapping them to URL routes (Flask, for example) and so on. They're also fantastic for priming coroutines. You can even decorate classes (metaprogramming!) and using objects *as* decorators (on classes, yo dawg we heard you like objects...)\n",
      "\n",
      "##Descriptors\n",
      "Decorators have a couple cousins, one is known as a Descriptor. The basis of this is that you have a several properties in a class that need to be handled in the same way. The two obvious ways are using explicit getter/setter methods and using the property decorator and refactor the common code out into a function or static method. But instead of making a mess of your interface or implementation, you can refactor that logic out into a Descriptor. Which is simply an object that lives on the class level and acts on behalf of your properties. It sounds complicated, but it's not."
     ]
    },
    {
     "cell_type": "code",
     "collapsed": false,
     "input": [
      "from weakref import WeakKeyDictionary\n",
      "\n",
      "class LowerString:\n",
      "    \n",
      "    def __init__(self, default='', *args, **kwargs):\n",
      "        self.default = default\n",
      "        self.insts = WeakKeyDictionary()\n",
      "        \n",
      "    def __get__(self, inst, cls):\n",
      "        return self.insts.get(inst, self.default)\n",
      "    \n",
      "    def __set__(self, obj, value):\n",
      "        self.insts[obj] = value.lower()\n",
      "    \n",
      "    def __delete__(self, inst):\n",
      "        self.insts[inst] = ''\n",
      "        \n",
      "\n",
      "class Member:\n",
      "    name = LowerString('name')\n",
      "    email = LowerString('email')\n",
      "    \n",
      "    def __init__(self, name, email):\n",
      "        self.name = name\n",
      "        self.email = email\n",
      "\n",
      "jerry = Member(name='Jerry', email='terry@PARKS.PAWNEE.IN.GOV')\n",
      "\n",
      "print(jerry.name, jerry.email, sep=', ')\n",
      "del jerry.name\n",
      "print(jerry.name) # attribute still actually exists, it's just a blank string at this point\n",
      "jerry.name = 'Gerry Gergich'\n",
      "print(jerry.name)"
     ],
     "language": "python",
     "metadata": {},
     "outputs": [
      {
       "output_type": "stream",
       "stream": "stdout",
       "text": [
        "jerry, terry@parks.pawnee.in.gov\n",
        "\n",
        "gerry gergich\n"
       ]
      }
     ],
     "prompt_number": 6
    },
    {
     "cell_type": "markdown",
     "metadata": {},
     "source": [
      "To me, the most complicated part is using the WeakKeyDictionary to store instances. `weakrefs` to the uninitiated are references that can be garbage collected when they are the only remaining references to an object. `WeakKeyDictionary` just stores isntances as keys (remember, to be a key an object needs to be hashable!) and then stores the value as...well, the value in the dictionary.\n",
      "\n",
      "Like decorators, descriptors can be used to do all sorts of stuff: running call backs when a value is poked, implementing a type system for your objects, creating lazy calculations.\n",
      "\n",
      "##Context Managers\n",
      "Notice how there's things you *always* run in pairs? Opening/Closing files. Locking/Unlocking with threads. Try/Except? You can cram those thing together in a thing called a context manager. With out getting into the nitty details, context managers pair actions together for you. A common example from the standard library is `open`:"
     ]
    },
    {
     "cell_type": "code",
     "collapsed": false,
     "input": [
      "with open('made_up_file', 'w+') as fh:\n",
      "    fh.write(\"Context managers are awesome!\")\n",
      "\n",
      "with open('made_up_file', 'r') as fh:\n",
      "    print(fh.read())"
     ],
     "language": "python",
     "metadata": {},
     "outputs": [
      {
       "output_type": "stream",
       "stream": "stdout",
       "text": [
        "Context managers are awesome!\n"
       ]
      }
     ],
     "prompt_number": 7
    },
    {
     "cell_type": "markdown",
     "metadata": {},
     "source": [
      "There's two ways to implement these:\n",
      "\n",
      "* Context Manager Protocol, which implements both an `__enter__` and `__exit__` method on a class. In order to assign a value with a context manager (i.e. `with open(...) as fh:`), `__enter__` must return a value. `__exit__` **must** handle and clean up exceptions, which can get messy depending on what you're doing.\n",
      "* The contextmanager decorator which manipulates a generator to create context (for the record, I thought the code for `collections.namedtuple` was hairy, contextmanager is crazier). Though, I find this method to be easier to implement myself."
     ]
    },
    {
     "cell_type": "code",
     "collapsed": false,
     "input": [
      "from contextlib import contextmanager\n",
      "\n",
      "@contextmanager\n",
      "def context(in_, out_):\n",
      "    print(in_)\n",
      "    yield\n",
      "    print(out_)\n",
      "    \n",
      "with context(\"Hello\", \"Goodbye\"):\n",
      "    print(\"Stuck in the middle with you.\")"
     ],
     "language": "python",
     "metadata": {},
     "outputs": [
      {
       "output_type": "stream",
       "stream": "stdout",
       "text": [
        "Hello\n",
        "Stuck in the middle with you.\n",
        "Goodbye\n"
       ]
      }
     ],
     "prompt_number": 8
    },
    {
     "cell_type": "markdown",
     "metadata": {},
     "source": [
      "##Fin!\n",
      "Hopefully this is will give you ideas for implementing code reuse in your daily life. I will note that I did not cover metaclasses, that is simply because I have no practical, first hand examples of implementing these. On top of that, metaclasses aren't really needed in every day coding. Any metaprogramming and class level manipulation I do, tends to be with decorators instead (the plus side to that is decorating classes is an easy way to have Py2 and Py3 pseudo metaclasses)."
     ]
    }
   ],
   "metadata": {}
  }
 ]
}