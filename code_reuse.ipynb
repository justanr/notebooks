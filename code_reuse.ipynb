{
 "metadata": {
  "name": ""
 },
 "nbformat": 3,
 "nbformat_minor": 0,
 "worksheets": [
  {
   "cells": [
    {
     "cell_type": "markdown",
     "metadata": {},
     "source": [
      "#Reusing Code, or: How I Learned to Stop Repeating Myself\n",
      "One of the best things about coding is not having to do the same thing over and over again. You automate. You work things into functions and objects and have *them* worry about completing a series of actions for you. Why wouldn't you do the same thing when *actually writing code?*\n",
      "\n",
      "There are times where you find yourself repeating code; when this happens, you should consider if it's possible to refactor and break the issue into a reuable piece of code. Generally, the rule of three comes in play:\n",
      "\n",
      "    There are two \"rules of three\" in [software] reuse:\n",
      "    \n",
      "    * It is three times as difficult to build reusable components as single use components, and\n",
      "    * a reusable component should be tried out in three different applications before it will be sufficiently general to accept into a reuse library.\n",
      "\n",
      "[Facts and Fallacies of Software Engineering](http://www.amazon.com/exec/obidos/ASIN/0321117425/) #18 Credit to Jeff Atwood's Coding Horror post about the [Rule of Three](http://blog.codinghorror.com/rule-of-three/) for bringing it to my attention.\n",
      "\n",
      "##About This Post\n",
      "This post is just going to be a *brief* overview of common techniques and patterns to avoid writing the same thing *over and over* again. Starting with functions and moving into objects, inheritance, mixins, composition, decorators and context managers. There's plenty of other techniques, patterns and idioms that I don't touch on either but this post isn't meant to be an exhaustive list either."
     ]
    },
    {
     "cell_type": "markdown",
     "metadata": {},
     "source": [
      "#Functions\n",
      "\n",
      "Functions are a great way to ensure that a piece of code is always executed the same way. This could be as simple a small expression like `(a + b) * x` or something that performs a complicated piece of logic. Functions are the most basic form of code reuse in Python."
     ]
    },
    {
     "cell_type": "code",
     "collapsed": false,
     "input": [
      "def calc(a, b, x):\n",
      "    \"\"\"Our business crucial algorithm\"\"\"\n",
      "    return (a + b) * x\n",
      "\n",
      "calc(1,2,3)"
     ],
     "language": "python",
     "metadata": {},
     "outputs": [
      {
       "metadata": {},
       "output_type": "pyout",
       "prompt_number": 1,
       "text": [
        "9"
       ]
      }
     ],
     "prompt_number": 1
    },
    {
     "cell_type": "markdown",
     "metadata": {},
     "source": [
      "Python also offers a limited form of anonymous functions called `lambda`. They're limited to just a single expression with no statements in them. A lot of them time, they serve as basic callbacks or as key functions for a sort or group method. The syntax is simple and the return value is the outcome of the expression."
     ]
    },
    {
     "cell_type": "code",
     "collapsed": false,
     "input": [
      "sorted([(1,2), (3,-1), (0,0)], key=lambda x: x[1])"
     ],
     "language": "python",
     "metadata": {},
     "outputs": [
      {
       "metadata": {},
       "output_type": "pyout",
       "prompt_number": 2,
       "text": [
        "[(3, -1), (0, 0), (1, 2)]"
       ]
      }
     ],
     "prompt_number": 2
    },
    {
     "cell_type": "markdown",
     "metadata": {},
     "source": [
      "While lambdas are incredibly useful in many instances, it's generally considered bad form to assign them to variables (since they're supposed to be anonymous functions), not that I've never done that when it suited my needs. ;)"
     ]
    },
    {
     "cell_type": "markdown",
     "metadata": {},
     "source": [
      "#Objects\n",
      "\n",
      "Objects are really the poster child for code reuse. Essentially, an object is a collection of data and functions that inter relate. Many in the Python community are fond of calling them a pile of dictionaries -- because that's what they essentially are in Python. \n",
      "\n",
      "Objects offer all sorts of possibilities such as inheritance and composition, which I'll briefly touch upon here. For now, a simple example will suffice: take our business critical algorithm and turn it into a spreadsheet row"
     ]
    },
    {
     "cell_type": "code",
     "collapsed": false,
     "input": [
      "class SpreadsheetRow:\n",
      "    \n",
      "    def __init__(self, a, b, x):\n",
      "        self.a = a\n",
      "        self.b = b\n",
      "        self.x = x\n",
      "    \n",
      "    def calc(self):\n",
      "        return calc(self.a, self.b, self.x)\n",
      "    \n",
      "row = SpreadsheetRow(1,2,3)\n",
      "print(row.calc())"
     ],
     "language": "python",
     "metadata": {},
     "outputs": [
      {
       "output_type": "stream",
       "stream": "stdout",
       "text": [
        "9\n"
       ]
      }
     ],
     "prompt_number": 3
    },
    {
     "cell_type": "markdown",
     "metadata": {},
     "source": [
      "Notice how we're already reusing code to find our business critical total of 9! If later, someone in accounting realizes that we should actually be doing `a * (b + x)`, we simply change the original calculation function."
     ]
    },
    {
     "cell_type": "markdown",
     "metadata": {},
     "source": [
      "##Inheritance\n",
      "\n",
      "Inheritance is simply a way of giving access of all the data and methods of a class to another class. It's commonly called \"specialization,\" though Raymond Hettinger aptly describes it as \"delegating work.\" If later, accounting wants to be able to label all of our spreadsheet rows, we could go back and modify the original class or we could design a new one that does this for us.\n",
      "\n",
      "Accessing information in the inherited class is done through `super()`, I won't delve into it's details here but it is [quite super](http://rhettinger.wordpress.com/2011/05/26/super-considered-super/)."
     ]
    },
    {
     "cell_type": "code",
     "collapsed": false,
     "input": [
      "class LabeledSpreadsheetRow(SpreadsheetRow):\n",
      "    \n",
      "    def __init__(self, label, *args, **kwargs):\n",
      "        super().__init__(*args, **kwargs)\n",
      "        self.label = label\n",
      "        \n",
      "row = LabeledSpreadsheetRow(label='1', a=1, b=2, x=3)\n",
      "print(\"The total for {} is {}\".format(row.label, row.calc()))"
     ],
     "language": "python",
     "metadata": {},
     "outputs": [
      {
       "output_type": "stream",
       "stream": "stdout",
       "text": [
        "The total for 1 is 9\n"
       ]
      }
     ],
     "prompt_number": 4
    },
    {
     "cell_type": "markdown",
     "metadata": {},
     "source": [
      "###Mixins\n",
      "\n",
      "Mixins are a type of multiple inheritance, which I won't fully delve into here because it's a complicated and touchy subject. However, Python supports it. Because of this and it's support for duck typing, we can completely forego the use of Interfaces and Traits which are common in single inheritance languages.\n",
      "\n",
      "Mixins are a way of writing logic that is common to many objects and placing it in a single location. Mixins are also classes that aren't meant to be instantiated on their own either, since they represent a small piece of a puzzle rather than the whole picture. A common problem I use mixins for is creating a generic `__repr__` method for objects."
     ]
    },
    {
     "cell_type": "code",
     "collapsed": false,
     "input": [
      "class ReprMixin:\n",
      "    \n",
      "    def __repr__(self):\n",
      "        name = self.__class__.__name__\n",
      "        attrs = ', '.join([\"{}={}\".format(k,v) for k,v in vars(self).items()])\n",
      "        return \"<{} {}>\".format(name, attrs)\n",
      "        \n",
      "class Row(LabeledSpreadsheetRow, ReprMixin):\n",
      "    pass\n",
      "\n",
      "row = Row(label='1', a=1, b=2, x=3)\n",
      "repr(row)"
     ],
     "language": "python",
     "metadata": {},
     "outputs": [
      {
       "metadata": {},
       "output_type": "pyout",
       "prompt_number": 5,
       "text": [
        "'<Row b=2, x=3, a=1, label=1>'"
       ]
      }
     ],
     "prompt_number": 5
    },
    {
     "cell_type": "markdown",
     "metadata": {},
     "source": [
      "This showcases the power of inheritance and mixins: composing complex objects from smaller parts into what you're wanting. The actual class we're using implements no logic of it's own but we're now provided with:\n",
      "\n",
      "* A repr method\n",
      "* A calculation method\n",
      "* A label attribute\n",
      "* Data points to calculate"
     ]
    },
    {
     "cell_type": "markdown",
     "metadata": {},
     "source": [
      "##Composition\n",
      "\n",
      "Composition is a fancy way of saying we're going to build an object using other objects, in other words: composing them from parts. It's a similar idea to inheritance, but instead the objects we're using are stored as attributes on the main object. We have spreadsheet rows, why not a spreadsheet to hold them?"
     ]
    },
    {
     "cell_type": "code",
     "collapsed": false,
     "input": [
      "class Spreadsheet(ReprMixin):\n",
      "    \n",
      "    def __init__(self, name):\n",
      "        self.name = name\n",
      "        self.rows = []\n",
      "        \n",
      "    def show_all(self):\n",
      "        for row in self.rows:\n",
      "            print(\"The total for {} is {}\".format(row.label, row.calc()))\n",
      "            \n",
      "    def total(self):\n",
      "        return sum(r.calc() for r in self.rows)\n",
      "        \n",
      "sheet = Spreadsheet(\"alec's totals\")\n",
      "sheet.rows.extend([Row(label=1, a=1, b=2, x=3), Row(label=2, a=3, b=5, x=8)])\n",
      "sheet.show_all()\n",
      "print(sheet.total())\n",
      "repr(sheet)"
     ],
     "language": "python",
     "metadata": {},
     "outputs": [
      {
       "output_type": "stream",
       "stream": "stdout",
       "text": [
        "The total for 1 is 9\n",
        "The total for 2 is 64\n",
        "73\n"
       ]
      },
      {
       "metadata": {},
       "output_type": "pyout",
       "prompt_number": 6,
       "text": [
        "\"<Spreadsheet name=alec's totals, rows=[<Row b=2, x=3, a=1, label=1>, <Row b=5, x=8, a=3, label=2>]>\""
       ]
      }
     ],
     "prompt_number": 6
    },
    {
     "cell_type": "markdown",
     "metadata": {},
     "source": [
      "Here we're not only reusing the ReprMixin so we can have accurate information about our Spreadsheet object, we're also reusing the Row objects to provide that logic for free, leaving us to just implement the `show_all` and `total` methods."
     ]
    },
    {
     "cell_type": "markdown",
     "metadata": {},
     "source": [
      "#Decorators\n",
      "\n",
      "Decorators are a way factoring logic out of a class or function and into another class or function. Or to add extra logic to it. That sounds confusing, but it's really not. I've written about them [elsewhere](http://justanr.blogspot.com/2014/08/decorator-day-exploration-of-decorators.html), so if you're unfamiliar with them I recommend reading that first. Here, we're going to use two decorators Python provides in the standard library called `total_ordering` so we can sort our Row objects and the other is the `property` decorator which allows us to retreat a function as if it were an attribute (via the [descriptor protocol](http://justanr.blogspot.com/2014/09/descriptor-day.html) which is a fantastic code reuse ability that I won't explore here)."
     ]
    },
    {
     "cell_type": "code",
     "collapsed": false,
     "input": [
      "from functools import total_ordering\n",
      "\n",
      "@total_ordering\n",
      "class ComparableRow(Row):\n",
      "    \n",
      "    @property\n",
      "    def __key(self):\n",
      "        return (self.a, self.b, self.x)\n",
      "    \n",
      "    def __eq__(self, other):\n",
      "        return self.__key == other.__key\n",
      "    \n",
      "    def __lt__(self, other):\n",
      "        return self.__key < other.__key\n",
      "    \n",
      "rows = sorted([ComparableRow(label=1, a=3, b=5, x=8), ComparableRow(label=2, a=1, b=2, x=3)])\n",
      "print(rows)"
     ],
     "language": "python",
     "metadata": {},
     "outputs": [
      {
       "output_type": "stream",
       "stream": "stdout",
       "text": [
        "[<ComparableRow b=2, x=3, a=1, label=2>, <ComparableRow b=5, x=8, a=3, label=1>]\n"
       ]
      }
     ],
     "prompt_number": 7
    },
    {
     "cell_type": "markdown",
     "metadata": {},
     "source": [
      "What `total_ordering` does is provide *all* the missing rich comparison operators for us. Meaning even though we only defined `__lt__` and `__eq__` here, we also have `__le__`, `__gt__`, `__ge__`, and `__ne__` available to us.\n",
      "\n",
      "Decorators are an incredibly powerful to modify your regular Python functions and objects."
     ]
    },
    {
     "cell_type": "markdown",
     "metadata": {},
     "source": [
      "#Context Managers\n",
      "Context managers are a way of handling operations you typically do in pairs: open a file, close a file; start a timer, end a timer; acquire a lock, release a lock; start a transactio, end a transaction. Really, anything you do in pairs should be a candidate for context managers.\n",
      "\n",
      "Writing context managers is pretty easy, depending on which method you go about. I'll likely explore them in a future post. For now, I'm going to stick to using the generator context manager form as an example:"
     ]
    },
    {
     "cell_type": "code",
     "collapsed": false,
     "input": [
      "from contextlib import contextmanager\n",
      "\n",
      "@contextmanager\n",
      "def greeting(name=None):\n",
      "    print(\"Before the greeting.\")\n",
      "    yield \"Hello {!s}\".format(name)\n",
      "    print(\"After the greeting.\")\n",
      "    \n",
      "with greeting(\"Alec\") as greet:\n",
      "    print(greet)"
     ],
     "language": "python",
     "metadata": {},
     "outputs": [
      {
       "output_type": "stream",
       "stream": "stdout",
       "text": [
        "Before the greeting.\n",
        "Hello Alec\n",
        "After the greeting.\n"
       ]
      }
     ],
     "prompt_number": 8
    },
    {
     "cell_type": "markdown",
     "metadata": {},
     "source": [
      "We won't be writing a context manager here, but rather using one to implement an \"alternate constructor\" for our `Spreadsheet` class. Alternate constructors are a way of initializing an object in a specific way. These are especially handy if you find yourself occasionally creating an object under certain conditions. Consider `dict.fromkeys` which lets you fill a dictionary with keys from an iterable that all have the same value:"
     ]
    },
    {
     "cell_type": "code",
     "collapsed": false,
     "input": [
      "print(dict.fromkeys(range(5), None))"
     ],
     "language": "python",
     "metadata": {},
     "outputs": [
      {
       "output_type": "stream",
       "stream": "stdout",
       "text": [
        "{0: None, 1: None, 2: None, 3: None, 4: None}\n"
       ]
      }
     ],
     "prompt_number": 9
    },
    {
     "cell_type": "markdown",
     "metadata": {},
     "source": [
      "In our case, we'll probably want to draw our information from a CSV file occasionally. If we do it often enough, writing the setup logic could become tedious to rewrite all over the place."
     ]
    },
    {
     "cell_type": "code",
     "collapsed": false,
     "input": [
      "import csv\n",
      "\n",
      "class CSVSpreadsheet(Spreadsheet):\n",
      "    \n",
      "    @classmethod\n",
      "    def from_csv(cls, sheetname, filename):\n",
      "        sheet = cls(sheetname)\n",
      "        with open(filename) as fh:\n",
      "            reader = csv.reader(fh.readlines())\n",
      "            sheet.rows = [ComparableRow(*map(int, row)) for row in reader]\n",
      "        \n",
      "        return sheet\n",
      "    \n",
      "sheet = CSVSpreadsheet.from_csv('awesome', 'row.csv')\n",
      "sheet.show_all()"
     ],
     "language": "python",
     "metadata": {},
     "outputs": [
      {
       "output_type": "stream",
       "stream": "stdout",
       "text": [
        "The total for 1 is 9\n",
        "The total for 2 is 64\n",
        "The total for 3 is 16\n"
       ]
      }
     ],
     "prompt_number": 10
    },
    {
     "cell_type": "markdown",
     "metadata": {},
     "source": [
      "#Fin\n",
      "\n",
      "Hopefully this gives you an idea for reusing code in your own projects. Maybe you'll write your own crappy spreadsheet object as well."
     ]
    }
   ],
   "metadata": {}
  }
 ]
}