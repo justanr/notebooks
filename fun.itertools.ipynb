{
 "metadata": {
  "name": ""
 },
 "nbformat": 3,
 "nbformat_minor": 0,
 "worksheets": [
  {
   "cells": [
    {
     "cell_type": "markdown",
     "metadata": {},
     "source": [
      "Originally, I saw this issue in a post on /r/learnpython:\n",
      "\n",
      "    '''\n",
      "    if (n%a==0) or (n%b==0) or (n%c==0) or (n%ab==0) or (n%ac==0) or (n%bc==0) or (n%abc==0):\n",
      "        print \"Yes.\"\n",
      "    else:\n",
      "        print \"No.\"\n",
      "    '''\n",
      "\n",
      "The original poster was seeking advice on why this was throwing a `NameError`. Turns out, what he really wanted was to find out if n divided evenly by a, b, c or any combination of a, b and c.\n",
      "\n",
      "My first suggestion was to use any/all."
     ]
    },
    {
     "cell_type": "code",
     "collapsed": false,
     "input": [
      "# pick a number, any numbers\n",
      "n = 15\n",
      "a = 1\n",
      "b = 2\n",
      "c = 3\n",
      "\n",
      "if any(not n%x for x in [a,b,c, a*b, a*c, c*b, a*b*c]):\n",
      "    print(\"Yes.\")\n",
      "else:\n",
      "    print(\"No.\")"
     ],
     "language": "python",
     "metadata": {},
     "outputs": [
      {
       "output_type": "stream",
       "stream": "stdout",
       "text": [
        "Yes.\n"
       ]
      }
     ],
     "prompt_number": 1
    },
    {
     "cell_type": "markdown",
     "metadata": {},
     "source": [
      "Which works. But could you imagine being the guy who gets this code and is tasked with adding `d = 4` to this mix? Forbid `e = 5` or `f = 6`."
     ]
    },
    {
     "cell_type": "code",
     "collapsed": false,
     "input": [
      "import itertools as it\n",
      "\n",
      "def powerset(iterable):\n",
      "    '''Courtesy of the itertools documentation.'''\n",
      "    s = list(iterable)\n",
      "    return it.chain.from_iterable(it.combinations(s,r) for r in range(1, len(s)+1))"
     ],
     "language": "python",
     "metadata": {},
     "outputs": [],
     "prompt_number": 2
    },
    {
     "cell_type": "markdown",
     "metadata": {},
     "source": [
      "Enter itertools: a tool box of fun. This function returns powersets. That is given `range(1,4)` it'll output `(1,), (2,), (3,), (1,2), (1,3), (2,3), (1,2,3)`. The original itertools documentation actually has `range(0, len(s)+1)` but that causes the first set to be `(,)` -- which I consider to be useless in this instance (despite being a valid set result). So, let's rewrite that conditional."
     ]
    },
    {
     "cell_type": "code",
     "collapsed": false,
     "input": [
      "from functools import partial, reduce\n",
      "from operator import mul\n",
      "\n",
      "f = partial(reduce, mul)\n",
      "\n",
      "if any(not n%f(x) for x in powerset(range(1,4))):\n",
      "    print(\"Yes.\")\n",
      "else:\n",
      "    print(\"No.\")"
     ],
     "language": "python",
     "metadata": {},
     "outputs": [
      {
       "output_type": "stream",
       "stream": "stdout",
       "text": [
        "Yes.\n"
       ]
      }
     ],
     "prompt_number": 3
    },
    {
     "cell_type": "markdown",
     "metadata": {},
     "source": [
      "Now imagine being the guy tasked to extend the range from 3 to 6. You change one integer: `range(1,7)`. However, we'll likely want to do something with the valid results from that test. "
     ]
    },
    {
     "cell_type": "code",
     "collapsed": false,
     "input": [
      "def do_thing(*stuff):\n",
      "    '''A dummy functions.'''\n",
      "    print(\"Yes.\")\n",
      "\n",
      "sets, selectors = it.tee(powerset(range(1,4)))\n",
      "selectors = (not n%f(x) for x in selectors)\n",
      "wanted = list(it.compress(sets, selectors))\n",
      "\n",
      "if any(wanted):\n",
      "    do_thing()"
     ],
     "language": "python",
     "metadata": {},
     "outputs": [
      {
       "output_type": "stream",
       "stream": "stdout",
       "text": [
        "Yes.\n"
       ]
      }
     ],
     "prompt_number": 4
    },
    {
     "cell_type": "markdown",
     "metadata": {},
     "source": [
      "How this works is that `it.tee` produces a number of iterables from the original iterable -- you can change the number by passing a second value to tee. However, you must be careful with tee. If you advance the original iterable, you advanced the tee'd iterables as well -- most likely prematurely. But, since we're generating the iterable directly into it instead of passing a stored iterable, we can't do that (well, you could but that's black magic).\n",
      "\n",
      "What compress does is accept an iterable of data and an iterable of truthy values. The same result could be had with either `filter` or `it.filterfalse`."
     ]
    },
    {
     "cell_type": "code",
     "collapsed": false,
     "input": [
      "filterd, filterfd = it.tee(powerset(range(1,4)))\n",
      "\n",
      "filterd = list(filter(lambda x: not n%f(x), filterd))\n",
      "filterfd = list(it.filterfalse(lambda x: n%f(x), filterfd))\n",
      "\n",
      "print(wanted == filterd == filterfd)"
     ],
     "language": "python",
     "metadata": {},
     "outputs": [
      {
       "output_type": "stream",
       "stream": "stdout",
       "text": [
        "True\n"
       ]
      }
     ],
     "prompt_number": 5
    },
    {
     "cell_type": "markdown",
     "metadata": {},
     "source": [
      "You can also use itertools to divide up iterable based on a variety of things:\n",
      "\n",
      "* into values that are True/False based on a key.\n",
      "* into a set of values until a false one, a set of values after (and including) the first false one"
     ]
    },
    {
     "cell_type": "code",
     "collapsed": false,
     "input": [
      "def partition(iterable, key):\n",
      "    t, f = it.tee(iterable)\n",
      "    return filter(key, t), it.filterfalse(key, f)\n",
      "\n",
      "def divide(iterable, key):\n",
      "    t, f = it.tee(iterable)\n",
      "    return it.takewhile(key, t), it.dropwhile(key, f)\n",
      "\n",
      "parted = partition(powerset(range(1,4)), lambda x: not n%f(x))\n",
      "divided = divide(powerset(range(1,4)), lambda x: not n%f(x))\n",
      "\n",
      "print(\"-\"*20)\n",
      "print(\"partition(powerset(range(1,4)), lambda x: not n%f(x))\", list(map(list, parted)), sep=\"\\n\")\n",
      "print(\"-\"*20)\n",
      "print(\"divide(powerset(range(1,4)), lambda x: not n%f(x))\", list(map(list, divided)), sep=\"\\n\")\n",
      "print(\"-\"*20)"
     ],
     "language": "python",
     "metadata": {},
     "outputs": [
      {
       "output_type": "stream",
       "stream": "stdout",
       "text": [
        "--------------------\n",
        "partition(powerset(range(1,4)), lambda x: not n%f(x))\n",
        "[[(1,), (3,), (1, 3)], [(2,), (1, 2), (2, 3), (1, 2, 3)]]\n",
        "--------------------\n",
        "divide(powerset(range(1,4)), lambda x: not n%f(x))\n",
        "[[(1,)], [(2,), (3,), (1, 2), (1, 3), (2, 3), (1, 2, 3)]]\n",
        "--------------------\n"
       ]
      }
     ],
     "prompt_number": 6
    },
    {
     "cell_type": "markdown",
     "metadata": {},
     "source": [
      "We can also divy up the sets based on their product by way of `collections.defaultdict` and `it.groupby`"
     ]
    },
    {
     "cell_type": "code",
     "collapsed": false,
     "input": [
      "from collections import defaultdict\n",
      "\n",
      "store = defaultdict(list)\n",
      "for k, g in it.groupby(powerset(range(1,4)), key=f):\n",
      "    # g will be a grouper iterable that must be consumed\n",
      "    store[k].extend(g)\n",
      "\n",
      "print(store)"
     ],
     "language": "python",
     "metadata": {},
     "outputs": [
      {
       "output_type": "stream",
       "stream": "stdout",
       "text": [
        "defaultdict(<class 'list'>, {1: [(1,)], 2: [(2,), (1, 2)], 3: [(3,), (1, 3)], 6: [(2, 3), (1, 2, 3)]})\n"
       ]
      }
     ],
     "prompt_number": 7
    },
    {
     "cell_type": "markdown",
     "metadata": {},
     "source": [
      "Retrieving the desired information from this store is a little more involved, however."
     ]
    },
    {
     "cell_type": "code",
     "collapsed": false,
     "input": [
      "wanted = [v for k, v in store.items() if not n%k]\n",
      "\n",
      "print('-'*20)\n",
      "print(\"Raw list:\", wanted)\n",
      "print('-'*20)\n",
      "print(\"it.chain(*wanted)\", list(it.chain(*wanted)))\n",
      "print('-'*20)\n",
      "print(\"it.chain.from_iterable(wanted)\", list(it.chain.from_iterable(wanted)))"
     ],
     "language": "python",
     "metadata": {},
     "outputs": [
      {
       "output_type": "stream",
       "stream": "stdout",
       "text": [
        "--------------------\n",
        "Raw list: [[(1,)], [(3,), (1, 3)]]\n",
        "--------------------\n",
        "it.chain(*wanted) [(1,), (3,), (1, 3)]\n",
        "--------------------\n",
        "it.chain.from_iterable(wanted) [(1,), (3,), (1, 3)]\n"
       ]
      }
     ],
     "prompt_number": 8
    },
    {
     "cell_type": "markdown",
     "metadata": {},
     "source": [
      "The difference between `it.chain(*wanted)` and `it.chain.from_iterable(wanted)` is that the former is eager and the later is lazy. In this particular instance, we're consuming the iterator immediately either way and it's a basic list. However, with more expensive operations -- say we had a list of generators that each returned the results of floating point math -- you'd want the results to be as lazy as possible."
     ]
    }
   ],
   "metadata": {}
  }
 ]
}