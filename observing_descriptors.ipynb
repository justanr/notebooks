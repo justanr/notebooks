{
 "metadata": {
  "name": ""
 },
 "nbformat": 3,
 "nbformat_minor": 0,
 "worksheets": [
  {
   "cells": [
    {
     "cell_type": "markdown",
     "metadata": {},
     "source": [
      "#Recap\n",
      "In the [last post](http://justanr.blogspot.com/2014/09/descriptor-day.html) about descriptors I introduced the concept of building an observer pattern with descriptors, something Chris Beaumont almost teases with in his [Python Descriptors Demystified](http://nbviewer.ipython.org/gist/ChrisBeaumont/5758381/descriptor_writeup.ipynb). But, I feel he left a lot on the table with that concept.\n",
      "\n",
      "Before delving deep into the code (and this post is going to be very code heavy), let's recap what we learned last time:\n",
      "\n",
      "* Learned about how Python handles attribute access on objects.\n",
      "* What the descriptor protocol is and how to briefly implement it\n",
      "* Stored the data on the object's `__dict__`\n",
      "* Used a metaclass to handle registering the descriptors for us.\n",
      "\n",
      "And now for a little bit of code dump to get it active in this notebook as well as reminding us what it looks like:"
     ]
    },
    {
     "cell_type": "code",
     "collapsed": false,
     "input": [
      "class Descriptor:\n",
      "    def __init__(self, name=None, *args, **kwargs):\n",
      "        super().__init__(*args, **kwargs)\n",
      "        self.name = name\n",
      "\n",
      "class checkedmeta(type):\n",
      "    def __new__(cls, clsname, bases, methods):\n",
      "        # Attach attribute names to the descriptors\n",
      "        for key, value in methods.items():\n",
      "            if isinstance(value, Descriptor):\n",
      "                value.name = key\n",
      "        # really we should use super rather than type here\n",
      "        return super().__new__(cls, clsname, bases, methods)"
     ],
     "language": "python",
     "metadata": {},
     "outputs": [],
     "prompt_number": 1
    },
    {
     "cell_type": "markdown",
     "metadata": {},
     "source": [
      "#Callbacks\n",
      "\n",
      "Callbacks are simply actions that run in response to something. They allow external code to react and hook into your code. This style of programming is very common, for example, in Node.js. These can be utilized in Python as well. For now, I'm going to stick with my business crucial `to_lower` as our callback to give an example before moving on to actually working with the observer pattern."
     ]
    },
    {
     "cell_type": "code",
     "collapsed": false,
     "input": [
      "# pretend this lives at in a package called critical\n",
      "# and actually does something really useful\n",
      "def to_lower(value):\n",
      "    return value.lower()\n",
      "\n",
      "def print_lower(value):\n",
      "    print(to_lower(value))\n",
      "    \n",
      "#from critical import print_lower\n",
      "def my_business_logic(value, callback):\n",
      "    remove = 'aeiou'\n",
      "    \n",
      "    value = ''.join([c for c in value if not c.lower() in remove])\n",
      "    callback(value)\n",
      "    return value\n",
      "\n",
      "my_business_logic('Alec Reiter', callback=print_lower)"
     ],
     "language": "python",
     "metadata": {},
     "outputs": [
      {
       "output_type": "stream",
       "stream": "stdout",
       "text": [
        "lc rtr\n"
       ]
      },
      {
       "metadata": {},
       "output_type": "pyout",
       "prompt_number": 2,
       "text": [
        "'lc Rtr'"
       ]
      }
     ],
     "prompt_number": 2
    },
    {
     "cell_type": "markdown",
     "metadata": {},
     "source": [
      "Now, the callback could have done anything like updating a database, sending a tweet or simply plug it into a grander processing framework. Node.js uses callbacks for things like error handling on view functions. This is just to give an idea of what's happening in a basic sense. Your code runs and then sends a request to the callback for more action. Implementing call back descriptors is pretty easy."
     ]
    },
    {
     "cell_type": "code",
     "collapsed": false,
     "input": [
      "class CallbackAttribute(Descriptor):\n",
      "    \n",
      "    def __init__(self, callback=None, *args, **kwargs):\n",
      "        super().__init__(*args, **kwargs)\n",
      "        self.callback = callback\n",
      "    \n",
      "    def __set__(self, instance, value):\n",
      "        instance.__dict__[self.name] = value\n",
      "        if self.callback:\n",
      "            self.callback(instance, self.name, value)\n",
      "\n",
      "def frobed_callback(instance, name, value):\n",
      "    print(\"Set {} on {!s} to {}\".format(name, instance, value))\n",
      "            \n",
      "class Thing(metaclass=checkedmeta):\n",
      "    frob = CallbackAttribute(callback=frobed_callback)\n",
      "    \n",
      "    def __init__(self, frob):\n",
      "        self.frob = frob\n",
      "\n",
      "foo = Thing(frob=4)"
     ],
     "language": "python",
     "metadata": {},
     "outputs": [
      {
       "output_type": "stream",
       "stream": "stdout",
       "text": [
        "Set frob on <__main__.Thing object at 0x7f0d2c2c6358> to 4\n"
       ]
      }
     ],
     "prompt_number": 3
    },
    {
     "cell_type": "markdown",
     "metadata": {},
     "source": [
      "Of course this is an incredibly limited callback descriptor, we're limited to only one callback that's set at class definition time. But it's merely to serve as an example of what's to come."
     ]
    },
    {
     "cell_type": "markdown",
     "metadata": {},
     "source": [
      "#Observers\n",
      "\n",
      "According to wikipedia, \n",
      "\n",
      "    The Observer Pattern is a software design pattern in which an object, called the subject, maintains a list of its dependents, called observers, and notifies them automatically of any state changes, usually by calling one of their methods. It is mainly used to implement distributed event handling systems.\n",
      "    \n",
      "And according to the Gang of Four:\n",
      "\n",
      "    Define a one-to-many dependency between objects so that when one object changes state, all its dependents are notified and updated automatically.\n",
      "\n",
      "The Gang of Four moves on to state that observers and subjects *shouldn't* be tightly coupled because it reduces the ability to reuse them else where. Put plainly, your subject shouldn't have hard coded logic to call to specific observers. Rather, you should be able to register instances of observers onto an object (or class) and have it call out to them programmatically.\n",
      "\n",
      "You might run into other names such as Event Handler, PubSub/Publisher-Subscriber, or Signals. These are all variations (to my best understanding) on the pattern with minute but important differences. I won't delve into them, but the take away is that all four of these follow the same basic pattern: An object hooks callbacks which run when they're notified of something.\n",
      "\n",
      "An easy implementation of this would look like this:"
     ]
    },
    {
     "cell_type": "code",
     "collapsed": false,
     "input": [
      "from abc import ABCMeta, abstractmethod\n",
      "\n",
      "class SubjectMixin:\n",
      "    \"\"\"Mixin that will allow an object to notify observers about changes to itself.\"\"\"\n",
      "    \n",
      "    def __init__(self, observers=None, *args, **kwargs):\n",
      "        super().__init__(*args, **kwargs)\n",
      "        self._observers = []\n",
      "        if observers:\n",
      "            self._observers.extend(observers)\n",
      "    \n",
      "    def notify(self):\n",
      "        for observer in self._observers:\n",
      "            observer.update(self)\n",
      "    \n",
      "    def add_observer(self, observer):\n",
      "        if observer not in self._observers:\n",
      "            self._observers.append(observer)\n",
      "    \n",
      "    def remove_observer(self, observer):\n",
      "        if observer in self._observers:\n",
      "            self._observers.remove(observer)\n",
      "        \n",
      "class ObserverMixin(metaclass=ABCMeta):\n",
      "    \"\"\"Mixin that will allow an object to observe and report on other objects.\"\"\"\n",
      "    \n",
      "    def __init__(self, *args, **kwargs):\n",
      "        super().__init__(*args, **kwargs)\n",
      "    \n",
      "    @abstractmethod\n",
      "    def update(self, instance):\n",
      "        return NotImplemented"
     ],
     "language": "python",
     "metadata": {},
     "outputs": [],
     "prompt_number": 4
    },
    {
     "cell_type": "markdown",
     "metadata": {},
     "source": [
      "An initial attempt at this pattern will use inheritance (or interfaces if you're using something like PHP or Java where single inheritance is the only option). The pattern is simple:\n",
      "\n",
      "* We store observers in a private (or at least as private as Python allows) list\n",
      "* When we need to notify the observers, we do so explicitly by hitting all of them and their `update` method\n",
      "\n",
      "Observers are free to implement `update` in whatever way, but they must implement it. A simple implementation might look like this."
     ]
    },
    {
     "cell_type": "code",
     "collapsed": false,
     "input": [
      "class Person(SubjectMixin):\n",
      "    \n",
      "    def __init__(self, name, *args, **kwargs):\n",
      "        super().__init__(*args, **kwargs)\n",
      "        self.name = name\n",
      "\n",
      "class PrintLowerNoVowels(ObserverMixin):\n",
      "    \n",
      "    def __init__(self, *args, **kwargs):\n",
      "        super().__init__(*args, **kwargs)\n",
      "    \n",
      "    def update(self, instance):\n",
      "        remove = 'aeiou'\n",
      "        value = instance.name.lower()\n",
      "        value = ''.join([c for c in value if not c in remove])\n",
      "        print(value)\n",
      "\n",
      "plnv = PrintLowerNoVowels()\n",
      "me = Person(name=\"Alec Reiter\", observers=[plnv])\n",
      "me.notify()"
     ],
     "language": "python",
     "metadata": {},
     "outputs": [
      {
       "output_type": "stream",
       "stream": "stdout",
       "text": [
        "lc rtr\n"
       ]
      }
     ],
     "prompt_number": 5
    },
    {
     "cell_type": "markdown",
     "metadata": {},
     "source": [
      "This is generally how it's implemented -- at least in most of the articles I read. It's also possible to automate the notification via `property`. Say, we wanted to notify the observers every time we change the `name` attribute on a `Person` instance. We could write that logic every where. Maybe apply it with a context manager or decorator. But, tying it to the object makes the most amount of sense."
     ]
    },
    {
     "cell_type": "code",
     "collapsed": false,
     "input": [
      "class Person(SubjectMixin):\n",
      "    \n",
      "    def __init__(self, name, *args, **kwargs):\n",
      "        super().__init__(*args, **kwargs)\n",
      "        self.__name = None\n",
      "        self.name = name\n",
      "    \n",
      "    @property\n",
      "    def name(self):\n",
      "        return self.__name\n",
      "    \n",
      "    @name.setter\n",
      "    def name(self, value):\n",
      "        if value != self.__name:\n",
      "            self.__name = value\n",
      "            self.notify()\n",
      "\n",
      "me = Person(name=\"Alec Reiter\", observers=[plnv])"
     ],
     "language": "python",
     "metadata": {},
     "outputs": [
      {
       "output_type": "stream",
       "stream": "stdout",
       "text": [
        "lc rtr\n"
       ]
      }
     ],
     "prompt_number": 6
    },
    {
     "cell_type": "markdown",
     "metadata": {},
     "source": [
      "If we're concerned about automatically notifying the observers any time an attrbute is changed, we could just override `__setattr__` to handle this for us. Which circumvents the needs to write properties for every attribute if this is the only action we're concerned with. It's super easy to implement as well."
     ]
    },
    {
     "cell_type": "code",
     "collapsed": false,
     "input": [
      "class Person(SubjectMixin):\n",
      "    \n",
      "    def __init__(self, name, *args, **kwargs):\n",
      "        super().__init__(*args, **kwargs)\n",
      "        self.name = name\n",
      "    \n",
      "    def __setattr__(self, name, value):\n",
      "        super().__setattr__(name, value)\n",
      "        self.notify()\n",
      "        \n",
      "me = Person(name=\"Alec Reiter\", observers=[plnv])"
     ],
     "language": "python",
     "metadata": {},
     "outputs": [
      {
       "output_type": "stream",
       "stream": "stdout",
       "text": [
        "lc rtr\n"
       ]
      }
     ],
     "prompt_number": 7
    },
    {
     "cell_type": "markdown",
     "metadata": {},
     "source": [
      "And that's all well and good. Not to mention a good deal less complicated that what I'm about to delve into. But it's also less fun for me. I'm not going to advocate for one of these implementations over the other except to say the one I'm going to focus on will offer a much finer grain of control.\n",
      "\n",
      "##Watching specific attributes\n",
      "\n",
      "However, if we're concerned with monitoring specific attributes for changes, descriptors are the correct way to handle this. Why bother emitting an event every time `age` is changed if we only care about `name` or `email`?\n",
      "\n",
      "The first step is to identify the logic we'd end up repeating in each property and moving that into a seperate object. We'll call this new class `WatchedAttribute`."
     ]
    },
    {
     "cell_type": "code",
     "collapsed": false,
     "input": [
      "class WatchedAttribute(Descriptor):\n",
      "    def __init__(self, name=None, *args, **kwargs):\n",
      "        super().__init__(name, *args, **kwargs)\n",
      "    \n",
      "    def __set__(self, instance, value):\n",
      "        if self.name not in instance.__dict__ or value != instance.__dict__[self.name]:\n",
      "            instance.__dict__[self.name] = value\n",
      "            instance.notify()\n",
      "\n",
      "class Person(SubjectMixin, metaclass=checkedmeta):\n",
      "    name = WatchedAttribute()\n",
      "    \n",
      "    def __init__(self, name, *args, **kwargs):\n",
      "        super().__init__(*args, **kwargs)\n",
      "        self.name = name\n",
      "        \n",
      "me = Person(name=\"Alec Reiter\", observers=[plnv])\n",
      "me.name = \"Alec Reiter\""
     ],
     "language": "python",
     "metadata": {},
     "outputs": [
      {
       "output_type": "stream",
       "stream": "stdout",
       "text": [
        "lc rtr\n"
       ]
      }
     ],
     "prompt_number": 8
    },
    {
     "cell_type": "markdown",
     "metadata": {},
     "source": [
      "Now, we can add multiple attributes that are watched without rewriting the property each time to change the variable name. If we split the name attribute into first and last names, if we add an email attribute it's easy. Just add another `WatchedAttribute` entry on the class level and set it in `__init__`.\n",
      "\n",
      "But I feel we can improve on this pattern as well. There's two big things I'm not a fan of with this implementation:\n",
      "\n",
      "* We manipulate the underlying dictionary to store the values.\n",
      "* The Subject is responsible for notifying the Observers.\n",
      "\n",
      "We can fix both of these things, but the first will take us down a side road.\n",
      "\n",
      "#Alternative Data Store\n",
      "The first issue is trickier. We need to relate instances to values without creating a mess we'll have to clean up later, or creating a memory leak that will absolutely murder a long running process. The most effective way of handling both of these is using weak references.\n",
      "\n",
      "##References\n",
      "CPython (the implementation I'm using) utilizes reference counting to determine if an object should be garbage collected. When an object's reference count drops to 0, it's space in memory can be reclaimed by Python for use else where. Sometimes we only want to hold a reference to an object but not so tightly it won't be garbage collected if we forget about it. Consider this:"
     ]
    },
    {
     "cell_type": "code",
     "collapsed": false,
     "input": [
      "print(me)\n",
      "registry = {\"me\" : me}"
     ],
     "language": "python",
     "metadata": {},
     "outputs": [
      {
       "output_type": "stream",
       "stream": "stdout",
       "text": [
        "<__main__.Person object at 0x7f0d2c2c64e0>\n"
       ]
      }
     ],
     "prompt_number": 9
    },
    {
     "cell_type": "markdown",
     "metadata": {},
     "source": [
      "Storing instances in a dictionary as keys or values (or in a list or set) as a form of caching is extremely common. But if we remove all the other instances of the object laying around..."
     ]
    },
    {
     "cell_type": "code",
     "collapsed": false,
     "input": [
      "del me"
     ],
     "language": "python",
     "metadata": {},
     "outputs": [],
     "prompt_number": 10
    },
    {
     "cell_type": "markdown",
     "metadata": {},
     "source": [
      "...that reference is left hanging around:"
     ]
    },
    {
     "cell_type": "code",
     "collapsed": false,
     "input": [
      "me = registry['me']\n",
      "print(me)"
     ],
     "language": "python",
     "metadata": {},
     "outputs": [
      {
       "output_type": "stream",
       "stream": "stdout",
       "text": [
        "<__main__.Person object at 0x7f0d2c2c64e0>\n"
       ]
      }
     ],
     "prompt_number": 11
    },
    {
     "cell_type": "markdown",
     "metadata": {},
     "source": [
      "Before this gets too side tracked into weak references, I want to note that they're not a silver bullet and require a little more knowledge about Python to use efficienctly. You can still shoot your foot off with them. In this case, we're not using them prevent cycles but to instead maintain a cache.\n",
      "\n",
      "[Peter Parente](http://mindtrove.info/python-weak-references/) wrote about weak references on his blog and while some of the information is out dated (the `new` module was deprecated in 2.6 and replaced with `types`), it's still relevant to understanding what weak references are. And [Doug Hellman](http://pymotw.com/2/weakref/) explored the `weakref` module in his Python Module of the Week series.\n",
      "\n",
      "But the short of it is that an instance of `WeakKeyDictionary`, `WeakValueDictionary` or `WeakSet` will prevent this. Most things *can* be weak referenced -- [the documentation](https://docs.python.org/3/library/weakref.html) goes into detail about what can be: \"class instances, functions written in Python (but not in C), instance methods, sets, frozensets, some file objects, generators, type objects, sockets, arrays, deques, regular expression pattern objects, and code objects.\"\n",
      "\n",
      "When you're attempting to use `WeakKeyDictionary` or `WeakSet`, the object must meet one more requirement: hashable. So objects like `list` or `dict`, even if they were implemented in Python, can't take advantage of these structures. However, outside of a few corner cases, this restraint won't affect us here.\n",
      "\n",
      "Implementing it is incredibly easy. "
     ]
    },
    {
     "cell_type": "code",
     "collapsed": false,
     "input": [
      "from weakref import WeakKeyDictionary\n",
      "\n",
      "class WatchedAttribute(Descriptor):\n",
      "    \n",
      "    def __init__(self, *args, **kwargs):\n",
      "        super().__init__(*args, **kwargs)\n",
      "        self.values = WeakKeyDictionary()\n",
      "    \n",
      "    def __get__(self, instance, cls):\n",
      "        return self.values[instance]\n",
      "    \n",
      "    def __set__(self, instance, value):\n",
      "        if instance not in self.values or value != self.values[instance]:\n",
      "            self.values[instance] = value\n",
      "            instance.notify()\n",
      "\n",
      "class Person(SubjectMixin):\n",
      "    name = WatchedAttribute()\n",
      "    \n",
      "    def __init__(self, name, *args, **kwargs):\n",
      "        super().__init__(*args, **kwargs)\n",
      "        self.name = name\n",
      "        \n",
      "me = Person(name=\"Alec Reiter\", observers=[plnv])"
     ],
     "language": "python",
     "metadata": {},
     "outputs": [
      {
       "output_type": "stream",
       "stream": "stdout",
       "text": [
        "lc rtr\n"
       ]
      }
     ],
     "prompt_number": 12
    },
    {
     "cell_type": "markdown",
     "metadata": {},
     "source": [
      "You'll notice the metaclass we were using before is also gone now. That's because since we're storing the information on a cache inside the descriptor, it no longer needs to worry about what name it's being held under."
     ]
    },
    {
     "cell_type": "markdown",
     "metadata": {},
     "source": [
      "#Descriptors as Subjects\n",
      "\n",
      "The next issue was moving the publishing of events out of the main object. The main reason for this would be to notify only certain subscribers when an attribute changes but not all of them. This explores what happens when access a descriptor through the class and not an instance. Meaning answering, \"What does cls (or type) do on `__get__`?\n",
      "\n",
      "##Accessing the Descriptor\n",
      "\n",
      "Since descriptors are objects that just happen to follow a certain protocol that doesn't mean they can't have other methods on it. Or even follow multiple protocols. An object could be both a descriptor *and* an iterator for example. However, getting to these other methods can be tricky. We obviously can't do it through an instance, Python resolves that access to the `__get__` method and returns a value.\n",
      "\n",
      "This means we have to go through the class. But the way our descriptor is set up, it'll blow up when an instance isn't passed to it. We could simply return the instance of the descriptor when an instance isn't passed...would it work? Spoilers: It does. So we can fully move the registration of observers and notification out into the descriptors and our SubjectMixin can be redefined to work with our descriptor.\n",
      "\n",
      "Actually, we end up redefining the Descriptor and WatchedAttribute classes as well. Forewarning, this is a bit of a code dump."
     ]
    },
    {
     "cell_type": "code",
     "collapsed": false,
     "input": [
      "from weakref import WeakSet\n",
      "\n",
      "class SubjectMixin:\n",
      "    def __init__(self, observers=None, *args, **kwargs):\n",
      "        self._observers = WeakSet()\n",
      "        super().__init__(*args, **kwargs)\n",
      "        \n",
      "        if observers:\n",
      "            self._observers.update(observers)\n",
      "    \n",
      "    def notify(self, instance):\n",
      "        for observer in self._observers:\n",
      "            observer.update(instance)\n",
      "    \n",
      "    def add_observer(self, observer):\n",
      "        self._observers.add(observer)\n",
      "    \n",
      "    def remove_observer(self, observer):\n",
      "        if observer in self._observers:\n",
      "            self._observers.remove(observer)"
     ],
     "language": "python",
     "metadata": {},
     "outputs": [],
     "prompt_number": 13
    },
    {
     "cell_type": "code",
     "collapsed": false,
     "input": [
      "class CachingDescriptor(Descriptor):\n",
      "    \n",
      "    def __init__(self, *args, **kwargs):\n",
      "        super().__init__(*args, **kwargs)\n",
      "        self._instances = WeakKeyDictionary()\n",
      "    \n",
      "    def __get__(self, instance, cls):\n",
      "        if instance is None:\n",
      "            return self\n",
      "        return self._instances[instance]\n",
      "    \n",
      "    def __set__(self, instance, value):\n",
      "        self._instances[instance] = value"
     ],
     "language": "python",
     "metadata": {},
     "outputs": [],
     "prompt_number": 14
    },
    {
     "cell_type": "code",
     "collapsed": false,
     "input": [
      "class WatchedAttribute(CachingDescriptor, SubjectMixin):\n",
      "    def __init__(self, observers=None, *args, **kwargs):\n",
      "        super().__init__(observers=observers, *args, **kwargs)\n",
      "    \n",
      "    def __set__(self, instance, value):\n",
      "        super().__set__(instance, value)\n",
      "        self.notify(instance)\n",
      "            \n",
      "class Person:\n",
      "    name = WatchedAttribute()\n",
      "    \n",
      "    def __init__(self, name, *args, **kwargs):\n",
      "        super().__init__(*args, **kwargs)\n",
      "        self.name = name\n",
      "        \n",
      "Person.name.add_observer(plnv)\n",
      "me = Person(name=\"Alec Reiter\")"
     ],
     "language": "python",
     "metadata": {},
     "outputs": [
      {
       "output_type": "stream",
       "stream": "stdout",
       "text": [
        "lc rtr\n"
       ]
      }
     ],
     "prompt_number": 15
    },
    {
     "cell_type": "markdown",
     "metadata": {},
     "source": [
      "There's some subtle changes going on here that you might miss unless you explicitly diff the preceeding implementation of SubjectMixin with this one.\n",
      "\n",
      "The observer container is changed from a list to a `WeakSet`. Both are iterable, which means notify doesn't change (at least due to this). `WeakSet` plays off both the strengths of sets (which only contain unique items) and weak references. The only thing that `WeakSet` won't handle is keeping the observers in any particular sort of order and dealing with unhashable types -- neither of which affect us. You'll notice that adding elements to a set is slightly different from a list, so it's not a complete drop in replacement.\n",
      "\n",
      "I will note I went back and forth between using `WeakSet` and a regular `set`. Mostly because if we remove all other references from an observer, do we intend to still have the observer still process requests? My thoughts on the matter is no, the observer should be considered dead. In other cases, the goal could be to have \"anonymous\" observers -- objects that are created and immediately injected into the framework rather than assigned to a name and passed in. If this is the desire, than `WeakSet` wouldn't keep the object from being immediately garbage collected. I'll leave the pros and cons of both approaches as an exercise to the reader. ;)\n",
      "\n",
      "The next subtle difference is that `SubjectMixin.notify` now accepts an instance explicitly. Since we've displaced this logic to the descriptor, passing `self` to it ends up passing the instance of the descriptor rather than an instance of the class it's attached to.\n",
      "\n",
      "Other than that, it's just a matter of knowing how multiple inheritance works. Which is a completely separate matter best left to another time. It involves liberal use of `super` to say the least.\n",
      "\n",
      "The short of it is that `WatchedAttribute` combines the methods and data from both Descriptor and SubjectMixin together. Meaning `Descriptor` can worry about being a descriptor that stores information in a weak ref dictionary. And `SubjectMixin` can worry about being the basis for observed subjects -- it's applicable for both descriptors and other objects. `WatchedAttribute` just overrides how `Descriptor.__set__` operates (or rather extends it if you want to split hairs) to combine the two fully.\n",
      "\n",
      "##Going Further\n",
      "\n",
      "We could, of course, go further to registering observers for every instance of an object with the `WatchedAttribute` and specific instances as well. Implementing this is a just a *mite* trickier, but not terribly. The first step is to imitate the behavior of `collection.defaultdict` in `WeakKeyDictionary`. Emulating `defaultdict` is pretty straight foward and just depends on defining `__missing__`, setting a hook for it in `__getitem__` and providing a constructor.\n",
      "\n",
      "The reason for building this is to utilize `WeakSet` as a way to hold onto observers for us that are local to a particular instance."
     ]
    },
    {
     "cell_type": "code",
     "collapsed": false,
     "input": [
      "class WeakKeyDefaultDict(WeakKeyDictionary):\n",
      "    \n",
      "    def __init__(self, default_factory=None, *args, **kwargs):\n",
      "        super().__init__(*args, **kwargs)\n",
      "        self.default_factory = default_factory\n",
      "    \n",
      "    def __getitem__(self, key):\n",
      "        try:\n",
      "            return super().__getitem__(key)\n",
      "        except KeyError:\n",
      "            return self.__missing__(key)\n",
      "    \n",
      "    def __missing__(self, key):\n",
      "        if not self.default_factory:\n",
      "            raise KeyError(key)\n",
      "        value = self.default_factory()\n",
      "        super().__setitem__(key, value)\n",
      "        return value"
     ],
     "language": "python",
     "metadata": {},
     "outputs": [],
     "prompt_number": 16
    },
    {
     "cell_type": "markdown",
     "metadata": {},
     "source": [
      "With that built, we can reconstruct `WatchedAttribute` to hold both \"global\" and \"local\" observers."
     ]
    },
    {
     "cell_type": "code",
     "collapsed": false,
     "input": [
      "class WatchedAttribute(CachingDescriptor, SubjectMixin):\n",
      "    def __init__(self, *args, **kwargs):\n",
      "        super().__init__(*args, **kwargs)\n",
      "        self._local_observers = WeakKeyDefaultDict(WeakSet)\n",
      "    \n",
      "    def __set__(self, instance, value):\n",
      "        super().__set__(instance, value)\n",
      "        self.notify(instance)\n",
      "    \n",
      "    def add_observer(self, observer, instance=None):\n",
      "        if instance is None:\n",
      "            super().add_observer(observer)\n",
      "        else:\n",
      "            self._local_observers[instance].add(observer)\n",
      "            \n",
      "    def remove_observer(self, observer, instance=None):\n",
      "        if instance is None:\n",
      "            super().remove_observer(observer)\n",
      "        else:\n",
      "            if observer in self._local_observers[instance]:\n",
      "                self._local_observers[instance].remove(observer)\n",
      "            \n",
      "    def notify(self, instance):\n",
      "        observers = self._observers | self._local_observers[instance]\n",
      "        for observer in observers:\n",
      "            observer.update(instance)"
     ],
     "language": "python",
     "metadata": {},
     "outputs": [],
     "prompt_number": 17
    },
    {
     "cell_type": "markdown",
     "metadata": {},
     "source": [
      "The real question, now, is how does it handle? It should handle the same as previous iterations on `WatchedAttribute` except for the specific behavior we've overriden here. I'm also going to add some convience methods to the `Person` class to make it slightly easier to interact with the observers."
     ]
    },
    {
     "cell_type": "code",
     "collapsed": false,
     "input": [
      "class Person:\n",
      "    name = WatchedAttribute()\n",
      "    \n",
      "    def __init__(self, name, *args, **kwargs):\n",
      "        super().__init__(*args, **kwargs)\n",
      "        self.name = name\n",
      "    \n",
      "    def access_watched(self, attr):\n",
      "        return getattr(self.__class__, attr)\n",
      "    \n",
      "    def attach(self, attr, observer, global_=False):\n",
      "        watched = self.access_watched(attr)\n",
      "        inst = None if global_ else self\n",
      "        watched.add_observer(observer, inst)\n",
      "    \n",
      "    def detach(self, attr, observer, global_=False):\n",
      "        watched = self.access_watched(attr)\n",
      "        inst = None if global_ else self\n",
      "        watched.remove_observer(observer, inst)\n",
      "        \n",
      "class PrintUpper(ObserverMixin):\n",
      "    \n",
      "    def update(self, instance):\n",
      "        print(instance.name.upper())\n",
      "        \n",
      "\n",
      "pu = PrintUpper()\n",
      "me = Person(name=None)\n",
      "me.attach('name', plnv, global_=True)\n",
      "me.attach('name', pu)\n",
      "me.name = \"Alec Reiter\""
     ],
     "language": "python",
     "metadata": {},
     "outputs": [
      {
       "output_type": "stream",
       "stream": "stdout",
       "text": [
        "lc rtr\n",
        "ALEC REITER\n"
       ]
      }
     ],
     "prompt_number": 18
    },
    {
     "cell_type": "code",
     "collapsed": false,
     "input": [
      "other = Person(name=\"Ol' Long Johnson\")"
     ],
     "language": "python",
     "metadata": {},
     "outputs": [
      {
       "output_type": "stream",
       "stream": "stdout",
       "text": [
        "l' lng jhnsn\n"
       ]
      }
     ],
     "prompt_number": 19
    },
    {
     "cell_type": "markdown",
     "metadata": {},
     "source": [
      "As we can see, the observer that prints the value of `Person.name` in upper case is bound only to the first instance of Person, where as the one that strips out the vowels and prints that result is bound to all of instances. It's also possible to create an `ignore` method that would allow specific instances to ignore certain observers as well. Or even better, create a set of rules that can be followed: \"Only invoke this observer if the value doesn't change.\"\n",
      "\n",
      "Something I've curiously ignored is pre-subscribing observers. That is to say, when we create the class we attach a predetermined list of observers to the attribute. This is a feature of the original `SubjectMixin` class and is inherited to `WatchedAttribute` (or as Raymond Hettinger would put it: `WatchedAttribute` delegates the work to `SubjectMixin`)."
     ]
    },
    {
     "cell_type": "code",
     "collapsed": false,
     "input": [
      "class Person:\n",
      "    name = WatchedAttribute(observers=[plnv])\n",
      "    \n",
      "    def __init__(self, name, *args, **kwargs):\n",
      "        super().__init__(*args, **kwargs)\n",
      "        self.name = name\n",
      "    \n",
      "    def access_watched(self, attr):\n",
      "        return getattr(self.__class__, attr)\n",
      "    \n",
      "    def attach(self, attr, observer, global_=False):\n",
      "        watched = self.access_watched(attr)\n",
      "        inst = None if global_ else self\n",
      "        watched.add_observer(observer, inst)\n",
      "\n",
      "me = Person(name=\"Alec Reiter\")"
     ],
     "language": "python",
     "metadata": {},
     "outputs": [
      {
       "output_type": "stream",
       "stream": "stdout",
       "text": [
        "lc rtr\n"
       ]
      }
     ],
     "prompt_number": 20
    },
    {
     "cell_type": "markdown",
     "metadata": {},
     "source": [
      "#Fin\n",
      "\n",
      "This method of implementing the observer pattern allows a lot of very fine grained control. I'm not advocating it as a good solution -- or even a workable solution on its own. There's plenty that's left on the table as far as details and issues go. For example, how would this expand to using a messaging queue (ZeroMQ or Redis) to publish events to? Or how does it interact with asyncio or twisted? Integrating this pattern with an existing framework (blinker for example) would probably be the best solution\n",
      "\n",
      "Rather, it's meant as an introduction to the true power of what you can do with descriptors beyond just making sure a string is all lower case or normalizing floating point numbers to `decimal.Decimal` instances. Which are valid uses of descriptors, don't take that the wrong way.\n",
      "\n",
      "Some of the concepts introduced here -- manipulating descriptors on both the instance and class levels -- are used to build tremendously flexible systems. Ever wonder how SQLAlchemy seems to magically treat class attributes as parameters in search queries but then magically they're filled with data on the instance level? Descriptors and that `if instance is None` check.\n",
      "\n",
      "##Further Reading\n",
      "\n",
      "* [Python 3 Patterns, Recipes and Idioms -- Observer Pattern](http://python-3-patterns-idioms-test.readthedocs.org/en/latest/Observer.html)\n",
      "* [SQLAlchemy ORM Events](http://docs.sqlalchemy.org/en/rel_0_9/orm/events.html)\n",
      "* [blinker documentation](https://pythonhosted.org/blinker/)\n"
     ]
    }
   ],
   "metadata": {}
  }
 ]
}