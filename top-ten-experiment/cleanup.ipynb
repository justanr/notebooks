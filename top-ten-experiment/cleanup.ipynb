{
 "cells": [
  {
   "cell_type": "code",
   "execution_count": 12,
   "metadata": {
    "collapsed": false
   },
   "outputs": [],
   "source": [
    "# set up all the data for the rest of the notebook\n",
    "import json\n",
    "from collections import Counter\n",
    "from itertools import chain\n",
    "\n",
    "with open('shreddit_q2_votes.json', 'r') as fh:\n",
    "    ballots = json.load(fh)"
   ]
  },
  {
   "cell_type": "code",
   "execution_count": 19,
   "metadata": {
    "collapsed": false
   },
   "outputs": [],
   "source": [
    "def change_name(fuzzy, to):\n",
    "    for ballot in ballots:\n",
    "        for idx, vote in enumerate(ballot):\n",
    "            if vote.startswith(fuzzy):\n",
    "                ballot[idx] = to.lower()\n",
    "\n",
    "fuzzies = {'Blind Guardian - Beyond the Red Mirror',\n",
    " 'Caedes Cruenta - Ερείπια ψυχών',\n",
    " 'Chapel of Disease - The Mysterious Ways of Repetitive Art',\n",
    " 'Cloud Rat - Qliphoth',\n",
    " 'Crypt Sermon - Out of the Garden',\n",
    " 'Death Karma - The History of Death &amp; Burial Rituals Part 1 ',\n",
    " 'Deathhammer - Evil Power',\n",
    " 'Desolate Shrine - Heart of the Netherworld',\n",
    " 'Drudkh - A Furrow Cut Short',\n",
    " 'Ethereal Shroud - They Became Falling Ash',\n",
    " 'Ghost Bath - Moonlover',\n",
    " 'Gruesome - Savage Land',\n",
    " 'Hic Iacet - The Cosmic Trance into Void',\n",
    " 'Lord Dying - Poised Altars',\n",
    " 'Melechesh - Enki',\n",
    " 'Misþyrming - Söngvar elds og óreiðu',\n",
    " 'Monolord - Vænir',\n",
    " 'Obsequiae - Aria of Vernal Tombs',\n",
    " 'Sulphur Aeon - Gateway to the Antisphere',\n",
    " 'Tribulation - Children of the Night',\n",
    " 'Visigoth - The Revenant King',\n",
    " 'Wilderun - Sleep at the Edge of the Earth'}\n",
    "\n",
    "for name in fuzzies:\n",
    "    change_name(name.lower()[:5], name)"
   ]
  },
  {
   "cell_type": "code",
   "execution_count": null,
   "metadata": {
    "collapsed": true
   },
   "outputs": [],
   "source": [
    "fuzzies = {'ithaqua': 'ithaqua - initiation to obscure mysteries',\n",
    "           'dodh': 'dødheimsgard - a umbra omega',\n",
    "           'mispyrming': 'misþyrming - söngvar elds og óreiðu',\n",
    "           'ufomammut': 'ufomammut - ecate',\n",
    "           'forest of stars': 'a forest of stars - a beware the sword you cannot see',\n",
    "           'shining': 'shining ix - everyone, everything, everywhere, ends',\n",
    "           'genocide shrines': 'genocide shrines - Manipura Imperial Deathevokovil: Scriptures of Reversed Puraana Dharmurder'.lower(),\n",
    "           'sigh -': 'sigh - graveward',\n",
    "           'misblerbling - songvar yadda yadda': 'misþyrming - söngvar elds og óreiðu',\n",
    "           'a sulphur aeon': 'sulphur aeon - gateway to the antisphere'}\n",
    "\n",
    "for fuzzy, replace in fuzzies.items():\n",
    "    change_name(fuzzy, replace)"
   ]
  },
  {
   "cell_type": "code",
   "execution_count": null,
   "metadata": {
    "collapsed": true
   },
   "outputs": [],
   "source": [
    "with open('shreddit_q2_votes.json', 'w') as fh:\n",
    "    json.dump(ballots, fh)"
   ]
  }
 ],
 "metadata": {
  "kernelspec": {
   "display_name": "Python 3",
   "language": "python",
   "name": "python3"
  },
  "language_info": {
   "codemirror_mode": {
    "name": "ipython",
    "version": 3
   },
   "file_extension": ".py",
   "mimetype": "text/x-python",
   "name": "python",
   "nbconvert_exporter": "python",
   "pygments_lexer": "ipython3",
   "version": "3.4.0"
  }
 },
 "nbformat": 4,
 "nbformat_minor": 0
}
