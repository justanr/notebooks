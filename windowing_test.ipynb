{
 "cells": [
  {
   "cell_type": "code",
   "execution_count": 1,
   "metadata": {
    "collapsed": false
   },
   "outputs": [],
   "source": [
    "from collections import deque\n",
    "from itertools import islice, tee\n",
    "\n",
    "# current implementation\n",
    "def minibelt(it, size=2):\n",
    "    it = iter(it)\n",
    "    w = deque(islice(it, size), size)\n",
    "    yield w\n",
    "    for i in it:\n",
    "        w.append(i)\n",
    "        yield w\n",
    "\n",
    "        \n",
    "# proposed change\n",
    "def pushed(it, size=2):\n",
    "    it = iter(it)\n",
    "    w = deque(islice(it, size), size)\n",
    "    yield tuple(w)\n",
    "    for i in it:\n",
    "        w.append(i)\n",
    "        yield tuple(w)\n",
    "\n",
    "        \n",
    "#itertools 2.3 docs\n",
    "def docs(it, size=2):\n",
    "    it = iter(it)\n",
    "    w = tuple(islice(it, size))\n",
    "    if len(w) == size:\n",
    "        yield w   \n",
    "    for i in it:\n",
    "        w = w[1:] + (i,)\n",
    "        yield w\n",
    "        \n",
    "\n",
    "# whatever this is\n",
    "def hotmess(it, size=2):\n",
    "    # alias zip to izip in py2\n",
    "    # py3.3 + can yield from for extra wtf\n",
    "    return zip(*(islice(it, s, None) for s, it in enumerate(tee(it, size))))\n",
    "        \n",
    "# consume iterator at C-speed\n",
    "def consume(it):\n",
    "    deque(it, maxlen=0)"
   ]
  },
  {
   "cell_type": "code",
   "execution_count": 2,
   "metadata": {
    "collapsed": true
   },
   "outputs": [],
   "source": [
    "test_range = range(100000)"
   ]
  },
  {
   "cell_type": "code",
   "execution_count": 3,
   "metadata": {
    "collapsed": false
   },
   "outputs": [
    {
     "name": "stdout",
     "output_type": "stream",
     "text": [
      "100 loops, best of 3: 13 ms per loop\n"
     ]
    }
   ],
   "source": [
    "%timeit consume(minibelt(test_range, size=5))"
   ]
  },
  {
   "cell_type": "code",
   "execution_count": 4,
   "metadata": {
    "collapsed": false
   },
   "outputs": [
    {
     "name": "stdout",
     "output_type": "stream",
     "text": [
      "10 loops, best of 3: 35.1 ms per loop\n"
     ]
    }
   ],
   "source": [
    "%timeit consume(pushed(test_range, size=5))"
   ]
  },
  {
   "cell_type": "code",
   "execution_count": 5,
   "metadata": {
    "collapsed": false
   },
   "outputs": [
    {
     "name": "stdout",
     "output_type": "stream",
     "text": [
      "10 loops, best of 3: 21 ms per loop\n"
     ]
    }
   ],
   "source": [
    "%timeit consume(docs(test_range, size=5))"
   ]
  },
  {
   "cell_type": "code",
   "execution_count": 6,
   "metadata": {
    "collapsed": false
   },
   "outputs": [
    {
     "name": "stdout",
     "output_type": "stream",
     "text": [
      "100 loops, best of 3: 8.49 ms per loop\n"
     ]
    }
   ],
   "source": [
    "%timeit consume(hotmess(test_range, size=5))"
   ]
  }
 ],
 "metadata": {
  "kernelspec": {
   "display_name": "Python 3",
   "language": "python",
   "name": "python3"
  },
  "language_info": {
   "codemirror_mode": {
    "name": "ipython",
    "version": 3
   },
   "file_extension": ".py",
   "mimetype": "text/x-python",
   "name": "python",
   "nbconvert_exporter": "python",
   "pygments_lexer": "ipython3",
   "version": "3.4.0"
  }
 },
 "nbformat": 4,
 "nbformat_minor": 0
}
